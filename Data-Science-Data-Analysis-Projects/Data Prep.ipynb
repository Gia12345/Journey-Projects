{
 "cells": [
  {
   "cell_type": "markdown",
   "metadata": {},
   "source": [
    "# Data Prep"
   ]
  },
  {
   "cell_type": "markdown",
   "metadata": {},
   "source": [
    "### Read data in from csv files, combine into one dataframe, and save to csv file"
   ]
  },
  {
   "cell_type": "markdown",
   "metadata": {},
   "source": [
    "#### Files used (11)\n",
    "\n",
    "Texas_Airports.csv\n",
    "\n",
    "Texas_county_numbers.csv\n",
    "\n",
    "cy18-all-enplanements TX.csv\n",
    "\n",
    "Financial_Tax_summary.csv\n",
    "\n",
    "Income_poverty.csv\n",
    "\n",
    "Population.csv\n",
    "\n",
    "General_Information_land_use.csv\n",
    "\n",
    "policy_scores_us_counties_reformat.xls\n",
    "\n",
    "all_county_policies.csv\n",
    "\n",
    "2018 County Health Rankings Texas Data - v3.xls\n",
    "\n",
    "Healthcare worker shortage.csv"
   ]
  },
  {
   "cell_type": "markdown",
   "metadata": {},
   "source": [
    "Load libriaries"
   ]
  },
  {
   "cell_type": "code",
   "execution_count": 173,
   "metadata": {},
   "outputs": [],
   "source": [
    "import pandas as pd\n",
    "import numpy as np\n",
    "import matplotlib.pyplot as plt\n",
    "import seaborn as sns\n",
    "%matplotlib inline"
   ]
  },
  {
   "cell_type": "markdown",
   "metadata": {},
   "source": [
    "## Airports"
   ]
  },
  {
   "cell_type": "markdown",
   "metadata": {},
   "source": [
    "#### Airport location data from http://gis-txdot.opendata.arcgis.com/datasets/texas-airports"
   ]
  },
  {
   "cell_type": "code",
   "execution_count": 174,
   "metadata": {},
   "outputs": [
    {
     "name": "stdout",
     "output_type": "stream",
     "text": [
      "(362, 10)\n"
     ]
    },
    {
     "data": {
      "text/html": [
       "<div>\n",
       "<style scoped>\n",
       "    .dataframe tbody tr th:only-of-type {\n",
       "        vertical-align: middle;\n",
       "    }\n",
       "\n",
       "    .dataframe tbody tr th {\n",
       "        vertical-align: top;\n",
       "    }\n",
       "\n",
       "    .dataframe thead th {\n",
       "        text-align: right;\n",
       "    }\n",
       "</style>\n",
       "<table border=\"1\" class=\"dataframe\">\n",
       "  <thead>\n",
       "    <tr style=\"text-align: right;\">\n",
       "      <th></th>\n",
       "      <th>X</th>\n",
       "      <th>Y</th>\n",
       "      <th>FID</th>\n",
       "      <th>GID</th>\n",
       "      <th>ARPT_NM</th>\n",
       "      <th>CSTMS_FLAG</th>\n",
       "      <th>FAA_CD</th>\n",
       "      <th>CNTY_NBR</th>\n",
       "      <th>DIST_NBR</th>\n",
       "      <th>DSPLY_FLAG</th>\n",
       "    </tr>\n",
       "  </thead>\n",
       "  <tbody>\n",
       "    <tr>\n",
       "      <td>0</td>\n",
       "      <td>-100.184849</td>\n",
       "      <td>35.236166</td>\n",
       "      <td>1</td>\n",
       "      <td>287</td>\n",
       "      <td>Shamrock Municipal Airport</td>\n",
       "      <td>N</td>\n",
       "      <td>2F1</td>\n",
       "      <td>242</td>\n",
       "      <td>25</td>\n",
       "      <td>N</td>\n",
       "    </tr>\n",
       "    <tr>\n",
       "      <td>1</td>\n",
       "      <td>-101.705939</td>\n",
       "      <td>35.219376</td>\n",
       "      <td>2</td>\n",
       "      <td>288</td>\n",
       "      <td>Amarillo International Airport</td>\n",
       "      <td>Y</td>\n",
       "      <td>AMA</td>\n",
       "      <td>188</td>\n",
       "      <td>4</td>\n",
       "      <td>N</td>\n",
       "    </tr>\n",
       "    <tr>\n",
       "      <td>2</td>\n",
       "      <td>-100.996269</td>\n",
       "      <td>35.612996</td>\n",
       "      <td>3</td>\n",
       "      <td>289</td>\n",
       "      <td>Perry LeFors Airfield</td>\n",
       "      <td>N</td>\n",
       "      <td>PPA</td>\n",
       "      <td>91</td>\n",
       "      <td>4</td>\n",
       "      <td>N</td>\n",
       "    </tr>\n",
       "    <tr>\n",
       "      <td>3</td>\n",
       "      <td>-101.394059</td>\n",
       "      <td>35.700046</td>\n",
       "      <td>4</td>\n",
       "      <td>290</td>\n",
       "      <td>Hutchinson County Airport</td>\n",
       "      <td>N</td>\n",
       "      <td>BGD</td>\n",
       "      <td>118</td>\n",
       "      <td>4</td>\n",
       "      <td>N</td>\n",
       "    </tr>\n",
       "    <tr>\n",
       "      <td>4</td>\n",
       "      <td>-102.547289</td>\n",
       "      <td>36.022596</td>\n",
       "      <td>5</td>\n",
       "      <td>291</td>\n",
       "      <td>Dalhart Municipal Airport</td>\n",
       "      <td>N</td>\n",
       "      <td>DHT</td>\n",
       "      <td>104</td>\n",
       "      <td>4</td>\n",
       "      <td>N</td>\n",
       "    </tr>\n",
       "  </tbody>\n",
       "</table>\n",
       "</div>"
      ],
      "text/plain": [
       "            X          Y  FID  GID                         ARPT_NM CSTMS_FLAG  \\\n",
       "0 -100.184849  35.236166    1  287      Shamrock Municipal Airport          N   \n",
       "1 -101.705939  35.219376    2  288  Amarillo International Airport          Y   \n",
       "2 -100.996269  35.612996    3  289           Perry LeFors Airfield          N   \n",
       "3 -101.394059  35.700046    4  290       Hutchinson County Airport          N   \n",
       "4 -102.547289  36.022596    5  291       Dalhart Municipal Airport          N   \n",
       "\n",
       "  FAA_CD  CNTY_NBR  DIST_NBR DSPLY_FLAG  \n",
       "0    2F1       242        25          N  \n",
       "1    AMA       188         4          N  \n",
       "2    PPA        91         4          N  \n",
       "3    BGD       118         4          N  \n",
       "4    DHT       104         4          N  "
      ]
     },
     "execution_count": 174,
     "metadata": {},
     "output_type": "execute_result"
    }
   ],
   "source": [
    "airports=pd.read_csv(r'data/Texas_Airports.csv')\n",
    "print(airports.shape)\n",
    "airports.head()"
   ]
  },
  {
   "cell_type": "code",
   "execution_count": 175,
   "metadata": {},
   "outputs": [
    {
     "data": {
      "text/html": [
       "<div>\n",
       "<style scoped>\n",
       "    .dataframe tbody tr th:only-of-type {\n",
       "        vertical-align: middle;\n",
       "    }\n",
       "\n",
       "    .dataframe tbody tr th {\n",
       "        vertical-align: top;\n",
       "    }\n",
       "\n",
       "    .dataframe thead th {\n",
       "        text-align: right;\n",
       "    }\n",
       "</style>\n",
       "<table border=\"1\" class=\"dataframe\">\n",
       "  <thead>\n",
       "    <tr style=\"text-align: right;\">\n",
       "      <th></th>\n",
       "      <th>X</th>\n",
       "      <th>Y</th>\n",
       "      <th>FID</th>\n",
       "      <th>GID</th>\n",
       "      <th>ARPT_NM</th>\n",
       "      <th>CSTMS_FLAG</th>\n",
       "      <th>FAA_CD</th>\n",
       "      <th>CNTY_NBR</th>\n",
       "      <th>DIST_NBR</th>\n",
       "      <th>DSPLY_FLAG</th>\n",
       "    </tr>\n",
       "  </thead>\n",
       "  <tbody>\n",
       "    <tr>\n",
       "      <td>139</td>\n",
       "      <td>-96.868198</td>\n",
       "      <td>32.680866</td>\n",
       "      <td>140</td>\n",
       "      <td>62</td>\n",
       "      <td>Redbird</td>\n",
       "      <td>N</td>\n",
       "      <td>RBD</td>\n",
       "      <td>57</td>\n",
       "      <td>18</td>\n",
       "      <td>N</td>\n",
       "    </tr>\n",
       "    <tr>\n",
       "      <td>140</td>\n",
       "      <td>-96.865568</td>\n",
       "      <td>32.557086</td>\n",
       "      <td>141</td>\n",
       "      <td>63</td>\n",
       "      <td>Carroll Air Park</td>\n",
       "      <td>N</td>\n",
       "      <td>F66</td>\n",
       "      <td>57</td>\n",
       "      <td>18</td>\n",
       "      <td>Y</td>\n",
       "    </tr>\n",
       "    <tr>\n",
       "      <td>317</td>\n",
       "      <td>-96.836458</td>\n",
       "      <td>32.968566</td>\n",
       "      <td>318</td>\n",
       "      <td>242</td>\n",
       "      <td>Addison Airport</td>\n",
       "      <td>Y</td>\n",
       "      <td>ADS</td>\n",
       "      <td>57</td>\n",
       "      <td>18</td>\n",
       "      <td>N</td>\n",
       "    </tr>\n",
       "    <tr>\n",
       "      <td>318</td>\n",
       "      <td>-96.851778</td>\n",
       "      <td>32.847116</td>\n",
       "      <td>319</td>\n",
       "      <td>243</td>\n",
       "      <td>Dallas Love Field</td>\n",
       "      <td>Y</td>\n",
       "      <td>DAL</td>\n",
       "      <td>57</td>\n",
       "      <td>18</td>\n",
       "      <td>N</td>\n",
       "    </tr>\n",
       "    <tr>\n",
       "      <td>319</td>\n",
       "      <td>-96.719057</td>\n",
       "      <td>32.579196</td>\n",
       "      <td>320</td>\n",
       "      <td>244</td>\n",
       "      <td>Lancaster Airport</td>\n",
       "      <td>N</td>\n",
       "      <td>LNC</td>\n",
       "      <td>57</td>\n",
       "      <td>18</td>\n",
       "      <td>N</td>\n",
       "    </tr>\n",
       "  </tbody>\n",
       "</table>\n",
       "</div>"
      ],
      "text/plain": [
       "             X          Y  FID  GID            ARPT_NM CSTMS_FLAG FAA_CD  \\\n",
       "139 -96.868198  32.680866  140   62            Redbird          N    RBD   \n",
       "140 -96.865568  32.557086  141   63   Carroll Air Park          N    F66   \n",
       "317 -96.836458  32.968566  318  242    Addison Airport          Y    ADS   \n",
       "318 -96.851778  32.847116  319  243  Dallas Love Field          Y    DAL   \n",
       "319 -96.719057  32.579196  320  244  Lancaster Airport          N    LNC   \n",
       "\n",
       "     CNTY_NBR  DIST_NBR DSPLY_FLAG  \n",
       "139        57        18          N  \n",
       "140        57        18          Y  \n",
       "317        57        18          N  \n",
       "318        57        18          N  \n",
       "319        57        18          N  "
      ]
     },
     "execution_count": 175,
     "metadata": {},
     "output_type": "execute_result"
    }
   ],
   "source": [
    "airports[airports['CNTY_NBR']==57]"
   ]
  },
  {
   "cell_type": "markdown",
   "metadata": {},
   "source": [
    "Drop unnecessary columns"
   ]
  },
  {
   "cell_type": "code",
   "execution_count": 176,
   "metadata": {},
   "outputs": [
    {
     "name": "stdout",
     "output_type": "stream",
     "text": [
      "(362, 3)\n"
     ]
    },
    {
     "data": {
      "text/html": [
       "<div>\n",
       "<style scoped>\n",
       "    .dataframe tbody tr th:only-of-type {\n",
       "        vertical-align: middle;\n",
       "    }\n",
       "\n",
       "    .dataframe tbody tr th {\n",
       "        vertical-align: top;\n",
       "    }\n",
       "\n",
       "    .dataframe thead th {\n",
       "        text-align: right;\n",
       "    }\n",
       "</style>\n",
       "<table border=\"1\" class=\"dataframe\">\n",
       "  <thead>\n",
       "    <tr style=\"text-align: right;\">\n",
       "      <th></th>\n",
       "      <th>CSTMS_FLAG</th>\n",
       "      <th>FAA_CD</th>\n",
       "      <th>CNTY_NBR</th>\n",
       "    </tr>\n",
       "  </thead>\n",
       "  <tbody>\n",
       "    <tr>\n",
       "      <td>0</td>\n",
       "      <td>N</td>\n",
       "      <td>2F1</td>\n",
       "      <td>242</td>\n",
       "    </tr>\n",
       "    <tr>\n",
       "      <td>1</td>\n",
       "      <td>Y</td>\n",
       "      <td>AMA</td>\n",
       "      <td>188</td>\n",
       "    </tr>\n",
       "    <tr>\n",
       "      <td>2</td>\n",
       "      <td>N</td>\n",
       "      <td>PPA</td>\n",
       "      <td>91</td>\n",
       "    </tr>\n",
       "    <tr>\n",
       "      <td>3</td>\n",
       "      <td>N</td>\n",
       "      <td>BGD</td>\n",
       "      <td>118</td>\n",
       "    </tr>\n",
       "    <tr>\n",
       "      <td>4</td>\n",
       "      <td>N</td>\n",
       "      <td>DHT</td>\n",
       "      <td>104</td>\n",
       "    </tr>\n",
       "  </tbody>\n",
       "</table>\n",
       "</div>"
      ],
      "text/plain": [
       "  CSTMS_FLAG FAA_CD  CNTY_NBR\n",
       "0          N    2F1       242\n",
       "1          Y    AMA       188\n",
       "2          N    PPA        91\n",
       "3          N    BGD       118\n",
       "4          N    DHT       104"
      ]
     },
     "execution_count": 176,
     "metadata": {},
     "output_type": "execute_result"
    }
   ],
   "source": [
    "airports=airports.drop(['X', 'Y', 'FID', 'GID', 'ARPT_NM', 'DIST_NBR', 'DSPLY_FLAG'], axis=1)\n",
    "print(airports.shape)\n",
    "airports.head()"
   ]
  },
  {
   "cell_type": "markdown",
   "metadata": {},
   "source": [
    "## County Codes"
   ]
  },
  {
   "cell_type": "markdown",
   "metadata": {},
   "source": [
    "Because airport data contains county codes and not county names, county code data is required to retrieve county names"
   ]
  },
  {
   "cell_type": "markdown",
   "metadata": {},
   "source": [
    "#### Data from http://onlinemanuals.txdot.gov/txdotmanuals/tri/texas_counties_and_code_numbers.htm"
   ]
  },
  {
   "cell_type": "code",
   "execution_count": 177,
   "metadata": {},
   "outputs": [
    {
     "name": "stdout",
     "output_type": "stream",
     "text": [
      "<class 'pandas.core.frame.DataFrame'>\n",
      "RangeIndex: 262 entries, 0 to 261\n",
      "Data columns (total 2 columns):\n",
      "CO        255 non-null object\n",
      "County    255 non-null object\n",
      "dtypes: object(2)\n",
      "memory usage: 4.2+ KB\n"
     ]
    }
   ],
   "source": [
    "county_codes=pd.read_csv(r'data/Texas_county_numbers.csv', dtype=str)\n",
    "county_codes.info()"
   ]
  },
  {
   "cell_type": "code",
   "execution_count": 178,
   "metadata": {},
   "outputs": [
    {
     "data": {
      "text/html": [
       "<div>\n",
       "<style scoped>\n",
       "    .dataframe tbody tr th:only-of-type {\n",
       "        vertical-align: middle;\n",
       "    }\n",
       "\n",
       "    .dataframe tbody tr th {\n",
       "        vertical-align: top;\n",
       "    }\n",
       "\n",
       "    .dataframe thead th {\n",
       "        text-align: right;\n",
       "    }\n",
       "</style>\n",
       "<table border=\"1\" class=\"dataframe\">\n",
       "  <thead>\n",
       "    <tr style=\"text-align: right;\">\n",
       "      <th></th>\n",
       "      <th>CO</th>\n",
       "      <th>County</th>\n",
       "    </tr>\n",
       "  </thead>\n",
       "  <tbody>\n",
       "    <tr>\n",
       "      <td>0</td>\n",
       "      <td>1</td>\n",
       "      <td>Anderson</td>\n",
       "    </tr>\n",
       "    <tr>\n",
       "      <td>1</td>\n",
       "      <td>2</td>\n",
       "      <td>Andrews</td>\n",
       "    </tr>\n",
       "    <tr>\n",
       "      <td>2</td>\n",
       "      <td>3</td>\n",
       "      <td>Angelina</td>\n",
       "    </tr>\n",
       "    <tr>\n",
       "      <td>3</td>\n",
       "      <td>4</td>\n",
       "      <td>Aransas</td>\n",
       "    </tr>\n",
       "    <tr>\n",
       "      <td>4</td>\n",
       "      <td>5</td>\n",
       "      <td>Archer</td>\n",
       "    </tr>\n",
       "  </tbody>\n",
       "</table>\n",
       "</div>"
      ],
      "text/plain": [
       "  CO    County\n",
       "0  1  Anderson\n",
       "1  2   Andrews\n",
       "2  3  Angelina\n",
       "3  4   Aransas\n",
       "4  5    Archer"
      ]
     },
     "execution_count": 178,
     "metadata": {},
     "output_type": "execute_result"
    }
   ],
   "source": [
    "county_codes.head()"
   ]
  },
  {
   "cell_type": "markdown",
   "metadata": {},
   "source": [
    "Merge airport dataframe with county code dataframe on county code"
   ]
  },
  {
   "cell_type": "code",
   "execution_count": 179,
   "metadata": {},
   "outputs": [
    {
     "data": {
      "text/html": [
       "<div>\n",
       "<style scoped>\n",
       "    .dataframe tbody tr th:only-of-type {\n",
       "        vertical-align: middle;\n",
       "    }\n",
       "\n",
       "    .dataframe tbody tr th {\n",
       "        vertical-align: top;\n",
       "    }\n",
       "\n",
       "    .dataframe thead th {\n",
       "        text-align: right;\n",
       "    }\n",
       "</style>\n",
       "<table border=\"1\" class=\"dataframe\">\n",
       "  <thead>\n",
       "    <tr style=\"text-align: right;\">\n",
       "      <th></th>\n",
       "      <th>CSTMS_FLAG</th>\n",
       "      <th>FAA_CD</th>\n",
       "      <th>CNTY_NBR</th>\n",
       "      <th>CO</th>\n",
       "      <th>County</th>\n",
       "    </tr>\n",
       "  </thead>\n",
       "  <tbody>\n",
       "    <tr>\n",
       "      <td>0</td>\n",
       "      <td>N</td>\n",
       "      <td>2F1</td>\n",
       "      <td>242</td>\n",
       "      <td>242</td>\n",
       "      <td>Wheeler</td>\n",
       "    </tr>\n",
       "    <tr>\n",
       "      <td>1</td>\n",
       "      <td>Y</td>\n",
       "      <td>AMA</td>\n",
       "      <td>188</td>\n",
       "      <td>188</td>\n",
       "      <td>Potter</td>\n",
       "    </tr>\n",
       "    <tr>\n",
       "      <td>2</td>\n",
       "      <td>N</td>\n",
       "      <td>PPA</td>\n",
       "      <td>91</td>\n",
       "      <td>91</td>\n",
       "      <td>Gray</td>\n",
       "    </tr>\n",
       "    <tr>\n",
       "      <td>3</td>\n",
       "      <td>N</td>\n",
       "      <td>BGD</td>\n",
       "      <td>118</td>\n",
       "      <td>118</td>\n",
       "      <td>Hutchinson</td>\n",
       "    </tr>\n",
       "    <tr>\n",
       "      <td>4</td>\n",
       "      <td>N</td>\n",
       "      <td>DHT</td>\n",
       "      <td>104</td>\n",
       "      <td>104</td>\n",
       "      <td>Hartley</td>\n",
       "    </tr>\n",
       "  </tbody>\n",
       "</table>\n",
       "</div>"
      ],
      "text/plain": [
       "  CSTMS_FLAG FAA_CD CNTY_NBR   CO      County\n",
       "0          N    2F1      242  242     Wheeler\n",
       "1          Y    AMA      188  188      Potter\n",
       "2          N    PPA       91   91        Gray\n",
       "3          N    BGD      118  118  Hutchinson\n",
       "4          N    DHT      104  104     Hartley"
      ]
     },
     "execution_count": 179,
     "metadata": {},
     "output_type": "execute_result"
    }
   ],
   "source": [
    "airports['CNTY_NBR']=airports['CNTY_NBR'].astype(str)\n",
    "airports=pd.merge(airports, county_codes, how='left', left_on='CNTY_NBR', right_on='CO')\n",
    "airports.head()"
   ]
  },
  {
   "cell_type": "code",
   "execution_count": 180,
   "metadata": {},
   "outputs": [],
   "source": [
    "airports.drop('CO', axis=1, inplace=True)"
   ]
  },
  {
   "cell_type": "code",
   "execution_count": 181,
   "metadata": {},
   "outputs": [
    {
     "data": {
      "text/html": [
       "<div>\n",
       "<style scoped>\n",
       "    .dataframe tbody tr th:only-of-type {\n",
       "        vertical-align: middle;\n",
       "    }\n",
       "\n",
       "    .dataframe tbody tr th {\n",
       "        vertical-align: top;\n",
       "    }\n",
       "\n",
       "    .dataframe thead th {\n",
       "        text-align: right;\n",
       "    }\n",
       "</style>\n",
       "<table border=\"1\" class=\"dataframe\">\n",
       "  <thead>\n",
       "    <tr style=\"text-align: right;\">\n",
       "      <th></th>\n",
       "      <th>CSTMS_FLAG</th>\n",
       "      <th>FAA_CD</th>\n",
       "      <th>CNTY_NBR</th>\n",
       "      <th>County</th>\n",
       "    </tr>\n",
       "  </thead>\n",
       "  <tbody>\n",
       "    <tr>\n",
       "      <td>12</td>\n",
       "      <td>N</td>\n",
       "      <td>HPY</td>\n",
       "      <td>102</td>\n",
       "      <td>Harris</td>\n",
       "    </tr>\n",
       "    <tr>\n",
       "      <td>95</td>\n",
       "      <td>N</td>\n",
       "      <td>T51</td>\n",
       "      <td>102</td>\n",
       "      <td>Harris</td>\n",
       "    </tr>\n",
       "    <tr>\n",
       "      <td>96</td>\n",
       "      <td>N</td>\n",
       "      <td>EFD</td>\n",
       "      <td>102</td>\n",
       "      <td>Harris</td>\n",
       "    </tr>\n",
       "    <tr>\n",
       "      <td>97</td>\n",
       "      <td>N</td>\n",
       "      <td>EYQ</td>\n",
       "      <td>102</td>\n",
       "      <td>Harris</td>\n",
       "    </tr>\n",
       "    <tr>\n",
       "      <td>231</td>\n",
       "      <td>N</td>\n",
       "      <td>IWS</td>\n",
       "      <td>102</td>\n",
       "      <td>Harris</td>\n",
       "    </tr>\n",
       "    <tr>\n",
       "      <td>232</td>\n",
       "      <td>Y</td>\n",
       "      <td>HOU</td>\n",
       "      <td>102</td>\n",
       "      <td>Harris</td>\n",
       "    </tr>\n",
       "    <tr>\n",
       "      <td>233</td>\n",
       "      <td>Y</td>\n",
       "      <td>IAH</td>\n",
       "      <td>102</td>\n",
       "      <td>Harris</td>\n",
       "    </tr>\n",
       "    <tr>\n",
       "      <td>234</td>\n",
       "      <td>N</td>\n",
       "      <td>DWH</td>\n",
       "      <td>102</td>\n",
       "      <td>Harris</td>\n",
       "    </tr>\n",
       "    <tr>\n",
       "      <td>235</td>\n",
       "      <td>N</td>\n",
       "      <td>T41</td>\n",
       "      <td>102</td>\n",
       "      <td>Harris</td>\n",
       "    </tr>\n",
       "  </tbody>\n",
       "</table>\n",
       "</div>"
      ],
      "text/plain": [
       "    CSTMS_FLAG FAA_CD CNTY_NBR  County\n",
       "12           N    HPY      102  Harris\n",
       "95           N    T51      102  Harris\n",
       "96           N    EFD      102  Harris\n",
       "97           N    EYQ      102  Harris\n",
       "231          N    IWS      102  Harris\n",
       "232          Y    HOU      102  Harris\n",
       "233          Y    IAH      102  Harris\n",
       "234          N    DWH      102  Harris\n",
       "235          N    T41      102  Harris"
      ]
     },
     "execution_count": 181,
     "metadata": {},
     "output_type": "execute_result"
    }
   ],
   "source": [
    "airports[airports['County']=='Harris']"
   ]
  },
  {
   "cell_type": "markdown",
   "metadata": {},
   "source": [
    "## Airport Enplanement"
   ]
  },
  {
   "cell_type": "markdown",
   "metadata": {},
   "source": [
    "#### Enplanement data from https://www.faa.gov/airports/planning_capacity/passenger_allcargo_stats/passenger/"
   ]
  },
  {
   "cell_type": "code",
   "execution_count": 182,
   "metadata": {},
   "outputs": [
    {
     "data": {
      "text/html": [
       "<div>\n",
       "<style scoped>\n",
       "    .dataframe tbody tr th:only-of-type {\n",
       "        vertical-align: middle;\n",
       "    }\n",
       "\n",
       "    .dataframe tbody tr th {\n",
       "        vertical-align: top;\n",
       "    }\n",
       "\n",
       "    .dataframe thead th {\n",
       "        text-align: right;\n",
       "    }\n",
       "</style>\n",
       "<table border=\"1\" class=\"dataframe\">\n",
       "  <thead>\n",
       "    <tr style=\"text-align: right;\">\n",
       "      <th></th>\n",
       "      <th>Rank</th>\n",
       "      <th>RO</th>\n",
       "      <th>ST</th>\n",
       "      <th>Locid</th>\n",
       "      <th>City</th>\n",
       "      <th>Airport Name</th>\n",
       "      <th>S/L</th>\n",
       "      <th>Hub</th>\n",
       "      <th>CY 18 Enplanements</th>\n",
       "      <th>CY 17 Enplanements</th>\n",
       "      <th>% Change</th>\n",
       "    </tr>\n",
       "  </thead>\n",
       "  <tbody>\n",
       "    <tr>\n",
       "      <td>0</td>\n",
       "      <td>58</td>\n",
       "      <td>AL</td>\n",
       "      <td>AK</td>\n",
       "      <td>ANC</td>\n",
       "      <td>Anchorage</td>\n",
       "      <td>Ted Stevens Anchorage International</td>\n",
       "      <td>P</td>\n",
       "      <td>M</td>\n",
       "      <td>2,642,607</td>\n",
       "      <td>2,556,191</td>\n",
       "      <td>3.38%</td>\n",
       "    </tr>\n",
       "    <tr>\n",
       "      <td>1</td>\n",
       "      <td>122</td>\n",
       "      <td>AL</td>\n",
       "      <td>AK</td>\n",
       "      <td>FAI</td>\n",
       "      <td>Fairbanks</td>\n",
       "      <td>Fairbanks International</td>\n",
       "      <td>P</td>\n",
       "      <td>S</td>\n",
       "      <td>549,289</td>\n",
       "      <td>543,839</td>\n",
       "      <td>1.00%</td>\n",
       "    </tr>\n",
       "    <tr>\n",
       "      <td>2</td>\n",
       "      <td>133</td>\n",
       "      <td>AL</td>\n",
       "      <td>AK</td>\n",
       "      <td>JNU</td>\n",
       "      <td>Juneau</td>\n",
       "      <td>Juneau International</td>\n",
       "      <td>P</td>\n",
       "      <td>N</td>\n",
       "      <td>440,277</td>\n",
       "      <td>422,266</td>\n",
       "      <td>4.27%</td>\n",
       "    </tr>\n",
       "    <tr>\n",
       "      <td>3</td>\n",
       "      <td>198</td>\n",
       "      <td>AL</td>\n",
       "      <td>AK</td>\n",
       "      <td>BET</td>\n",
       "      <td>Bethel</td>\n",
       "      <td>Bethel</td>\n",
       "      <td>P</td>\n",
       "      <td>N</td>\n",
       "      <td>160,110</td>\n",
       "      <td>146,652</td>\n",
       "      <td>9.18%</td>\n",
       "    </tr>\n",
       "    <tr>\n",
       "      <td>4</td>\n",
       "      <td>212</td>\n",
       "      <td>AL</td>\n",
       "      <td>AK</td>\n",
       "      <td>KTN</td>\n",
       "      <td>Ketchikan</td>\n",
       "      <td>Ketchikan International</td>\n",
       "      <td>P</td>\n",
       "      <td>N</td>\n",
       "      <td>135,389</td>\n",
       "      <td>131,144</td>\n",
       "      <td>3.24%</td>\n",
       "    </tr>\n",
       "  </tbody>\n",
       "</table>\n",
       "</div>"
      ],
      "text/plain": [
       "   Rank  RO  ST Locid       City                         Airport Name S/L Hub  \\\n",
       "0    58  AL  AK   ANC  Anchorage  Ted Stevens Anchorage International   P   M   \n",
       "1   122  AL  AK   FAI  Fairbanks              Fairbanks International   P   S   \n",
       "2   133  AL  AK   JNU     Juneau                 Juneau International   P   N   \n",
       "3   198  AL  AK   BET     Bethel                               Bethel   P   N   \n",
       "4   212  AL  AK   KTN  Ketchikan              Ketchikan International   P   N   \n",
       "\n",
       "  CY 18 Enplanements CY 17 Enplanements % Change  \n",
       "0          2,642,607          2,556,191    3.38%  \n",
       "1            549,289            543,839    1.00%  \n",
       "2            440,277            422,266    4.27%  \n",
       "3            160,110            146,652    9.18%  \n",
       "4            135,389            131,144    3.24%  "
      ]
     },
     "execution_count": 182,
     "metadata": {},
     "output_type": "execute_result"
    }
   ],
   "source": [
    "airport_enplane=pd.read_csv(r'data/cy18-all-enplanements TX.csv')\n",
    "airport_enplane.head()"
   ]
  },
  {
   "cell_type": "markdown",
   "metadata": {},
   "source": [
    "Filter enplanement data by Texas"
   ]
  },
  {
   "cell_type": "code",
   "execution_count": 183,
   "metadata": {},
   "outputs": [
    {
     "name": "stdout",
     "output_type": "stream",
     "text": [
      "(126, 11)\n"
     ]
    },
    {
     "data": {
      "text/html": [
       "<div>\n",
       "<style scoped>\n",
       "    .dataframe tbody tr th:only-of-type {\n",
       "        vertical-align: middle;\n",
       "    }\n",
       "\n",
       "    .dataframe tbody tr th {\n",
       "        vertical-align: top;\n",
       "    }\n",
       "\n",
       "    .dataframe thead th {\n",
       "        text-align: right;\n",
       "    }\n",
       "</style>\n",
       "<table border=\"1\" class=\"dataframe\">\n",
       "  <thead>\n",
       "    <tr style=\"text-align: right;\">\n",
       "      <th></th>\n",
       "      <th>Rank</th>\n",
       "      <th>RO</th>\n",
       "      <th>ST</th>\n",
       "      <th>Locid</th>\n",
       "      <th>City</th>\n",
       "      <th>Airport Name</th>\n",
       "      <th>S/L</th>\n",
       "      <th>Hub</th>\n",
       "      <th>CY 18 Enplanements</th>\n",
       "      <th>CY 17 Enplanements</th>\n",
       "      <th>% Change</th>\n",
       "    </tr>\n",
       "  </thead>\n",
       "  <tbody>\n",
       "    <tr>\n",
       "      <td>1548</td>\n",
       "      <td>4</td>\n",
       "      <td>SW</td>\n",
       "      <td>TX</td>\n",
       "      <td>DFW</td>\n",
       "      <td>Fort Worth</td>\n",
       "      <td>Dallas-Fort Worth International</td>\n",
       "      <td>P</td>\n",
       "      <td>L</td>\n",
       "      <td>32,821,799</td>\n",
       "      <td>31,816,933</td>\n",
       "      <td>3.16%</td>\n",
       "    </tr>\n",
       "    <tr>\n",
       "      <td>1549</td>\n",
       "      <td>14</td>\n",
       "      <td>SW</td>\n",
       "      <td>TX</td>\n",
       "      <td>IAH</td>\n",
       "      <td>Houston</td>\n",
       "      <td>George Bush Intercontinental/Houston</td>\n",
       "      <td>P</td>\n",
       "      <td>L</td>\n",
       "      <td>21,157,398</td>\n",
       "      <td>19,603,731</td>\n",
       "      <td>7.93%</td>\n",
       "    </tr>\n",
       "    <tr>\n",
       "      <td>1550</td>\n",
       "      <td>32</td>\n",
       "      <td>SW</td>\n",
       "      <td>TX</td>\n",
       "      <td>DAL</td>\n",
       "      <td>Dallas</td>\n",
       "      <td>Dallas Love Field</td>\n",
       "      <td>P</td>\n",
       "      <td>M</td>\n",
       "      <td>8,011,221</td>\n",
       "      <td>7,593,361</td>\n",
       "      <td>5.50%</td>\n",
       "    </tr>\n",
       "    <tr>\n",
       "      <td>1551</td>\n",
       "      <td>33</td>\n",
       "      <td>SW</td>\n",
       "      <td>TX</td>\n",
       "      <td>AUS</td>\n",
       "      <td>Austin</td>\n",
       "      <td>Austin-Bergstrom International</td>\n",
       "      <td>P</td>\n",
       "      <td>M</td>\n",
       "      <td>7,714,479</td>\n",
       "      <td>6,813,171</td>\n",
       "      <td>13.23%</td>\n",
       "    </tr>\n",
       "    <tr>\n",
       "      <td>1552</td>\n",
       "      <td>35</td>\n",
       "      <td>SW</td>\n",
       "      <td>TX</td>\n",
       "      <td>HOU</td>\n",
       "      <td>Houston</td>\n",
       "      <td>William P Hobby</td>\n",
       "      <td>P</td>\n",
       "      <td>M</td>\n",
       "      <td>7,053,886</td>\n",
       "      <td>6,538,976</td>\n",
       "      <td>7.87%</td>\n",
       "    </tr>\n",
       "  </tbody>\n",
       "</table>\n",
       "</div>"
      ],
      "text/plain": [
       "      Rank  RO  ST Locid        City                          Airport Name  \\\n",
       "1548     4  SW  TX   DFW  Fort Worth       Dallas-Fort Worth International   \n",
       "1549    14  SW  TX   IAH     Houston  George Bush Intercontinental/Houston   \n",
       "1550    32  SW  TX   DAL      Dallas                     Dallas Love Field   \n",
       "1551    33  SW  TX   AUS      Austin        Austin-Bergstrom International   \n",
       "1552    35  SW  TX   HOU     Houston                       William P Hobby   \n",
       "\n",
       "     S/L Hub CY 18 Enplanements CY 17 Enplanements % Change  \n",
       "1548   P   L         32,821,799         31,816,933    3.16%  \n",
       "1549   P   L         21,157,398         19,603,731    7.93%  \n",
       "1550   P   M          8,011,221          7,593,361    5.50%  \n",
       "1551   P   M          7,714,479          6,813,171   13.23%  \n",
       "1552   P   M          7,053,886          6,538,976    7.87%  "
      ]
     },
     "execution_count": 183,
     "metadata": {},
     "output_type": "execute_result"
    }
   ],
   "source": [
    "airport_enplane_TX=airport_enplane[airport_enplane['ST']=='TX']\n",
    "print(airport_enplane_TX.shape)\n",
    "airport_enplane_TX.head()"
   ]
  },
  {
   "cell_type": "markdown",
   "metadata": {},
   "source": [
    "Drop unneccessary columns"
   ]
  },
  {
   "cell_type": "code",
   "execution_count": 184,
   "metadata": {},
   "outputs": [],
   "source": [
    "airport_enplane_TX=airport_enplane_TX.drop(['Rank', 'RO', 'Airport Name', 'City',\n",
    "                                            'ST', 'S/L', 'Airport Name', 'CY 17 Enplanements', '% Change'], axis=1)\n",
    "airport_enplane_TX.rename(columns={'CY 18 Enplanements': 'Enplanements'}, inplace=True)\n"
   ]
  },
  {
   "cell_type": "markdown",
   "metadata": {},
   "source": [
    "Convert enplanements to float"
   ]
  },
  {
   "cell_type": "code",
   "execution_count": 185,
   "metadata": {},
   "outputs": [],
   "source": [
    "airport_enplane_TX['Enplanements']=airport_enplane_TX['Enplanements'].str.replace(',', '').astype(float)"
   ]
  },
  {
   "cell_type": "code",
   "execution_count": 186,
   "metadata": {},
   "outputs": [
    {
     "data": {
      "text/plain": [
       "(126, 3)"
      ]
     },
     "execution_count": 186,
     "metadata": {},
     "output_type": "execute_result"
    }
   ],
   "source": [
    "airport_enplane_TX.shape"
   ]
  },
  {
   "cell_type": "code",
   "execution_count": 187,
   "metadata": {},
   "outputs": [
    {
     "data": {
      "text/plain": [
       "(363, 4)"
      ]
     },
     "execution_count": 187,
     "metadata": {},
     "output_type": "execute_result"
    }
   ],
   "source": [
    "airports.shape"
   ]
  },
  {
   "cell_type": "markdown",
   "metadata": {},
   "source": [
    "Merge airport data with enplanement data"
   ]
  },
  {
   "cell_type": "code",
   "execution_count": 188,
   "metadata": {},
   "outputs": [],
   "source": [
    "airports_TX=pd.merge(airports, airport_enplane_TX, how='left', left_on='FAA_CD', right_on='Locid')\n",
    "airports_TX.drop('Locid', axis=1, inplace=True)"
   ]
  },
  {
   "cell_type": "code",
   "execution_count": 189,
   "metadata": {},
   "outputs": [
    {
     "data": {
      "text/html": [
       "<div>\n",
       "<style scoped>\n",
       "    .dataframe tbody tr th:only-of-type {\n",
       "        vertical-align: middle;\n",
       "    }\n",
       "\n",
       "    .dataframe tbody tr th {\n",
       "        vertical-align: top;\n",
       "    }\n",
       "\n",
       "    .dataframe thead th {\n",
       "        text-align: right;\n",
       "    }\n",
       "</style>\n",
       "<table border=\"1\" class=\"dataframe\">\n",
       "  <thead>\n",
       "    <tr style=\"text-align: right;\">\n",
       "      <th></th>\n",
       "      <th>CSTMS_FLAG</th>\n",
       "      <th>FAA_CD</th>\n",
       "      <th>CNTY_NBR</th>\n",
       "      <th>County</th>\n",
       "      <th>Hub</th>\n",
       "      <th>Enplanements</th>\n",
       "    </tr>\n",
       "  </thead>\n",
       "  <tbody>\n",
       "    <tr>\n",
       "      <td>0</td>\n",
       "      <td>N</td>\n",
       "      <td>2F1</td>\n",
       "      <td>242</td>\n",
       "      <td>Wheeler</td>\n",
       "      <td>NaN</td>\n",
       "      <td>NaN</td>\n",
       "    </tr>\n",
       "    <tr>\n",
       "      <td>1</td>\n",
       "      <td>Y</td>\n",
       "      <td>AMA</td>\n",
       "      <td>188</td>\n",
       "      <td>Potter</td>\n",
       "      <td>N</td>\n",
       "      <td>355705.0</td>\n",
       "    </tr>\n",
       "    <tr>\n",
       "      <td>2</td>\n",
       "      <td>N</td>\n",
       "      <td>PPA</td>\n",
       "      <td>91</td>\n",
       "      <td>Gray</td>\n",
       "      <td>None</td>\n",
       "      <td>3.0</td>\n",
       "    </tr>\n",
       "    <tr>\n",
       "      <td>3</td>\n",
       "      <td>N</td>\n",
       "      <td>BGD</td>\n",
       "      <td>118</td>\n",
       "      <td>Hutchinson</td>\n",
       "      <td>NaN</td>\n",
       "      <td>NaN</td>\n",
       "    </tr>\n",
       "    <tr>\n",
       "      <td>4</td>\n",
       "      <td>N</td>\n",
       "      <td>DHT</td>\n",
       "      <td>104</td>\n",
       "      <td>Hartley</td>\n",
       "      <td>None</td>\n",
       "      <td>42.0</td>\n",
       "    </tr>\n",
       "  </tbody>\n",
       "</table>\n",
       "</div>"
      ],
      "text/plain": [
       "  CSTMS_FLAG FAA_CD CNTY_NBR      County   Hub  Enplanements\n",
       "0          N    2F1      242     Wheeler   NaN           NaN\n",
       "1          Y    AMA      188      Potter     N      355705.0\n",
       "2          N    PPA       91        Gray  None           3.0\n",
       "3          N    BGD      118  Hutchinson   NaN           NaN\n",
       "4          N    DHT      104     Hartley  None          42.0"
      ]
     },
     "execution_count": 189,
     "metadata": {},
     "output_type": "execute_result"
    }
   ],
   "source": [
    "airports_TX.head()"
   ]
  },
  {
   "cell_type": "markdown",
   "metadata": {},
   "source": [
    "Hub column contains data indicating if hub is small, medium, large, or not a hub.  Data is changed to indicate hub (Y) or not a hub (N)"
   ]
  },
  {
   "cell_type": "code",
   "execution_count": 190,
   "metadata": {},
   "outputs": [
    {
     "data": {
      "text/plain": [
       "None    75\n",
       "N       14\n",
       "M        4\n",
       "S        3\n",
       "L        2\n",
       "Name: Hub, dtype: int64"
      ]
     },
     "execution_count": 190,
     "metadata": {},
     "output_type": "execute_result"
    }
   ],
   "source": [
    "airports_TX['Hub'].value_counts()"
   ]
  },
  {
   "cell_type": "code",
   "execution_count": 191,
   "metadata": {},
   "outputs": [
    {
     "data": {
      "text/plain": [
       "N    89\n",
       "Y     9\n",
       "Name: Hub, dtype: int64"
      ]
     },
     "execution_count": 191,
     "metadata": {},
     "output_type": "execute_result"
    }
   ],
   "source": [
    "airports_TX['Hub'].replace({'M': 'Y', 'S': 'Y', 'L': 'Y', 'None': 'N'}, inplace=True)\n",
    "airports_TX['Hub'].value_counts()"
   ]
  },
  {
   "cell_type": "code",
   "execution_count": 192,
   "metadata": {},
   "outputs": [
    {
     "data": {
      "text/plain": [
       "265"
      ]
     },
     "execution_count": 192,
     "metadata": {},
     "output_type": "execute_result"
    }
   ],
   "source": [
    "airports_TX['Hub'].isnull().sum()"
   ]
  },
  {
   "cell_type": "code",
   "execution_count": 193,
   "metadata": {},
   "outputs": [],
   "source": [
    "airports_TX['Hub'].fillna('N', inplace=True)"
   ]
  },
  {
   "cell_type": "code",
   "execution_count": 194,
   "metadata": {},
   "outputs": [
    {
     "data": {
      "text/plain": [
       "N    354\n",
       "Y      9\n",
       "Name: Hub, dtype: int64"
      ]
     },
     "execution_count": 194,
     "metadata": {},
     "output_type": "execute_result"
    }
   ],
   "source": [
    "airports_TX['Hub'].value_counts()"
   ]
  },
  {
   "cell_type": "code",
   "execution_count": 195,
   "metadata": {},
   "outputs": [
    {
     "data": {
      "text/plain": [
       "CSTMS_FLAG        0\n",
       "FAA_CD            0\n",
       "CNTY_NBR          0\n",
       "County            0\n",
       "Hub               0\n",
       "Enplanements    265\n",
       "dtype: int64"
      ]
     },
     "execution_count": 195,
     "metadata": {},
     "output_type": "execute_result"
    }
   ],
   "source": [
    "airports_TX.isnull().sum()"
   ]
  },
  {
   "cell_type": "code",
   "execution_count": 196,
   "metadata": {},
   "outputs": [],
   "source": [
    "airports_TX['Enplanements'].fillna(0, inplace=True)"
   ]
  },
  {
   "cell_type": "code",
   "execution_count": 197,
   "metadata": {},
   "outputs": [
    {
     "data": {
      "text/html": [
       "<div>\n",
       "<style scoped>\n",
       "    .dataframe tbody tr th:only-of-type {\n",
       "        vertical-align: middle;\n",
       "    }\n",
       "\n",
       "    .dataframe tbody tr th {\n",
       "        vertical-align: top;\n",
       "    }\n",
       "\n",
       "    .dataframe thead th {\n",
       "        text-align: right;\n",
       "    }\n",
       "</style>\n",
       "<table border=\"1\" class=\"dataframe\">\n",
       "  <thead>\n",
       "    <tr style=\"text-align: right;\">\n",
       "      <th></th>\n",
       "      <th>CSTMS_FLAG</th>\n",
       "      <th>FAA_CD</th>\n",
       "      <th>CNTY_NBR</th>\n",
       "      <th>County</th>\n",
       "      <th>Hub</th>\n",
       "      <th>Enplanements</th>\n",
       "    </tr>\n",
       "  </thead>\n",
       "  <tbody>\n",
       "    <tr>\n",
       "      <td>288</td>\n",
       "      <td>N</td>\n",
       "      <td>PSN</td>\n",
       "      <td>1</td>\n",
       "      <td>Anderson</td>\n",
       "      <td>N</td>\n",
       "      <td>13.0</td>\n",
       "    </tr>\n",
       "    <tr>\n",
       "      <td>301</td>\n",
       "      <td>N</td>\n",
       "      <td>E11</td>\n",
       "      <td>2</td>\n",
       "      <td>Andrews</td>\n",
       "      <td>N</td>\n",
       "      <td>0.0</td>\n",
       "    </tr>\n",
       "    <tr>\n",
       "      <td>9</td>\n",
       "      <td>N</td>\n",
       "      <td>LFK</td>\n",
       "      <td>3</td>\n",
       "      <td>Angelina</td>\n",
       "      <td>N</td>\n",
       "      <td>22.0</td>\n",
       "    </tr>\n",
       "    <tr>\n",
       "      <td>205</td>\n",
       "      <td>N</td>\n",
       "      <td>RKP</td>\n",
       "      <td>4</td>\n",
       "      <td>Aransas</td>\n",
       "      <td>N</td>\n",
       "      <td>34.0</td>\n",
       "    </tr>\n",
       "    <tr>\n",
       "      <td>347</td>\n",
       "      <td>N</td>\n",
       "      <td>T39</td>\n",
       "      <td>5</td>\n",
       "      <td>Archer</td>\n",
       "      <td>N</td>\n",
       "      <td>0.0</td>\n",
       "    </tr>\n",
       "    <tr>\n",
       "      <td>...</td>\n",
       "      <td>...</td>\n",
       "      <td>...</td>\n",
       "      <td>...</td>\n",
       "      <td>...</td>\n",
       "      <td>...</td>\n",
       "      <td>...</td>\n",
       "    </tr>\n",
       "    <tr>\n",
       "      <td>73</td>\n",
       "      <td>N</td>\n",
       "      <td>E15</td>\n",
       "      <td>252</td>\n",
       "      <td>Young</td>\n",
       "      <td>N</td>\n",
       "      <td>0.0</td>\n",
       "    </tr>\n",
       "    <tr>\n",
       "      <td>74</td>\n",
       "      <td>N</td>\n",
       "      <td>10F</td>\n",
       "      <td>252</td>\n",
       "      <td>Young</td>\n",
       "      <td>N</td>\n",
       "      <td>0.0</td>\n",
       "    </tr>\n",
       "    <tr>\n",
       "      <td>10</td>\n",
       "      <td>N</td>\n",
       "      <td>ONY</td>\n",
       "      <td>252</td>\n",
       "      <td>Young</td>\n",
       "      <td>N</td>\n",
       "      <td>0.0</td>\n",
       "    </tr>\n",
       "    <tr>\n",
       "      <td>200</td>\n",
       "      <td>N</td>\n",
       "      <td>T86</td>\n",
       "      <td>253</td>\n",
       "      <td>Zapata</td>\n",
       "      <td>N</td>\n",
       "      <td>0.0</td>\n",
       "    </tr>\n",
       "    <tr>\n",
       "      <td>186</td>\n",
       "      <td>N</td>\n",
       "      <td>20R</td>\n",
       "      <td>254</td>\n",
       "      <td>Zavala</td>\n",
       "      <td>N</td>\n",
       "      <td>0.0</td>\n",
       "    </tr>\n",
       "  </tbody>\n",
       "</table>\n",
       "<p>363 rows × 6 columns</p>\n",
       "</div>"
      ],
      "text/plain": [
       "    CSTMS_FLAG FAA_CD CNTY_NBR    County Hub  Enplanements\n",
       "288          N    PSN        1  Anderson   N          13.0\n",
       "301          N    E11        2   Andrews   N           0.0\n",
       "9            N    LFK        3  Angelina   N          22.0\n",
       "205          N    RKP        4   Aransas   N          34.0\n",
       "347          N    T39        5    Archer   N           0.0\n",
       "..         ...    ...      ...       ...  ..           ...\n",
       "73           N    E15      252     Young   N           0.0\n",
       "74           N    10F      252     Young   N           0.0\n",
       "10           N    ONY      252     Young   N           0.0\n",
       "200          N    T86      253    Zapata   N           0.0\n",
       "186          N    20R      254    Zavala   N           0.0\n",
       "\n",
       "[363 rows x 6 columns]"
      ]
     },
     "execution_count": 197,
     "metadata": {},
     "output_type": "execute_result"
    }
   ],
   "source": [
    "airports_TX.sort_values(by=['County'], inplace=True)\n",
    "airports_TX"
   ]
  },
  {
   "cell_type": "code",
   "execution_count": 198,
   "metadata": {},
   "outputs": [
    {
     "name": "stdout",
     "output_type": "stream",
     "text": [
      "<class 'pandas.core.frame.DataFrame'>\n",
      "Int64Index: 363 entries, 288 to 186\n",
      "Data columns (total 6 columns):\n",
      "CSTMS_FLAG      363 non-null object\n",
      "FAA_CD          363 non-null object\n",
      "CNTY_NBR        363 non-null object\n",
      "County          363 non-null object\n",
      "Hub             363 non-null object\n",
      "Enplanements    363 non-null float64\n",
      "dtypes: float64(1), object(5)\n",
      "memory usage: 19.9+ KB\n"
     ]
    }
   ],
   "source": [
    "airports_TX.info()"
   ]
  },
  {
   "cell_type": "markdown",
   "metadata": {},
   "source": [
    "#### Conbine airport data into data by county"
   ]
  },
  {
   "cell_type": "code",
   "execution_count": 199,
   "metadata": {},
   "outputs": [],
   "source": [
    "airport_count=pd.DataFrame(airports_TX['County'].value_counts()).sort_index()\n",
    "airport_count.rename(columns={'County': 'Number'}, inplace=True)"
   ]
  },
  {
   "cell_type": "code",
   "execution_count": 200,
   "metadata": {},
   "outputs": [],
   "source": [
    "airports_county=pd.DataFrame(airports_TX.groupby('County').\n",
    "             agg({'Enplanements': sum, 'CSTMS_FLAG': list, 'Hub': list}))"
   ]
  },
  {
   "cell_type": "code",
   "execution_count": 201,
   "metadata": {},
   "outputs": [],
   "source": [
    "airports_county=pd.merge(airports_county, airport_count, how='left', left_index=True, right_index=True)"
   ]
  },
  {
   "cell_type": "code",
   "execution_count": 202,
   "metadata": {},
   "outputs": [
    {
     "data": {
      "text/html": [
       "<div>\n",
       "<style scoped>\n",
       "    .dataframe tbody tr th:only-of-type {\n",
       "        vertical-align: middle;\n",
       "    }\n",
       "\n",
       "    .dataframe tbody tr th {\n",
       "        vertical-align: top;\n",
       "    }\n",
       "\n",
       "    .dataframe thead th {\n",
       "        text-align: right;\n",
       "    }\n",
       "</style>\n",
       "<table border=\"1\" class=\"dataframe\">\n",
       "  <thead>\n",
       "    <tr style=\"text-align: right;\">\n",
       "      <th></th>\n",
       "      <th>Enplanements</th>\n",
       "      <th>CSTMS_FLAG</th>\n",
       "      <th>Hub</th>\n",
       "      <th>Number</th>\n",
       "    </tr>\n",
       "    <tr>\n",
       "      <th>County</th>\n",
       "      <th></th>\n",
       "      <th></th>\n",
       "      <th></th>\n",
       "      <th></th>\n",
       "    </tr>\n",
       "  </thead>\n",
       "  <tbody>\n",
       "    <tr>\n",
       "      <td>Anderson</td>\n",
       "      <td>13.0</td>\n",
       "      <td>[N]</td>\n",
       "      <td>[N]</td>\n",
       "      <td>1</td>\n",
       "    </tr>\n",
       "    <tr>\n",
       "      <td>Andrews</td>\n",
       "      <td>0.0</td>\n",
       "      <td>[N]</td>\n",
       "      <td>[N]</td>\n",
       "      <td>1</td>\n",
       "    </tr>\n",
       "    <tr>\n",
       "      <td>Angelina</td>\n",
       "      <td>22.0</td>\n",
       "      <td>[N]</td>\n",
       "      <td>[N]</td>\n",
       "      <td>1</td>\n",
       "    </tr>\n",
       "    <tr>\n",
       "      <td>Aransas</td>\n",
       "      <td>34.0</td>\n",
       "      <td>[N]</td>\n",
       "      <td>[N]</td>\n",
       "      <td>1</td>\n",
       "    </tr>\n",
       "    <tr>\n",
       "      <td>Archer</td>\n",
       "      <td>0.0</td>\n",
       "      <td>[N]</td>\n",
       "      <td>[N]</td>\n",
       "      <td>1</td>\n",
       "    </tr>\n",
       "  </tbody>\n",
       "</table>\n",
       "</div>"
      ],
      "text/plain": [
       "          Enplanements CSTMS_FLAG  Hub  Number\n",
       "County                                        \n",
       "Anderson          13.0        [N]  [N]       1\n",
       "Andrews            0.0        [N]  [N]       1\n",
       "Angelina          22.0        [N]  [N]       1\n",
       "Aransas           34.0        [N]  [N]       1\n",
       "Archer             0.0        [N]  [N]       1"
      ]
     },
     "execution_count": 202,
     "metadata": {},
     "output_type": "execute_result"
    }
   ],
   "source": [
    "airports_county.head()"
   ]
  },
  {
   "cell_type": "markdown",
   "metadata": {},
   "source": [
    "Use one hot encoding on Hub and Customs flags to convert to numeric data"
   ]
  },
  {
   "cell_type": "code",
   "execution_count": 203,
   "metadata": {},
   "outputs": [],
   "source": [
    "def checkflag(flags):\n",
    "    if 'Y' in flags:\n",
    "        return 'Y'\n",
    "    else:\n",
    "        return 'N'"
   ]
  },
  {
   "cell_type": "code",
   "execution_count": 204,
   "metadata": {},
   "outputs": [],
   "source": [
    "airports_county['CSTMS_FLAG']=airports_county['CSTMS_FLAG'].map(checkflag)\n",
    "airports_county['Hub']=airports_county['Hub'].map(checkflag)"
   ]
  },
  {
   "cell_type": "code",
   "execution_count": 205,
   "metadata": {},
   "outputs": [
    {
     "data": {
      "text/html": [
       "<div>\n",
       "<style scoped>\n",
       "    .dataframe tbody tr th:only-of-type {\n",
       "        vertical-align: middle;\n",
       "    }\n",
       "\n",
       "    .dataframe tbody tr th {\n",
       "        vertical-align: top;\n",
       "    }\n",
       "\n",
       "    .dataframe thead th {\n",
       "        text-align: right;\n",
       "    }\n",
       "</style>\n",
       "<table border=\"1\" class=\"dataframe\">\n",
       "  <thead>\n",
       "    <tr style=\"text-align: right;\">\n",
       "      <th></th>\n",
       "      <th>Enplanements</th>\n",
       "      <th>CSTMS_FLAG</th>\n",
       "      <th>Hub</th>\n",
       "      <th>Number</th>\n",
       "    </tr>\n",
       "    <tr>\n",
       "      <th>County</th>\n",
       "      <th></th>\n",
       "      <th></th>\n",
       "      <th></th>\n",
       "      <th></th>\n",
       "    </tr>\n",
       "  </thead>\n",
       "  <tbody>\n",
       "    <tr>\n",
       "      <td>Anderson</td>\n",
       "      <td>13.0</td>\n",
       "      <td>N</td>\n",
       "      <td>N</td>\n",
       "      <td>1</td>\n",
       "    </tr>\n",
       "    <tr>\n",
       "      <td>Andrews</td>\n",
       "      <td>0.0</td>\n",
       "      <td>N</td>\n",
       "      <td>N</td>\n",
       "      <td>1</td>\n",
       "    </tr>\n",
       "    <tr>\n",
       "      <td>Angelina</td>\n",
       "      <td>22.0</td>\n",
       "      <td>N</td>\n",
       "      <td>N</td>\n",
       "      <td>1</td>\n",
       "    </tr>\n",
       "    <tr>\n",
       "      <td>Aransas</td>\n",
       "      <td>34.0</td>\n",
       "      <td>N</td>\n",
       "      <td>N</td>\n",
       "      <td>1</td>\n",
       "    </tr>\n",
       "    <tr>\n",
       "      <td>Archer</td>\n",
       "      <td>0.0</td>\n",
       "      <td>N</td>\n",
       "      <td>N</td>\n",
       "      <td>1</td>\n",
       "    </tr>\n",
       "    <tr>\n",
       "      <td>Atascosa</td>\n",
       "      <td>0.0</td>\n",
       "      <td>N</td>\n",
       "      <td>N</td>\n",
       "      <td>1</td>\n",
       "    </tr>\n",
       "    <tr>\n",
       "      <td>Austin</td>\n",
       "      <td>0.0</td>\n",
       "      <td>N</td>\n",
       "      <td>N</td>\n",
       "      <td>1</td>\n",
       "    </tr>\n",
       "    <tr>\n",
       "      <td>Bailey</td>\n",
       "      <td>0.0</td>\n",
       "      <td>N</td>\n",
       "      <td>N</td>\n",
       "      <td>1</td>\n",
       "    </tr>\n",
       "    <tr>\n",
       "      <td>Bastrop</td>\n",
       "      <td>0.0</td>\n",
       "      <td>N</td>\n",
       "      <td>N</td>\n",
       "      <td>1</td>\n",
       "    </tr>\n",
       "    <tr>\n",
       "      <td>Baylor</td>\n",
       "      <td>0.0</td>\n",
       "      <td>N</td>\n",
       "      <td>N</td>\n",
       "      <td>1</td>\n",
       "    </tr>\n",
       "    <tr>\n",
       "      <td>Bee</td>\n",
       "      <td>0.0</td>\n",
       "      <td>N</td>\n",
       "      <td>N</td>\n",
       "      <td>1</td>\n",
       "    </tr>\n",
       "    <tr>\n",
       "      <td>Bell</td>\n",
       "      <td>70.0</td>\n",
       "      <td>N</td>\n",
       "      <td>N</td>\n",
       "      <td>2</td>\n",
       "    </tr>\n",
       "    <tr>\n",
       "      <td>Bexar</td>\n",
       "      <td>4844427.0</td>\n",
       "      <td>Y</td>\n",
       "      <td>Y</td>\n",
       "      <td>6</td>\n",
       "    </tr>\n",
       "    <tr>\n",
       "      <td>Bosque</td>\n",
       "      <td>0.0</td>\n",
       "      <td>N</td>\n",
       "      <td>N</td>\n",
       "      <td>1</td>\n",
       "    </tr>\n",
       "    <tr>\n",
       "      <td>Brazoria</td>\n",
       "      <td>15.0</td>\n",
       "      <td>N</td>\n",
       "      <td>N</td>\n",
       "      <td>6</td>\n",
       "    </tr>\n",
       "  </tbody>\n",
       "</table>\n",
       "</div>"
      ],
      "text/plain": [
       "          Enplanements CSTMS_FLAG Hub  Number\n",
       "County                                       \n",
       "Anderson          13.0          N   N       1\n",
       "Andrews            0.0          N   N       1\n",
       "Angelina          22.0          N   N       1\n",
       "Aransas           34.0          N   N       1\n",
       "Archer             0.0          N   N       1\n",
       "Atascosa           0.0          N   N       1\n",
       "Austin             0.0          N   N       1\n",
       "Bailey             0.0          N   N       1\n",
       "Bastrop            0.0          N   N       1\n",
       "Baylor             0.0          N   N       1\n",
       "Bee                0.0          N   N       1\n",
       "Bell              70.0          N   N       2\n",
       "Bexar        4844427.0          Y   Y       6\n",
       "Bosque             0.0          N   N       1\n",
       "Brazoria          15.0          N   N       6"
      ]
     },
     "execution_count": 205,
     "metadata": {},
     "output_type": "execute_result"
    }
   ],
   "source": [
    "airports_county.head(15)"
   ]
  },
  {
   "cell_type": "code",
   "execution_count": 206,
   "metadata": {},
   "outputs": [],
   "source": [
    "customs=pd.get_dummies(airports_county['CSTMS_FLAG'], prefix='customs', drop_first=True)\n",
    "hub=pd.get_dummies(airports_county['Hub'], prefix='hub', drop_first=True)"
   ]
  },
  {
   "cell_type": "code",
   "execution_count": 207,
   "metadata": {},
   "outputs": [
    {
     "data": {
      "text/html": [
       "<div>\n",
       "<style scoped>\n",
       "    .dataframe tbody tr th:only-of-type {\n",
       "        vertical-align: middle;\n",
       "    }\n",
       "\n",
       "    .dataframe tbody tr th {\n",
       "        vertical-align: top;\n",
       "    }\n",
       "\n",
       "    .dataframe thead th {\n",
       "        text-align: right;\n",
       "    }\n",
       "</style>\n",
       "<table border=\"1\" class=\"dataframe\">\n",
       "  <thead>\n",
       "    <tr style=\"text-align: right;\">\n",
       "      <th></th>\n",
       "      <th>customs_Y</th>\n",
       "    </tr>\n",
       "    <tr>\n",
       "      <th>County</th>\n",
       "      <th></th>\n",
       "    </tr>\n",
       "  </thead>\n",
       "  <tbody>\n",
       "    <tr>\n",
       "      <td>Anderson</td>\n",
       "      <td>0</td>\n",
       "    </tr>\n",
       "    <tr>\n",
       "      <td>Andrews</td>\n",
       "      <td>0</td>\n",
       "    </tr>\n",
       "    <tr>\n",
       "      <td>Angelina</td>\n",
       "      <td>0</td>\n",
       "    </tr>\n",
       "    <tr>\n",
       "      <td>Aransas</td>\n",
       "      <td>0</td>\n",
       "    </tr>\n",
       "    <tr>\n",
       "      <td>Archer</td>\n",
       "      <td>0</td>\n",
       "    </tr>\n",
       "  </tbody>\n",
       "</table>\n",
       "</div>"
      ],
      "text/plain": [
       "          customs_Y\n",
       "County             \n",
       "Anderson          0\n",
       "Andrews           0\n",
       "Angelina          0\n",
       "Aransas           0\n",
       "Archer            0"
      ]
     },
     "execution_count": 207,
     "metadata": {},
     "output_type": "execute_result"
    }
   ],
   "source": [
    "customs.head()"
   ]
  },
  {
   "cell_type": "code",
   "execution_count": 208,
   "metadata": {},
   "outputs": [],
   "source": [
    "airports_county.drop(['CSTMS_FLAG', 'Hub'], axis=1, inplace=True)"
   ]
  },
  {
   "cell_type": "code",
   "execution_count": 209,
   "metadata": {},
   "outputs": [
    {
     "data": {
      "text/html": [
       "<div>\n",
       "<style scoped>\n",
       "    .dataframe tbody tr th:only-of-type {\n",
       "        vertical-align: middle;\n",
       "    }\n",
       "\n",
       "    .dataframe tbody tr th {\n",
       "        vertical-align: top;\n",
       "    }\n",
       "\n",
       "    .dataframe thead th {\n",
       "        text-align: right;\n",
       "    }\n",
       "</style>\n",
       "<table border=\"1\" class=\"dataframe\">\n",
       "  <thead>\n",
       "    <tr style=\"text-align: right;\">\n",
       "      <th></th>\n",
       "      <th>Enplanements</th>\n",
       "      <th>Number</th>\n",
       "      <th>customs_Y</th>\n",
       "      <th>hub_Y</th>\n",
       "    </tr>\n",
       "    <tr>\n",
       "      <th>County</th>\n",
       "      <th></th>\n",
       "      <th></th>\n",
       "      <th></th>\n",
       "      <th></th>\n",
       "    </tr>\n",
       "  </thead>\n",
       "  <tbody>\n",
       "    <tr>\n",
       "      <td>Anderson</td>\n",
       "      <td>13.0</td>\n",
       "      <td>1</td>\n",
       "      <td>0</td>\n",
       "      <td>0</td>\n",
       "    </tr>\n",
       "    <tr>\n",
       "      <td>Andrews</td>\n",
       "      <td>0.0</td>\n",
       "      <td>1</td>\n",
       "      <td>0</td>\n",
       "      <td>0</td>\n",
       "    </tr>\n",
       "    <tr>\n",
       "      <td>Angelina</td>\n",
       "      <td>22.0</td>\n",
       "      <td>1</td>\n",
       "      <td>0</td>\n",
       "      <td>0</td>\n",
       "    </tr>\n",
       "    <tr>\n",
       "      <td>Aransas</td>\n",
       "      <td>34.0</td>\n",
       "      <td>1</td>\n",
       "      <td>0</td>\n",
       "      <td>0</td>\n",
       "    </tr>\n",
       "    <tr>\n",
       "      <td>Archer</td>\n",
       "      <td>0.0</td>\n",
       "      <td>1</td>\n",
       "      <td>0</td>\n",
       "      <td>0</td>\n",
       "    </tr>\n",
       "  </tbody>\n",
       "</table>\n",
       "</div>"
      ],
      "text/plain": [
       "          Enplanements  Number  customs_Y  hub_Y\n",
       "County                                          \n",
       "Anderson          13.0       1          0      0\n",
       "Andrews            0.0       1          0      0\n",
       "Angelina          22.0       1          0      0\n",
       "Aransas           34.0       1          0      0\n",
       "Archer             0.0       1          0      0"
      ]
     },
     "execution_count": 209,
     "metadata": {},
     "output_type": "execute_result"
    }
   ],
   "source": [
    "airports_county=pd.concat([airports_county, customs, hub], axis=1)\n",
    "airports_county.head()"
   ]
  },
  {
   "cell_type": "markdown",
   "metadata": {},
   "source": [
    "## County Tax Info"
   ]
  },
  {
   "cell_type": "markdown",
   "metadata": {},
   "source": [
    "#### Data from https://imis.county.org/iMIS/CountyInformationProgram/QueriesCIP.aspx"
   ]
  },
  {
   "cell_type": "code",
   "execution_count": 210,
   "metadata": {},
   "outputs": [],
   "source": [
    "tax=pd.read_csv(r'data/Financial_Tax_summary.csv')"
   ]
  },
  {
   "cell_type": "code",
   "execution_count": 211,
   "metadata": {},
   "outputs": [
    {
     "data": {
      "text/html": [
       "<div>\n",
       "<style scoped>\n",
       "    .dataframe tbody tr th:only-of-type {\n",
       "        vertical-align: middle;\n",
       "    }\n",
       "\n",
       "    .dataframe tbody tr th {\n",
       "        vertical-align: top;\n",
       "    }\n",
       "\n",
       "    .dataframe thead th {\n",
       "        text-align: right;\n",
       "    }\n",
       "</style>\n",
       "<table border=\"1\" class=\"dataframe\">\n",
       "  <thead>\n",
       "    <tr style=\"text-align: right;\">\n",
       "      <th></th>\n",
       "      <th>County</th>\n",
       "      <th>Total Market Value</th>\n",
       "      <th>Total Actual Levy</th>\n",
       "      <th>Total County Tax Rate</th>\n",
       "      <th>Total Appraised Value (Total Taxable Value for FM/FC)</th>\n",
       "      <th>Total Appraised Value (Total Taxable Value for County Tax Purposes)</th>\n",
       "    </tr>\n",
       "  </thead>\n",
       "  <tbody>\n",
       "    <tr>\n",
       "      <td>0</td>\n",
       "      <td>Anderson</td>\n",
       "      <td>$4,058,915,351</td>\n",
       "      <td>$15,833,018</td>\n",
       "      <td>$0.590892</td>\n",
       "      <td>$2,675,103,554</td>\n",
       "      <td>$2,679,692,570</td>\n",
       "    </tr>\n",
       "    <tr>\n",
       "      <td>1</td>\n",
       "      <td>Andrews</td>\n",
       "      <td>$5,154,109,977</td>\n",
       "      <td>$28,889,823</td>\n",
       "      <td>$0.603900</td>\n",
       "      <td>$4,877,521,855</td>\n",
       "      <td>$4,768,535,096</td>\n",
       "    </tr>\n",
       "    <tr>\n",
       "      <td>2</td>\n",
       "      <td>Angelina</td>\n",
       "      <td>$5,548,157,129</td>\n",
       "      <td>$18,372,078</td>\n",
       "      <td>$0.437121</td>\n",
       "      <td>$0</td>\n",
       "      <td>$4,202,972,959</td>\n",
       "    </tr>\n",
       "    <tr>\n",
       "      <td>3</td>\n",
       "      <td>Aransas</td>\n",
       "      <td>$3,023,164,864</td>\n",
       "      <td>$13,196,810</td>\n",
       "      <td>$0.466022</td>\n",
       "      <td>$2,850,101,038</td>\n",
       "      <td>$2,828,595,246</td>\n",
       "    </tr>\n",
       "    <tr>\n",
       "      <td>4</td>\n",
       "      <td>Archer</td>\n",
       "      <td>$1,843,359,643</td>\n",
       "      <td>$4,355,848</td>\n",
       "      <td>$0.664240</td>\n",
       "      <td>$651,667,245</td>\n",
       "      <td>$656,137,785</td>\n",
       "    </tr>\n",
       "  </tbody>\n",
       "</table>\n",
       "</div>"
      ],
      "text/plain": [
       "     County Total Market Value Total Actual Levy Total County Tax Rate  \\\n",
       "0  Anderson     $4,058,915,351       $15,833,018             $0.590892   \n",
       "1   Andrews     $5,154,109,977       $28,889,823             $0.603900   \n",
       "2  Angelina     $5,548,157,129       $18,372,078             $0.437121   \n",
       "3   Aransas     $3,023,164,864       $13,196,810             $0.466022   \n",
       "4    Archer     $1,843,359,643        $4,355,848             $0.664240   \n",
       "\n",
       "  Total Appraised Value (Total Taxable Value for FM/FC)  \\\n",
       "0                                     $2,675,103,554      \n",
       "1                                     $4,877,521,855      \n",
       "2                                                 $0      \n",
       "3                                     $2,850,101,038      \n",
       "4                                       $651,667,245      \n",
       "\n",
       "  Total Appraised Value (Total Taxable Value for County Tax Purposes)  \n",
       "0                                     $2,679,692,570                   \n",
       "1                                     $4,768,535,096                   \n",
       "2                                     $4,202,972,959                   \n",
       "3                                     $2,828,595,246                   \n",
       "4                                       $656,137,785                   "
      ]
     },
     "execution_count": 211,
     "metadata": {},
     "output_type": "execute_result"
    }
   ],
   "source": [
    "tax.head()"
   ]
  },
  {
   "cell_type": "code",
   "execution_count": 212,
   "metadata": {},
   "outputs": [
    {
     "name": "stdout",
     "output_type": "stream",
     "text": [
      "<class 'pandas.core.frame.DataFrame'>\n",
      "RangeIndex: 254 entries, 0 to 253\n",
      "Data columns (total 6 columns):\n",
      "County                                                                 254 non-null object\n",
      "Total Market Value                                                     254 non-null object\n",
      "Total Actual Levy                                                      254 non-null object\n",
      "Total County Tax Rate                                                  254 non-null object\n",
      "Total Appraised Value (Total Taxable Value for FM/FC)                  254 non-null object\n",
      "Total Appraised Value (Total Taxable Value for County Tax Purposes)    254 non-null object\n",
      "dtypes: object(6)\n",
      "memory usage: 12.0+ KB\n"
     ]
    }
   ],
   "source": [
    "tax.info()"
   ]
  },
  {
   "cell_type": "code",
   "execution_count": 213,
   "metadata": {},
   "outputs": [],
   "source": [
    "tax['County']=tax['County'].str.strip(' ')\n",
    "tax['County']=tax['County'].str.title()"
   ]
  },
  {
   "cell_type": "markdown",
   "metadata": {},
   "source": [
    "Clean currency data and convert to float"
   ]
  },
  {
   "cell_type": "code",
   "execution_count": 214,
   "metadata": {},
   "outputs": [],
   "source": [
    "num_cols=tax.columns[tax.columns!='County']\n",
    "tax[num_cols]=tax[num_cols].apply(lambda x: x.str.strip('$'))\n",
    "tax[num_cols]=tax[num_cols].apply(lambda x: x.str.replace(',', '').astype(float))"
   ]
  },
  {
   "cell_type": "code",
   "execution_count": 215,
   "metadata": {},
   "outputs": [
    {
     "name": "stdout",
     "output_type": "stream",
     "text": [
      "<class 'pandas.core.frame.DataFrame'>\n",
      "Index: 254 entries, Anderson to Zavala\n",
      "Data columns (total 5 columns):\n",
      "Total Market Value                                                     254 non-null float64\n",
      "Total Actual Levy                                                      254 non-null float64\n",
      "Total County Tax Rate                                                  254 non-null float64\n",
      "Total Appraised Value (Total Taxable Value for FM/FC)                  254 non-null float64\n",
      "Total Appraised Value (Total Taxable Value for County Tax Purposes)    254 non-null float64\n",
      "dtypes: float64(5)\n",
      "memory usage: 11.9+ KB\n"
     ]
    }
   ],
   "source": [
    "tax.sort_values(by='County', inplace=True)\n",
    "tax.set_index('County', inplace=True)\n",
    "tax.info()"
   ]
  },
  {
   "cell_type": "code",
   "execution_count": 216,
   "metadata": {},
   "outputs": [
    {
     "name": "stdout",
     "output_type": "stream",
     "text": [
      "(254, 5)\n"
     ]
    },
    {
     "data": {
      "text/html": [
       "<div>\n",
       "<style scoped>\n",
       "    .dataframe tbody tr th:only-of-type {\n",
       "        vertical-align: middle;\n",
       "    }\n",
       "\n",
       "    .dataframe tbody tr th {\n",
       "        vertical-align: top;\n",
       "    }\n",
       "\n",
       "    .dataframe thead th {\n",
       "        text-align: right;\n",
       "    }\n",
       "</style>\n",
       "<table border=\"1\" class=\"dataframe\">\n",
       "  <thead>\n",
       "    <tr style=\"text-align: right;\">\n",
       "      <th></th>\n",
       "      <th>Total Market Value</th>\n",
       "      <th>Total Actual Levy</th>\n",
       "      <th>Total County Tax Rate</th>\n",
       "      <th>Total Appraised Value (Total Taxable Value for FM/FC)</th>\n",
       "      <th>Total Appraised Value (Total Taxable Value for County Tax Purposes)</th>\n",
       "    </tr>\n",
       "    <tr>\n",
       "      <th>County</th>\n",
       "      <th></th>\n",
       "      <th></th>\n",
       "      <th></th>\n",
       "      <th></th>\n",
       "      <th></th>\n",
       "    </tr>\n",
       "  </thead>\n",
       "  <tbody>\n",
       "    <tr>\n",
       "      <td>Anderson</td>\n",
       "      <td>4.058915e+09</td>\n",
       "      <td>15833018.0</td>\n",
       "      <td>0.590892</td>\n",
       "      <td>2.675104e+09</td>\n",
       "      <td>2.679693e+09</td>\n",
       "    </tr>\n",
       "    <tr>\n",
       "      <td>Andrews</td>\n",
       "      <td>5.154110e+09</td>\n",
       "      <td>28889823.0</td>\n",
       "      <td>0.603900</td>\n",
       "      <td>4.877522e+09</td>\n",
       "      <td>4.768535e+09</td>\n",
       "    </tr>\n",
       "    <tr>\n",
       "      <td>Angelina</td>\n",
       "      <td>5.548157e+09</td>\n",
       "      <td>18372078.0</td>\n",
       "      <td>0.437121</td>\n",
       "      <td>0.000000e+00</td>\n",
       "      <td>4.202973e+09</td>\n",
       "    </tr>\n",
       "    <tr>\n",
       "      <td>Aransas</td>\n",
       "      <td>3.023165e+09</td>\n",
       "      <td>13196810.0</td>\n",
       "      <td>0.466022</td>\n",
       "      <td>2.850101e+09</td>\n",
       "      <td>2.828595e+09</td>\n",
       "    </tr>\n",
       "    <tr>\n",
       "      <td>Archer</td>\n",
       "      <td>1.843360e+09</td>\n",
       "      <td>4355848.0</td>\n",
       "      <td>0.664240</td>\n",
       "      <td>6.516672e+08</td>\n",
       "      <td>6.561378e+08</td>\n",
       "    </tr>\n",
       "  </tbody>\n",
       "</table>\n",
       "</div>"
      ],
      "text/plain": [
       "          Total Market Value  Total Actual Levy  Total County Tax Rate  \\\n",
       "County                                                                   \n",
       "Anderson        4.058915e+09         15833018.0               0.590892   \n",
       "Andrews         5.154110e+09         28889823.0               0.603900   \n",
       "Angelina        5.548157e+09         18372078.0               0.437121   \n",
       "Aransas         3.023165e+09         13196810.0               0.466022   \n",
       "Archer          1.843360e+09          4355848.0               0.664240   \n",
       "\n",
       "          Total Appraised Value (Total Taxable Value for FM/FC)  \\\n",
       "County                                                            \n",
       "Anderson                                       2.675104e+09       \n",
       "Andrews                                        4.877522e+09       \n",
       "Angelina                                       0.000000e+00       \n",
       "Aransas                                        2.850101e+09       \n",
       "Archer                                         6.516672e+08       \n",
       "\n",
       "          Total Appraised Value (Total Taxable Value for County Tax Purposes)  \n",
       "County                                                                         \n",
       "Anderson                                       2.679693e+09                    \n",
       "Andrews                                        4.768535e+09                    \n",
       "Angelina                                       4.202973e+09                    \n",
       "Aransas                                        2.828595e+09                    \n",
       "Archer                                         6.561378e+08                    "
      ]
     },
     "execution_count": 216,
     "metadata": {},
     "output_type": "execute_result"
    }
   ],
   "source": [
    "print(tax.shape)\n",
    "tax.head()"
   ]
  },
  {
   "cell_type": "markdown",
   "metadata": {},
   "source": [
    "## Income and Poverty by County"
   ]
  },
  {
   "cell_type": "markdown",
   "metadata": {},
   "source": [
    "#### Data from https://imis.county.org/iMIS/CountyInformationProgram/QueriesCIP.aspx"
   ]
  },
  {
   "cell_type": "code",
   "execution_count": 217,
   "metadata": {},
   "outputs": [],
   "source": [
    "income=pd.read_csv(r'data/Income_poverty.csv')"
   ]
  },
  {
   "cell_type": "code",
   "execution_count": 218,
   "metadata": {},
   "outputs": [
    {
     "data": {
      "text/html": [
       "<div>\n",
       "<style scoped>\n",
       "    .dataframe tbody tr th:only-of-type {\n",
       "        vertical-align: middle;\n",
       "    }\n",
       "\n",
       "    .dataframe tbody tr th {\n",
       "        vertical-align: top;\n",
       "    }\n",
       "\n",
       "    .dataframe thead th {\n",
       "        text-align: right;\n",
       "    }\n",
       "</style>\n",
       "<table border=\"1\" class=\"dataframe\">\n",
       "  <thead>\n",
       "    <tr style=\"text-align: right;\">\n",
       "      <th></th>\n",
       "      <th>Per Capita Income</th>\n",
       "      <th>Total Personal Income</th>\n",
       "      <th>Median Household Income</th>\n",
       "      <th>Average Annual Pay</th>\n",
       "      <th>% of Population in Poverty</th>\n",
       "      <th>% of Population Under 18 in Poverty</th>\n",
       "    </tr>\n",
       "    <tr>\n",
       "      <th>County</th>\n",
       "      <th></th>\n",
       "      <th></th>\n",
       "      <th></th>\n",
       "      <th></th>\n",
       "      <th></th>\n",
       "      <th></th>\n",
       "    </tr>\n",
       "  </thead>\n",
       "  <tbody>\n",
       "    <tr>\n",
       "      <td>Anderson</td>\n",
       "      <td>$34,242</td>\n",
       "      <td>$1,987,998,000</td>\n",
       "      <td>$45,969</td>\n",
       "      <td>$44,146</td>\n",
       "      <td>19.8</td>\n",
       "      <td>22.6</td>\n",
       "    </tr>\n",
       "    <tr>\n",
       "      <td>Andrews</td>\n",
       "      <td>$50,011</td>\n",
       "      <td>$906,592,000</td>\n",
       "      <td>$84,946</td>\n",
       "      <td>$68,340</td>\n",
       "      <td>10.7</td>\n",
       "      <td>14.0</td>\n",
       "    </tr>\n",
       "    <tr>\n",
       "      <td>Angelina</td>\n",
       "      <td>$38,897</td>\n",
       "      <td>$3,387,655,000</td>\n",
       "      <td>$46,653</td>\n",
       "      <td>$40,464</td>\n",
       "      <td>17.9</td>\n",
       "      <td>26.7</td>\n",
       "    </tr>\n",
       "    <tr>\n",
       "      <td>Aransas</td>\n",
       "      <td>$48,389</td>\n",
       "      <td>$1,151,262,000</td>\n",
       "      <td>$46,912</td>\n",
       "      <td>$38,613</td>\n",
       "      <td>19.9</td>\n",
       "      <td>34.7</td>\n",
       "    </tr>\n",
       "    <tr>\n",
       "      <td>Archer</td>\n",
       "      <td>$50,310</td>\n",
       "      <td>$442,022,000</td>\n",
       "      <td>$61,190</td>\n",
       "      <td>$38,231</td>\n",
       "      <td>10.6</td>\n",
       "      <td>14.3</td>\n",
       "    </tr>\n",
       "  </tbody>\n",
       "</table>\n",
       "</div>"
      ],
      "text/plain": [
       "         Per Capita Income Total Personal Income Median Household Income  \\\n",
       "County                                                                     \n",
       "Anderson           $34,242        $1,987,998,000                 $45,969   \n",
       "Andrews            $50,011          $906,592,000                 $84,946   \n",
       "Angelina           $38,897        $3,387,655,000                 $46,653   \n",
       "Aransas            $48,389        $1,151,262,000                 $46,912   \n",
       "Archer             $50,310          $442,022,000                 $61,190   \n",
       "\n",
       "         Average Annual Pay  % of Population in Poverty  \\\n",
       "County                                                    \n",
       "Anderson            $44,146                        19.8   \n",
       "Andrews             $68,340                        10.7   \n",
       "Angelina            $40,464                        17.9   \n",
       "Aransas             $38,613                        19.9   \n",
       "Archer              $38,231                        10.6   \n",
       "\n",
       "          % of Population Under 18 in Poverty  \n",
       "County                                         \n",
       "Anderson                                 22.6  \n",
       "Andrews                                  14.0  \n",
       "Angelina                                 26.7  \n",
       "Aransas                                  34.7  \n",
       "Archer                                   14.3  "
      ]
     },
     "execution_count": 218,
     "metadata": {},
     "output_type": "execute_result"
    }
   ],
   "source": [
    "income['County']=income['County'].str.strip(' ')\n",
    "income['County']=income['County'].str.title()\n",
    "income.sort_values(by='County', inplace=True)\n",
    "income.set_index('County', inplace=True)\n",
    "income.head()"
   ]
  },
  {
   "cell_type": "code",
   "execution_count": 219,
   "metadata": {},
   "outputs": [
    {
     "name": "stdout",
     "output_type": "stream",
     "text": [
      "<class 'pandas.core.frame.DataFrame'>\n",
      "Index: 254 entries, Anderson to Zavala\n",
      "Data columns (total 6 columns):\n",
      "Per Capita Income                      254 non-null object\n",
      "Total Personal Income                  254 non-null object\n",
      "Median Household Income                254 non-null object\n",
      "Average Annual Pay                     254 non-null object\n",
      "% of Population in Poverty             254 non-null float64\n",
      "% of Population Under 18 in Poverty    254 non-null float64\n",
      "dtypes: float64(2), object(4)\n",
      "memory usage: 13.9+ KB\n"
     ]
    }
   ],
   "source": [
    "income.info()"
   ]
  },
  {
   "cell_type": "code",
   "execution_count": 220,
   "metadata": {},
   "outputs": [
    {
     "name": "stdout",
     "output_type": "stream",
     "text": [
      "Index(['% of Population in Poverty', '% of Population Under 18 in Poverty'], dtype='object')\n",
      "Index(['Per Capita Income', 'Total Personal Income', 'Median Household Income',\n",
      "       'Average Annual Pay'],\n",
      "      dtype='object')\n"
     ]
    }
   ],
   "source": [
    "num_cols=income.select_dtypes(include='float').columns\n",
    "str_cols=income.select_dtypes(include='object').columns\n",
    "print(num_cols)\n",
    "print(str_cols)"
   ]
  },
  {
   "cell_type": "markdown",
   "metadata": {},
   "source": [
    "Clean currency data and convert to float"
   ]
  },
  {
   "cell_type": "code",
   "execution_count": 221,
   "metadata": {},
   "outputs": [],
   "source": [
    "income[str_cols]=income[str_cols].apply(lambda x: x.str.replace('$', ''))\n",
    "income[str_cols]=income[str_cols].apply(lambda x: x.str.replace(',', '').astype(float))"
   ]
  },
  {
   "cell_type": "code",
   "execution_count": 222,
   "metadata": {},
   "outputs": [
    {
     "name": "stdout",
     "output_type": "stream",
     "text": [
      "(254, 6)\n"
     ]
    },
    {
     "data": {
      "text/html": [
       "<div>\n",
       "<style scoped>\n",
       "    .dataframe tbody tr th:only-of-type {\n",
       "        vertical-align: middle;\n",
       "    }\n",
       "\n",
       "    .dataframe tbody tr th {\n",
       "        vertical-align: top;\n",
       "    }\n",
       "\n",
       "    .dataframe thead th {\n",
       "        text-align: right;\n",
       "    }\n",
       "</style>\n",
       "<table border=\"1\" class=\"dataframe\">\n",
       "  <thead>\n",
       "    <tr style=\"text-align: right;\">\n",
       "      <th></th>\n",
       "      <th>Per Capita Income</th>\n",
       "      <th>Total Personal Income</th>\n",
       "      <th>Median Household Income</th>\n",
       "      <th>Average Annual Pay</th>\n",
       "      <th>% of Population in Poverty</th>\n",
       "      <th>% of Population Under 18 in Poverty</th>\n",
       "    </tr>\n",
       "    <tr>\n",
       "      <th>County</th>\n",
       "      <th></th>\n",
       "      <th></th>\n",
       "      <th></th>\n",
       "      <th></th>\n",
       "      <th></th>\n",
       "      <th></th>\n",
       "    </tr>\n",
       "  </thead>\n",
       "  <tbody>\n",
       "    <tr>\n",
       "      <td>Anderson</td>\n",
       "      <td>34242.0</td>\n",
       "      <td>1.987998e+09</td>\n",
       "      <td>45969.0</td>\n",
       "      <td>44146.0</td>\n",
       "      <td>19.8</td>\n",
       "      <td>22.6</td>\n",
       "    </tr>\n",
       "    <tr>\n",
       "      <td>Andrews</td>\n",
       "      <td>50011.0</td>\n",
       "      <td>9.065920e+08</td>\n",
       "      <td>84946.0</td>\n",
       "      <td>68340.0</td>\n",
       "      <td>10.7</td>\n",
       "      <td>14.0</td>\n",
       "    </tr>\n",
       "    <tr>\n",
       "      <td>Angelina</td>\n",
       "      <td>38897.0</td>\n",
       "      <td>3.387655e+09</td>\n",
       "      <td>46653.0</td>\n",
       "      <td>40464.0</td>\n",
       "      <td>17.9</td>\n",
       "      <td>26.7</td>\n",
       "    </tr>\n",
       "    <tr>\n",
       "      <td>Aransas</td>\n",
       "      <td>48389.0</td>\n",
       "      <td>1.151262e+09</td>\n",
       "      <td>46912.0</td>\n",
       "      <td>38613.0</td>\n",
       "      <td>19.9</td>\n",
       "      <td>34.7</td>\n",
       "    </tr>\n",
       "    <tr>\n",
       "      <td>Archer</td>\n",
       "      <td>50310.0</td>\n",
       "      <td>4.420220e+08</td>\n",
       "      <td>61190.0</td>\n",
       "      <td>38231.0</td>\n",
       "      <td>10.6</td>\n",
       "      <td>14.3</td>\n",
       "    </tr>\n",
       "  </tbody>\n",
       "</table>\n",
       "</div>"
      ],
      "text/plain": [
       "          Per Capita Income  Total Personal Income  Median Household Income  \\\n",
       "County                                                                        \n",
       "Anderson            34242.0           1.987998e+09                  45969.0   \n",
       "Andrews             50011.0           9.065920e+08                  84946.0   \n",
       "Angelina            38897.0           3.387655e+09                  46653.0   \n",
       "Aransas             48389.0           1.151262e+09                  46912.0   \n",
       "Archer              50310.0           4.420220e+08                  61190.0   \n",
       "\n",
       "          Average Annual Pay  % of Population in Poverty  \\\n",
       "County                                                     \n",
       "Anderson             44146.0                        19.8   \n",
       "Andrews              68340.0                        10.7   \n",
       "Angelina             40464.0                        17.9   \n",
       "Aransas              38613.0                        19.9   \n",
       "Archer               38231.0                        10.6   \n",
       "\n",
       "          % of Population Under 18 in Poverty  \n",
       "County                                         \n",
       "Anderson                                 22.6  \n",
       "Andrews                                  14.0  \n",
       "Angelina                                 26.7  \n",
       "Aransas                                  34.7  \n",
       "Archer                                   14.3  "
      ]
     },
     "execution_count": 222,
     "metadata": {},
     "output_type": "execute_result"
    }
   ],
   "source": [
    "#income[num_cols]=income[num_cols]/100\n",
    "print(income.shape)\n",
    "income.head()"
   ]
  },
  {
   "cell_type": "markdown",
   "metadata": {},
   "source": [
    "## Population by County"
   ]
  },
  {
   "cell_type": "markdown",
   "metadata": {},
   "source": [
    "#### Data from https://imis.county.org/iMIS/CountyInformationProgram/QueriesCIP.aspx"
   ]
  },
  {
   "cell_type": "code",
   "execution_count": 223,
   "metadata": {},
   "outputs": [],
   "source": [
    "pop=pd.read_csv(r'data/Population.csv')"
   ]
  },
  {
   "cell_type": "code",
   "execution_count": 224,
   "metadata": {},
   "outputs": [
    {
     "data": {
      "text/html": [
       "<div>\n",
       "<style scoped>\n",
       "    .dataframe tbody tr th:only-of-type {\n",
       "        vertical-align: middle;\n",
       "    }\n",
       "\n",
       "    .dataframe tbody tr th {\n",
       "        vertical-align: top;\n",
       "    }\n",
       "\n",
       "    .dataframe thead th {\n",
       "        text-align: right;\n",
       "    }\n",
       "</style>\n",
       "<table border=\"1\" class=\"dataframe\">\n",
       "  <thead>\n",
       "    <tr style=\"text-align: right;\">\n",
       "      <th></th>\n",
       "      <th>County Population</th>\n",
       "      <th>Population Density Per Sq Mile</th>\n",
       "      <th>County Seat</th>\n",
       "      <th>County Seat Population</th>\n",
       "    </tr>\n",
       "    <tr>\n",
       "      <th>County</th>\n",
       "      <th></th>\n",
       "      <th></th>\n",
       "      <th></th>\n",
       "      <th></th>\n",
       "    </tr>\n",
       "  </thead>\n",
       "  <tbody>\n",
       "    <tr>\n",
       "      <td>Anderson</td>\n",
       "      <td>57,735</td>\n",
       "      <td>55.01</td>\n",
       "      <td>Palestine</td>\n",
       "      <td>18,712</td>\n",
       "    </tr>\n",
       "    <tr>\n",
       "      <td>Andrews</td>\n",
       "      <td>18,705</td>\n",
       "      <td>9.85</td>\n",
       "      <td>Andrews</td>\n",
       "      <td>11,088</td>\n",
       "    </tr>\n",
       "    <tr>\n",
       "      <td>Angelina</td>\n",
       "      <td>86,715</td>\n",
       "      <td>108.77</td>\n",
       "      <td>Lufkin</td>\n",
       "      <td>35,067</td>\n",
       "    </tr>\n",
       "    <tr>\n",
       "      <td>Aransas</td>\n",
       "      <td>23,510</td>\n",
       "      <td>91.87</td>\n",
       "      <td>Rockport</td>\n",
       "      <td>8,766</td>\n",
       "    </tr>\n",
       "    <tr>\n",
       "      <td>Archer</td>\n",
       "      <td>8,553</td>\n",
       "      <td>10.03</td>\n",
       "      <td>Archer City</td>\n",
       "      <td>1,834</td>\n",
       "    </tr>\n",
       "  </tbody>\n",
       "</table>\n",
       "</div>"
      ],
      "text/plain": [
       "         County Population  Population Density Per Sq Mile  County Seat  \\\n",
       "County                                                                    \n",
       "Anderson            57,735                           55.01    Palestine   \n",
       "Andrews             18,705                            9.85      Andrews   \n",
       "Angelina            86,715                          108.77       Lufkin   \n",
       "Aransas             23,510                           91.87     Rockport   \n",
       "Archer               8,553                           10.03  Archer City   \n",
       "\n",
       "         County Seat Population  \n",
       "County                           \n",
       "Anderson                18,712   \n",
       "Andrews                 11,088   \n",
       "Angelina                35,067   \n",
       "Aransas                  8,766   \n",
       "Archer                   1,834   "
      ]
     },
     "execution_count": 224,
     "metadata": {},
     "output_type": "execute_result"
    }
   ],
   "source": [
    "pop['County']=pop['County'].str.strip(' ')\n",
    "pop['County']=pop['County'].str.title()\n",
    "pop.sort_values(by='County', inplace=True)\n",
    "pop.set_index('County', inplace=True)\n",
    "pop.head()"
   ]
  },
  {
   "cell_type": "markdown",
   "metadata": {},
   "source": [
    "Drop County Seat and County Seat Population"
   ]
  },
  {
   "cell_type": "code",
   "execution_count": 225,
   "metadata": {},
   "outputs": [
    {
     "data": {
      "text/html": [
       "<div>\n",
       "<style scoped>\n",
       "    .dataframe tbody tr th:only-of-type {\n",
       "        vertical-align: middle;\n",
       "    }\n",
       "\n",
       "    .dataframe tbody tr th {\n",
       "        vertical-align: top;\n",
       "    }\n",
       "\n",
       "    .dataframe thead th {\n",
       "        text-align: right;\n",
       "    }\n",
       "</style>\n",
       "<table border=\"1\" class=\"dataframe\">\n",
       "  <thead>\n",
       "    <tr style=\"text-align: right;\">\n",
       "      <th></th>\n",
       "      <th>Population</th>\n",
       "      <th>Population Density</th>\n",
       "    </tr>\n",
       "    <tr>\n",
       "      <th>County</th>\n",
       "      <th></th>\n",
       "      <th></th>\n",
       "    </tr>\n",
       "  </thead>\n",
       "  <tbody>\n",
       "    <tr>\n",
       "      <td>Anderson</td>\n",
       "      <td>57,735</td>\n",
       "      <td>55.01</td>\n",
       "    </tr>\n",
       "    <tr>\n",
       "      <td>Andrews</td>\n",
       "      <td>18,705</td>\n",
       "      <td>9.85</td>\n",
       "    </tr>\n",
       "    <tr>\n",
       "      <td>Angelina</td>\n",
       "      <td>86,715</td>\n",
       "      <td>108.77</td>\n",
       "    </tr>\n",
       "    <tr>\n",
       "      <td>Aransas</td>\n",
       "      <td>23,510</td>\n",
       "      <td>91.87</td>\n",
       "    </tr>\n",
       "    <tr>\n",
       "      <td>Archer</td>\n",
       "      <td>8,553</td>\n",
       "      <td>10.03</td>\n",
       "    </tr>\n",
       "  </tbody>\n",
       "</table>\n",
       "</div>"
      ],
      "text/plain": [
       "         Population Population Density\n",
       "County                                \n",
       "Anderson     57,735              55.01\n",
       "Andrews      18,705               9.85\n",
       "Angelina     86,715             108.77\n",
       "Aransas      23,510              91.87\n",
       "Archer        8,553              10.03"
      ]
     },
     "execution_count": 225,
     "metadata": {},
     "output_type": "execute_result"
    }
   ],
   "source": [
    "pop=pop.drop(['County Seat', 'County Seat Population'], axis=1)\n",
    "pop.columns=['Population', 'Population Density']\n",
    "pop.head()"
   ]
  },
  {
   "cell_type": "code",
   "execution_count": 226,
   "metadata": {},
   "outputs": [
    {
     "name": "stdout",
     "output_type": "stream",
     "text": [
      "<class 'pandas.core.frame.DataFrame'>\n",
      "Index: 254 entries, Anderson to Zavala\n",
      "Data columns (total 2 columns):\n",
      "Population            254 non-null object\n",
      "Population Density    254 non-null object\n",
      "dtypes: object(2)\n",
      "memory usage: 6.0+ KB\n"
     ]
    }
   ],
   "source": [
    "pop.info()"
   ]
  },
  {
   "cell_type": "markdown",
   "metadata": {},
   "source": [
    "Convert population and population density to numeric data"
   ]
  },
  {
   "cell_type": "code",
   "execution_count": 227,
   "metadata": {},
   "outputs": [
    {
     "name": "stdout",
     "output_type": "stream",
     "text": [
      "(254, 2)\n"
     ]
    },
    {
     "data": {
      "text/html": [
       "<div>\n",
       "<style scoped>\n",
       "    .dataframe tbody tr th:only-of-type {\n",
       "        vertical-align: middle;\n",
       "    }\n",
       "\n",
       "    .dataframe tbody tr th {\n",
       "        vertical-align: top;\n",
       "    }\n",
       "\n",
       "    .dataframe thead th {\n",
       "        text-align: right;\n",
       "    }\n",
       "</style>\n",
       "<table border=\"1\" class=\"dataframe\">\n",
       "  <thead>\n",
       "    <tr style=\"text-align: right;\">\n",
       "      <th></th>\n",
       "      <th>Population</th>\n",
       "      <th>Population Density</th>\n",
       "    </tr>\n",
       "    <tr>\n",
       "      <th>County</th>\n",
       "      <th></th>\n",
       "      <th></th>\n",
       "    </tr>\n",
       "  </thead>\n",
       "  <tbody>\n",
       "    <tr>\n",
       "      <td>Anderson</td>\n",
       "      <td>57735</td>\n",
       "      <td>55.01</td>\n",
       "    </tr>\n",
       "    <tr>\n",
       "      <td>Andrews</td>\n",
       "      <td>18705</td>\n",
       "      <td>9.85</td>\n",
       "    </tr>\n",
       "    <tr>\n",
       "      <td>Angelina</td>\n",
       "      <td>86715</td>\n",
       "      <td>108.77</td>\n",
       "    </tr>\n",
       "    <tr>\n",
       "      <td>Aransas</td>\n",
       "      <td>23510</td>\n",
       "      <td>91.87</td>\n",
       "    </tr>\n",
       "    <tr>\n",
       "      <td>Archer</td>\n",
       "      <td>8553</td>\n",
       "      <td>10.03</td>\n",
       "    </tr>\n",
       "  </tbody>\n",
       "</table>\n",
       "</div>"
      ],
      "text/plain": [
       "          Population  Population Density\n",
       "County                                  \n",
       "Anderson       57735               55.01\n",
       "Andrews        18705                9.85\n",
       "Angelina       86715              108.77\n",
       "Aransas        23510               91.87\n",
       "Archer          8553               10.03"
      ]
     },
     "execution_count": 227,
     "metadata": {},
     "output_type": "execute_result"
    }
   ],
   "source": [
    "pop['Population']=pop['Population'].str.replace(',', '').astype(int)\n",
    "pop['Population Density']=pop['Population Density'].str.replace(',', '').astype(float)\n",
    "print(pop.shape)\n",
    "pop.head()"
   ]
  },
  {
   "cell_type": "markdown",
   "metadata": {},
   "source": [
    "## County Land Use"
   ]
  },
  {
   "cell_type": "markdown",
   "metadata": {},
   "source": [
    "#### Data from https://imis.county.org/iMIS/CountyInformationProgram/QueriesCIP.aspx"
   ]
  },
  {
   "cell_type": "code",
   "execution_count": 228,
   "metadata": {},
   "outputs": [],
   "source": [
    "land=pd.read_csv(r'data/General_Information_land_use.csv')"
   ]
  },
  {
   "cell_type": "code",
   "execution_count": 229,
   "metadata": {},
   "outputs": [
    {
     "data": {
      "text/html": [
       "<div>\n",
       "<style scoped>\n",
       "    .dataframe tbody tr th:only-of-type {\n",
       "        vertical-align: middle;\n",
       "    }\n",
       "\n",
       "    .dataframe tbody tr th {\n",
       "        vertical-align: top;\n",
       "    }\n",
       "\n",
       "    .dataframe thead th {\n",
       "        text-align: right;\n",
       "    }\n",
       "</style>\n",
       "<table border=\"1\" class=\"dataframe\">\n",
       "  <thead>\n",
       "    <tr style=\"text-align: right;\">\n",
       "      <th></th>\n",
       "      <th>Land Area</th>\n",
       "      <th>Water Area</th>\n",
       "      <th>Total Area</th>\n",
       "      <th>Percent Urban</th>\n",
       "      <th>Percent Rural</th>\n",
       "    </tr>\n",
       "    <tr>\n",
       "      <th>County</th>\n",
       "      <th></th>\n",
       "      <th></th>\n",
       "      <th></th>\n",
       "      <th></th>\n",
       "      <th></th>\n",
       "    </tr>\n",
       "  </thead>\n",
       "  <tbody>\n",
       "    <tr>\n",
       "      <td>Anderson</td>\n",
       "      <td>1,062.60</td>\n",
       "      <td>15.4</td>\n",
       "      <td>1,078.00</td>\n",
       "      <td>32.94</td>\n",
       "      <td>67.06</td>\n",
       "    </tr>\n",
       "    <tr>\n",
       "      <td>Andrews</td>\n",
       "      <td>1,500.70</td>\n",
       "      <td>0.4</td>\n",
       "      <td>1,501.10</td>\n",
       "      <td>83.50</td>\n",
       "      <td>16.50</td>\n",
       "    </tr>\n",
       "    <tr>\n",
       "      <td>Angelina</td>\n",
       "      <td>797.80</td>\n",
       "      <td>66.9</td>\n",
       "      <td>864.70</td>\n",
       "      <td>56.92</td>\n",
       "      <td>43.08</td>\n",
       "    </tr>\n",
       "    <tr>\n",
       "      <td>Aransas</td>\n",
       "      <td>252.10</td>\n",
       "      <td>275.9</td>\n",
       "      <td>528.00</td>\n",
       "      <td>72.74</td>\n",
       "      <td>27.26</td>\n",
       "    </tr>\n",
       "    <tr>\n",
       "      <td>Archer</td>\n",
       "      <td>903.30</td>\n",
       "      <td>22.3</td>\n",
       "      <td>925.60</td>\n",
       "      <td>11.01</td>\n",
       "      <td>88.99</td>\n",
       "    </tr>\n",
       "  </tbody>\n",
       "</table>\n",
       "</div>"
      ],
      "text/plain": [
       "         Land Area  Water Area Total Area  Percent Urban  Percent Rural\n",
       "County                                                                 \n",
       "Anderson  1,062.60        15.4   1,078.00          32.94          67.06\n",
       "Andrews   1,500.70         0.4   1,501.10          83.50          16.50\n",
       "Angelina    797.80        66.9     864.70          56.92          43.08\n",
       "Aransas     252.10       275.9     528.00          72.74          27.26\n",
       "Archer      903.30        22.3     925.60          11.01          88.99"
      ]
     },
     "execution_count": 229,
     "metadata": {},
     "output_type": "execute_result"
    }
   ],
   "source": [
    "land['County']=land['County'].str.strip(' ')\n",
    "land['County']=land['County'].str.title()\n",
    "land.sort_values(by='County', inplace=True)\n",
    "land.set_index('County', inplace=True)\n",
    "land.head()"
   ]
  },
  {
   "cell_type": "markdown",
   "metadata": {},
   "source": [
    "Drop Land Area, Water Area, Total Area"
   ]
  },
  {
   "cell_type": "code",
   "execution_count": 230,
   "metadata": {},
   "outputs": [
    {
     "data": {
      "text/html": [
       "<div>\n",
       "<style scoped>\n",
       "    .dataframe tbody tr th:only-of-type {\n",
       "        vertical-align: middle;\n",
       "    }\n",
       "\n",
       "    .dataframe tbody tr th {\n",
       "        vertical-align: top;\n",
       "    }\n",
       "\n",
       "    .dataframe thead th {\n",
       "        text-align: right;\n",
       "    }\n",
       "</style>\n",
       "<table border=\"1\" class=\"dataframe\">\n",
       "  <thead>\n",
       "    <tr style=\"text-align: right;\">\n",
       "      <th></th>\n",
       "      <th>Percent Urban</th>\n",
       "      <th>Percent Rural</th>\n",
       "    </tr>\n",
       "    <tr>\n",
       "      <th>County</th>\n",
       "      <th></th>\n",
       "      <th></th>\n",
       "    </tr>\n",
       "  </thead>\n",
       "  <tbody>\n",
       "    <tr>\n",
       "      <td>Anderson</td>\n",
       "      <td>32.94</td>\n",
       "      <td>67.06</td>\n",
       "    </tr>\n",
       "    <tr>\n",
       "      <td>Andrews</td>\n",
       "      <td>83.50</td>\n",
       "      <td>16.50</td>\n",
       "    </tr>\n",
       "    <tr>\n",
       "      <td>Angelina</td>\n",
       "      <td>56.92</td>\n",
       "      <td>43.08</td>\n",
       "    </tr>\n",
       "    <tr>\n",
       "      <td>Aransas</td>\n",
       "      <td>72.74</td>\n",
       "      <td>27.26</td>\n",
       "    </tr>\n",
       "    <tr>\n",
       "      <td>Archer</td>\n",
       "      <td>11.01</td>\n",
       "      <td>88.99</td>\n",
       "    </tr>\n",
       "  </tbody>\n",
       "</table>\n",
       "</div>"
      ],
      "text/plain": [
       "          Percent Urban  Percent Rural\n",
       "County                                \n",
       "Anderson          32.94          67.06\n",
       "Andrews           83.50          16.50\n",
       "Angelina          56.92          43.08\n",
       "Aransas           72.74          27.26\n",
       "Archer            11.01          88.99"
      ]
     },
     "execution_count": 230,
     "metadata": {},
     "output_type": "execute_result"
    }
   ],
   "source": [
    "land=land.drop(['Land Area', 'Water Area', 'Total Area'], axis=1)\n",
    "land.head()"
   ]
  },
  {
   "cell_type": "code",
   "execution_count": 231,
   "metadata": {},
   "outputs": [
    {
     "name": "stdout",
     "output_type": "stream",
     "text": [
      "<class 'pandas.core.frame.DataFrame'>\n",
      "Index: 254 entries, Anderson to Zavala\n",
      "Data columns (total 2 columns):\n",
      "Percent Urban    254 non-null float64\n",
      "Percent Rural    254 non-null float64\n",
      "dtypes: float64(2)\n",
      "memory usage: 6.0+ KB\n"
     ]
    }
   ],
   "source": [
    "land.info()"
   ]
  },
  {
   "cell_type": "code",
   "execution_count": 232,
   "metadata": {},
   "outputs": [
    {
     "name": "stdout",
     "output_type": "stream",
     "text": [
      "<class 'pandas.core.frame.DataFrame'>\n",
      "Index: 254 entries, Anderson to Zavala\n",
      "Data columns (total 2 columns):\n",
      "Percent Urban    254 non-null float64\n",
      "Percent Rural    254 non-null float64\n",
      "dtypes: float64(2)\n",
      "memory usage: 6.0+ KB\n"
     ]
    }
   ],
   "source": [
    "#land=land/100\n",
    "land.info()"
   ]
  },
  {
   "cell_type": "code",
   "execution_count": 233,
   "metadata": {},
   "outputs": [
    {
     "name": "stdout",
     "output_type": "stream",
     "text": [
      "(254, 2)\n"
     ]
    },
    {
     "data": {
      "text/html": [
       "<div>\n",
       "<style scoped>\n",
       "    .dataframe tbody tr th:only-of-type {\n",
       "        vertical-align: middle;\n",
       "    }\n",
       "\n",
       "    .dataframe tbody tr th {\n",
       "        vertical-align: top;\n",
       "    }\n",
       "\n",
       "    .dataframe thead th {\n",
       "        text-align: right;\n",
       "    }\n",
       "</style>\n",
       "<table border=\"1\" class=\"dataframe\">\n",
       "  <thead>\n",
       "    <tr style=\"text-align: right;\">\n",
       "      <th></th>\n",
       "      <th>Percent Urban</th>\n",
       "      <th>Percent Rural</th>\n",
       "    </tr>\n",
       "    <tr>\n",
       "      <th>County</th>\n",
       "      <th></th>\n",
       "      <th></th>\n",
       "    </tr>\n",
       "  </thead>\n",
       "  <tbody>\n",
       "    <tr>\n",
       "      <td>Anderson</td>\n",
       "      <td>32.94</td>\n",
       "      <td>67.06</td>\n",
       "    </tr>\n",
       "    <tr>\n",
       "      <td>Andrews</td>\n",
       "      <td>83.50</td>\n",
       "      <td>16.50</td>\n",
       "    </tr>\n",
       "    <tr>\n",
       "      <td>Angelina</td>\n",
       "      <td>56.92</td>\n",
       "      <td>43.08</td>\n",
       "    </tr>\n",
       "    <tr>\n",
       "      <td>Aransas</td>\n",
       "      <td>72.74</td>\n",
       "      <td>27.26</td>\n",
       "    </tr>\n",
       "    <tr>\n",
       "      <td>Archer</td>\n",
       "      <td>11.01</td>\n",
       "      <td>88.99</td>\n",
       "    </tr>\n",
       "  </tbody>\n",
       "</table>\n",
       "</div>"
      ],
      "text/plain": [
       "          Percent Urban  Percent Rural\n",
       "County                                \n",
       "Anderson          32.94          67.06\n",
       "Andrews           83.50          16.50\n",
       "Angelina          56.92          43.08\n",
       "Aransas           72.74          27.26\n",
       "Archer            11.01          88.99"
      ]
     },
     "execution_count": 233,
     "metadata": {},
     "output_type": "execute_result"
    }
   ],
   "source": [
    "print(land.shape)\n",
    "land.head()"
   ]
  },
  {
   "cell_type": "markdown",
   "metadata": {},
   "source": [
    "## Covid19 Policy"
   ]
  },
  {
   "cell_type": "markdown",
   "metadata": {},
   "source": [
    "#### Data from "
   ]
  },
  {
   "cell_type": "markdown",
   "metadata": {},
   "source": [
    "### Policy scores by county"
   ]
  },
  {
   "cell_type": "code",
   "execution_count": 234,
   "metadata": {},
   "outputs": [
    {
     "data": {
      "text/html": [
       "<div>\n",
       "<style scoped>\n",
       "    .dataframe tbody tr th:only-of-type {\n",
       "        vertical-align: middle;\n",
       "    }\n",
       "\n",
       "    .dataframe tbody tr th {\n",
       "        vertical-align: top;\n",
       "    }\n",
       "\n",
       "    .dataframe thead th {\n",
       "        text-align: right;\n",
       "    }\n",
       "</style>\n",
       "<table border=\"1\" class=\"dataframe\">\n",
       "  <thead>\n",
       "    <tr style=\"text-align: right;\">\n",
       "      <th></th>\n",
       "      <th>FIPS</th>\n",
       "      <th>NAME</th>\n",
       "      <th>state</th>\n",
       "      <th>Deaths per Capita</th>\n",
       "      <th>Percentage Death</th>\n",
       "      <th>Percentage Infected</th>\n",
       "      <th>Policy Score</th>\n",
       "    </tr>\n",
       "  </thead>\n",
       "  <tbody>\n",
       "    <tr>\n",
       "      <td>0</td>\n",
       "      <td>1001</td>\n",
       "      <td>Autauga</td>\n",
       "      <td>Alabama</td>\n",
       "      <td>0.0%</td>\n",
       "      <td>2.5%</td>\n",
       "      <td>1.6%</td>\n",
       "      <td>4</td>\n",
       "    </tr>\n",
       "    <tr>\n",
       "      <td>1</td>\n",
       "      <td>1003</td>\n",
       "      <td>Baldwin</td>\n",
       "      <td>Alabama</td>\n",
       "      <td>0.0%</td>\n",
       "      <td>0.7%</td>\n",
       "      <td>1.1%</td>\n",
       "      <td>5</td>\n",
       "    </tr>\n",
       "    <tr>\n",
       "      <td>2</td>\n",
       "      <td>1005</td>\n",
       "      <td>Barbour</td>\n",
       "      <td>Alabama</td>\n",
       "      <td>0.0%</td>\n",
       "      <td>0.8%</td>\n",
       "      <td>1.8%</td>\n",
       "      <td>3</td>\n",
       "    </tr>\n",
       "    <tr>\n",
       "      <td>3</td>\n",
       "      <td>1007</td>\n",
       "      <td>Bibb</td>\n",
       "      <td>Alabama</td>\n",
       "      <td>0.0%</td>\n",
       "      <td>0.7%</td>\n",
       "      <td>1.2%</td>\n",
       "      <td>4</td>\n",
       "    </tr>\n",
       "    <tr>\n",
       "      <td>4</td>\n",
       "      <td>1009</td>\n",
       "      <td>Blount</td>\n",
       "      <td>Alabama</td>\n",
       "      <td>0.0%</td>\n",
       "      <td>0.2%</td>\n",
       "      <td>0.9%</td>\n",
       "      <td>4</td>\n",
       "    </tr>\n",
       "  </tbody>\n",
       "</table>\n",
       "</div>"
      ],
      "text/plain": [
       "   FIPS     NAME    state Deaths per Capita Percentage Death  \\\n",
       "0  1001  Autauga  Alabama              0.0%             2.5%   \n",
       "1  1003  Baldwin  Alabama              0.0%             0.7%   \n",
       "2  1005  Barbour  Alabama              0.0%             0.8%   \n",
       "3  1007     Bibb  Alabama              0.0%             0.7%   \n",
       "4  1009   Blount  Alabama              0.0%             0.2%   \n",
       "\n",
       "  Percentage Infected  Policy Score  \n",
       "0                1.6%             4  \n",
       "1                1.1%             5  \n",
       "2                1.8%             3  \n",
       "3                1.2%             4  \n",
       "4                0.9%             4  "
      ]
     },
     "execution_count": 234,
     "metadata": {},
     "output_type": "execute_result"
    }
   ],
   "source": [
    "policy_scores=pd.read_excel(r'data/policy_scores_us_counties_reformat.xls')\n",
    "policy_scores.head()"
   ]
  },
  {
   "cell_type": "code",
   "execution_count": 235,
   "metadata": {},
   "outputs": [
    {
     "name": "stdout",
     "output_type": "stream",
     "text": [
      "(145, 7)\n"
     ]
    },
    {
     "data": {
      "text/html": [
       "<div>\n",
       "<style scoped>\n",
       "    .dataframe tbody tr th:only-of-type {\n",
       "        vertical-align: middle;\n",
       "    }\n",
       "\n",
       "    .dataframe tbody tr th {\n",
       "        vertical-align: top;\n",
       "    }\n",
       "\n",
       "    .dataframe thead th {\n",
       "        text-align: right;\n",
       "    }\n",
       "</style>\n",
       "<table border=\"1\" class=\"dataframe\">\n",
       "  <thead>\n",
       "    <tr style=\"text-align: right;\">\n",
       "      <th></th>\n",
       "      <th>FIPS</th>\n",
       "      <th>NAME</th>\n",
       "      <th>state</th>\n",
       "      <th>Deaths per Capita</th>\n",
       "      <th>Percentage Death</th>\n",
       "      <th>Percentage Infected</th>\n",
       "      <th>Policy Score</th>\n",
       "    </tr>\n",
       "  </thead>\n",
       "  <tbody>\n",
       "    <tr>\n",
       "      <td>1064</td>\n",
       "      <td>48001</td>\n",
       "      <td>Anderson</td>\n",
       "      <td>Texas</td>\n",
       "      <td>0.0%</td>\n",
       "      <td>0.2%</td>\n",
       "      <td>3.5%</td>\n",
       "      <td>3</td>\n",
       "    </tr>\n",
       "    <tr>\n",
       "      <td>1065</td>\n",
       "      <td>48005</td>\n",
       "      <td>Angelina</td>\n",
       "      <td>Texas</td>\n",
       "      <td>0.0%</td>\n",
       "      <td>1.2%</td>\n",
       "      <td>1.2%</td>\n",
       "      <td>3</td>\n",
       "    </tr>\n",
       "    <tr>\n",
       "      <td>1066</td>\n",
       "      <td>48013</td>\n",
       "      <td>Atascosa</td>\n",
       "      <td>Texas</td>\n",
       "      <td>0.0%</td>\n",
       "      <td>0.6%</td>\n",
       "      <td>0.8%</td>\n",
       "      <td>2</td>\n",
       "    </tr>\n",
       "    <tr>\n",
       "      <td>1067</td>\n",
       "      <td>48015</td>\n",
       "      <td>Austin</td>\n",
       "      <td>Texas</td>\n",
       "      <td>0.0%</td>\n",
       "      <td>0.0%</td>\n",
       "      <td>0.6%</td>\n",
       "      <td>3</td>\n",
       "    </tr>\n",
       "    <tr>\n",
       "      <td>1068</td>\n",
       "      <td>48019</td>\n",
       "      <td>Bandera</td>\n",
       "      <td>Texas</td>\n",
       "      <td>0.0%</td>\n",
       "      <td>0.0%</td>\n",
       "      <td>0.2%</td>\n",
       "      <td>6</td>\n",
       "    </tr>\n",
       "  </tbody>\n",
       "</table>\n",
       "</div>"
      ],
      "text/plain": [
       "       FIPS      NAME  state Deaths per Capita Percentage Death  \\\n",
       "1064  48001  Anderson  Texas              0.0%             0.2%   \n",
       "1065  48005  Angelina  Texas              0.0%             1.2%   \n",
       "1066  48013  Atascosa  Texas              0.0%             0.6%   \n",
       "1067  48015    Austin  Texas              0.0%             0.0%   \n",
       "1068  48019   Bandera  Texas              0.0%             0.0%   \n",
       "\n",
       "     Percentage Infected  Policy Score  \n",
       "1064                3.5%             3  \n",
       "1065                1.2%             3  \n",
       "1066                0.8%             2  \n",
       "1067                0.6%             3  \n",
       "1068                0.2%             6  "
      ]
     },
     "execution_count": 235,
     "metadata": {},
     "output_type": "execute_result"
    }
   ],
   "source": [
    "policy_scores=policy_scores[policy_scores['state']=='Texas']\n",
    "print(policy_scores.shape)\n",
    "policy_scores.head()"
   ]
  },
  {
   "cell_type": "code",
   "execution_count": 236,
   "metadata": {},
   "outputs": [
    {
     "data": {
      "text/html": [
       "<div>\n",
       "<style scoped>\n",
       "    .dataframe tbody tr th:only-of-type {\n",
       "        vertical-align: middle;\n",
       "    }\n",
       "\n",
       "    .dataframe tbody tr th {\n",
       "        vertical-align: top;\n",
       "    }\n",
       "\n",
       "    .dataframe thead th {\n",
       "        text-align: right;\n",
       "    }\n",
       "</style>\n",
       "<table border=\"1\" class=\"dataframe\">\n",
       "  <thead>\n",
       "    <tr style=\"text-align: right;\">\n",
       "      <th></th>\n",
       "      <th>Policy Score</th>\n",
       "    </tr>\n",
       "    <tr>\n",
       "      <th>County</th>\n",
       "      <th></th>\n",
       "    </tr>\n",
       "  </thead>\n",
       "  <tbody>\n",
       "    <tr>\n",
       "      <td>Anderson</td>\n",
       "      <td>3</td>\n",
       "    </tr>\n",
       "    <tr>\n",
       "      <td>Angelina</td>\n",
       "      <td>3</td>\n",
       "    </tr>\n",
       "    <tr>\n",
       "      <td>Atascosa</td>\n",
       "      <td>2</td>\n",
       "    </tr>\n",
       "    <tr>\n",
       "      <td>Austin</td>\n",
       "      <td>3</td>\n",
       "    </tr>\n",
       "    <tr>\n",
       "      <td>Bandera</td>\n",
       "      <td>6</td>\n",
       "    </tr>\n",
       "  </tbody>\n",
       "</table>\n",
       "</div>"
      ],
      "text/plain": [
       "          Policy Score\n",
       "County                \n",
       "Anderson             3\n",
       "Angelina             3\n",
       "Atascosa             2\n",
       "Austin               3\n",
       "Bandera              6"
      ]
     },
     "execution_count": 236,
     "metadata": {},
     "output_type": "execute_result"
    }
   ],
   "source": [
    "policy_scores=policy_scores[['NAME', 'Policy Score']]\n",
    "policy_scores.rename(columns={'NAME': 'County'}, inplace=True)\n",
    "policy_scores['County']=policy_scores['County'].str.replace(' ', '')\n",
    "policy_scores['County']=policy_scores['County'].str.title()\n",
    "policy_scores.sort_values(by='County', inplace=True)\n",
    "policy_scores.set_index('County', inplace=True)\n",
    "policy_scores.head()"
   ]
  },
  {
   "cell_type": "markdown",
   "metadata": {},
   "source": [
    "### Policy by category"
   ]
  },
  {
   "cell_type": "code",
   "execution_count": 237,
   "metadata": {},
   "outputs": [
    {
     "name": "stdout",
     "output_type": "stream",
     "text": [
      "(2704, 24)\n"
     ]
    },
    {
     "data": {
      "text/html": [
       "<div>\n",
       "<style scoped>\n",
       "    .dataframe tbody tr th:only-of-type {\n",
       "        vertical-align: middle;\n",
       "    }\n",
       "\n",
       "    .dataframe tbody tr th {\n",
       "        vertical-align: top;\n",
       "    }\n",
       "\n",
       "    .dataframe thead th {\n",
       "        text-align: right;\n",
       "    }\n",
       "</style>\n",
       "<table border=\"1\" class=\"dataframe\">\n",
       "  <thead>\n",
       "    <tr style=\"text-align: right;\">\n",
       "      <th></th>\n",
       "      <th>fips</th>\n",
       "      <th>county_name</th>\n",
       "      <th>school</th>\n",
       "      <th>school_url</th>\n",
       "      <th>school_date</th>\n",
       "      <th>work</th>\n",
       "      <th>work_url</th>\n",
       "      <th>work_date</th>\n",
       "      <th>shelter_enforcement</th>\n",
       "      <th>shelter_enforcement_url</th>\n",
       "      <th>...</th>\n",
       "      <th>event</th>\n",
       "      <th>event_url</th>\n",
       "      <th>event_date</th>\n",
       "      <th>testing</th>\n",
       "      <th>testing_url</th>\n",
       "      <th>testing_date</th>\n",
       "      <th>transport</th>\n",
       "      <th>transport_url</th>\n",
       "      <th>transport_date</th>\n",
       "      <th>updated</th>\n",
       "    </tr>\n",
       "  </thead>\n",
       "  <tbody>\n",
       "    <tr>\n",
       "      <td>0</td>\n",
       "      <td>6073</td>\n",
       "      <td>San Diego County, California</td>\n",
       "      <td>True</td>\n",
       "      <td>https://www.sandiegocounty.gov/content/sdc/hhs...</td>\n",
       "      <td>2020-03-16</td>\n",
       "      <td>True</td>\n",
       "      <td>https://www.sandiegocounty.gov/content/sdc/hhs...</td>\n",
       "      <td>2020-03-15</td>\n",
       "      <td>False</td>\n",
       "      <td>NaN</td>\n",
       "      <td>...</td>\n",
       "      <td>True</td>\n",
       "      <td>https://www.sandiegocounty.gov/content/sdc/hhs...</td>\n",
       "      <td>2020-03-16</td>\n",
       "      <td>True</td>\n",
       "      <td>https://health.ucsd.edu/coronavirus/Pages/defa...</td>\n",
       "      <td>NaN</td>\n",
       "      <td>True</td>\n",
       "      <td>https://www.sdmts.com/schedules-real-time/covi...</td>\n",
       "      <td>2020-04-12</td>\n",
       "      <td>2020-04-09 11:03:27</td>\n",
       "    </tr>\n",
       "    <tr>\n",
       "      <td>1</td>\n",
       "      <td>17031</td>\n",
       "      <td>Cook County, Illinois</td>\n",
       "      <td>True</td>\n",
       "      <td>https://www.cookcountypublichealth.org/communi...</td>\n",
       "      <td>2020-03-17</td>\n",
       "      <td>True</td>\n",
       "      <td>https://www.cookcountypublichealth.org/communi...</td>\n",
       "      <td>2020-03-20</td>\n",
       "      <td>False</td>\n",
       "      <td>NaN</td>\n",
       "      <td>...</td>\n",
       "      <td>True</td>\n",
       "      <td>https://www.cookcountypublichealth.org/communi...</td>\n",
       "      <td>2020-04-01</td>\n",
       "      <td>False</td>\n",
       "      <td>NaN</td>\n",
       "      <td>NaN</td>\n",
       "      <td>False</td>\n",
       "      <td>NaN</td>\n",
       "      <td>NaN</td>\n",
       "      <td>2020-04-09 11:32:26</td>\n",
       "    </tr>\n",
       "    <tr>\n",
       "      <td>2</td>\n",
       "      <td>48201</td>\n",
       "      <td>Harris County, Texas</td>\n",
       "      <td>True</td>\n",
       "      <td>https://publichealth.harriscountytx.gov/Resour...</td>\n",
       "      <td>2020-03-24</td>\n",
       "      <td>True</td>\n",
       "      <td>https://publichealth.harriscountytx.gov/Resour...</td>\n",
       "      <td>2020-03-24</td>\n",
       "      <td>True</td>\n",
       "      <td>https://www.readyharris.org/Stay-Home</td>\n",
       "      <td>...</td>\n",
       "      <td>True</td>\n",
       "      <td>https://www.readyharris.org/Stay-Home</td>\n",
       "      <td>2020-03-24</td>\n",
       "      <td>True</td>\n",
       "      <td>https://publichealth.harriscountytx.gov/Resour...</td>\n",
       "      <td>NaN</td>\n",
       "      <td>True</td>\n",
       "      <td>https://www.ridemetro.org/Pages/Coronavirus.aspx</td>\n",
       "      <td>2020-03-30</td>\n",
       "      <td>2020-04-09 18:08:51</td>\n",
       "    </tr>\n",
       "    <tr>\n",
       "      <td>3</td>\n",
       "      <td>4013</td>\n",
       "      <td>Maricopa County, Arizona</td>\n",
       "      <td>True</td>\n",
       "      <td>https://azgovernor.gov/governor/news/2020/03/g...</td>\n",
       "      <td>2020-03-30</td>\n",
       "      <td>True</td>\n",
       "      <td>https://www.fox10phoenix.com/video/669286</td>\n",
       "      <td>2020-03-31</td>\n",
       "      <td>False</td>\n",
       "      <td>NaN</td>\n",
       "      <td>...</td>\n",
       "      <td>False</td>\n",
       "      <td>https://www.maricopa.gov/Calendar.aspx</td>\n",
       "      <td>NaN</td>\n",
       "      <td>True</td>\n",
       "      <td>https://www.fox10phoenix.com/news/banner-healt...</td>\n",
       "      <td>2020-03-23</td>\n",
       "      <td>False</td>\n",
       "      <td>https://www.maricopa.gov/5307/Transportation-M...</td>\n",
       "      <td>NaN</td>\n",
       "      <td>2020-04-09 18:33:06</td>\n",
       "    </tr>\n",
       "    <tr>\n",
       "      <td>4</td>\n",
       "      <td>49043</td>\n",
       "      <td>Summit County, Utah</td>\n",
       "      <td>True</td>\n",
       "      <td>http://www.pcschools.us/wp-content/uploads/202...</td>\n",
       "      <td>2020-03-16</td>\n",
       "      <td>True</td>\n",
       "      <td>https://www.summitcounty.org/DocumentCenter/Vi...</td>\n",
       "      <td>2020-03-27</td>\n",
       "      <td>True</td>\n",
       "      <td>https://www.summitcounty.org/DocumentCenter/Vi...</td>\n",
       "      <td>...</td>\n",
       "      <td>True</td>\n",
       "      <td>https://www.summitcounty.org/DocumentCenter/Vi...</td>\n",
       "      <td>2020-03-27</td>\n",
       "      <td>True</td>\n",
       "      <td>https://kutv.com/news/local/curbside-coronavir...</td>\n",
       "      <td>2020-04-02</td>\n",
       "      <td>False</td>\n",
       "      <td>NaN</td>\n",
       "      <td>NaN</td>\n",
       "      <td>2020-04-09 23:04:50</td>\n",
       "    </tr>\n",
       "  </tbody>\n",
       "</table>\n",
       "<p>5 rows × 24 columns</p>\n",
       "</div>"
      ],
      "text/plain": [
       "    fips                   county_name school  \\\n",
       "0   6073  San Diego County, California   True   \n",
       "1  17031         Cook County, Illinois   True   \n",
       "2  48201          Harris County, Texas   True   \n",
       "3   4013      Maricopa County, Arizona   True   \n",
       "4  49043           Summit County, Utah   True   \n",
       "\n",
       "                                          school_url school_date  work  \\\n",
       "0  https://www.sandiegocounty.gov/content/sdc/hhs...  2020-03-16  True   \n",
       "1  https://www.cookcountypublichealth.org/communi...  2020-03-17  True   \n",
       "2  https://publichealth.harriscountytx.gov/Resour...  2020-03-24  True   \n",
       "3  https://azgovernor.gov/governor/news/2020/03/g...  2020-03-30  True   \n",
       "4  http://www.pcschools.us/wp-content/uploads/202...  2020-03-16  True   \n",
       "\n",
       "                                            work_url   work_date  \\\n",
       "0  https://www.sandiegocounty.gov/content/sdc/hhs...  2020-03-15   \n",
       "1  https://www.cookcountypublichealth.org/communi...  2020-03-20   \n",
       "2  https://publichealth.harriscountytx.gov/Resour...  2020-03-24   \n",
       "3          https://www.fox10phoenix.com/video/669286  2020-03-31   \n",
       "4  https://www.summitcounty.org/DocumentCenter/Vi...  2020-03-27   \n",
       "\n",
       "  shelter_enforcement                            shelter_enforcement_url  ...  \\\n",
       "0               False                                                NaN  ...   \n",
       "1               False                                                NaN  ...   \n",
       "2                True              https://www.readyharris.org/Stay-Home  ...   \n",
       "3               False                                                NaN  ...   \n",
       "4                True  https://www.summitcounty.org/DocumentCenter/Vi...  ...   \n",
       "\n",
       "   event                                          event_url  event_date  \\\n",
       "0   True  https://www.sandiegocounty.gov/content/sdc/hhs...  2020-03-16   \n",
       "1   True  https://www.cookcountypublichealth.org/communi...  2020-04-01   \n",
       "2   True              https://www.readyharris.org/Stay-Home  2020-03-24   \n",
       "3  False             https://www.maricopa.gov/Calendar.aspx         NaN   \n",
       "4   True  https://www.summitcounty.org/DocumentCenter/Vi...  2020-03-27   \n",
       "\n",
       "  testing                                        testing_url testing_date  \\\n",
       "0    True  https://health.ucsd.edu/coronavirus/Pages/defa...          NaN   \n",
       "1   False                                                NaN          NaN   \n",
       "2    True  https://publichealth.harriscountytx.gov/Resour...          NaN   \n",
       "3    True  https://www.fox10phoenix.com/news/banner-healt...   2020-03-23   \n",
       "4    True  https://kutv.com/news/local/curbside-coronavir...   2020-04-02   \n",
       "\n",
       "  transport                                      transport_url transport_date  \\\n",
       "0      True  https://www.sdmts.com/schedules-real-time/covi...     2020-04-12   \n",
       "1     False                                                NaN            NaN   \n",
       "2      True   https://www.ridemetro.org/Pages/Coronavirus.aspx     2020-03-30   \n",
       "3     False  https://www.maricopa.gov/5307/Transportation-M...            NaN   \n",
       "4     False                                                NaN            NaN   \n",
       "\n",
       "               updated  \n",
       "0  2020-04-09 11:03:27  \n",
       "1  2020-04-09 11:32:26  \n",
       "2  2020-04-09 18:08:51  \n",
       "3  2020-04-09 18:33:06  \n",
       "4  2020-04-09 23:04:50  \n",
       "\n",
       "[5 rows x 24 columns]"
      ]
     },
     "execution_count": 237,
     "metadata": {},
     "output_type": "execute_result"
    }
   ],
   "source": [
    "policy=pd.read_csv(r'data/all_county_policies.csv')\n",
    "print(policy.shape)\n",
    "policy.head()"
   ]
  },
  {
   "cell_type": "code",
   "execution_count": 238,
   "metadata": {},
   "outputs": [
    {
     "name": "stdout",
     "output_type": "stream",
     "text": [
      "(292, 26)\n"
     ]
    },
    {
     "data": {
      "text/html": [
       "<div>\n",
       "<style scoped>\n",
       "    .dataframe tbody tr th:only-of-type {\n",
       "        vertical-align: middle;\n",
       "    }\n",
       "\n",
       "    .dataframe tbody tr th {\n",
       "        vertical-align: top;\n",
       "    }\n",
       "\n",
       "    .dataframe thead th {\n",
       "        text-align: right;\n",
       "    }\n",
       "</style>\n",
       "<table border=\"1\" class=\"dataframe\">\n",
       "  <thead>\n",
       "    <tr style=\"text-align: right;\">\n",
       "      <th></th>\n",
       "      <th>fips</th>\n",
       "      <th>county_name</th>\n",
       "      <th>school</th>\n",
       "      <th>school_url</th>\n",
       "      <th>school_date</th>\n",
       "      <th>work</th>\n",
       "      <th>work_url</th>\n",
       "      <th>work_date</th>\n",
       "      <th>shelter_enforcement</th>\n",
       "      <th>shelter_enforcement_url</th>\n",
       "      <th>...</th>\n",
       "      <th>event_date</th>\n",
       "      <th>testing</th>\n",
       "      <th>testing_url</th>\n",
       "      <th>testing_date</th>\n",
       "      <th>transport</th>\n",
       "      <th>transport_url</th>\n",
       "      <th>transport_date</th>\n",
       "      <th>updated</th>\n",
       "      <th>County</th>\n",
       "      <th>State</th>\n",
       "    </tr>\n",
       "  </thead>\n",
       "  <tbody>\n",
       "    <tr>\n",
       "      <td>2</td>\n",
       "      <td>48201</td>\n",
       "      <td>Harris County, Texas</td>\n",
       "      <td>True</td>\n",
       "      <td>https://publichealth.harriscountytx.gov/Resour...</td>\n",
       "      <td>2020-03-24</td>\n",
       "      <td>True</td>\n",
       "      <td>https://publichealth.harriscountytx.gov/Resour...</td>\n",
       "      <td>2020-03-24</td>\n",
       "      <td>True</td>\n",
       "      <td>https://www.readyharris.org/Stay-Home</td>\n",
       "      <td>...</td>\n",
       "      <td>2020-03-24</td>\n",
       "      <td>True</td>\n",
       "      <td>https://publichealth.harriscountytx.gov/Resour...</td>\n",
       "      <td>NaN</td>\n",
       "      <td>True</td>\n",
       "      <td>https://www.ridemetro.org/Pages/Coronavirus.aspx</td>\n",
       "      <td>2020-03-30</td>\n",
       "      <td>2020-04-09 18:08:51</td>\n",
       "      <td>Harris County</td>\n",
       "      <td>Texas</td>\n",
       "    </tr>\n",
       "    <tr>\n",
       "      <td>8</td>\n",
       "      <td>48113</td>\n",
       "      <td>Dallas County, Texas</td>\n",
       "      <td>True</td>\n",
       "      <td>https://www.dallasisd.org/cms/lib/TX01001475/C...</td>\n",
       "      <td>2020-03-20</td>\n",
       "      <td>True</td>\n",
       "      <td>https://www.dallascounty.org/covid-19/judge-or...</td>\n",
       "      <td>2020-03-31</td>\n",
       "      <td>False</td>\n",
       "      <td>NaN</td>\n",
       "      <td>...</td>\n",
       "      <td>2020-03-31</td>\n",
       "      <td>True</td>\n",
       "      <td>https://www.dallascounty.org/covid-19/testing-...</td>\n",
       "      <td>2020-04-10</td>\n",
       "      <td>False</td>\n",
       "      <td>NaN</td>\n",
       "      <td>NaN</td>\n",
       "      <td>2020-04-10 19:36:29</td>\n",
       "      <td>Dallas County</td>\n",
       "      <td>Texas</td>\n",
       "    </tr>\n",
       "    <tr>\n",
       "      <td>14</td>\n",
       "      <td>48439</td>\n",
       "      <td>Tarrant County, Texas</td>\n",
       "      <td>True</td>\n",
       "      <td>https://dfw.cbslocal.com/2020/03/24/all-school...</td>\n",
       "      <td>2020-03-24</td>\n",
       "      <td>True</td>\n",
       "      <td>https://www.star-telegram.com/news/local/fort-...</td>\n",
       "      <td>2020-03-24</td>\n",
       "      <td>True</td>\n",
       "      <td>https://www.texastribune.org/2020/03/23/texas-...</td>\n",
       "      <td>...</td>\n",
       "      <td>2020-03-24</td>\n",
       "      <td>True</td>\n",
       "      <td>https://www.dshs.state.tx.us/coronavirus/testi...</td>\n",
       "      <td>2020-03-31</td>\n",
       "      <td>False</td>\n",
       "      <td>NaN</td>\n",
       "      <td>NaN</td>\n",
       "      <td>2020-04-11 13:51:35</td>\n",
       "      <td>Tarrant County</td>\n",
       "      <td>Texas</td>\n",
       "    </tr>\n",
       "    <tr>\n",
       "      <td>31</td>\n",
       "      <td>48121</td>\n",
       "      <td>Denton County, Texas</td>\n",
       "      <td>True</td>\n",
       "      <td>https://www.dentonisd.org/site/default.aspx?Pa...</td>\n",
       "      <td>2020-03-16</td>\n",
       "      <td>True</td>\n",
       "      <td>https://www.msn.com/en-us/news/us/denton-count...</td>\n",
       "      <td>2020-03-24</td>\n",
       "      <td>True</td>\n",
       "      <td>https://dentonrc.com/coronavirus_outbreak/dent...</td>\n",
       "      <td>...</td>\n",
       "      <td>2020-03-24</td>\n",
       "      <td>True</td>\n",
       "      <td>https://www.crosstimbersgazette.com/2020/03/30...</td>\n",
       "      <td>2020-03-20</td>\n",
       "      <td>False</td>\n",
       "      <td>https://www.dcta.net/schedulechanges</td>\n",
       "      <td>NaN</td>\n",
       "      <td>2020-04-11 22:14:51</td>\n",
       "      <td>Denton County</td>\n",
       "      <td>Texas</td>\n",
       "    </tr>\n",
       "    <tr>\n",
       "      <td>37</td>\n",
       "      <td>48215</td>\n",
       "      <td>Hidalgo County, Texas</td>\n",
       "      <td>True</td>\n",
       "      <td>https://www.ecisd.us/apps/pages/coronavirus</td>\n",
       "      <td>2020-03-17</td>\n",
       "      <td>True</td>\n",
       "      <td>https://www.hidalgocounty.us/DocumentCenter/Vi...</td>\n",
       "      <td>2020-03-26</td>\n",
       "      <td>True</td>\n",
       "      <td>https://www.gosanangelo.com/story/news/2020/03...</td>\n",
       "      <td>...</td>\n",
       "      <td>2020-03-26</td>\n",
       "      <td>False</td>\n",
       "      <td>https://www.themonitor.com/2020/03/13/hidalgo-...</td>\n",
       "      <td>NaN</td>\n",
       "      <td>False</td>\n",
       "      <td>NaN</td>\n",
       "      <td>NaN</td>\n",
       "      <td>2020-04-11 23:51:48</td>\n",
       "      <td>Hidalgo County</td>\n",
       "      <td>Texas</td>\n",
       "    </tr>\n",
       "  </tbody>\n",
       "</table>\n",
       "<p>5 rows × 26 columns</p>\n",
       "</div>"
      ],
      "text/plain": [
       "     fips            county_name school  \\\n",
       "2   48201   Harris County, Texas   True   \n",
       "8   48113   Dallas County, Texas   True   \n",
       "14  48439  Tarrant County, Texas   True   \n",
       "31  48121   Denton County, Texas   True   \n",
       "37  48215  Hidalgo County, Texas   True   \n",
       "\n",
       "                                           school_url school_date  work  \\\n",
       "2   https://publichealth.harriscountytx.gov/Resour...  2020-03-24  True   \n",
       "8   https://www.dallasisd.org/cms/lib/TX01001475/C...  2020-03-20  True   \n",
       "14  https://dfw.cbslocal.com/2020/03/24/all-school...  2020-03-24  True   \n",
       "31  https://www.dentonisd.org/site/default.aspx?Pa...  2020-03-16  True   \n",
       "37        https://www.ecisd.us/apps/pages/coronavirus  2020-03-17  True   \n",
       "\n",
       "                                             work_url   work_date  \\\n",
       "2   https://publichealth.harriscountytx.gov/Resour...  2020-03-24   \n",
       "8   https://www.dallascounty.org/covid-19/judge-or...  2020-03-31   \n",
       "14  https://www.star-telegram.com/news/local/fort-...  2020-03-24   \n",
       "31  https://www.msn.com/en-us/news/us/denton-count...  2020-03-24   \n",
       "37  https://www.hidalgocounty.us/DocumentCenter/Vi...  2020-03-26   \n",
       "\n",
       "   shelter_enforcement                            shelter_enforcement_url  \\\n",
       "2                 True              https://www.readyharris.org/Stay-Home   \n",
       "8                False                                                NaN   \n",
       "14                True  https://www.texastribune.org/2020/03/23/texas-...   \n",
       "31                True  https://dentonrc.com/coronavirus_outbreak/dent...   \n",
       "37                True  https://www.gosanangelo.com/story/news/2020/03...   \n",
       "\n",
       "    ...  event_date testing  \\\n",
       "2   ...  2020-03-24    True   \n",
       "8   ...  2020-03-31    True   \n",
       "14  ...  2020-03-24    True   \n",
       "31  ...  2020-03-24    True   \n",
       "37  ...  2020-03-26   False   \n",
       "\n",
       "                                          testing_url testing_date transport  \\\n",
       "2   https://publichealth.harriscountytx.gov/Resour...          NaN      True   \n",
       "8   https://www.dallascounty.org/covid-19/testing-...   2020-04-10     False   \n",
       "14  https://www.dshs.state.tx.us/coronavirus/testi...   2020-03-31     False   \n",
       "31  https://www.crosstimbersgazette.com/2020/03/30...   2020-03-20     False   \n",
       "37  https://www.themonitor.com/2020/03/13/hidalgo-...          NaN     False   \n",
       "\n",
       "                                       transport_url transport_date  \\\n",
       "2   https://www.ridemetro.org/Pages/Coronavirus.aspx     2020-03-30   \n",
       "8                                                NaN            NaN   \n",
       "14                                               NaN            NaN   \n",
       "31              https://www.dcta.net/schedulechanges            NaN   \n",
       "37                                               NaN            NaN   \n",
       "\n",
       "                updated          County  State  \n",
       "2   2020-04-09 18:08:51   Harris County  Texas  \n",
       "8   2020-04-10 19:36:29   Dallas County  Texas  \n",
       "14  2020-04-11 13:51:35  Tarrant County  Texas  \n",
       "31  2020-04-11 22:14:51   Denton County  Texas  \n",
       "37  2020-04-11 23:51:48  Hidalgo County  Texas  \n",
       "\n",
       "[5 rows x 26 columns]"
      ]
     },
     "execution_count": 238,
     "metadata": {},
     "output_type": "execute_result"
    }
   ],
   "source": [
    "policy['County']=policy['county_name'].apply(lambda x: x.split(', ')[0])\n",
    "policy['State']=policy['county_name'].apply(lambda x: x.split(',')[1].lstrip(' '))\n",
    "policy=policy[policy['State']=='Texas']\n",
    "print(policy.shape)\n",
    "policy.head()"
   ]
  },
  {
   "cell_type": "code",
   "execution_count": null,
   "metadata": {},
   "outputs": [],
   "source": []
  },
  {
   "cell_type": "code",
   "execution_count": 239,
   "metadata": {},
   "outputs": [],
   "source": [
    "policy['County']=policy['County'].str.replace('County', '')\n",
    "policy['County']=policy['County'].str.replace(' ', '')\n",
    "policy['County']=policy['County'].str.title()\n",
    "policy.sort_values(by='County', inplace=True)"
   ]
  },
  {
   "cell_type": "markdown",
   "metadata": {},
   "source": [
    "Drop unnecessary columns"
   ]
  },
  {
   "cell_type": "code",
   "execution_count": 240,
   "metadata": {},
   "outputs": [
    {
     "name": "stdout",
     "output_type": "stream",
     "text": [
      "<class 'pandas.core.frame.DataFrame'>\n",
      "Int64Index: 292 entries, 806 to 1614\n",
      "Data columns (total 12 columns):\n",
      "fips                   292 non-null int64\n",
      "county_name            292 non-null object\n",
      "school                 144 non-null object\n",
      "work                   284 non-null object\n",
      "shelter_enforcement    115 non-null object\n",
      "shelter                256 non-null object\n",
      "event                  142 non-null object\n",
      "testing                148 non-null object\n",
      "transport              123 non-null object\n",
      "updated                292 non-null object\n",
      "County                 292 non-null object\n",
      "State                  292 non-null object\n",
      "dtypes: int64(1), object(11)\n",
      "memory usage: 29.7+ KB\n"
     ]
    }
   ],
   "source": [
    "policy.drop(['school_url', 'work_url', 'shelter_enforcement_url', 'shelter_url', 'testing_url', \n",
    "            'transport_url', 'event_url', 'school_date', 'work_date', 'shelter_enforcement_date', \n",
    "            'shelter_date', 'testing_date', 'transport_date', 'event_date'], \n",
    "       axis=1, inplace=True)\n",
    "policy.info()"
   ]
  },
  {
   "cell_type": "markdown",
   "metadata": {},
   "source": [
    "Some counties have more than one row, so data is filtered by last updated row"
   ]
  },
  {
   "cell_type": "code",
   "execution_count": 241,
   "metadata": {},
   "outputs": [
    {
     "data": {
      "text/html": [
       "<div>\n",
       "<style scoped>\n",
       "    .dataframe tbody tr th:only-of-type {\n",
       "        vertical-align: middle;\n",
       "    }\n",
       "\n",
       "    .dataframe tbody tr th {\n",
       "        vertical-align: top;\n",
       "    }\n",
       "\n",
       "    .dataframe thead th {\n",
       "        text-align: right;\n",
       "    }\n",
       "</style>\n",
       "<table border=\"1\" class=\"dataframe\">\n",
       "  <thead>\n",
       "    <tr style=\"text-align: right;\">\n",
       "      <th></th>\n",
       "      <th>fips</th>\n",
       "      <th>county_name</th>\n",
       "      <th>school</th>\n",
       "      <th>work</th>\n",
       "      <th>shelter_enforcement</th>\n",
       "      <th>shelter</th>\n",
       "      <th>event</th>\n",
       "      <th>testing</th>\n",
       "      <th>transport</th>\n",
       "      <th>updated</th>\n",
       "      <th>County</th>\n",
       "      <th>State</th>\n",
       "    </tr>\n",
       "  </thead>\n",
       "  <tbody>\n",
       "    <tr>\n",
       "      <td>1930</td>\n",
       "      <td>48339</td>\n",
       "      <td>Montgomery County, Texas</td>\n",
       "      <td>NaN</td>\n",
       "      <td>True</td>\n",
       "      <td>NaN</td>\n",
       "      <td>True</td>\n",
       "      <td>NaN</td>\n",
       "      <td>NaN</td>\n",
       "      <td>NaN</td>\n",
       "      <td>2020-06-14 14:30:18</td>\n",
       "      <td>Montgomery</td>\n",
       "      <td>Texas</td>\n",
       "    </tr>\n",
       "    <tr>\n",
       "      <td>2346</td>\n",
       "      <td>48179</td>\n",
       "      <td>Gray County, Texas</td>\n",
       "      <td>NaN</td>\n",
       "      <td>False</td>\n",
       "      <td>NaN</td>\n",
       "      <td>False</td>\n",
       "      <td>NaN</td>\n",
       "      <td>NaN</td>\n",
       "      <td>NaN</td>\n",
       "      <td>2020-06-22 16:42:44</td>\n",
       "      <td>Gray</td>\n",
       "      <td>Texas</td>\n",
       "    </tr>\n",
       "    <tr>\n",
       "      <td>1614</td>\n",
       "      <td>48507</td>\n",
       "      <td>Zavala County, Texas</td>\n",
       "      <td>True</td>\n",
       "      <td>True</td>\n",
       "      <td>NaN</td>\n",
       "      <td>False</td>\n",
       "      <td>True</td>\n",
       "      <td>False</td>\n",
       "      <td>False</td>\n",
       "      <td>2020-07-06 15:13:36</td>\n",
       "      <td>Zavala</td>\n",
       "      <td>Texas</td>\n",
       "    </tr>\n",
       "    <tr>\n",
       "      <td>1947</td>\n",
       "      <td>48215</td>\n",
       "      <td>Hidalgo County, Texas</td>\n",
       "      <td>NaN</td>\n",
       "      <td>True</td>\n",
       "      <td>NaN</td>\n",
       "      <td>False</td>\n",
       "      <td>NaN</td>\n",
       "      <td>NaN</td>\n",
       "      <td>NaN</td>\n",
       "      <td>2020-06-14 15:12:56</td>\n",
       "      <td>Hidalgo</td>\n",
       "      <td>Texas</td>\n",
       "    </tr>\n",
       "    <tr>\n",
       "      <td>1611</td>\n",
       "      <td>48031</td>\n",
       "      <td>Blanco County, Texas</td>\n",
       "      <td>True</td>\n",
       "      <td>True</td>\n",
       "      <td>False</td>\n",
       "      <td>True</td>\n",
       "      <td>True</td>\n",
       "      <td>False</td>\n",
       "      <td>False</td>\n",
       "      <td>2020-07-06 15:03:59</td>\n",
       "      <td>Blanco</td>\n",
       "      <td>Texas</td>\n",
       "    </tr>\n",
       "  </tbody>\n",
       "</table>\n",
       "</div>"
      ],
      "text/plain": [
       "       fips               county_name school   work shelter_enforcement  \\\n",
       "1930  48339  Montgomery County, Texas    NaN   True                 NaN   \n",
       "2346  48179        Gray County, Texas    NaN  False                 NaN   \n",
       "1614  48507      Zavala County, Texas   True   True                 NaN   \n",
       "1947  48215     Hidalgo County, Texas    NaN   True                 NaN   \n",
       "1611  48031      Blanco County, Texas   True   True               False   \n",
       "\n",
       "     shelter event testing transport              updated      County  State  \n",
       "1930    True   NaN     NaN       NaN  2020-06-14 14:30:18  Montgomery  Texas  \n",
       "2346   False   NaN     NaN       NaN  2020-06-22 16:42:44        Gray  Texas  \n",
       "1614   False  True   False     False  2020-07-06 15:13:36      Zavala  Texas  \n",
       "1947   False   NaN     NaN       NaN  2020-06-14 15:12:56     Hidalgo  Texas  \n",
       "1611    True  True   False     False  2020-07-06 15:03:59      Blanco  Texas  "
      ]
     },
     "execution_count": 241,
     "metadata": {},
     "output_type": "execute_result"
    }
   ],
   "source": [
    "county_count=policy['County'].value_counts()\n",
    "df=pd.DataFrame()\n",
    "for i in county_count.index:\n",
    "    max_date=(policy[policy['County']==i]['updated']).max()\n",
    "    new_row=policy[policy['updated']==max_date]\n",
    "    df=df.append(new_row)\n",
    "df.head()"
   ]
  },
  {
   "cell_type": "code",
   "execution_count": 242,
   "metadata": {},
   "outputs": [
    {
     "data": {
      "text/html": [
       "<div>\n",
       "<style scoped>\n",
       "    .dataframe tbody tr th:only-of-type {\n",
       "        vertical-align: middle;\n",
       "    }\n",
       "\n",
       "    .dataframe tbody tr th {\n",
       "        vertical-align: top;\n",
       "    }\n",
       "\n",
       "    .dataframe thead th {\n",
       "        text-align: right;\n",
       "    }\n",
       "</style>\n",
       "<table border=\"1\" class=\"dataframe\">\n",
       "  <thead>\n",
       "    <tr style=\"text-align: right;\">\n",
       "      <th></th>\n",
       "      <th>school</th>\n",
       "      <th>work</th>\n",
       "      <th>shelter_enforcement</th>\n",
       "      <th>shelter</th>\n",
       "      <th>event</th>\n",
       "      <th>testing</th>\n",
       "      <th>transport</th>\n",
       "    </tr>\n",
       "    <tr>\n",
       "      <th>County</th>\n",
       "      <th></th>\n",
       "      <th></th>\n",
       "      <th></th>\n",
       "      <th></th>\n",
       "      <th></th>\n",
       "      <th></th>\n",
       "      <th></th>\n",
       "    </tr>\n",
       "  </thead>\n",
       "  <tbody>\n",
       "    <tr>\n",
       "      <td>Anderson</td>\n",
       "      <td>0</td>\n",
       "      <td>0</td>\n",
       "      <td>0</td>\n",
       "      <td>0</td>\n",
       "      <td>0</td>\n",
       "      <td>0</td>\n",
       "      <td>0</td>\n",
       "    </tr>\n",
       "    <tr>\n",
       "      <td>Angelina</td>\n",
       "      <td>0</td>\n",
       "      <td>0</td>\n",
       "      <td>0</td>\n",
       "      <td>0</td>\n",
       "      <td>0</td>\n",
       "      <td>0</td>\n",
       "      <td>0</td>\n",
       "    </tr>\n",
       "    <tr>\n",
       "      <td>Atascosa</td>\n",
       "      <td>0</td>\n",
       "      <td>0</td>\n",
       "      <td>0</td>\n",
       "      <td>0</td>\n",
       "      <td>0</td>\n",
       "      <td>0</td>\n",
       "      <td>0</td>\n",
       "    </tr>\n",
       "    <tr>\n",
       "      <td>Austin</td>\n",
       "      <td>0</td>\n",
       "      <td>0</td>\n",
       "      <td>0</td>\n",
       "      <td>0</td>\n",
       "      <td>0</td>\n",
       "      <td>0</td>\n",
       "      <td>0</td>\n",
       "    </tr>\n",
       "    <tr>\n",
       "      <td>Bandera</td>\n",
       "      <td>0</td>\n",
       "      <td>0</td>\n",
       "      <td>0</td>\n",
       "      <td>0</td>\n",
       "      <td>0</td>\n",
       "      <td>0</td>\n",
       "      <td>0</td>\n",
       "    </tr>\n",
       "  </tbody>\n",
       "</table>\n",
       "</div>"
      ],
      "text/plain": [
       "          school  work  shelter_enforcement  shelter  event  testing  \\\n",
       "County                                                                 \n",
       "Anderson       0     0                    0        0      0        0   \n",
       "Angelina       0     0                    0        0      0        0   \n",
       "Atascosa       0     0                    0        0      0        0   \n",
       "Austin         0     0                    0        0      0        0   \n",
       "Bandera        0     0                    0        0      0        0   \n",
       "\n",
       "          transport  \n",
       "County               \n",
       "Anderson          0  \n",
       "Angelina          0  \n",
       "Atascosa          0  \n",
       "Austin            0  \n",
       "Bandera           0  "
      ]
     },
     "execution_count": 242,
     "metadata": {},
     "output_type": "execute_result"
    }
   ],
   "source": [
    "df.drop(['county_name', 'fips', 'State', 'updated'], inplace=True, axis=1)\n",
    "df.fillna(False, inplace=True)\n",
    "df.sort_values(by='County', inplace=True)\n",
    "df.set_index('County', inplace=True)\n",
    "df=df.astype(int)\n",
    "df.head()"
   ]
  },
  {
   "cell_type": "code",
   "execution_count": 243,
   "metadata": {},
   "outputs": [
    {
     "data": {
      "text/plain": [
       "(145, 7)"
      ]
     },
     "execution_count": 243,
     "metadata": {},
     "output_type": "execute_result"
    }
   ],
   "source": [
    "df.shape"
   ]
  },
  {
   "cell_type": "code",
   "execution_count": 244,
   "metadata": {},
   "outputs": [],
   "source": [
    "policy=df.copy()"
   ]
  },
  {
   "cell_type": "markdown",
   "metadata": {},
   "source": [
    "## Health"
   ]
  },
  {
   "cell_type": "markdown",
   "metadata": {},
   "source": [
    "#### Data from 2018 https://www.countyhealthrankings.org/app/texas/2020/downloads"
   ]
  },
  {
   "cell_type": "code",
   "execution_count": 245,
   "metadata": {},
   "outputs": [
    {
     "name": "stdout",
     "output_type": "stream",
     "text": [
      "(255, 164)\n"
     ]
    },
    {
     "data": {
      "text/html": [
       "<div>\n",
       "<style scoped>\n",
       "    .dataframe tbody tr th:only-of-type {\n",
       "        vertical-align: middle;\n",
       "    }\n",
       "\n",
       "    .dataframe tbody tr th {\n",
       "        vertical-align: top;\n",
       "    }\n",
       "\n",
       "    .dataframe thead th {\n",
       "        text-align: right;\n",
       "    }\n",
       "</style>\n",
       "<table border=\"1\" class=\"dataframe\">\n",
       "  <thead>\n",
       "    <tr style=\"text-align: right;\">\n",
       "      <th></th>\n",
       "      <th>FIPS</th>\n",
       "      <th>State</th>\n",
       "      <th>County</th>\n",
       "      <th>Years of Potential Life Lost Rate</th>\n",
       "      <th>95% CI - Low</th>\n",
       "      <th>95% CI - High</th>\n",
       "      <th>Z-Score</th>\n",
       "      <th>Years of Potential Life Lost Rate (Black)</th>\n",
       "      <th>Years of Potential Life Lost Rate (Hispanic)</th>\n",
       "      <th>Years of Potential Life Lost Rate (White)</th>\n",
       "      <th>...</th>\n",
       "      <th>95% CI - High.20</th>\n",
       "      <th>Z-Score.33</th>\n",
       "      <th>% Drive Alone (Black)</th>\n",
       "      <th>% Drive Alone (Hispanic)</th>\n",
       "      <th>% Drive Alone (White)</th>\n",
       "      <th># Workers who Drive Alone</th>\n",
       "      <th>% Long Commute - Drives Alone</th>\n",
       "      <th>95% CI - Low.21</th>\n",
       "      <th>95% CI - High.21</th>\n",
       "      <th>Z-Score.34</th>\n",
       "    </tr>\n",
       "  </thead>\n",
       "  <tbody>\n",
       "    <tr>\n",
       "      <td>0</td>\n",
       "      <td>48000</td>\n",
       "      <td>Texas</td>\n",
       "      <td>NaN</td>\n",
       "      <td>6674.727141</td>\n",
       "      <td>6641.090491</td>\n",
       "      <td>6708.363792</td>\n",
       "      <td>NaN</td>\n",
       "      <td>NaN</td>\n",
       "      <td>NaN</td>\n",
       "      <td>NaN</td>\n",
       "      <td>...</td>\n",
       "      <td>80.472629</td>\n",
       "      <td>NaN</td>\n",
       "      <td>NaN</td>\n",
       "      <td>NaN</td>\n",
       "      <td>NaN</td>\n",
       "      <td>9830530</td>\n",
       "      <td>36.9</td>\n",
       "      <td>36.661702</td>\n",
       "      <td>37.138298</td>\n",
       "      <td>NaN</td>\n",
       "    </tr>\n",
       "    <tr>\n",
       "      <td>1</td>\n",
       "      <td>48001</td>\n",
       "      <td>Texas</td>\n",
       "      <td>Anderson</td>\n",
       "      <td>10118.882607</td>\n",
       "      <td>9289.179726</td>\n",
       "      <td>10948.585489</td>\n",
       "      <td>0.982814</td>\n",
       "      <td>10232.688515</td>\n",
       "      <td>12460.553717</td>\n",
       "      <td>9706.965989</td>\n",
       "      <td>...</td>\n",
       "      <td>88.382323</td>\n",
       "      <td>0.950584</td>\n",
       "      <td>76.267496</td>\n",
       "      <td>84.214162</td>\n",
       "      <td>86.808355</td>\n",
       "      <td>16394</td>\n",
       "      <td>24.3</td>\n",
       "      <td>21.019615</td>\n",
       "      <td>27.580385</td>\n",
       "      <td>-0.388055</td>\n",
       "    </tr>\n",
       "    <tr>\n",
       "      <td>2</td>\n",
       "      <td>48003</td>\n",
       "      <td>Texas</td>\n",
       "      <td>Andrews</td>\n",
       "      <td>8133.116006</td>\n",
       "      <td>6666.336541</td>\n",
       "      <td>9599.895471</td>\n",
       "      <td>-0.104561</td>\n",
       "      <td>NaN</td>\n",
       "      <td>7128.961752</td>\n",
       "      <td>10359.353201</td>\n",
       "      <td>...</td>\n",
       "      <td>82.002163</td>\n",
       "      <td>-0.424370</td>\n",
       "      <td>NaN</td>\n",
       "      <td>72.743764</td>\n",
       "      <td>84.096955</td>\n",
       "      <td>6113</td>\n",
       "      <td>26.3</td>\n",
       "      <td>19.564132</td>\n",
       "      <td>33.035868</td>\n",
       "      <td>-0.232550</td>\n",
       "    </tr>\n",
       "    <tr>\n",
       "      <td>3</td>\n",
       "      <td>48005</td>\n",
       "      <td>Texas</td>\n",
       "      <td>Angelina</td>\n",
       "      <td>8802.202511</td>\n",
       "      <td>8110.802767</td>\n",
       "      <td>9493.602256</td>\n",
       "      <td>0.261821</td>\n",
       "      <td>13478.300066</td>\n",
       "      <td>4705.742581</td>\n",
       "      <td>9058.431525</td>\n",
       "      <td>...</td>\n",
       "      <td>83.819606</td>\n",
       "      <td>0.315319</td>\n",
       "      <td>77.271893</td>\n",
       "      <td>79.643612</td>\n",
       "      <td>85.182618</td>\n",
       "      <td>28432</td>\n",
       "      <td>14.8</td>\n",
       "      <td>12.661949</td>\n",
       "      <td>16.938051</td>\n",
       "      <td>-1.126701</td>\n",
       "    </tr>\n",
       "    <tr>\n",
       "      <td>4</td>\n",
       "      <td>48007</td>\n",
       "      <td>Texas</td>\n",
       "      <td>Aransas</td>\n",
       "      <td>11303.977725</td>\n",
       "      <td>9622.581329</td>\n",
       "      <td>12985.374122</td>\n",
       "      <td>1.631754</td>\n",
       "      <td>NaN</td>\n",
       "      <td>8737.720683</td>\n",
       "      <td>12762.437844</td>\n",
       "      <td>...</td>\n",
       "      <td>86.317978</td>\n",
       "      <td>0.157691</td>\n",
       "      <td>NaN</td>\n",
       "      <td>81.697171</td>\n",
       "      <td>77.104745</td>\n",
       "      <td>7577</td>\n",
       "      <td>27.0</td>\n",
       "      <td>21.232650</td>\n",
       "      <td>32.767350</td>\n",
       "      <td>-0.178123</td>\n",
       "    </tr>\n",
       "  </tbody>\n",
       "</table>\n",
       "<p>5 rows × 164 columns</p>\n",
       "</div>"
      ],
      "text/plain": [
       "    FIPS  State    County  Years of Potential Life Lost Rate  95% CI - Low  \\\n",
       "0  48000  Texas       NaN                        6674.727141   6641.090491   \n",
       "1  48001  Texas  Anderson                       10118.882607   9289.179726   \n",
       "2  48003  Texas   Andrews                        8133.116006   6666.336541   \n",
       "3  48005  Texas  Angelina                        8802.202511   8110.802767   \n",
       "4  48007  Texas   Aransas                       11303.977725   9622.581329   \n",
       "\n",
       "   95% CI - High   Z-Score  Years of Potential Life Lost Rate (Black)  \\\n",
       "0    6708.363792       NaN                                        NaN   \n",
       "1   10948.585489  0.982814                               10232.688515   \n",
       "2    9599.895471 -0.104561                                        NaN   \n",
       "3    9493.602256  0.261821                               13478.300066   \n",
       "4   12985.374122  1.631754                                        NaN   \n",
       "\n",
       "   Years of Potential Life Lost Rate (Hispanic)  \\\n",
       "0                                           NaN   \n",
       "1                                  12460.553717   \n",
       "2                                   7128.961752   \n",
       "3                                   4705.742581   \n",
       "4                                   8737.720683   \n",
       "\n",
       "   Years of Potential Life Lost Rate (White)  ...  95% CI - High.20  \\\n",
       "0                                        NaN  ...         80.472629   \n",
       "1                                9706.965989  ...         88.382323   \n",
       "2                               10359.353201  ...         82.002163   \n",
       "3                                9058.431525  ...         83.819606   \n",
       "4                               12762.437844  ...         86.317978   \n",
       "\n",
       "   Z-Score.33  % Drive Alone (Black)  % Drive Alone (Hispanic)  \\\n",
       "0         NaN                    NaN                       NaN   \n",
       "1    0.950584              76.267496                 84.214162   \n",
       "2   -0.424370                    NaN                 72.743764   \n",
       "3    0.315319              77.271893                 79.643612   \n",
       "4    0.157691                    NaN                 81.697171   \n",
       "\n",
       "   % Drive Alone (White)  # Workers who Drive Alone  \\\n",
       "0                    NaN                    9830530   \n",
       "1              86.808355                      16394   \n",
       "2              84.096955                       6113   \n",
       "3              85.182618                      28432   \n",
       "4              77.104745                       7577   \n",
       "\n",
       "   % Long Commute - Drives Alone  95% CI - Low.21  95% CI - High.21  \\\n",
       "0                           36.9        36.661702         37.138298   \n",
       "1                           24.3        21.019615         27.580385   \n",
       "2                           26.3        19.564132         33.035868   \n",
       "3                           14.8        12.661949         16.938051   \n",
       "4                           27.0        21.232650         32.767350   \n",
       "\n",
       "   Z-Score.34  \n",
       "0         NaN  \n",
       "1   -0.388055  \n",
       "2   -0.232550  \n",
       "3   -1.126701  \n",
       "4   -0.178123  \n",
       "\n",
       "[5 rows x 164 columns]"
      ]
     },
     "execution_count": 245,
     "metadata": {},
     "output_type": "execute_result"
    }
   ],
   "source": [
    "health=pd.read_excel(r'data/2018 County Health Rankings Texas Data - v3.xls', \n",
    "                sheet_name='Ranked Measure Data', header=1)\n",
    "print(health.shape)\n",
    "health.head()"
   ]
  },
  {
   "cell_type": "markdown",
   "metadata": {},
   "source": [
    "Drop first row, which is totals Texas data"
   ]
  },
  {
   "cell_type": "code",
   "execution_count": 246,
   "metadata": {},
   "outputs": [],
   "source": [
    "health.drop(0, inplace=True)"
   ]
  },
  {
   "cell_type": "markdown",
   "metadata": {},
   "source": [
    "Drop columns with data that is repeated in other datasets"
   ]
  },
  {
   "cell_type": "code",
   "execution_count": 247,
   "metadata": {},
   "outputs": [
    {
     "name": "stdout",
     "output_type": "stream",
     "text": [
      "<class 'pandas.core.frame.DataFrame'>\n",
      "Int64Index: 254 entries, 1 to 254\n",
      "Data columns (total 29 columns):\n",
      "County                               254 non-null object\n",
      "Years of Potential Life Lost Rate    229 non-null float64\n",
      "% Fair/Poor                          254 non-null float64\n",
      "Physically Unhealthy Days            254 non-null float64\n",
      "Mentally Unhealthy Days              254 non-null float64\n",
      "Unreliable                           13 non-null object\n",
      "% Smokers                            254 non-null float64\n",
      "Food Environment Index               253 non-null float64\n",
      "% Physically Inactive                254 non-null float64\n",
      "% With Access                        254 non-null float64\n",
      "% Excessive Drinking                 254 non-null float64\n",
      "% Alcohol-Impaired                   254 non-null float64\n",
      "Chlamydia Rate                       232 non-null float64\n",
      "PCP Rate                             234 non-null float64\n",
      "Dentist Rate                         240 non-null float64\n",
      "MHP Rate                             208 non-null float64\n",
      "Preventable Hosp. Rate               233 non-null float64\n",
      "% Receiving HbA1c                    247 non-null float64\n",
      "% Mammography                        227 non-null float64\n",
      "Cohort Size                          0 non-null float64\n",
      "Graduation Rate                      252 non-null float64\n",
      "% Some College                       254 non-null float64\n",
      "Labor Force                          254 non-null int64\n",
      "Association Rate                     254 non-null float64\n",
      "Average Daily PM2.5                  254 non-null float64\n",
      "Presence of violation                254 non-null object\n",
      "% Severe Housing Problems            254 non-null float64\n",
      "% Drive Alone                        254 non-null float64\n",
      "% Long Commute - Drives Alone        254 non-null float64\n",
      "dtypes: float64(25), int64(1), object(3)\n",
      "memory usage: 59.5+ KB\n"
     ]
    }
   ],
   "source": [
    "col_list=['CI', 'Z-Score', 'White', 'Black', 'Hispanic', '# ', 'Poverty', 'Income', 'Ratio']\n",
    "for c in col_list:\n",
    "    drop_cols=health.columns[health.columns.str.contains(c)]\n",
    "    health.drop(drop_cols, axis=1, inplace=True)\n",
    "health.drop(['FIPS', 'State', 'Population', 'Teen Birth Rate', '% Uninsured', 'Violent Crime Rate', '% Obese',\n",
    "      '% Single-Parent Households', '% LBW', 'Injury Death Rate', '% Unemployed'], axis=1, inplace=True)\n",
    "health.info()"
   ]
  },
  {
   "cell_type": "markdown",
   "metadata": {},
   "source": [
    "Drop columns with too many null values."
   ]
  },
  {
   "cell_type": "code",
   "execution_count": 248,
   "metadata": {},
   "outputs": [],
   "source": [
    "health.drop(['Cohort Size', 'Unreliable'], axis=1, inplace=True)"
   ]
  },
  {
   "cell_type": "markdown",
   "metadata": {},
   "source": [
    "Format county to remove spaces, make title case, and set as index"
   ]
  },
  {
   "cell_type": "code",
   "execution_count": 249,
   "metadata": {},
   "outputs": [],
   "source": [
    "health['County']=health['County'].str.replace(' ', '')\n",
    "health['County']=health['County'].str.title()\n",
    "health.sort_values(by='County', inplace=True)\n",
    "health.set_index('County', inplace=True)"
   ]
  },
  {
   "cell_type": "markdown",
   "metadata": {},
   "source": [
    "Use one hot encoding for categorical data"
   ]
  },
  {
   "cell_type": "code",
   "execution_count": 250,
   "metadata": {},
   "outputs": [],
   "source": [
    "violations=pd.get_dummies(health['Presence of violation'], drop_first=True)\n",
    "health.drop('Presence of violation', axis=1, inplace=True)\n",
    "health=pd.concat([health, violations], axis=1)"
   ]
  },
  {
   "cell_type": "markdown",
   "metadata": {},
   "source": [
    "Use median to fill null values"
   ]
  },
  {
   "cell_type": "code",
   "execution_count": 251,
   "metadata": {},
   "outputs": [
    {
     "name": "stdout",
     "output_type": "stream",
     "text": [
      "<class 'pandas.core.frame.DataFrame'>\n",
      "Index: 254 entries, Anderson to Zavala\n",
      "Data columns (total 26 columns):\n",
      "Years of Potential Life Lost Rate    254 non-null float64\n",
      "% Fair/Poor                          254 non-null float64\n",
      "Physically Unhealthy Days            254 non-null float64\n",
      "Mentally Unhealthy Days              254 non-null float64\n",
      "% Smokers                            254 non-null float64\n",
      "Food Environment Index               254 non-null float64\n",
      "% Physically Inactive                254 non-null float64\n",
      "% With Access                        254 non-null float64\n",
      "% Excessive Drinking                 254 non-null float64\n",
      "% Alcohol-Impaired                   254 non-null float64\n",
      "Chlamydia Rate                       254 non-null float64\n",
      "PCP Rate                             254 non-null float64\n",
      "Dentist Rate                         254 non-null float64\n",
      "MHP Rate                             254 non-null float64\n",
      "Preventable Hosp. Rate               254 non-null float64\n",
      "% Receiving HbA1c                    254 non-null float64\n",
      "% Mammography                        254 non-null float64\n",
      "Graduation Rate                      254 non-null float64\n",
      "% Some College                       254 non-null float64\n",
      "Labor Force                          254 non-null int64\n",
      "Association Rate                     254 non-null float64\n",
      "Average Daily PM2.5                  254 non-null float64\n",
      "% Severe Housing Problems            254 non-null float64\n",
      "% Drive Alone                        254 non-null float64\n",
      "% Long Commute - Drives Alone        254 non-null float64\n",
      "Yes                                  254 non-null uint8\n",
      "dtypes: float64(24), int64(1), uint8(1)\n",
      "memory usage: 51.8+ KB\n"
     ]
    }
   ],
   "source": [
    "health=health.apply(lambda x: x.fillna(x.median()))\n",
    "health.info()"
   ]
  },
  {
   "cell_type": "markdown",
   "metadata": {},
   "source": [
    "## Healthcare worker shortage"
   ]
  },
  {
   "cell_type": "markdown",
   "metadata": {},
   "source": [
    "#### Data from https://data.hrsa.gov/tools/shortage-area/hpsa-find"
   ]
  },
  {
   "cell_type": "code",
   "execution_count": 252,
   "metadata": {},
   "outputs": [
    {
     "name": "stdout",
     "output_type": "stream",
     "text": [
      "(104, 12)\n"
     ]
    },
    {
     "data": {
      "text/html": [
       "<div>\n",
       "<style scoped>\n",
       "    .dataframe tbody tr th:only-of-type {\n",
       "        vertical-align: middle;\n",
       "    }\n",
       "\n",
       "    .dataframe tbody tr th {\n",
       "        vertical-align: top;\n",
       "    }\n",
       "\n",
       "    .dataframe thead th {\n",
       "        text-align: right;\n",
       "    }\n",
       "</style>\n",
       "<table border=\"1\" class=\"dataframe\">\n",
       "  <thead>\n",
       "    <tr style=\"text-align: right;\">\n",
       "      <th></th>\n",
       "      <th>Unnamed: 0</th>\n",
       "      <th>Unnamed: 1</th>\n",
       "      <th>Unnamed: 2</th>\n",
       "      <th>Unnamed: 3</th>\n",
       "      <th>Unnamed: 4</th>\n",
       "      <th>Unnamed: 5</th>\n",
       "      <th>Unnamed: 6</th>\n",
       "      <th>Unnamed: 7</th>\n",
       "      <th>Unnamed: 8</th>\n",
       "      <th>Unnamed: 9</th>\n",
       "      <th>Unnamed: 10</th>\n",
       "      <th>Unnamed: 11</th>\n",
       "    </tr>\n",
       "  </thead>\n",
       "  <tbody>\n",
       "    <tr>\n",
       "      <td>0</td>\n",
       "      <td>Primary Care</td>\n",
       "      <td>1483633182</td>\n",
       "      <td>Andrews County</td>\n",
       "      <td>Geographic HPSA</td>\n",
       "      <td>Texas</td>\n",
       "      <td>Andrews County, TX</td>\n",
       "      <td>0.975</td>\n",
       "      <td>11</td>\n",
       "      <td>Designated</td>\n",
       "      <td>Rural</td>\n",
       "      <td>02/27/2020</td>\n",
       "      <td>02/27/2020</td>\n",
       "    </tr>\n",
       "    <tr>\n",
       "      <td>1</td>\n",
       "      <td>Primary Care</td>\n",
       "      <td>1482120909</td>\n",
       "      <td>Aransas County</td>\n",
       "      <td>Geographic HPSA</td>\n",
       "      <td>Texas</td>\n",
       "      <td>Aransas County, TX</td>\n",
       "      <td>2.310</td>\n",
       "      <td>17</td>\n",
       "      <td>Designated</td>\n",
       "      <td>Partially Rural</td>\n",
       "      <td>09/26/2013</td>\n",
       "      <td>02/27/2020</td>\n",
       "    </tr>\n",
       "    <tr>\n",
       "      <td>2</td>\n",
       "      <td>Primary Care</td>\n",
       "      <td>1486293868</td>\n",
       "      <td>Archer County</td>\n",
       "      <td>Geographic HPSA</td>\n",
       "      <td>Texas</td>\n",
       "      <td>Archer County, TX</td>\n",
       "      <td>2.470</td>\n",
       "      <td>16</td>\n",
       "      <td>Designated</td>\n",
       "      <td>Partially Rural</td>\n",
       "      <td>09/16/1979</td>\n",
       "      <td>02/03/2020</td>\n",
       "    </tr>\n",
       "    <tr>\n",
       "      <td>3</td>\n",
       "      <td>Primary Care</td>\n",
       "      <td>1486348360</td>\n",
       "      <td>Armstrong County</td>\n",
       "      <td>Geographic HPSA</td>\n",
       "      <td>Texas</td>\n",
       "      <td>Armstrong County, TX</td>\n",
       "      <td>0.530</td>\n",
       "      <td>15</td>\n",
       "      <td>Designated</td>\n",
       "      <td>Rural</td>\n",
       "      <td>08/09/1979</td>\n",
       "      <td>12/22/2019</td>\n",
       "    </tr>\n",
       "    <tr>\n",
       "      <td>4</td>\n",
       "      <td>Primary Care</td>\n",
       "      <td>1485163155</td>\n",
       "      <td>Atascosa County</td>\n",
       "      <td>Geographic HPSA</td>\n",
       "      <td>Texas</td>\n",
       "      <td>Atascosa County, TX</td>\n",
       "      <td>3.985</td>\n",
       "      <td>13</td>\n",
       "      <td>Designated</td>\n",
       "      <td>Non-Rural</td>\n",
       "      <td>05/30/1978</td>\n",
       "      <td>04/26/2020</td>\n",
       "    </tr>\n",
       "  </tbody>\n",
       "</table>\n",
       "</div>"
      ],
      "text/plain": [
       "     Unnamed: 0  Unnamed: 1        Unnamed: 2       Unnamed: 3 Unnamed: 4  \\\n",
       "0  Primary Care  1483633182    Andrews County  Geographic HPSA      Texas   \n",
       "1  Primary Care  1482120909    Aransas County  Geographic HPSA      Texas   \n",
       "2  Primary Care  1486293868     Archer County  Geographic HPSA      Texas   \n",
       "3  Primary Care  1486348360  Armstrong County  Geographic HPSA      Texas   \n",
       "4  Primary Care  1485163155   Atascosa County  Geographic HPSA      Texas   \n",
       "\n",
       "             Unnamed: 5  Unnamed: 6  Unnamed: 7  Unnamed: 8       Unnamed: 9  \\\n",
       "0    Andrews County, TX       0.975          11  Designated            Rural   \n",
       "1    Aransas County, TX       2.310          17  Designated  Partially Rural   \n",
       "2     Archer County, TX       2.470          16  Designated  Partially Rural   \n",
       "3  Armstrong County, TX       0.530          15  Designated            Rural   \n",
       "4   Atascosa County, TX       3.985          13  Designated        Non-Rural   \n",
       "\n",
       "  Unnamed: 10 Unnamed: 11  \n",
       "0  02/27/2020  02/27/2020  \n",
       "1  09/26/2013  02/27/2020  \n",
       "2  09/16/1979  02/03/2020  \n",
       "3  08/09/1979  12/22/2019  \n",
       "4  05/30/1978  04/26/2020  "
      ]
     },
     "execution_count": 252,
     "metadata": {},
     "output_type": "execute_result"
    }
   ],
   "source": [
    "hws=pd.read_csv(r'data/Healthcare worker shortage.csv')\n",
    "print(hws.shape)\n",
    "hws.head()"
   ]
  },
  {
   "cell_type": "markdown",
   "metadata": {},
   "source": [
    "Drop unneeded columns and rename remaining columns.  Short is how many healthcare workers are needed to meet target, and score indicated priority (lower score is lower priority)."
   ]
  },
  {
   "cell_type": "code",
   "execution_count": 253,
   "metadata": {},
   "outputs": [
    {
     "data": {
      "text/html": [
       "<div>\n",
       "<style scoped>\n",
       "    .dataframe tbody tr th:only-of-type {\n",
       "        vertical-align: middle;\n",
       "    }\n",
       "\n",
       "    .dataframe tbody tr th {\n",
       "        vertical-align: top;\n",
       "    }\n",
       "\n",
       "    .dataframe thead th {\n",
       "        text-align: right;\n",
       "    }\n",
       "</style>\n",
       "<table border=\"1\" class=\"dataframe\">\n",
       "  <thead>\n",
       "    <tr style=\"text-align: right;\">\n",
       "      <th></th>\n",
       "      <th>County</th>\n",
       "      <th>Short</th>\n",
       "      <th>Score</th>\n",
       "    </tr>\n",
       "  </thead>\n",
       "  <tbody>\n",
       "    <tr>\n",
       "      <td>0</td>\n",
       "      <td>Andrews County</td>\n",
       "      <td>0.975</td>\n",
       "      <td>11</td>\n",
       "    </tr>\n",
       "    <tr>\n",
       "      <td>1</td>\n",
       "      <td>Aransas County</td>\n",
       "      <td>2.310</td>\n",
       "      <td>17</td>\n",
       "    </tr>\n",
       "    <tr>\n",
       "      <td>2</td>\n",
       "      <td>Archer County</td>\n",
       "      <td>2.470</td>\n",
       "      <td>16</td>\n",
       "    </tr>\n",
       "    <tr>\n",
       "      <td>3</td>\n",
       "      <td>Armstrong County</td>\n",
       "      <td>0.530</td>\n",
       "      <td>15</td>\n",
       "    </tr>\n",
       "    <tr>\n",
       "      <td>4</td>\n",
       "      <td>Atascosa County</td>\n",
       "      <td>3.985</td>\n",
       "      <td>13</td>\n",
       "    </tr>\n",
       "  </tbody>\n",
       "</table>\n",
       "</div>"
      ],
      "text/plain": [
       "             County  Short  Score\n",
       "0    Andrews County  0.975     11\n",
       "1    Aransas County  2.310     17\n",
       "2     Archer County  2.470     16\n",
       "3  Armstrong County  0.530     15\n",
       "4   Atascosa County  3.985     13"
      ]
     },
     "execution_count": 253,
     "metadata": {},
     "output_type": "execute_result"
    }
   ],
   "source": [
    "cols=[0,1,3,4,5,8,9,10,11]\n",
    "hws.drop(hws.columns[cols], inplace=True, axis=1)\n",
    "hws.columns=['County', 'Short', 'Score']\n",
    "hws.head()"
   ]
  },
  {
   "cell_type": "code",
   "execution_count": 254,
   "metadata": {},
   "outputs": [
    {
     "data": {
      "text/html": [
       "<div>\n",
       "<style scoped>\n",
       "    .dataframe tbody tr th:only-of-type {\n",
       "        vertical-align: middle;\n",
       "    }\n",
       "\n",
       "    .dataframe tbody tr th {\n",
       "        vertical-align: top;\n",
       "    }\n",
       "\n",
       "    .dataframe thead th {\n",
       "        text-align: right;\n",
       "    }\n",
       "</style>\n",
       "<table border=\"1\" class=\"dataframe\">\n",
       "  <thead>\n",
       "    <tr style=\"text-align: right;\">\n",
       "      <th></th>\n",
       "      <th>Short</th>\n",
       "      <th>Score</th>\n",
       "    </tr>\n",
       "    <tr>\n",
       "      <th>County</th>\n",
       "      <th></th>\n",
       "      <th></th>\n",
       "    </tr>\n",
       "  </thead>\n",
       "  <tbody>\n",
       "    <tr>\n",
       "      <td>Andrews</td>\n",
       "      <td>0.975</td>\n",
       "      <td>11</td>\n",
       "    </tr>\n",
       "    <tr>\n",
       "      <td>Aransas</td>\n",
       "      <td>2.310</td>\n",
       "      <td>17</td>\n",
       "    </tr>\n",
       "    <tr>\n",
       "      <td>Archer</td>\n",
       "      <td>2.470</td>\n",
       "      <td>16</td>\n",
       "    </tr>\n",
       "    <tr>\n",
       "      <td>Armstrong</td>\n",
       "      <td>0.530</td>\n",
       "      <td>15</td>\n",
       "    </tr>\n",
       "    <tr>\n",
       "      <td>Atascosa</td>\n",
       "      <td>3.985</td>\n",
       "      <td>13</td>\n",
       "    </tr>\n",
       "  </tbody>\n",
       "</table>\n",
       "</div>"
      ],
      "text/plain": [
       "           Short  Score\n",
       "County                 \n",
       "Andrews    0.975     11\n",
       "Aransas    2.310     17\n",
       "Archer     2.470     16\n",
       "Armstrong  0.530     15\n",
       "Atascosa   3.985     13"
      ]
     },
     "execution_count": 254,
     "metadata": {},
     "output_type": "execute_result"
    }
   ],
   "source": [
    "hws['County']=hws['County'].str.replace('County', '')\n",
    "hws['County']=hws['County'].str.replace(' ', '')\n",
    "hws['County']=hws['County'].str.title()\n",
    "hws.sort_values(by='County', inplace=True)\n",
    "hws.set_index('County', inplace=True)\n",
    "hws.head()"
   ]
  },
  {
   "cell_type": "markdown",
   "metadata": {},
   "source": [
    "## Combine dataframes and save to csv file"
   ]
  },
  {
   "cell_type": "code",
   "execution_count": 255,
   "metadata": {},
   "outputs": [
    {
     "data": {
      "text/plain": [
       "(254, 6)"
      ]
     },
     "execution_count": 255,
     "metadata": {},
     "output_type": "execute_result"
    }
   ],
   "source": [
    "land_airports=pd.merge(land, airports_county, how='left', left_index=True, right_index=True)\n",
    "land_airports.shape"
   ]
  },
  {
   "cell_type": "code",
   "execution_count": 256,
   "metadata": {},
   "outputs": [
    {
     "data": {
      "text/plain": [
       "(254, 11)"
      ]
     },
     "execution_count": 256,
     "metadata": {},
     "output_type": "execute_result"
    }
   ],
   "source": [
    "land_airports_tax=pd.merge(land_airports, tax, how='left', left_index=True, right_index=True)\n",
    "land_airports_tax.shape"
   ]
  },
  {
   "cell_type": "code",
   "execution_count": 257,
   "metadata": {},
   "outputs": [
    {
     "data": {
      "text/plain": [
       "(254, 17)"
      ]
     },
     "execution_count": 257,
     "metadata": {},
     "output_type": "execute_result"
    }
   ],
   "source": [
    "land_airports_tax_income=pd.merge(land_airports_tax, income, how='left', left_index=True, right_index=True)\n",
    "land_airports_tax_income.shape"
   ]
  },
  {
   "cell_type": "code",
   "execution_count": 258,
   "metadata": {},
   "outputs": [
    {
     "data": {
      "text/plain": [
       "(254, 19)"
      ]
     },
     "execution_count": 258,
     "metadata": {},
     "output_type": "execute_result"
    }
   ],
   "source": [
    "combined=pd.merge(land_airports_tax_income, pop, how='left', left_index=True, right_index=True)\n",
    "combined.shape"
   ]
  },
  {
   "cell_type": "code",
   "execution_count": 259,
   "metadata": {},
   "outputs": [
    {
     "data": {
      "text/plain": [
       "Percent Urban                                                           0\n",
       "Percent Rural                                                           0\n",
       "Enplanements                                                           43\n",
       "Number                                                                 43\n",
       "customs_Y                                                              43\n",
       "hub_Y                                                                  43\n",
       "Total Market Value                                                      0\n",
       "Total Actual Levy                                                       0\n",
       "Total County Tax Rate                                                   0\n",
       "Total Appraised Value (Total Taxable Value for FM/FC)                   0\n",
       "Total Appraised Value (Total Taxable Value for County Tax Purposes)     0\n",
       "Per Capita Income                                                       0\n",
       "Total Personal Income                                                   0\n",
       "Median Household Income                                                 0\n",
       "Average Annual Pay                                                      0\n",
       "% of Population in Poverty                                              0\n",
       "% of Population Under 18 in Poverty                                     0\n",
       "Population                                                              0\n",
       "Population Density                                                      0\n",
       "dtype: int64"
      ]
     },
     "execution_count": 259,
     "metadata": {},
     "output_type": "execute_result"
    }
   ],
   "source": [
    "combined.isnull().sum()"
   ]
  },
  {
   "cell_type": "code",
   "execution_count": 260,
   "metadata": {},
   "outputs": [],
   "source": [
    "combined.fillna(0, inplace=True)"
   ]
  },
  {
   "cell_type": "code",
   "execution_count": 261,
   "metadata": {},
   "outputs": [
    {
     "data": {
      "text/plain": [
       "(254, 19)"
      ]
     },
     "execution_count": 261,
     "metadata": {},
     "output_type": "execute_result"
    }
   ],
   "source": [
    "combined.shape"
   ]
  },
  {
   "cell_type": "code",
   "execution_count": 262,
   "metadata": {},
   "outputs": [],
   "source": [
    "combined=pd.merge(combined, policy_scores, how='left', left_index=True, right_index=True)\n",
    "combined=pd.merge(combined, policy, how='left', left_index=True, right_index=True)"
   ]
  },
  {
   "cell_type": "code",
   "execution_count": 263,
   "metadata": {},
   "outputs": [
    {
     "data": {
      "text/plain": [
       "Percent Urban                                                            0\n",
       "Percent Rural                                                            0\n",
       "Enplanements                                                             0\n",
       "Number                                                                   0\n",
       "customs_Y                                                                0\n",
       "hub_Y                                                                    0\n",
       "Total Market Value                                                       0\n",
       "Total Actual Levy                                                        0\n",
       "Total County Tax Rate                                                    0\n",
       "Total Appraised Value (Total Taxable Value for FM/FC)                    0\n",
       "Total Appraised Value (Total Taxable Value for County Tax Purposes)      0\n",
       "Per Capita Income                                                        0\n",
       "Total Personal Income                                                    0\n",
       "Median Household Income                                                  0\n",
       "Average Annual Pay                                                       0\n",
       "% of Population in Poverty                                               0\n",
       "% of Population Under 18 in Poverty                                      0\n",
       "Population                                                               0\n",
       "Population Density                                                       0\n",
       "Policy Score                                                           120\n",
       "school                                                                 120\n",
       "work                                                                   120\n",
       "shelter_enforcement                                                    120\n",
       "shelter                                                                120\n",
       "event                                                                  120\n",
       "testing                                                                120\n",
       "transport                                                              120\n",
       "dtype: int64"
      ]
     },
     "execution_count": 263,
     "metadata": {},
     "output_type": "execute_result"
    }
   ],
   "source": [
    "combined.isnull().sum()"
   ]
  },
  {
   "cell_type": "code",
   "execution_count": 264,
   "metadata": {},
   "outputs": [],
   "source": [
    "policy_score_med=combined['Policy Score'].median()"
   ]
  },
  {
   "cell_type": "code",
   "execution_count": 265,
   "metadata": {},
   "outputs": [],
   "source": [
    "combined['Policy Score'].fillna(policy_score_med, inplace=True)"
   ]
  },
  {
   "cell_type": "code",
   "execution_count": 266,
   "metadata": {},
   "outputs": [],
   "source": [
    "combined.fillna(0, inplace=True)"
   ]
  },
  {
   "cell_type": "code",
   "execution_count": 267,
   "metadata": {},
   "outputs": [],
   "source": [
    "combined.index=combined.index.str.replace(' ', '')\n",
    "combined.index=combined.index.str.title()"
   ]
  },
  {
   "cell_type": "code",
   "execution_count": 268,
   "metadata": {},
   "outputs": [
    {
     "data": {
      "text/plain": [
       "(254, 26)"
      ]
     },
     "execution_count": 268,
     "metadata": {},
     "output_type": "execute_result"
    }
   ],
   "source": [
    "health.shape"
   ]
  },
  {
   "cell_type": "code",
   "execution_count": 269,
   "metadata": {},
   "outputs": [
    {
     "data": {
      "text/plain": [
       "Percent Urban                                                          0\n",
       "Percent Rural                                                          0\n",
       "Enplanements                                                           0\n",
       "Number                                                                 0\n",
       "customs_Y                                                              0\n",
       "hub_Y                                                                  0\n",
       "Total Market Value                                                     0\n",
       "Total Actual Levy                                                      0\n",
       "Total County Tax Rate                                                  0\n",
       "Total Appraised Value (Total Taxable Value for FM/FC)                  0\n",
       "Total Appraised Value (Total Taxable Value for County Tax Purposes)    0\n",
       "Per Capita Income                                                      0\n",
       "Total Personal Income                                                  0\n",
       "Median Household Income                                                0\n",
       "Average Annual Pay                                                     0\n",
       "% of Population in Poverty                                             0\n",
       "% of Population Under 18 in Poverty                                    0\n",
       "Population                                                             0\n",
       "Population Density                                                     0\n",
       "Policy Score                                                           0\n",
       "school                                                                 0\n",
       "work                                                                   0\n",
       "shelter_enforcement                                                    0\n",
       "shelter                                                                0\n",
       "event                                                                  0\n",
       "testing                                                                0\n",
       "transport                                                              0\n",
       "Years of Potential Life Lost Rate                                      0\n",
       "% Fair/Poor                                                            0\n",
       "Physically Unhealthy Days                                              0\n",
       "Mentally Unhealthy Days                                                0\n",
       "% Smokers                                                              0\n",
       "Food Environment Index                                                 0\n",
       "% Physically Inactive                                                  0\n",
       "% With Access                                                          0\n",
       "% Excessive Drinking                                                   0\n",
       "% Alcohol-Impaired                                                     0\n",
       "Chlamydia Rate                                                         0\n",
       "PCP Rate                                                               0\n",
       "Dentist Rate                                                           0\n",
       "MHP Rate                                                               0\n",
       "Preventable Hosp. Rate                                                 0\n",
       "% Receiving HbA1c                                                      0\n",
       "% Mammography                                                          0\n",
       "Graduation Rate                                                        0\n",
       "% Some College                                                         0\n",
       "Labor Force                                                            0\n",
       "Association Rate                                                       0\n",
       "Average Daily PM2.5                                                    0\n",
       "% Severe Housing Problems                                              0\n",
       "% Drive Alone                                                          0\n",
       "% Long Commute - Drives Alone                                          0\n",
       "Yes                                                                    0\n",
       "dtype: int64"
      ]
     },
     "execution_count": 269,
     "metadata": {},
     "output_type": "execute_result"
    }
   ],
   "source": [
    "combined=pd.merge(combined, health, how='left', left_index=True, right_index=True)\n",
    "combined.isnull().sum()"
   ]
  },
  {
   "cell_type": "code",
   "execution_count": 270,
   "metadata": {},
   "outputs": [
    {
     "data": {
      "text/plain": [
       "Percent Urban                                                            0\n",
       "Percent Rural                                                            0\n",
       "Enplanements                                                             0\n",
       "Number                                                                   0\n",
       "customs_Y                                                                0\n",
       "hub_Y                                                                    0\n",
       "Total Market Value                                                       0\n",
       "Total Actual Levy                                                        0\n",
       "Total County Tax Rate                                                    0\n",
       "Total Appraised Value (Total Taxable Value for FM/FC)                    0\n",
       "Total Appraised Value (Total Taxable Value for County Tax Purposes)      0\n",
       "Per Capita Income                                                        0\n",
       "Total Personal Income                                                    0\n",
       "Median Household Income                                                  0\n",
       "Average Annual Pay                                                       0\n",
       "% of Population in Poverty                                               0\n",
       "% of Population Under 18 in Poverty                                      0\n",
       "Population                                                               0\n",
       "Population Density                                                       0\n",
       "Policy Score                                                             0\n",
       "school                                                                   0\n",
       "work                                                                     0\n",
       "shelter_enforcement                                                      0\n",
       "shelter                                                                  0\n",
       "event                                                                    0\n",
       "testing                                                                  0\n",
       "transport                                                                0\n",
       "Years of Potential Life Lost Rate                                        0\n",
       "% Fair/Poor                                                              0\n",
       "Physically Unhealthy Days                                                0\n",
       "Mentally Unhealthy Days                                                  0\n",
       "% Smokers                                                                0\n",
       "Food Environment Index                                                   0\n",
       "% Physically Inactive                                                    0\n",
       "% With Access                                                            0\n",
       "% Excessive Drinking                                                     0\n",
       "% Alcohol-Impaired                                                       0\n",
       "Chlamydia Rate                                                           0\n",
       "PCP Rate                                                                 0\n",
       "Dentist Rate                                                             0\n",
       "MHP Rate                                                                 0\n",
       "Preventable Hosp. Rate                                                   0\n",
       "% Receiving HbA1c                                                        0\n",
       "% Mammography                                                            0\n",
       "Graduation Rate                                                          0\n",
       "% Some College                                                           0\n",
       "Labor Force                                                              0\n",
       "Association Rate                                                         0\n",
       "Average Daily PM2.5                                                      0\n",
       "% Severe Housing Problems                                                0\n",
       "% Drive Alone                                                            0\n",
       "% Long Commute - Drives Alone                                            0\n",
       "Yes                                                                      0\n",
       "Short                                                                  158\n",
       "Score                                                                  158\n",
       "dtype: int64"
      ]
     },
     "execution_count": 270,
     "metadata": {},
     "output_type": "execute_result"
    }
   ],
   "source": [
    "combined=pd.merge(combined, hws, how='left', left_index=True, right_index=True)\n",
    "combined.isnull().sum()"
   ]
  },
  {
   "cell_type": "code",
   "execution_count": 271,
   "metadata": {},
   "outputs": [],
   "source": [
    "combined.fillna(0, inplace=True)"
   ]
  },
  {
   "cell_type": "code",
   "execution_count": 272,
   "metadata": {},
   "outputs": [],
   "source": [
    "combined.to_csv(r'data\\all_tlip.csv')"
   ]
  }
 ],
 "metadata": {
  "kernelspec": {
   "display_name": "Python 3",
   "language": "python",
   "name": "python3"
  },
  "language_info": {
   "codemirror_mode": {
    "name": "ipython",
    "version": 3
   },
   "file_extension": ".py",
   "mimetype": "text/x-python",
   "name": "python",
   "nbconvert_exporter": "python",
   "pygments_lexer": "ipython3",
   "version": "3.7.4"
  }
 },
 "nbformat": 4,
 "nbformat_minor": 2
}
