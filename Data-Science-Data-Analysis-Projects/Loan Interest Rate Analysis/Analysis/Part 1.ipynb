{
 "cells": [
  {
   "cell_type": "markdown",
   "metadata": {},
   "source": [
    "# Gia Gillis "
   ]
  },
  {
   "cell_type": "markdown",
   "metadata": {},
   "source": [
    "## Loan Interest Rate Analysis Part 1 of 3"
   ]
  },
  {
   "cell_type": "markdown",
   "metadata": {},
   "source": [
    "### Data cleaning."
   ]
  },
  {
   "cell_type": "markdown",
   "metadata": {},
   "source": [
    "#### Import needed libraries."
   ]
  },
  {
   "cell_type": "code",
   "execution_count": 5,
   "metadata": {},
   "outputs": [],
   "source": [
    "import pandas as pd\n",
    "import numpy as np\n",
    "from datetime import datetime\n",
    "from dateutil.relativedelta import relativedelta"
   ]
  },
  {
   "cell_type": "markdown",
   "metadata": {},
   "source": [
    "#### Read csv file and force Loan Id (X2), Borrower Id (X3), and Reason (X16) columns to strings, and rename columns."
   ]
  },
  {
   "cell_type": "code",
   "execution_count": 6,
   "metadata": {},
   "outputs": [],
   "source": [
    "loans=pd.read_csv(r'C:\\Users\\Gia\\Downloads\\Analyst_Test\\Analyst_Test\\loan_interest_rates.csv', \n",
    "                  dtype={'X2': str, 'X3':str, 'X16': str}, parse_dates=True)\n",
    "loans.columns=['Interest Rate', 'Loan Id', 'Borrower Id', 'Requested', 'Funded', 'Investor Funded', 'Number of Payments',\n",
    "              'Loan Grade', 'Loan Subgrade', 'Job', 'Years Employed', 'Home', 'Annual Income', 'Income Verified', 'Loan Date',\n",
    "              'Reason', 'Loan Cat', 'Loan Title', 'State', 'Ratio', 'Late Payments', 'Credit Line Date', 'Months Del',\n",
    "              'Months PR', 'Derog Recs', 'Credit Lines', 'Status']"
   ]
  },
  {
   "cell_type": "code",
   "execution_count": 7,
   "metadata": {},
   "outputs": [
    {
     "data": {
      "text/html": [
       "<div>\n",
       "<style scoped>\n",
       "    .dataframe tbody tr th:only-of-type {\n",
       "        vertical-align: middle;\n",
       "    }\n",
       "\n",
       "    .dataframe tbody tr th {\n",
       "        vertical-align: top;\n",
       "    }\n",
       "\n",
       "    .dataframe thead th {\n",
       "        text-align: right;\n",
       "    }\n",
       "</style>\n",
       "<table border=\"1\" class=\"dataframe\">\n",
       "  <thead>\n",
       "    <tr style=\"text-align: right;\">\n",
       "      <th></th>\n",
       "      <th>Interest Rate</th>\n",
       "      <th>Loan Id</th>\n",
       "      <th>Borrower Id</th>\n",
       "      <th>Requested</th>\n",
       "      <th>Funded</th>\n",
       "      <th>Investor Funded</th>\n",
       "      <th>Number of Payments</th>\n",
       "      <th>Loan Grade</th>\n",
       "      <th>Loan Subgrade</th>\n",
       "      <th>Job</th>\n",
       "      <th>...</th>\n",
       "      <th>Loan Title</th>\n",
       "      <th>State</th>\n",
       "      <th>Ratio</th>\n",
       "      <th>Late Payments</th>\n",
       "      <th>Credit Line Date</th>\n",
       "      <th>Months Del</th>\n",
       "      <th>Months PR</th>\n",
       "      <th>Derog Recs</th>\n",
       "      <th>Credit Lines</th>\n",
       "      <th>Status</th>\n",
       "    </tr>\n",
       "  </thead>\n",
       "  <tbody>\n",
       "    <tr>\n",
       "      <td>0</td>\n",
       "      <td>11.89%</td>\n",
       "      <td>54734</td>\n",
       "      <td>80364</td>\n",
       "      <td>$25,000</td>\n",
       "      <td>$25,000</td>\n",
       "      <td>$19,080</td>\n",
       "      <td>36 months</td>\n",
       "      <td>B</td>\n",
       "      <td>B4</td>\n",
       "      <td>NaN</td>\n",
       "      <td>...</td>\n",
       "      <td>Debt consolidation for on-time payer</td>\n",
       "      <td>CA</td>\n",
       "      <td>19.48</td>\n",
       "      <td>0.0</td>\n",
       "      <td>Feb-94</td>\n",
       "      <td>NaN</td>\n",
       "      <td>NaN</td>\n",
       "      <td>0.0</td>\n",
       "      <td>42.0</td>\n",
       "      <td>f</td>\n",
       "    </tr>\n",
       "    <tr>\n",
       "      <td>1</td>\n",
       "      <td>10.71%</td>\n",
       "      <td>55742</td>\n",
       "      <td>114426</td>\n",
       "      <td>$7,000</td>\n",
       "      <td>$7,000</td>\n",
       "      <td>$673</td>\n",
       "      <td>36 months</td>\n",
       "      <td>B</td>\n",
       "      <td>B5</td>\n",
       "      <td>CNN</td>\n",
       "      <td>...</td>\n",
       "      <td>Credit Card payoff</td>\n",
       "      <td>NY</td>\n",
       "      <td>14.29</td>\n",
       "      <td>0.0</td>\n",
       "      <td>Oct-00</td>\n",
       "      <td>NaN</td>\n",
       "      <td>NaN</td>\n",
       "      <td>0.0</td>\n",
       "      <td>7.0</td>\n",
       "      <td>f</td>\n",
       "    </tr>\n",
       "    <tr>\n",
       "      <td>2</td>\n",
       "      <td>16.99%</td>\n",
       "      <td>57167</td>\n",
       "      <td>137225</td>\n",
       "      <td>$25,000</td>\n",
       "      <td>$25,000</td>\n",
       "      <td>$24,725</td>\n",
       "      <td>36 months</td>\n",
       "      <td>D</td>\n",
       "      <td>D3</td>\n",
       "      <td>Web Programmer</td>\n",
       "      <td>...</td>\n",
       "      <td>mlue</td>\n",
       "      <td>NY</td>\n",
       "      <td>10.50</td>\n",
       "      <td>0.0</td>\n",
       "      <td>Jun-00</td>\n",
       "      <td>41.0</td>\n",
       "      <td>NaN</td>\n",
       "      <td>0.0</td>\n",
       "      <td>17.0</td>\n",
       "      <td>f</td>\n",
       "    </tr>\n",
       "    <tr>\n",
       "      <td>3</td>\n",
       "      <td>13.11%</td>\n",
       "      <td>57245</td>\n",
       "      <td>138150</td>\n",
       "      <td>$1,200</td>\n",
       "      <td>$1,200</td>\n",
       "      <td>$1,200</td>\n",
       "      <td>36 months</td>\n",
       "      <td>C</td>\n",
       "      <td>C2</td>\n",
       "      <td>city of beaumont texas</td>\n",
       "      <td>...</td>\n",
       "      <td>zxcvb</td>\n",
       "      <td>TX</td>\n",
       "      <td>5.47</td>\n",
       "      <td>0.0</td>\n",
       "      <td>Jan-85</td>\n",
       "      <td>64.0</td>\n",
       "      <td>NaN</td>\n",
       "      <td>0.0</td>\n",
       "      <td>31.0</td>\n",
       "      <td>f</td>\n",
       "    </tr>\n",
       "    <tr>\n",
       "      <td>4</td>\n",
       "      <td>13.57%</td>\n",
       "      <td>57416</td>\n",
       "      <td>139635</td>\n",
       "      <td>$10,800</td>\n",
       "      <td>$10,800</td>\n",
       "      <td>$10,692</td>\n",
       "      <td>36 months</td>\n",
       "      <td>C</td>\n",
       "      <td>C3</td>\n",
       "      <td>State Farm Insurance</td>\n",
       "      <td>...</td>\n",
       "      <td>Nicolechr1978</td>\n",
       "      <td>CT</td>\n",
       "      <td>11.63</td>\n",
       "      <td>0.0</td>\n",
       "      <td>Dec-96</td>\n",
       "      <td>58.0</td>\n",
       "      <td>NaN</td>\n",
       "      <td>0.0</td>\n",
       "      <td>40.0</td>\n",
       "      <td>f</td>\n",
       "    </tr>\n",
       "  </tbody>\n",
       "</table>\n",
       "<p>5 rows × 27 columns</p>\n",
       "</div>"
      ],
      "text/plain": [
       "  Interest Rate Loan Id Borrower Id Requested    Funded Investor Funded  \\\n",
       "0        11.89%   54734       80364  $25,000   $25,000         $19,080    \n",
       "1        10.71%   55742      114426   $7,000    $7,000            $673    \n",
       "2        16.99%   57167      137225  $25,000   $25,000         $24,725    \n",
       "3        13.11%   57245      138150   $1,200    $1,200          $1,200    \n",
       "4        13.57%   57416      139635  $10,800   $10,800         $10,692    \n",
       "\n",
       "  Number of Payments Loan Grade Loan Subgrade                     Job  ...  \\\n",
       "0          36 months          B            B4                     NaN  ...   \n",
       "1          36 months          B            B5                     CNN  ...   \n",
       "2          36 months          D            D3          Web Programmer  ...   \n",
       "3          36 months          C            C2  city of beaumont texas  ...   \n",
       "4          36 months          C            C3    State Farm Insurance  ...   \n",
       "\n",
       "                             Loan Title State  Ratio Late Payments  \\\n",
       "0  Debt consolidation for on-time payer    CA  19.48           0.0   \n",
       "1                    Credit Card payoff    NY  14.29           0.0   \n",
       "2                                  mlue    NY  10.50           0.0   \n",
       "3                                 zxcvb    TX   5.47           0.0   \n",
       "4                         Nicolechr1978    CT  11.63           0.0   \n",
       "\n",
       "  Credit Line Date Months Del Months PR Derog Recs Credit Lines  Status  \n",
       "0           Feb-94        NaN       NaN        0.0         42.0       f  \n",
       "1           Oct-00        NaN       NaN        0.0          7.0       f  \n",
       "2           Jun-00       41.0       NaN        0.0         17.0       f  \n",
       "3           Jan-85       64.0       NaN        0.0         31.0       f  \n",
       "4           Dec-96       58.0       NaN        0.0         40.0       f  \n",
       "\n",
       "[5 rows x 27 columns]"
      ]
     },
     "execution_count": 7,
     "metadata": {},
     "output_type": "execute_result"
    }
   ],
   "source": [
    "loans.head()"
   ]
  },
  {
   "cell_type": "code",
   "execution_count": 8,
   "metadata": {},
   "outputs": [
    {
     "data": {
      "text/plain": [
       "Interest Rate          object\n",
       "Loan Id                object\n",
       "Borrower Id            object\n",
       "Requested              object\n",
       "Funded                 object\n",
       "Investor Funded        object\n",
       "Number of Payments     object\n",
       "Loan Grade             object\n",
       "Loan Subgrade          object\n",
       "Job                    object\n",
       "Years Employed         object\n",
       "Home                   object\n",
       "Annual Income         float64\n",
       "Income Verified        object\n",
       "Loan Date              object\n",
       "Reason                 object\n",
       "Loan Cat               object\n",
       "Loan Title             object\n",
       "State                  object\n",
       "Ratio                 float64\n",
       "Late Payments         float64\n",
       "Credit Line Date       object\n",
       "Months Del            float64\n",
       "Months PR             float64\n",
       "Derog Recs            float64\n",
       "Credit Lines          float64\n",
       "Status                 object\n",
       "dtype: object"
      ]
     },
     "execution_count": 8,
     "metadata": {},
     "output_type": "execute_result"
    }
   ],
   "source": [
    "loans.dtypes"
   ]
  },
  {
   "cell_type": "markdown",
   "metadata": {},
   "source": [
    "#### Find the null values in columns and count."
   ]
  },
  {
   "cell_type": "code",
   "execution_count": 9,
   "metadata": {},
   "outputs": [
    {
     "data": {
      "text/plain": [
       "Interest Rate          61010\n",
       "Loan Id                    1\n",
       "Borrower Id                1\n",
       "Requested                  1\n",
       "Funded                     1\n",
       "Investor Funded            1\n",
       "Number of Payments         1\n",
       "Loan Grade             61270\n",
       "Loan Subgrade          61270\n",
       "Job                    23986\n",
       "Years Employed         17538\n",
       "Home                   61361\n",
       "Annual Income          61028\n",
       "Income Verified            1\n",
       "Loan Date                  1\n",
       "Reason                276440\n",
       "Loan Cat                   1\n",
       "Loan Title                19\n",
       "State                      1\n",
       "Ratio                      1\n",
       "Late Payments              1\n",
       "Credit Line Date           1\n",
       "Months Del            218802\n",
       "Months PR             348845\n",
       "Derog Recs                 1\n",
       "Credit Lines               1\n",
       "Status                     1\n",
       "dtype: int64"
      ]
     },
     "execution_count": 9,
     "metadata": {},
     "output_type": "execute_result"
    }
   ],
   "source": [
    "missing_data = loans.isnull()\n",
    "null_columns=loans.columns[missing_data.any()]\n",
    "loans[null_columns].isnull().sum()"
   ]
  },
  {
   "cell_type": "markdown",
   "metadata": {},
   "source": [
    "#### Drop rows with null values for Interest Rate (only drops about 15 percent)."
   ]
  },
  {
   "cell_type": "code",
   "execution_count": 10,
   "metadata": {},
   "outputs": [
    {
     "data": {
      "text/plain": [
       "(338990, 27)"
      ]
     },
     "execution_count": 10,
     "metadata": {},
     "output_type": "execute_result"
    }
   ],
   "source": [
    "loans.dropna(subset=['Interest Rate'], inplace=True)\n",
    "loans.shape"
   ]
  },
  {
   "cell_type": "markdown",
   "metadata": {},
   "source": [
    "#### Replace nulls in months since last deliquent and months since last public record with 0, assuming that null indicates 0 monhts."
   ]
  },
  {
   "cell_type": "code",
   "execution_count": 11,
   "metadata": {},
   "outputs": [],
   "source": [
    "loans.fillna(value={'Months PR': 0, 'Months Del': 0}, inplace=True)"
   ]
  },
  {
   "cell_type": "code",
   "execution_count": 12,
   "metadata": {},
   "outputs": [
    {
     "data": {
      "text/plain": [
       "0    0.0\n",
       "1    0.0\n",
       "2    0.0\n",
       "3    0.0\n",
       "4    0.0\n",
       "Name: Months PR, dtype: float64"
      ]
     },
     "execution_count": 12,
     "metadata": {},
     "output_type": "execute_result"
    }
   ],
   "source": [
    "loans['Months PR'].head()"
   ]
  },
  {
   "cell_type": "code",
   "execution_count": 13,
   "metadata": {},
   "outputs": [
    {
     "data": {
      "text/plain": [
       "0     0.0\n",
       "1     0.0\n",
       "2    41.0\n",
       "3    64.0\n",
       "4    58.0\n",
       "Name: Months Del, dtype: float64"
      ]
     },
     "execution_count": 13,
     "metadata": {},
     "output_type": "execute_result"
    }
   ],
   "source": [
    "loans['Months Del'].head()"
   ]
  },
  {
   "cell_type": "markdown",
   "metadata": {},
   "source": [
    "#### Create methods to parse columns to convert percent and money values to data type float"
   ]
  },
  {
   "cell_type": "code",
   "execution_count": 14,
   "metadata": {},
   "outputs": [],
   "source": [
    "def parse_columns(df):\n",
    "    for i in df.columns:\n",
    "        df[i]=df[i].map(lambda x: parse_data(x))\n",
    "    return df\n",
    "\n",
    "def parse_data(data):\n",
    "    value=data\n",
    "    if value is not None and isinstance(value, str) and value is not '' and not any(char.isalpha() for char in value):\n",
    "        if value[0] =='$' and (len(value)>1 and value[1].isdigit()):\n",
    "            if len(value)>1:\n",
    "                value = float(value.replace('$','').replace(',',''))\n",
    "            else:\n",
    "                value=0\n",
    "        elif value[len(value)-1]=='%':\n",
    "            value = float(value.replace('%',''))/100  \n",
    "    return value"
   ]
  },
  {
   "cell_type": "code",
   "execution_count": 15,
   "metadata": {},
   "outputs": [],
   "source": [
    "loans=parse_columns(loans)"
   ]
  },
  {
   "cell_type": "markdown",
   "metadata": {},
   "source": [
    "#### Create method to convert date strings to date objects."
   ]
  },
  {
   "cell_type": "code",
   "execution_count": 16,
   "metadata": {},
   "outputs": [],
   "source": [
    "def fix_dates(string):\n",
    "    fixed_date=string\n",
    "    if isinstance(fixed_date, str) and len(fixed_date)>1:\n",
    "        if fixed_date[0].isdigit():\n",
    "            split=fixed_date.split('-')\n",
    "            y=split[0]\n",
    "            if len(y)==1:\n",
    "                y='0'+y\n",
    "            fixed_date=split[1]+'-'+y\n",
    "        date_object=datetime.strptime(fixed_date, '%b-%y')\n",
    "        if date_object.year>2040:\n",
    "            date_object = date_object - relativedelta(years=100)\n",
    "        return date_object"
   ]
  },
  {
   "cell_type": "code",
   "execution_count": 17,
   "metadata": {},
   "outputs": [],
   "source": [
    "loans['Loan Date']=loans['Loan Date'].apply(lambda x: fix_dates(x))\n",
    "loans['Credit Line Date']=loans['Credit Line Date'].apply(lambda x: fix_dates(x))"
   ]
  },
  {
   "cell_type": "code",
   "execution_count": 18,
   "metadata": {},
   "outputs": [
    {
     "data": {
      "text/plain": [
       "1944.0        1\n",
       "1946.0        1\n",
       "1949.0        1\n",
       "1951.0        1\n",
       "1953.0        3\n",
       "          ...  \n",
       "1998.0    20715\n",
       "2002.0    20960\n",
       "1999.0    23976\n",
       "2001.0    25013\n",
       "2000.0    26222\n",
       "Name: Credit Line Date, Length: 64, dtype: int64"
      ]
     },
     "execution_count": 18,
     "metadata": {},
     "output_type": "execute_result"
    }
   ],
   "source": [
    "loans['Credit Line Date'].dt.year.value_counts(ascending=True)"
   ]
  },
  {
   "cell_type": "code",
   "execution_count": 19,
   "metadata": {},
   "outputs": [
    {
     "data": {
      "text/plain": [
       "2014.0    145681\n",
       "2013.0    114219\n",
       "2012.0     45289\n",
       "2011.0     18246\n",
       "2010.0      9792\n",
       "2009.0      4008\n",
       "2008.0      1517\n",
       "2007.0       237\n",
       "Name: Loan Date, dtype: int64"
      ]
     },
     "execution_count": 19,
     "metadata": {},
     "output_type": "execute_result"
    }
   ],
   "source": [
    "loans['Loan Date'].dt.year.value_counts()"
   ]
  },
  {
   "cell_type": "code",
   "execution_count": 20,
   "metadata": {},
   "outputs": [
    {
     "data": {
      "text/html": [
       "<div>\n",
       "<style scoped>\n",
       "    .dataframe tbody tr th:only-of-type {\n",
       "        vertical-align: middle;\n",
       "    }\n",
       "\n",
       "    .dataframe tbody tr th {\n",
       "        vertical-align: top;\n",
       "    }\n",
       "\n",
       "    .dataframe thead th {\n",
       "        text-align: right;\n",
       "    }\n",
       "</style>\n",
       "<table border=\"1\" class=\"dataframe\">\n",
       "  <thead>\n",
       "    <tr style=\"text-align: right;\">\n",
       "      <th></th>\n",
       "      <th>Interest Rate</th>\n",
       "      <th>Loan Id</th>\n",
       "      <th>Borrower Id</th>\n",
       "      <th>Requested</th>\n",
       "      <th>Funded</th>\n",
       "      <th>Investor Funded</th>\n",
       "      <th>Number of Payments</th>\n",
       "      <th>Loan Grade</th>\n",
       "      <th>Loan Subgrade</th>\n",
       "      <th>Job</th>\n",
       "      <th>...</th>\n",
       "      <th>Loan Title</th>\n",
       "      <th>State</th>\n",
       "      <th>Ratio</th>\n",
       "      <th>Late Payments</th>\n",
       "      <th>Credit Line Date</th>\n",
       "      <th>Months Del</th>\n",
       "      <th>Months PR</th>\n",
       "      <th>Derog Recs</th>\n",
       "      <th>Credit Lines</th>\n",
       "      <th>Status</th>\n",
       "    </tr>\n",
       "  </thead>\n",
       "  <tbody>\n",
       "    <tr>\n",
       "      <td>0</td>\n",
       "      <td>0.1189</td>\n",
       "      <td>54734</td>\n",
       "      <td>80364</td>\n",
       "      <td>25000.0</td>\n",
       "      <td>25000.0</td>\n",
       "      <td>19080.0</td>\n",
       "      <td>36 months</td>\n",
       "      <td>B</td>\n",
       "      <td>B4</td>\n",
       "      <td>NaN</td>\n",
       "      <td>...</td>\n",
       "      <td>Debt consolidation for on-time payer</td>\n",
       "      <td>CA</td>\n",
       "      <td>19.48</td>\n",
       "      <td>0.0</td>\n",
       "      <td>1994-02-01</td>\n",
       "      <td>0.0</td>\n",
       "      <td>0.0</td>\n",
       "      <td>0.0</td>\n",
       "      <td>42.0</td>\n",
       "      <td>f</td>\n",
       "    </tr>\n",
       "    <tr>\n",
       "      <td>1</td>\n",
       "      <td>0.1071</td>\n",
       "      <td>55742</td>\n",
       "      <td>114426</td>\n",
       "      <td>7000.0</td>\n",
       "      <td>7000.0</td>\n",
       "      <td>673.0</td>\n",
       "      <td>36 months</td>\n",
       "      <td>B</td>\n",
       "      <td>B5</td>\n",
       "      <td>CNN</td>\n",
       "      <td>...</td>\n",
       "      <td>Credit Card payoff</td>\n",
       "      <td>NY</td>\n",
       "      <td>14.29</td>\n",
       "      <td>0.0</td>\n",
       "      <td>2000-10-01</td>\n",
       "      <td>0.0</td>\n",
       "      <td>0.0</td>\n",
       "      <td>0.0</td>\n",
       "      <td>7.0</td>\n",
       "      <td>f</td>\n",
       "    </tr>\n",
       "    <tr>\n",
       "      <td>2</td>\n",
       "      <td>0.1699</td>\n",
       "      <td>57167</td>\n",
       "      <td>137225</td>\n",
       "      <td>25000.0</td>\n",
       "      <td>25000.0</td>\n",
       "      <td>24725.0</td>\n",
       "      <td>36 months</td>\n",
       "      <td>D</td>\n",
       "      <td>D3</td>\n",
       "      <td>Web Programmer</td>\n",
       "      <td>...</td>\n",
       "      <td>mlue</td>\n",
       "      <td>NY</td>\n",
       "      <td>10.50</td>\n",
       "      <td>0.0</td>\n",
       "      <td>2000-06-01</td>\n",
       "      <td>41.0</td>\n",
       "      <td>0.0</td>\n",
       "      <td>0.0</td>\n",
       "      <td>17.0</td>\n",
       "      <td>f</td>\n",
       "    </tr>\n",
       "    <tr>\n",
       "      <td>3</td>\n",
       "      <td>0.1311</td>\n",
       "      <td>57245</td>\n",
       "      <td>138150</td>\n",
       "      <td>1200.0</td>\n",
       "      <td>1200.0</td>\n",
       "      <td>1200.0</td>\n",
       "      <td>36 months</td>\n",
       "      <td>C</td>\n",
       "      <td>C2</td>\n",
       "      <td>city of beaumont texas</td>\n",
       "      <td>...</td>\n",
       "      <td>zxcvb</td>\n",
       "      <td>TX</td>\n",
       "      <td>5.47</td>\n",
       "      <td>0.0</td>\n",
       "      <td>1985-01-01</td>\n",
       "      <td>64.0</td>\n",
       "      <td>0.0</td>\n",
       "      <td>0.0</td>\n",
       "      <td>31.0</td>\n",
       "      <td>f</td>\n",
       "    </tr>\n",
       "    <tr>\n",
       "      <td>4</td>\n",
       "      <td>0.1357</td>\n",
       "      <td>57416</td>\n",
       "      <td>139635</td>\n",
       "      <td>10800.0</td>\n",
       "      <td>10800.0</td>\n",
       "      <td>10692.0</td>\n",
       "      <td>36 months</td>\n",
       "      <td>C</td>\n",
       "      <td>C3</td>\n",
       "      <td>State Farm Insurance</td>\n",
       "      <td>...</td>\n",
       "      <td>Nicolechr1978</td>\n",
       "      <td>CT</td>\n",
       "      <td>11.63</td>\n",
       "      <td>0.0</td>\n",
       "      <td>1996-12-01</td>\n",
       "      <td>58.0</td>\n",
       "      <td>0.0</td>\n",
       "      <td>0.0</td>\n",
       "      <td>40.0</td>\n",
       "      <td>f</td>\n",
       "    </tr>\n",
       "  </tbody>\n",
       "</table>\n",
       "<p>5 rows × 27 columns</p>\n",
       "</div>"
      ],
      "text/plain": [
       "   Interest Rate Loan Id Borrower Id  Requested   Funded  Investor Funded  \\\n",
       "0         0.1189   54734       80364    25000.0  25000.0          19080.0   \n",
       "1         0.1071   55742      114426     7000.0   7000.0            673.0   \n",
       "2         0.1699   57167      137225    25000.0  25000.0          24725.0   \n",
       "3         0.1311   57245      138150     1200.0   1200.0           1200.0   \n",
       "4         0.1357   57416      139635    10800.0  10800.0          10692.0   \n",
       "\n",
       "  Number of Payments Loan Grade Loan Subgrade                     Job  ...  \\\n",
       "0          36 months          B            B4                     NaN  ...   \n",
       "1          36 months          B            B5                     CNN  ...   \n",
       "2          36 months          D            D3          Web Programmer  ...   \n",
       "3          36 months          C            C2  city of beaumont texas  ...   \n",
       "4          36 months          C            C3    State Farm Insurance  ...   \n",
       "\n",
       "                             Loan Title State  Ratio Late Payments  \\\n",
       "0  Debt consolidation for on-time payer    CA  19.48           0.0   \n",
       "1                    Credit Card payoff    NY  14.29           0.0   \n",
       "2                                  mlue    NY  10.50           0.0   \n",
       "3                                 zxcvb    TX   5.47           0.0   \n",
       "4                         Nicolechr1978    CT  11.63           0.0   \n",
       "\n",
       "  Credit Line Date Months Del Months PR Derog Recs Credit Lines  Status  \n",
       "0       1994-02-01        0.0       0.0        0.0         42.0       f  \n",
       "1       2000-10-01        0.0       0.0        0.0          7.0       f  \n",
       "2       2000-06-01       41.0       0.0        0.0         17.0       f  \n",
       "3       1985-01-01       64.0       0.0        0.0         31.0       f  \n",
       "4       1996-12-01       58.0       0.0        0.0         40.0       f  \n",
       "\n",
       "[5 rows x 27 columns]"
      ]
     },
     "execution_count": 20,
     "metadata": {},
     "output_type": "execute_result"
    }
   ],
   "source": [
    "loans.head()"
   ]
  },
  {
   "cell_type": "code",
   "execution_count": 21,
   "metadata": {},
   "outputs": [
    {
     "data": {
      "text/plain": [
       "Interest Rate                float64\n",
       "Loan Id                       object\n",
       "Borrower Id                   object\n",
       "Requested                    float64\n",
       "Funded                       float64\n",
       "Investor Funded              float64\n",
       "Number of Payments            object\n",
       "Loan Grade                    object\n",
       "Loan Subgrade                 object\n",
       "Job                           object\n",
       "Years Employed                object\n",
       "Home                          object\n",
       "Annual Income                float64\n",
       "Income Verified               object\n",
       "Loan Date             datetime64[ns]\n",
       "Reason                        object\n",
       "Loan Cat                      object\n",
       "Loan Title                    object\n",
       "State                         object\n",
       "Ratio                        float64\n",
       "Late Payments                float64\n",
       "Credit Line Date      datetime64[ns]\n",
       "Months Del                   float64\n",
       "Months PR                    float64\n",
       "Derog Recs                   float64\n",
       "Credit Lines                 float64\n",
       "Status                        object\n",
       "dtype: object"
      ]
     },
     "execution_count": 21,
     "metadata": {},
     "output_type": "execute_result"
    }
   ],
   "source": [
    "loans.dtypes"
   ]
  },
  {
   "cell_type": "code",
   "execution_count": 22,
   "metadata": {},
   "outputs": [
    {
     "data": {
      "text/plain": [
       " 36 months    247791\n",
       " 60 months     91198\n",
       "Name: Number of Payments, dtype: int64"
      ]
     },
     "execution_count": 22,
     "metadata": {},
     "output_type": "execute_result"
    }
   ],
   "source": [
    "loans['Number of Payments'].value_counts()"
   ]
  },
  {
   "cell_type": "code",
   "execution_count": 23,
   "metadata": {},
   "outputs": [
    {
     "data": {
      "text/plain": [
       "0    Due to a lack of personal finance education an...\n",
       "1    Just want to pay off the last bit of credit ca...\n",
       "2    Trying to pay a friend back for apartment brok...\n",
       "3    If funded, I would use this loan consolidate t...\n",
       "4    I currently have a personal loan with Citifina...\n",
       "Name: Reason, dtype: object"
      ]
     },
     "execution_count": 23,
     "metadata": {},
     "output_type": "execute_result"
    }
   ],
   "source": [
    "loans['Reason'].head()"
   ]
  },
  {
   "cell_type": "markdown",
   "metadata": {},
   "source": [
    "#### Drop columns because values for each row are different, and columns will not contribute to analysis."
   ]
  },
  {
   "cell_type": "code",
   "execution_count": 24,
   "metadata": {},
   "outputs": [],
   "source": [
    "loans.drop(['Reason', 'Loan Id', 'Borrower Id'], axis=1, inplace=True)"
   ]
  },
  {
   "cell_type": "code",
   "execution_count": 25,
   "metadata": {},
   "outputs": [
    {
     "data": {
      "text/plain": [
       "(338990, 24)"
      ]
     },
     "execution_count": 25,
     "metadata": {},
     "output_type": "execute_result"
    }
   ],
   "source": [
    "loans.shape"
   ]
  },
  {
   "cell_type": "markdown",
   "metadata": {},
   "source": [
    "#### Convert all values in Loan Title column to lowercase."
   ]
  },
  {
   "cell_type": "code",
   "execution_count": 26,
   "metadata": {},
   "outputs": [],
   "source": [
    "loans['Loan Title']=loans['Loan Title'].str.lower()"
   ]
  },
  {
   "cell_type": "code",
   "execution_count": 27,
   "metadata": {},
   "outputs": [
    {
     "data": {
      "text/plain": [
       "0    debt consolidation for on-time payer\n",
       "1                      credit card payoff\n",
       "2                                    mlue\n",
       "3                                   zxcvb\n",
       "4                           nicolechr1978\n",
       "Name: Loan Title, dtype: object"
      ]
     },
     "execution_count": 27,
     "metadata": {},
     "output_type": "execute_result"
    }
   ],
   "source": [
    "loans['Loan Title'].head()"
   ]
  },
  {
   "cell_type": "code",
   "execution_count": 28,
   "metadata": {},
   "outputs": [
    {
     "data": {
      "text/plain": [
       "debt consolidation                  123592\n",
       "credit card refinancing              40820\n",
       "home improvement                     12023\n",
       "other                                 8256\n",
       "consolidation                         6490\n",
       "                                     ...  \n",
       "confirmed                                1\n",
       "pay off credit cards home repair         1\n",
       "processing                               1\n",
       "williams loan                            1\n",
       "honda pay-off                            1\n",
       "Name: Loan Title, Length: 45270, dtype: int64"
      ]
     },
     "execution_count": 28,
     "metadata": {},
     "output_type": "execute_result"
    }
   ],
   "source": [
    "loans['Loan Title'].value_counts()"
   ]
  },
  {
   "cell_type": "markdown",
   "metadata": {},
   "source": [
    "#### Create method to make Loan Title column more uniform."
   ]
  },
  {
   "cell_type": "code",
   "execution_count": 29,
   "metadata": {},
   "outputs": [],
   "source": [
    "def uniform_loan_title(title):\n",
    "    new_title=title\n",
    "    if isinstance(title, str):  \n",
    "        if 'consolidat' in title:\n",
    "            new_title='debt consolidation'\n",
    "        elif 'credit card refi' in title:\n",
    "            new_title='credit card refinance'\n",
    "    return new_title"
   ]
  },
  {
   "cell_type": "code",
   "execution_count": 30,
   "metadata": {},
   "outputs": [],
   "source": [
    "loans['Loan Title']=loans['Loan Title'].map(lambda x: uniform_loan_title(x))"
   ]
  },
  {
   "cell_type": "code",
   "execution_count": 31,
   "metadata": {},
   "outputs": [
    {
     "data": {
      "text/plain": [
       "debt consolidation                      156898\n",
       "credit card refinance                    44092\n",
       "home improvement                         12023\n",
       "other                                     8256\n",
       "major purchase                            3256\n",
       "                                         ...  \n",
       "saraw                                        1\n",
       "towards capital one                          1\n",
       "debt consol 12 month plan                    1\n",
       "at+t                                         1\n",
       "need auto service on my 2008 hyudia          1\n",
       "Name: Loan Title, Length: 39268, dtype: int64"
      ]
     },
     "execution_count": 31,
     "metadata": {},
     "output_type": "execute_result"
    }
   ],
   "source": [
    "loans['Loan Title'].value_counts()"
   ]
  },
  {
   "cell_type": "code",
   "execution_count": 32,
   "metadata": {},
   "outputs": [
    {
     "data": {
      "text/plain": [
       "debt_consolidation    198226\n",
       "credit_card            75680\n",
       "home_improvement       19625\n",
       "other                  17154\n",
       "major_purchase          7312\n",
       "small_business          5359\n",
       "car                     4115\n",
       "medical                 3329\n",
       "moving                  2138\n",
       "wedding                 1934\n",
       "vacation                1848\n",
       "house                   1723\n",
       "educational              279\n",
       "renewable_energy         267\n",
       "Name: Loan Cat, dtype: int64"
      ]
     },
     "execution_count": 32,
     "metadata": {},
     "output_type": "execute_result"
    }
   ],
   "source": [
    "loans['Loan Cat'].value_counts()"
   ]
  },
  {
   "cell_type": "markdown",
   "metadata": {},
   "source": [
    "#### After some consolidation, there are still too many values in 'Loan Title' to be useful.  With 'Loan Cat' available, 'Loan Title' may be dropped."
   ]
  },
  {
   "cell_type": "code",
   "execution_count": 33,
   "metadata": {},
   "outputs": [],
   "source": [
    "loans.drop('Loan Title', axis=1, inplace=True)"
   ]
  },
  {
   "cell_type": "code",
   "execution_count": 34,
   "metadata": {},
   "outputs": [
    {
     "data": {
      "text/plain": [
       "(338990, 23)"
      ]
     },
     "execution_count": 34,
     "metadata": {},
     "output_type": "execute_result"
    }
   ],
   "source": [
    "loans.shape"
   ]
  },
  {
   "cell_type": "code",
   "execution_count": 35,
   "metadata": {},
   "outputs": [
    {
     "data": {
      "text/plain": [
       "0    RENT\n",
       "1    RENT\n",
       "2    RENT\n",
       "3     OWN\n",
       "4    RENT\n",
       "Name: Home, dtype: object"
      ]
     },
     "execution_count": 35,
     "metadata": {},
     "output_type": "execute_result"
    }
   ],
   "source": [
    "loans['Home'].head()"
   ]
  },
  {
   "cell_type": "code",
   "execution_count": 32,
   "metadata": {},
   "outputs": [
    {
     "data": {
      "text/plain": [
       "MORTGAGE    145958\n",
       "RENT        115958\n",
       "OWN          24976\n",
       "OTHER          107\n",
       "NONE            30\n",
       "ANY              1\n",
       "Name: Home, dtype: int64"
      ]
     },
     "execution_count": 32,
     "metadata": {},
     "output_type": "execute_result"
    }
   ],
   "source": [
    "loans['Home'].value_counts()"
   ]
  },
  {
   "cell_type": "markdown",
   "metadata": {},
   "source": [
    "#### Since the Home values OTHER, NONE, and HOME have very low counts relative to the other values, drop rows from dataframe."
   ]
  },
  {
   "cell_type": "code",
   "execution_count": 36,
   "metadata": {},
   "outputs": [
    {
     "data": {
      "text/plain": [
       "OTHER    107\n",
       "NONE      30\n",
       "ANY        1\n",
       "Name: Home, dtype: int64"
      ]
     },
     "execution_count": 36,
     "metadata": {},
     "output_type": "execute_result"
    }
   ],
   "source": [
    "home=loans[(loans['Home']=='OTHER')  | (loans['Home']=='ANY') | (loans['Home']=='NONE')]\n",
    "home['Home'].value_counts()"
   ]
  },
  {
   "cell_type": "code",
   "execution_count": 51,
   "metadata": {},
   "outputs": [
    {
     "data": {
      "text/html": [
       "<div>\n",
       "<style scoped>\n",
       "    .dataframe tbody tr th:only-of-type {\n",
       "        vertical-align: middle;\n",
       "    }\n",
       "\n",
       "    .dataframe tbody tr th {\n",
       "        vertical-align: top;\n",
       "    }\n",
       "\n",
       "    .dataframe thead th {\n",
       "        text-align: right;\n",
       "    }\n",
       "</style>\n",
       "<table border=\"1\" class=\"dataframe\">\n",
       "  <thead>\n",
       "    <tr style=\"text-align: right;\">\n",
       "      <th></th>\n",
       "      <th>Interest Rate</th>\n",
       "      <th>Requested</th>\n",
       "      <th>Funded</th>\n",
       "      <th>Investor Funded</th>\n",
       "      <th>Number of Payments</th>\n",
       "      <th>Loan Grade</th>\n",
       "      <th>Loan Subgrade</th>\n",
       "      <th>Job</th>\n",
       "      <th>Years Employed</th>\n",
       "      <th>Home</th>\n",
       "      <th>...</th>\n",
       "      <th>Loan Cat</th>\n",
       "      <th>State</th>\n",
       "      <th>Ratio</th>\n",
       "      <th>Late Payments</th>\n",
       "      <th>Credit Line Date</th>\n",
       "      <th>Months Del</th>\n",
       "      <th>Months PR</th>\n",
       "      <th>Derog Recs</th>\n",
       "      <th>Credit Lines</th>\n",
       "      <th>Status</th>\n",
       "    </tr>\n",
       "  </thead>\n",
       "  <tbody>\n",
       "    <tr>\n",
       "      <td>88</td>\n",
       "      <td>0.0870</td>\n",
       "      <td>2800.0</td>\n",
       "      <td>2800.0</td>\n",
       "      <td>1625.0</td>\n",
       "      <td>36 months</td>\n",
       "      <td>B</td>\n",
       "      <td>B1</td>\n",
       "      <td>NaN</td>\n",
       "      <td>&lt; 1 year</td>\n",
       "      <td>NONE</td>\n",
       "      <td>...</td>\n",
       "      <td>other</td>\n",
       "      <td>MA</td>\n",
       "      <td>15.00</td>\n",
       "      <td>0.0</td>\n",
       "      <td>1999-05-01</td>\n",
       "      <td>0.0</td>\n",
       "      <td>0.0</td>\n",
       "      <td>0.0</td>\n",
       "      <td>8.0</td>\n",
       "      <td>f</td>\n",
       "    </tr>\n",
       "    <tr>\n",
       "      <td>89</td>\n",
       "      <td>0.0964</td>\n",
       "      <td>4000.0</td>\n",
       "      <td>4000.0</td>\n",
       "      <td>1925.0</td>\n",
       "      <td>36 months</td>\n",
       "      <td>B</td>\n",
       "      <td>B4</td>\n",
       "      <td>NaN</td>\n",
       "      <td>&lt; 1 year</td>\n",
       "      <td>NONE</td>\n",
       "      <td>...</td>\n",
       "      <td>other</td>\n",
       "      <td>CA</td>\n",
       "      <td>15.00</td>\n",
       "      <td>0.0</td>\n",
       "      <td>1999-05-01</td>\n",
       "      <td>0.0</td>\n",
       "      <td>0.0</td>\n",
       "      <td>0.0</td>\n",
       "      <td>8.0</td>\n",
       "      <td>f</td>\n",
       "    </tr>\n",
       "    <tr>\n",
       "      <td>435</td>\n",
       "      <td>0.0775</td>\n",
       "      <td>10000.0</td>\n",
       "      <td>10000.0</td>\n",
       "      <td>1228.0</td>\n",
       "      <td>36 months</td>\n",
       "      <td>A</td>\n",
       "      <td>A3</td>\n",
       "      <td>ups</td>\n",
       "      <td>5 years</td>\n",
       "      <td>NONE</td>\n",
       "      <td>...</td>\n",
       "      <td>debt_consolidation</td>\n",
       "      <td>VA</td>\n",
       "      <td>5.24</td>\n",
       "      <td>0.0</td>\n",
       "      <td>1994-04-01</td>\n",
       "      <td>0.0</td>\n",
       "      <td>0.0</td>\n",
       "      <td>0.0</td>\n",
       "      <td>22.0</td>\n",
       "      <td>f</td>\n",
       "    </tr>\n",
       "    <tr>\n",
       "      <td>810</td>\n",
       "      <td>0.1008</td>\n",
       "      <td>7500.0</td>\n",
       "      <td>4675.0</td>\n",
       "      <td>0.0</td>\n",
       "      <td>36 months</td>\n",
       "      <td>B</td>\n",
       "      <td>B3</td>\n",
       "      <td>pine creek cookhouse</td>\n",
       "      <td>&lt; 1 year</td>\n",
       "      <td>OTHER</td>\n",
       "      <td>...</td>\n",
       "      <td>debt_consolidation</td>\n",
       "      <td>CO</td>\n",
       "      <td>18.72</td>\n",
       "      <td>0.0</td>\n",
       "      <td>1997-08-01</td>\n",
       "      <td>28.0</td>\n",
       "      <td>0.0</td>\n",
       "      <td>0.0</td>\n",
       "      <td>27.0</td>\n",
       "      <td>f</td>\n",
       "    </tr>\n",
       "    <tr>\n",
       "      <td>907</td>\n",
       "      <td>0.0800</td>\n",
       "      <td>6000.0</td>\n",
       "      <td>6000.0</td>\n",
       "      <td>5567.0</td>\n",
       "      <td>36 months</td>\n",
       "      <td>A</td>\n",
       "      <td>A3</td>\n",
       "      <td>KS construction</td>\n",
       "      <td>10+ years</td>\n",
       "      <td>OTHER</td>\n",
       "      <td>...</td>\n",
       "      <td>major_purchase</td>\n",
       "      <td>GA</td>\n",
       "      <td>0.13</td>\n",
       "      <td>0.0</td>\n",
       "      <td>1995-09-01</td>\n",
       "      <td>0.0</td>\n",
       "      <td>0.0</td>\n",
       "      <td>0.0</td>\n",
       "      <td>13.0</td>\n",
       "      <td>f</td>\n",
       "    </tr>\n",
       "    <tr>\n",
       "      <td>...</td>\n",
       "      <td>...</td>\n",
       "      <td>...</td>\n",
       "      <td>...</td>\n",
       "      <td>...</td>\n",
       "      <td>...</td>\n",
       "      <td>...</td>\n",
       "      <td>...</td>\n",
       "      <td>...</td>\n",
       "      <td>...</td>\n",
       "      <td>...</td>\n",
       "      <td>...</td>\n",
       "      <td>...</td>\n",
       "      <td>...</td>\n",
       "      <td>...</td>\n",
       "      <td>...</td>\n",
       "      <td>...</td>\n",
       "      <td>...</td>\n",
       "      <td>...</td>\n",
       "      <td>...</td>\n",
       "      <td>...</td>\n",
       "      <td>...</td>\n",
       "    </tr>\n",
       "    <tr>\n",
       "      <td>89014</td>\n",
       "      <td>0.1629</td>\n",
       "      <td>10000.0</td>\n",
       "      <td>10000.0</td>\n",
       "      <td>10000.0</td>\n",
       "      <td>36 months</td>\n",
       "      <td>C</td>\n",
       "      <td>C4</td>\n",
       "      <td>FERTILITY INSTITUTE</td>\n",
       "      <td>10+ years</td>\n",
       "      <td>NONE</td>\n",
       "      <td>...</td>\n",
       "      <td>credit_card</td>\n",
       "      <td>NJ</td>\n",
       "      <td>21.18</td>\n",
       "      <td>0.0</td>\n",
       "      <td>1995-10-01</td>\n",
       "      <td>42.0</td>\n",
       "      <td>0.0</td>\n",
       "      <td>0.0</td>\n",
       "      <td>24.0</td>\n",
       "      <td>w</td>\n",
       "    </tr>\n",
       "    <tr>\n",
       "      <td>89015</td>\n",
       "      <td>0.1212</td>\n",
       "      <td>15000.0</td>\n",
       "      <td>15000.0</td>\n",
       "      <td>15000.0</td>\n",
       "      <td>36 months</td>\n",
       "      <td>B</td>\n",
       "      <td>B3</td>\n",
       "      <td>soundshore medical center</td>\n",
       "      <td>10+ years</td>\n",
       "      <td>NONE</td>\n",
       "      <td>...</td>\n",
       "      <td>credit_card</td>\n",
       "      <td>NY</td>\n",
       "      <td>29.29</td>\n",
       "      <td>0.0</td>\n",
       "      <td>1995-05-01</td>\n",
       "      <td>56.0</td>\n",
       "      <td>0.0</td>\n",
       "      <td>0.0</td>\n",
       "      <td>35.0</td>\n",
       "      <td>f</td>\n",
       "    </tr>\n",
       "    <tr>\n",
       "      <td>89017</td>\n",
       "      <td>0.1114</td>\n",
       "      <td>10750.0</td>\n",
       "      <td>10750.0</td>\n",
       "      <td>10650.0</td>\n",
       "      <td>36 months</td>\n",
       "      <td>B</td>\n",
       "      <td>B2</td>\n",
       "      <td>kraft foods north america</td>\n",
       "      <td>10+ years</td>\n",
       "      <td>NONE</td>\n",
       "      <td>...</td>\n",
       "      <td>credit_card</td>\n",
       "      <td>MO</td>\n",
       "      <td>34.61</td>\n",
       "      <td>0.0</td>\n",
       "      <td>1989-04-01</td>\n",
       "      <td>0.0</td>\n",
       "      <td>0.0</td>\n",
       "      <td>0.0</td>\n",
       "      <td>28.0</td>\n",
       "      <td>f</td>\n",
       "    </tr>\n",
       "    <tr>\n",
       "      <td>89021</td>\n",
       "      <td>0.1905</td>\n",
       "      <td>30000.0</td>\n",
       "      <td>30000.0</td>\n",
       "      <td>30000.0</td>\n",
       "      <td>36 months</td>\n",
       "      <td>D</td>\n",
       "      <td>D4</td>\n",
       "      <td>Bastion Technologies</td>\n",
       "      <td>10+ years</td>\n",
       "      <td>NONE</td>\n",
       "      <td>...</td>\n",
       "      <td>debt_consolidation</td>\n",
       "      <td>TX</td>\n",
       "      <td>15.58</td>\n",
       "      <td>0.0</td>\n",
       "      <td>2000-08-01</td>\n",
       "      <td>57.0</td>\n",
       "      <td>0.0</td>\n",
       "      <td>0.0</td>\n",
       "      <td>14.0</td>\n",
       "      <td>f</td>\n",
       "    </tr>\n",
       "    <tr>\n",
       "      <td>382368</td>\n",
       "      <td>0.1167</td>\n",
       "      <td>5000.0</td>\n",
       "      <td>5000.0</td>\n",
       "      <td>5000.0</td>\n",
       "      <td>36 months</td>\n",
       "      <td>B</td>\n",
       "      <td>B4</td>\n",
       "      <td>Office Administrative Assistant</td>\n",
       "      <td>5 years</td>\n",
       "      <td>ANY</td>\n",
       "      <td>...</td>\n",
       "      <td>debt_consolidation</td>\n",
       "      <td>TX</td>\n",
       "      <td>28.12</td>\n",
       "      <td>0.0</td>\n",
       "      <td>2003-12-01</td>\n",
       "      <td>55.0</td>\n",
       "      <td>0.0</td>\n",
       "      <td>0.0</td>\n",
       "      <td>12.0</td>\n",
       "      <td>f</td>\n",
       "    </tr>\n",
       "  </tbody>\n",
       "</table>\n",
       "<p>138 rows × 23 columns</p>\n",
       "</div>"
      ],
      "text/plain": [
       "        Interest Rate  Requested   Funded  Investor Funded Number of Payments  \\\n",
       "88             0.0870     2800.0   2800.0           1625.0          36 months   \n",
       "89             0.0964     4000.0   4000.0           1925.0          36 months   \n",
       "435            0.0775    10000.0  10000.0           1228.0          36 months   \n",
       "810            0.1008     7500.0   4675.0              0.0          36 months   \n",
       "907            0.0800     6000.0   6000.0           5567.0          36 months   \n",
       "...               ...        ...      ...              ...                ...   \n",
       "89014          0.1629    10000.0  10000.0          10000.0          36 months   \n",
       "89015          0.1212    15000.0  15000.0          15000.0          36 months   \n",
       "89017          0.1114    10750.0  10750.0          10650.0          36 months   \n",
       "89021          0.1905    30000.0  30000.0          30000.0          36 months   \n",
       "382368         0.1167     5000.0   5000.0           5000.0          36 months   \n",
       "\n",
       "       Loan Grade Loan Subgrade                              Job  \\\n",
       "88              B            B1                              NaN   \n",
       "89              B            B4                              NaN   \n",
       "435             A            A3                              ups   \n",
       "810             B            B3             pine creek cookhouse   \n",
       "907             A            A3                  KS construction   \n",
       "...           ...           ...                              ...   \n",
       "89014           C            C4              FERTILITY INSTITUTE   \n",
       "89015           B            B3        soundshore medical center   \n",
       "89017           B            B2        kraft foods north america   \n",
       "89021           D            D4             Bastion Technologies   \n",
       "382368          B            B4  Office Administrative Assistant   \n",
       "\n",
       "       Years Employed   Home  ...            Loan Cat State  Ratio  \\\n",
       "88           < 1 year   NONE  ...               other    MA  15.00   \n",
       "89           < 1 year   NONE  ...               other    CA  15.00   \n",
       "435           5 years   NONE  ...  debt_consolidation    VA   5.24   \n",
       "810          < 1 year  OTHER  ...  debt_consolidation    CO  18.72   \n",
       "907         10+ years  OTHER  ...      major_purchase    GA   0.13   \n",
       "...               ...    ...  ...                 ...   ...    ...   \n",
       "89014       10+ years   NONE  ...         credit_card    NJ  21.18   \n",
       "89015       10+ years   NONE  ...         credit_card    NY  29.29   \n",
       "89017       10+ years   NONE  ...         credit_card    MO  34.61   \n",
       "89021       10+ years   NONE  ...  debt_consolidation    TX  15.58   \n",
       "382368        5 years    ANY  ...  debt_consolidation    TX  28.12   \n",
       "\n",
       "       Late Payments Credit Line Date  Months Del  Months PR Derog Recs  \\\n",
       "88               0.0       1999-05-01         0.0        0.0        0.0   \n",
       "89               0.0       1999-05-01         0.0        0.0        0.0   \n",
       "435              0.0       1994-04-01         0.0        0.0        0.0   \n",
       "810              0.0       1997-08-01        28.0        0.0        0.0   \n",
       "907              0.0       1995-09-01         0.0        0.0        0.0   \n",
       "...              ...              ...         ...        ...        ...   \n",
       "89014            0.0       1995-10-01        42.0        0.0        0.0   \n",
       "89015            0.0       1995-05-01        56.0        0.0        0.0   \n",
       "89017            0.0       1989-04-01         0.0        0.0        0.0   \n",
       "89021            0.0       2000-08-01        57.0        0.0        0.0   \n",
       "382368           0.0       2003-12-01        55.0        0.0        0.0   \n",
       "\n",
       "        Credit Lines  Status  \n",
       "88               8.0       f  \n",
       "89               8.0       f  \n",
       "435             22.0       f  \n",
       "810             27.0       f  \n",
       "907             13.0       f  \n",
       "...              ...     ...  \n",
       "89014           24.0       w  \n",
       "89015           35.0       f  \n",
       "89017           28.0       f  \n",
       "89021           14.0       f  \n",
       "382368          12.0       f  \n",
       "\n",
       "[138 rows x 23 columns]"
      ]
     },
     "execution_count": 51,
     "metadata": {},
     "output_type": "execute_result"
    }
   ],
   "source": [
    "home"
   ]
  },
  {
   "cell_type": "code",
   "execution_count": 37,
   "metadata": {},
   "outputs": [],
   "source": [
    "loans.drop(home.index, inplace=True)"
   ]
  },
  {
   "cell_type": "code",
   "execution_count": 38,
   "metadata": {},
   "outputs": [
    {
     "data": {
      "text/plain": [
       "(338852, 23)"
      ]
     },
     "execution_count": 38,
     "metadata": {},
     "output_type": "execute_result"
    }
   ],
   "source": [
    "loans.shape"
   ]
  },
  {
   "cell_type": "code",
   "execution_count": 39,
   "metadata": {},
   "outputs": [
    {
     "data": {
      "text/plain": [
       "f    232474\n",
       "w    106377\n",
       "Name: Status, dtype: int64"
      ]
     },
     "execution_count": 39,
     "metadata": {},
     "output_type": "execute_result"
    }
   ],
   "source": [
    "loans['Status'].value_counts()"
   ]
  },
  {
   "cell_type": "code",
   "execution_count": 40,
   "metadata": {},
   "outputs": [
    {
     "data": {
      "text/plain": [
       "10+ years    108455\n",
       "2 years       30103\n",
       "3 years       26659\n",
       "< 1 year      25983\n",
       "5 years       23060\n",
       "1 year        21418\n",
       "4 years       20250\n",
       "6 years       19591\n",
       "7 years       19440\n",
       "8 years       16210\n",
       "9 years       12890\n",
       "Name: Years Employed, dtype: int64"
      ]
     },
     "execution_count": 40,
     "metadata": {},
     "output_type": "execute_result"
    }
   ],
   "source": [
    "loans['Years Employed'].value_counts()"
   ]
  },
  {
   "cell_type": "code",
   "execution_count": 42,
   "metadata": {},
   "outputs": [
    {
     "data": {
      "text/plain": [
       "Teacher                           3602\n",
       "Manager                           2875\n",
       "Registered Nurse                  1537\n",
       "RN                                1452\n",
       "Supervisor                        1286\n",
       "                                  ... \n",
       " THE EMORY CLINIC                    1\n",
       "Bethel Family Dentistry              1\n",
       "Parker Commercial Construction       1\n",
       "Chaminade University                 1\n",
       "Intero Real Estate Services          1\n",
       "Name: Job, Length: 163309, dtype: int64"
      ]
     },
     "execution_count": 42,
     "metadata": {},
     "output_type": "execute_result"
    }
   ],
   "source": [
    "loans['Job'].value_counts()"
   ]
  },
  {
   "cell_type": "markdown",
   "metadata": {},
   "source": [
    "#### Convert Job titles/companies to title case for uniformity."
   ]
  },
  {
   "cell_type": "code",
   "execution_count": 43,
   "metadata": {},
   "outputs": [
    {
     "data": {
      "text/plain": [
       "Teacher                               4421\n",
       "Manager                               3908\n",
       "Registered Nurse                      2170\n",
       "Supervisor                            1897\n",
       "Rn                                    1623\n",
       "                                      ... \n",
       "Torrey Pines Dental Arts                 1\n",
       "Florida Dept. Of Citrus                  1\n",
       "Orangeburg Consolidated District 3       1\n",
       "Hospital Technician                      1\n",
       "Comtech Systems Inc                      1\n",
       "Name: Job, Length: 146909, dtype: int64"
      ]
     },
     "execution_count": 43,
     "metadata": {},
     "output_type": "execute_result"
    }
   ],
   "source": [
    "loans['Job']=loans['Job'].str.title()\n",
    "loans['Job'].value_counts()"
   ]
  },
  {
   "cell_type": "code",
   "execution_count": 61,
   "metadata": {},
   "outputs": [
    {
     "data": {
      "text/plain": [
       "Teacher                               False\n",
       "Manager                               False\n",
       "Registered Nurse                      False\n",
       "Supervisor                            False\n",
       "Rn                                    False\n",
       "                                      ...  \n",
       "Torrey Pines Dental Arts               True\n",
       "Florida Dept. Of Citrus                True\n",
       "Orangeburg Consolidated District 3     True\n",
       "Hospital Technician                    True\n",
       "Comtech Systems Inc                    True\n",
       "Name: Job, Length: 146909, dtype: bool"
      ]
     },
     "execution_count": 61,
     "metadata": {},
     "output_type": "execute_result"
    }
   ],
   "source": [
    "one=loans['Job'].value_counts()==1\n",
    "#one=loans[loans['Job'].value_counts()==1].index\n",
    "one"
   ]
  },
  {
   "cell_type": "code",
   "execution_count": 57,
   "metadata": {},
   "outputs": [
    {
     "ename": "SyntaxError",
     "evalue": "invalid syntax (<ipython-input-57-93434e9a0d5a>, line 1)",
     "output_type": "error",
     "traceback": [
      "\u001b[1;36m  File \u001b[1;32m\"<ipython-input-57-93434e9a0d5a>\"\u001b[1;36m, line \u001b[1;32m1\u001b[0m\n\u001b[1;33m    loans.apply(lambda x:  if one[x['Job']]: loans.drop(x.index, inplace=True))\u001b[0m\n\u001b[1;37m                            ^\u001b[0m\n\u001b[1;31mSyntaxError\u001b[0m\u001b[1;31m:\u001b[0m invalid syntax\n"
     ]
    }
   ],
   "source": [
    "loans.apply(lambda x:  if one[x['Job']]: loans.drop(x.index, inplace=True))"
   ]
  },
  {
   "cell_type": "code",
   "execution_count": 40,
   "metadata": {},
   "outputs": [
    {
     "data": {
      "text/plain": [
       "verified - income           126990\n",
       "not verified                107802\n",
       "verified - income source    104059\n",
       "Name: Income Verified, dtype: int64"
      ]
     },
     "execution_count": 40,
     "metadata": {},
     "output_type": "execute_result"
    }
   ],
   "source": [
    "loans['Income Verified']=loans['Income Verified'].str.lower()\n",
    "loans['Income Verified'].value_counts()"
   ]
  },
  {
   "cell_type": "code",
   "execution_count": 41,
   "metadata": {},
   "outputs": [
    {
     "data": {
      "text/plain": [
       "CA    52812\n",
       "NY    29216\n",
       "TX    26480\n",
       "FL    22752\n",
       "IL    13480\n",
       "NJ    13182\n",
       "PA    11875\n",
       "OH    11037\n",
       "GA    10844\n",
       "VA    10329\n",
       "NC     9302\n",
       "MI     8348\n",
       "MA     8032\n",
       "MD     8013\n",
       "AZ     7743\n",
       "WA     7703\n",
       "CO     7115\n",
       "MN     5862\n",
       "MO     5396\n",
       "CT     5242\n",
       "NV     4750\n",
       "IN     4608\n",
       "OR     4408\n",
       "WI     4245\n",
       "TN     4215\n",
       "AL     4188\n",
       "LA     4015\n",
       "SC     3979\n",
       "KY     3173\n",
       "KS     3091\n",
       "OK     3014\n",
       "AR     2530\n",
       "UT     2529\n",
       "NM     1848\n",
       "HI     1797\n",
       "WV     1737\n",
       "NH     1648\n",
       "RI     1485\n",
       "DC     1076\n",
       "MT      994\n",
       "AK      946\n",
       "DE      896\n",
       "WY      853\n",
       "SD      730\n",
       "MS      706\n",
       "VT      602\n",
       "ID        8\n",
       "IA        7\n",
       "NE        6\n",
       "ME        4\n",
       "Name: State, dtype: int64"
      ]
     },
     "execution_count": 41,
     "metadata": {},
     "output_type": "execute_result"
    }
   ],
   "source": [
    "loans['State'].value_counts()"
   ]
  },
  {
   "cell_type": "markdown",
   "metadata": {},
   "source": [
    "#### Save cleaned data to new csv file."
   ]
  },
  {
   "cell_type": "code",
   "execution_count": 42,
   "metadata": {},
   "outputs": [],
   "source": [
    "loans.to_csv(r'C:\\Users\\Gia\\Downloads\\Analyst_Test\\Analyst_Test\\clean_loan_interest_rates.csv', index=False)"
   ]
  }
 ],
 "metadata": {
  "kernelspec": {
   "display_name": "Python 3",
   "language": "python",
   "name": "python3"
  },
  "language_info": {
   "codemirror_mode": {
    "name": "ipython",
    "version": 3
   },
   "file_extension": ".py",
   "mimetype": "text/x-python",
   "name": "python",
   "nbconvert_exporter": "python",
   "pygments_lexer": "ipython3",
   "version": "3.7.4"
  }
 },
 "nbformat": 4,
 "nbformat_minor": 2
}
