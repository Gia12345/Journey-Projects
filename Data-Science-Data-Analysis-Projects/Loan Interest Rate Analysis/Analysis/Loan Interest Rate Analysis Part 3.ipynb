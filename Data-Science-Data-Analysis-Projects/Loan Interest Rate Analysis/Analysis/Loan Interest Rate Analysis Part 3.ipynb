{
 "cells": [
  {
   "cell_type": "markdown",
   "metadata": {},
   "source": [
    "# Gia Gillis"
   ]
  },
  {
   "cell_type": "markdown",
   "metadata": {},
   "source": [
    "## Loan Interest Rate Analysis Part 3 of 3"
   ]
  },
  {
   "cell_type": "markdown",
   "metadata": {},
   "source": [
    "### Create, apply, and score models."
   ]
  },
  {
   "cell_type": "markdown",
   "metadata": {},
   "source": [
    "Import necessary libraries."
   ]
  },
  {
   "cell_type": "code",
   "execution_count": 1,
   "metadata": {},
   "outputs": [],
   "source": [
    "import pandas as pd\n",
    "import numpy as np\n",
    "from sklearn.model_selection import train_test_split\n",
    "from sklearn.preprocessing import StandardScaler\n",
    "from sklearn.impute import SimpleImputer\n",
    "from sklearn.linear_model import LinearRegression, Ridge, Lasso, ElasticNet\n",
    "from sklearn.metrics import mean_squared_error, r2_score\n",
    "from sklearn.model_selection import GridSearchCV\n",
    "from sklearn.feature_selection import SelectKBest, f_regression"
   ]
  },
  {
   "cell_type": "markdown",
   "metadata": {},
   "source": [
    "Function to split train and test data and scale data"
   ]
  },
  {
   "cell_type": "code",
   "execution_count": 45,
   "metadata": {},
   "outputs": [],
   "source": [
    "def split_and_scale(train_x, train_y, test_size):\n",
    "    x_train, x_test, y_train, y_test = train_test_split(train_x, train_y, test_size=test_size)\n",
    "\n",
    "    #Scaling data\n",
    "    \"\"\"\n",
    "    scaler = StandardScaler()\n",
    "    x_train = scaler.fit_transform(x_train, y_train)\n",
    "    x_test = scaler.transform(x_test)\n",
    "    \"\"\"\n",
    "    return x_train, x_test, y_train, y_test"
   ]
  },
  {
   "cell_type": "markdown",
   "metadata": {},
   "source": [
    "Load data, drop Loan Id and Borrower Id columns, and change dates strings to date objects."
   ]
  },
  {
   "cell_type": "code",
   "execution_count": 49,
   "metadata": {},
   "outputs": [],
   "source": [
    "loans=pd.read_csv(r'data\\clean_loan_interest_rates_2.csv', parse_dates=True)\n",
    "loans['Loan Date']=pd.to_datetime(loans['Loan Date'], format='%Y-%m-%d')\n",
    "loans['Credit Line Date']=pd.to_datetime(loans['Credit Line Date'], format='%Y-%m-%d')\n",
    "backup=loans.copy()"
   ]
  },
  {
   "cell_type": "code",
   "execution_count": 50,
   "metadata": {},
   "outputs": [
    {
     "data": {
      "text/plain": [
       "Index(['Interest Rate', 'Requested', 'Annual Income', 'Loan Date', 'Ratio',\n",
       "       'Late Payments', 'Credit Line Date', 'Months Del', 'Months PR',\n",
       "       'Derog Recs',\n",
       "       ...\n",
       "       'State_TN.1', 'State_TX.1', 'State_UT.1', 'State_VA.1', 'State_VT.1',\n",
       "       'State_WA.1', 'State_WI.1', 'State_WV.1', 'State_WY.1', 'Status_W.1'],\n",
       "      dtype='object', length=179)"
      ]
     },
     "execution_count": 50,
     "metadata": {},
     "output_type": "execute_result"
    }
   ],
   "source": [
    "loans.columns"
   ]
  },
  {
   "cell_type": "code",
   "execution_count": 51,
   "metadata": {},
   "outputs": [
    {
     "data": {
      "text/plain": [
       "(287001, 179)"
      ]
     },
     "execution_count": 51,
     "metadata": {},
     "output_type": "execute_result"
    }
   ],
   "source": [
    "loans.shape"
   ]
  },
  {
   "cell_type": "markdown",
   "metadata": {},
   "source": [
    "Separate data into features x and label y."
   ]
  },
  {
   "cell_type": "code",
   "execution_count": 53,
   "metadata": {},
   "outputs": [],
   "source": [
    "#Dropping data columns for now\n",
    "loans=loans.drop(['Loan Date', 'Credit Line Date'], axis=1)"
   ]
  },
  {
   "cell_type": "code",
   "execution_count": 54,
   "metadata": {},
   "outputs": [],
   "source": [
    "X = loans.iloc[:,1:]\n",
    "y = loans.iloc[:,0]"
   ]
  },
  {
   "cell_type": "code",
   "execution_count": 55,
   "metadata": {},
   "outputs": [
    {
     "data": {
      "text/plain": [
       "(287001, 176)"
      ]
     },
     "execution_count": 55,
     "metadata": {},
     "output_type": "execute_result"
    }
   ],
   "source": [
    "X.shape"
   ]
  },
  {
   "cell_type": "code",
   "execution_count": 56,
   "metadata": {},
   "outputs": [
    {
     "data": {
      "text/plain": [
       "(287001,)"
      ]
     },
     "execution_count": 56,
     "metadata": {},
     "output_type": "execute_result"
    }
   ],
   "source": [
    "y.shape"
   ]
  },
  {
   "cell_type": "code",
   "execution_count": 57,
   "metadata": {},
   "outputs": [
    {
     "data": {
      "text/html": [
       "<div>\n",
       "<style scoped>\n",
       "    .dataframe tbody tr th:only-of-type {\n",
       "        vertical-align: middle;\n",
       "    }\n",
       "\n",
       "    .dataframe tbody tr th {\n",
       "        vertical-align: top;\n",
       "    }\n",
       "\n",
       "    .dataframe thead th {\n",
       "        text-align: right;\n",
       "    }\n",
       "</style>\n",
       "<table border=\"1\" class=\"dataframe\">\n",
       "  <thead>\n",
       "    <tr style=\"text-align: right;\">\n",
       "      <th></th>\n",
       "      <th>Requested</th>\n",
       "      <th>Annual Income</th>\n",
       "      <th>Ratio</th>\n",
       "      <th>Late Payments</th>\n",
       "      <th>Months Del</th>\n",
       "      <th>Months PR</th>\n",
       "      <th>Derog Recs</th>\n",
       "      <th>Credit Lines</th>\n",
       "      <th>Number of Payments_ 60 MONTHS</th>\n",
       "      <th>Loan Grade_B</th>\n",
       "      <th>...</th>\n",
       "      <th>State_TN.1</th>\n",
       "      <th>State_TX.1</th>\n",
       "      <th>State_UT.1</th>\n",
       "      <th>State_VA.1</th>\n",
       "      <th>State_VT.1</th>\n",
       "      <th>State_WA.1</th>\n",
       "      <th>State_WI.1</th>\n",
       "      <th>State_WV.1</th>\n",
       "      <th>State_WY.1</th>\n",
       "      <th>Status_W.1</th>\n",
       "    </tr>\n",
       "  </thead>\n",
       "  <tbody>\n",
       "    <tr>\n",
       "      <td>0</td>\n",
       "      <td>25000.0</td>\n",
       "      <td>85000.0</td>\n",
       "      <td>19.48</td>\n",
       "      <td>0.0</td>\n",
       "      <td>0.0</td>\n",
       "      <td>0.0</td>\n",
       "      <td>0.0</td>\n",
       "      <td>42.0</td>\n",
       "      <td>0</td>\n",
       "      <td>1</td>\n",
       "      <td>...</td>\n",
       "      <td>0</td>\n",
       "      <td>0</td>\n",
       "      <td>0</td>\n",
       "      <td>0</td>\n",
       "      <td>0</td>\n",
       "      <td>0</td>\n",
       "      <td>0</td>\n",
       "      <td>0</td>\n",
       "      <td>0</td>\n",
       "      <td>0</td>\n",
       "    </tr>\n",
       "    <tr>\n",
       "      <td>1</td>\n",
       "      <td>7000.0</td>\n",
       "      <td>65000.0</td>\n",
       "      <td>14.29</td>\n",
       "      <td>0.0</td>\n",
       "      <td>0.0</td>\n",
       "      <td>0.0</td>\n",
       "      <td>0.0</td>\n",
       "      <td>7.0</td>\n",
       "      <td>0</td>\n",
       "      <td>1</td>\n",
       "      <td>...</td>\n",
       "      <td>0</td>\n",
       "      <td>0</td>\n",
       "      <td>0</td>\n",
       "      <td>0</td>\n",
       "      <td>0</td>\n",
       "      <td>0</td>\n",
       "      <td>0</td>\n",
       "      <td>0</td>\n",
       "      <td>0</td>\n",
       "      <td>0</td>\n",
       "    </tr>\n",
       "    <tr>\n",
       "      <td>2</td>\n",
       "      <td>25000.0</td>\n",
       "      <td>70000.0</td>\n",
       "      <td>10.50</td>\n",
       "      <td>0.0</td>\n",
       "      <td>41.0</td>\n",
       "      <td>0.0</td>\n",
       "      <td>0.0</td>\n",
       "      <td>17.0</td>\n",
       "      <td>0</td>\n",
       "      <td>0</td>\n",
       "      <td>...</td>\n",
       "      <td>0</td>\n",
       "      <td>0</td>\n",
       "      <td>0</td>\n",
       "      <td>0</td>\n",
       "      <td>0</td>\n",
       "      <td>0</td>\n",
       "      <td>0</td>\n",
       "      <td>0</td>\n",
       "      <td>0</td>\n",
       "      <td>0</td>\n",
       "    </tr>\n",
       "    <tr>\n",
       "      <td>3</td>\n",
       "      <td>1200.0</td>\n",
       "      <td>54000.0</td>\n",
       "      <td>5.47</td>\n",
       "      <td>0.0</td>\n",
       "      <td>64.0</td>\n",
       "      <td>0.0</td>\n",
       "      <td>0.0</td>\n",
       "      <td>31.0</td>\n",
       "      <td>0</td>\n",
       "      <td>0</td>\n",
       "      <td>...</td>\n",
       "      <td>0</td>\n",
       "      <td>1</td>\n",
       "      <td>0</td>\n",
       "      <td>0</td>\n",
       "      <td>0</td>\n",
       "      <td>0</td>\n",
       "      <td>0</td>\n",
       "      <td>0</td>\n",
       "      <td>0</td>\n",
       "      <td>0</td>\n",
       "    </tr>\n",
       "    <tr>\n",
       "      <td>4</td>\n",
       "      <td>10800.0</td>\n",
       "      <td>32000.0</td>\n",
       "      <td>11.63</td>\n",
       "      <td>0.0</td>\n",
       "      <td>58.0</td>\n",
       "      <td>0.0</td>\n",
       "      <td>0.0</td>\n",
       "      <td>40.0</td>\n",
       "      <td>0</td>\n",
       "      <td>0</td>\n",
       "      <td>...</td>\n",
       "      <td>0</td>\n",
       "      <td>0</td>\n",
       "      <td>0</td>\n",
       "      <td>0</td>\n",
       "      <td>0</td>\n",
       "      <td>0</td>\n",
       "      <td>0</td>\n",
       "      <td>0</td>\n",
       "      <td>0</td>\n",
       "      <td>0</td>\n",
       "    </tr>\n",
       "  </tbody>\n",
       "</table>\n",
       "<p>5 rows × 176 columns</p>\n",
       "</div>"
      ],
      "text/plain": [
       "   Requested  Annual Income  Ratio  Late Payments  Months Del  Months PR  \\\n",
       "0    25000.0        85000.0  19.48            0.0         0.0        0.0   \n",
       "1     7000.0        65000.0  14.29            0.0         0.0        0.0   \n",
       "2    25000.0        70000.0  10.50            0.0        41.0        0.0   \n",
       "3     1200.0        54000.0   5.47            0.0        64.0        0.0   \n",
       "4    10800.0        32000.0  11.63            0.0        58.0        0.0   \n",
       "\n",
       "   Derog Recs  Credit Lines  Number of Payments_ 60 MONTHS  Loan Grade_B  ...  \\\n",
       "0         0.0          42.0                              0             1  ...   \n",
       "1         0.0           7.0                              0             1  ...   \n",
       "2         0.0          17.0                              0             0  ...   \n",
       "3         0.0          31.0                              0             0  ...   \n",
       "4         0.0          40.0                              0             0  ...   \n",
       "\n",
       "   State_TN.1  State_TX.1  State_UT.1  State_VA.1  State_VT.1  State_WA.1  \\\n",
       "0           0           0           0           0           0           0   \n",
       "1           0           0           0           0           0           0   \n",
       "2           0           0           0           0           0           0   \n",
       "3           0           1           0           0           0           0   \n",
       "4           0           0           0           0           0           0   \n",
       "\n",
       "   State_WI.1  State_WV.1  State_WY.1  Status_W.1  \n",
       "0           0           0           0           0  \n",
       "1           0           0           0           0  \n",
       "2           0           0           0           0  \n",
       "3           0           0           0           0  \n",
       "4           0           0           0           0  \n",
       "\n",
       "[5 rows x 176 columns]"
      ]
     },
     "execution_count": 57,
     "metadata": {},
     "output_type": "execute_result"
    }
   ],
   "source": [
    "X.head()"
   ]
  },
  {
   "cell_type": "code",
   "execution_count": 58,
   "metadata": {},
   "outputs": [
    {
     "data": {
      "text/plain": [
       "0    0.1189\n",
       "1    0.1071\n",
       "2    0.1699\n",
       "3    0.1311\n",
       "4    0.1357\n",
       "Name: Interest Rate, dtype: float64"
      ]
     },
     "execution_count": 58,
     "metadata": {},
     "output_type": "execute_result"
    }
   ],
   "source": [
    "y.head()"
   ]
  },
  {
   "cell_type": "markdown",
   "metadata": {},
   "source": [
    "#### Separate data into test and train and scale data."
   ]
  },
  {
   "cell_type": "code",
   "execution_count": 65,
   "metadata": {},
   "outputs": [],
   "source": [
    "X_train, X_test, y_train, y_test = split_and_scale(X, y, .20)"
   ]
  },
  {
   "cell_type": "markdown",
   "metadata": {},
   "source": [
    "### Models"
   ]
  },
  {
   "cell_type": "markdown",
   "metadata": {},
   "source": [
    "#### Build, apply, and score models."
   ]
  },
  {
   "cell_type": "markdown",
   "metadata": {},
   "source": [
    "#### Linear Regression"
   ]
  },
  {
   "cell_type": "code",
   "execution_count": 72,
   "metadata": {},
   "outputs": [
    {
     "name": "stdout",
     "output_type": "stream",
     "text": [
      "Linear Regression Mean Squared Error  0.00015239600071529684\n",
      "Linear Regression ROOT Mean Squared Error  0.012344877509124861\n",
      "Linear Regression R2  0.920451289340929\n"
     ]
    }
   ],
   "source": [
    "lm=LinearRegression()\n",
    "lm.fit(X_train, y_train)\n",
    "y_pred=lm.predict(X_test)\n",
    "mse=mean_squared_error(y_test, y_pred)\n",
    "print('Linear Regression Mean Squared Error ', mse)\n",
    "print('Linear Regression ROOT Mean Squared Error ', np.sqrt(mse))"
   ]
  },
  {
   "cell_type": "code",
   "execution_count": 78,
   "metadata": {},
   "outputs": [
    {
     "data": {
      "text/plain": [
       "0.9004581315926914"
      ]
     },
     "execution_count": 78,
     "metadata": {},
     "output_type": "execute_result"
    }
   ],
   "source": [
    "from sklearn.model_selection import cross_val_score\n",
    "cvs=cross_val_score(lm, X, y, cv=4)\n",
    "cvs.mean()"
   ]
  },
  {
   "cell_type": "markdown",
   "metadata": {},
   "source": [
    "#### Ridge Regression"
   ]
  },
  {
   "cell_type": "code",
   "execution_count": 80,
   "metadata": {},
   "outputs": [
    {
     "name": "stdout",
     "output_type": "stream",
     "text": [
      "Ridge Mean Squared Error  0.00015239480012040966\n",
      "Ridge ROOT Mean Squared Error  0.01234482888177919\n"
     ]
    }
   ],
   "source": [
    "r=Ridge(alpha=.1)\n",
    "r.fit(X_train, y_train)\n",
    "y_pred=r.predict(X_test)\n",
    "mse=mean_squared_error(y_test, y_pred)\n",
    "print('Ridge Mean Squared Error ', mse)\n",
    "print('Ridge ROOT Mean Squared Error ', np.sqrt(mse))"
   ]
  },
  {
   "cell_type": "code",
   "execution_count": 81,
   "metadata": {},
   "outputs": [
    {
     "name": "stdout",
     "output_type": "stream",
     "text": [
      "0.90045805626066\n"
     ]
    }
   ],
   "source": [
    "cvs=cross_val_score(r, X, y, cv=4)\n",
    "print(cvs.mean())"
   ]
  },
  {
   "cell_type": "markdown",
   "metadata": {},
   "source": [
    "The model with a lower MSE is a better fit for the data.  The two models are very similar."
   ]
  },
  {
   "cell_type": "markdown",
   "metadata": {},
   "source": [
    "#### Lasso Regression"
   ]
  },
  {
   "cell_type": "code",
   "execution_count": 82,
   "metadata": {},
   "outputs": [
    {
     "name": "stdout",
     "output_type": "stream",
     "text": [
      "Lasso Mean Squared Error  0.0018439210963400192\n",
      "Lasso ROOT Mean Squared Error  0.04294090236988528\n",
      "-0.0014725186889326673\n"
     ]
    }
   ],
   "source": [
    "l=Lasso()\n",
    "l.fit(X_train, y_train)\n",
    "y_pred=l.predict(X_test)\n",
    "mse=mean_squared_error(y_test, y_pred)\n",
    "print('Lasso Mean Squared Error ', mse)\n",
    "print('Lasso ROOT Mean Squared Error ', np.sqrt(mse))\n",
    "cvs=cross_val_score(l, X, y, cv=4)\n",
    "print(cvs.mean())"
   ]
  },
  {
   "cell_type": "markdown",
   "metadata": {},
   "source": [
    "Scores for Lasso Regression are worse than Linear Regression and Ridge, so it won't be explored further"
   ]
  },
  {
   "cell_type": "markdown",
   "metadata": {},
   "source": [
    "### Feature Selection"
   ]
  },
  {
   "cell_type": "markdown",
   "metadata": {},
   "source": [
    "#### Use feature selection to see if a subset of the features gives better scores."
   ]
  },
  {
   "cell_type": "code",
   "execution_count": 83,
   "metadata": {},
   "outputs": [
    {
     "data": {
      "text/plain": [
       "(287001, 176)"
      ]
     },
     "execution_count": 83,
     "metadata": {},
     "output_type": "execute_result"
    }
   ],
   "source": [
    "X.shape"
   ]
  },
  {
   "cell_type": "code",
   "execution_count": 84,
   "metadata": {},
   "outputs": [
    {
     "data": {
      "text/plain": [
       "(287001,)"
      ]
     },
     "execution_count": 84,
     "metadata": {},
     "output_type": "execute_result"
    }
   ],
   "source": [
    "y.shape"
   ]
  },
  {
   "cell_type": "code",
   "execution_count": 85,
   "metadata": {},
   "outputs": [],
   "source": [
    "k=90\n",
    "kbest= SelectKBest(f_regression, k=k)\n",
    "select_train_x=kbest.fit_transform(X, y)"
   ]
  },
  {
   "cell_type": "code",
   "execution_count": 86,
   "metadata": {},
   "outputs": [
    {
     "data": {
      "text/plain": [
       "(287001, 90)"
      ]
     },
     "execution_count": 86,
     "metadata": {},
     "output_type": "execute_result"
    }
   ],
   "source": [
    "select_train_x.shape"
   ]
  },
  {
   "cell_type": "code",
   "execution_count": 87,
   "metadata": {},
   "outputs": [],
   "source": [
    "x_train, x_test, y_train, y_test = split_and_scale(select_train_x, train_y, .20)"
   ]
  },
  {
   "cell_type": "markdown",
   "metadata": {},
   "source": [
    "#### Ridge Regression with Feature Selection"
   ]
  },
  {
   "cell_type": "code",
   "execution_count": 89,
   "metadata": {},
   "outputs": [
    {
     "name": "stdout",
     "output_type": "stream",
     "text": [
      "features k  90\n",
      "Ridge Mean Squared Error  0.00015206543196393056\n",
      "Ridge ROOT Mean Squared Error  0.012331481336965586\n",
      "-0.0014725186889326673\n"
     ]
    }
   ],
   "source": [
    "r=Ridge()\n",
    "r.fit(x_train, y_train)\n",
    "y_pred=r.predict(x_test)\n",
    "print('features k ', k)\n",
    "mse=mean_squared_error(y_test, y_pred)\n",
    "print('Ridge Mean Squared Error ', mse)\n",
    "print('Ridge ROOT Mean Squared Error ', np.sqrt(mse))\n",
    "cvs=cross_val_score(l, X, y, cv=4)\n",
    "print(cvs.mean())"
   ]
  },
  {
   "cell_type": "markdown",
   "metadata": {},
   "source": [
    "Number of features of 120 yields the highest r2 value for Ridge regression, but again, the r2 still didn't get above .82."
   ]
  },
  {
   "cell_type": "code",
   "execution_count": 31,
   "metadata": {},
   "outputs": [],
   "source": [
    "from sklearn.model_selection import cross_val_score\n",
    "scores=cross_val_score(model, x_train, y_train, cv=10, scoring='neg_mean_squared_error')\n",
    "np.sqrt(-scores)"
   ]
  },
  {
   "cell_type": "markdown",
   "metadata": {},
   "source": [
    "#### ElasticNet with Feature Selection"
   ]
  },
  {
   "cell_type": "code",
   "execution_count": 91,
   "metadata": {},
   "outputs": [
    {
     "name": "stdout",
     "output_type": "stream",
     "text": [
      "features k  90\n",
      "EN Mean Squared Error  0.0018492892392467368\n",
      "EN ROOT Mean Squared Error  0.043003363115537104\n",
      "-0.0014725186889326673\n"
     ]
    }
   ],
   "source": [
    "e=ElasticNet()\n",
    "e.fit(x_train, y_train)\n",
    "y_pred=e.predict(x_test)\n",
    "print('features k ', k)\n",
    "mse=mean_squared_error(y_test, y_pred)\n",
    "print('EN Mean Squared Error ', mse)\n",
    "print('EN ROOT Mean Squared Error ', np.sqrt(mse))\n",
    "cvs=cross_val_score(l, X, y, cv=4)\n",
    "print(cvs.mean())"
   ]
  },
  {
   "cell_type": "code",
   "execution_count": 92,
   "metadata": {},
   "outputs": [],
   "source": [
    "from sklearn.tree import DecisionTreeRegressor\n",
    "from sklearn.neighbors import KNeighborsRegressor\n",
    "from sklearn.ensemble import GradientBoostingRegressor"
   ]
  },
  {
   "cell_type": "markdown",
   "metadata": {},
   "source": [
    "#### DecisionTreeRegressor with Feature Selection"
   ]
  },
  {
   "cell_type": "code",
   "execution_count": 93,
   "metadata": {},
   "outputs": [
    {
     "name": "stdout",
     "output_type": "stream",
     "text": [
      "features k  90\n",
      "Mean Squared Error  0.00029440222696006655\n",
      "ROOT mse 0.017158153366841858\n"
     ]
    }
   ],
   "source": [
    "dt=DecisionTreeRegressor()\n",
    "dt.fit(x_train, y_train)\n",
    "y_pred=dt.predict(x_test)\n",
    "print('features k ', k)\n",
    "mse=mean_squared_error(y_test, y_pred)\n",
    "print('Mean Squared Error ', mse)\n",
    "print ('ROOT mse', np.sqrt(mse))"
   ]
  },
  {
   "cell_type": "markdown",
   "metadata": {},
   "source": [
    "#### GradientBoosting Regressor with Feature Selection."
   ]
  },
  {
   "cell_type": "code",
   "execution_count": 94,
   "metadata": {},
   "outputs": [
    {
     "name": "stdout",
     "output_type": "stream",
     "text": [
      "features k  90\n",
      "Mean Squared Error  0.00016566797560851903\n",
      "ROOT mse 0.012871207231977854\n"
     ]
    }
   ],
   "source": [
    "gb=GradientBoostingRegressor()\n",
    "gb.fit(x_train, y_train)\n",
    "y_pred=gb.predict(x_test)\n",
    "print('features k ', k)\n",
    "mse=mean_squared_error(y_test, y_pred)\n",
    "print('Mean Squared Error ', mse)\n",
    "print ('ROOT mse', np.sqrt(mse))"
   ]
  }
 ],
 "metadata": {
  "kernelspec": {
   "display_name": "Python 3",
   "language": "python",
   "name": "python3"
  },
  "language_info": {
   "codemirror_mode": {
    "name": "ipython",
    "version": 3
   },
   "file_extension": ".py",
   "mimetype": "text/x-python",
   "name": "python",
   "nbconvert_exporter": "python",
   "pygments_lexer": "ipython3",
   "version": "3.7.4"
  }
 },
 "nbformat": 4,
 "nbformat_minor": 2
}
