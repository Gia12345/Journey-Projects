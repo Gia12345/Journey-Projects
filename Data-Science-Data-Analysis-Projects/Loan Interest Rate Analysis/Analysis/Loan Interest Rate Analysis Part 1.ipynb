{
 "cells": [
  {
   "cell_type": "markdown",
   "metadata": {},
   "source": [
    "# Gia Gillis "
   ]
  },
  {
   "cell_type": "markdown",
   "metadata": {},
   "source": [
    "## Loan Interest Rate Analysis Part 1 of 3"
   ]
  },
  {
   "cell_type": "markdown",
   "metadata": {},
   "source": [
    "### Data cleaning."
   ]
  },
  {
   "cell_type": "markdown",
   "metadata": {},
   "source": [
    "### For data cleaning the file, unneeded columns are removed and nulls are filled and/or removed"
   ]
  },
  {
   "cell_type": "markdown",
   "metadata": {},
   "source": [
    "#### Import needed libraries."
   ]
  },
  {
   "cell_type": "code",
   "execution_count": 48,
   "metadata": {},
   "outputs": [],
   "source": [
    "import pandas as pd\n",
    "import numpy as np\n",
    "from datetime import datetime\n",
    "from dateutil.relativedelta import relativedelta"
   ]
  },
  {
   "cell_type": "markdown",
   "metadata": {},
   "source": [
    "#### Read csv file and force Loan Id (X2), Borrower Id (X3), and Reason (X16) columns to strings, and rename columns."
   ]
  },
  {
   "cell_type": "code",
   "execution_count": 49,
   "metadata": {},
   "outputs": [],
   "source": [
    "loans=pd.read_csv(r'data\\loan_interest_rates.csv', \n",
    "                  dtype={'X2': str, 'X3':str, 'X16': str}, parse_dates=True)\n",
    "loans.columns=['Interest Rate', 'Loan Id', 'Borrower Id', 'Requested', 'Funded', 'Investor Funded', 'Number of Payments',\n",
    "              'Loan Grade', 'Loan Subgrade', 'Job', 'Years Employed', 'Home', 'Annual Income', 'Income Verified', 'Loan Date',\n",
    "              'Reason', 'Loan Cat', 'Loan Title', 'State', 'Ratio', 'Late Payments', 'Credit Line Date', 'Months Del',\n",
    "              'Months PR', 'Derog Recs', 'Credit Lines', 'Status']"
   ]
  },
  {
   "cell_type": "code",
   "execution_count": 50,
   "metadata": {},
   "outputs": [
    {
     "data": {
      "text/html": [
       "<div>\n",
       "<style scoped>\n",
       "    .dataframe tbody tr th:only-of-type {\n",
       "        vertical-align: middle;\n",
       "    }\n",
       "\n",
       "    .dataframe tbody tr th {\n",
       "        vertical-align: top;\n",
       "    }\n",
       "\n",
       "    .dataframe thead th {\n",
       "        text-align: right;\n",
       "    }\n",
       "</style>\n",
       "<table border=\"1\" class=\"dataframe\">\n",
       "  <thead>\n",
       "    <tr style=\"text-align: right;\">\n",
       "      <th></th>\n",
       "      <th>Interest Rate</th>\n",
       "      <th>Loan Id</th>\n",
       "      <th>Borrower Id</th>\n",
       "      <th>Requested</th>\n",
       "      <th>Funded</th>\n",
       "      <th>Investor Funded</th>\n",
       "      <th>Number of Payments</th>\n",
       "      <th>Loan Grade</th>\n",
       "      <th>Loan Subgrade</th>\n",
       "      <th>Job</th>\n",
       "      <th>...</th>\n",
       "      <th>Loan Title</th>\n",
       "      <th>State</th>\n",
       "      <th>Ratio</th>\n",
       "      <th>Late Payments</th>\n",
       "      <th>Credit Line Date</th>\n",
       "      <th>Months Del</th>\n",
       "      <th>Months PR</th>\n",
       "      <th>Derog Recs</th>\n",
       "      <th>Credit Lines</th>\n",
       "      <th>Status</th>\n",
       "    </tr>\n",
       "  </thead>\n",
       "  <tbody>\n",
       "    <tr>\n",
       "      <td>0</td>\n",
       "      <td>11.89%</td>\n",
       "      <td>54734</td>\n",
       "      <td>80364</td>\n",
       "      <td>$25,000</td>\n",
       "      <td>$25,000</td>\n",
       "      <td>$19,080</td>\n",
       "      <td>36 months</td>\n",
       "      <td>B</td>\n",
       "      <td>B4</td>\n",
       "      <td>NaN</td>\n",
       "      <td>...</td>\n",
       "      <td>Debt consolidation for on-time payer</td>\n",
       "      <td>CA</td>\n",
       "      <td>19.48</td>\n",
       "      <td>0.0</td>\n",
       "      <td>Feb-94</td>\n",
       "      <td>NaN</td>\n",
       "      <td>NaN</td>\n",
       "      <td>0.0</td>\n",
       "      <td>42.0</td>\n",
       "      <td>f</td>\n",
       "    </tr>\n",
       "    <tr>\n",
       "      <td>1</td>\n",
       "      <td>10.71%</td>\n",
       "      <td>55742</td>\n",
       "      <td>114426</td>\n",
       "      <td>$7,000</td>\n",
       "      <td>$7,000</td>\n",
       "      <td>$673</td>\n",
       "      <td>36 months</td>\n",
       "      <td>B</td>\n",
       "      <td>B5</td>\n",
       "      <td>CNN</td>\n",
       "      <td>...</td>\n",
       "      <td>Credit Card payoff</td>\n",
       "      <td>NY</td>\n",
       "      <td>14.29</td>\n",
       "      <td>0.0</td>\n",
       "      <td>Oct-00</td>\n",
       "      <td>NaN</td>\n",
       "      <td>NaN</td>\n",
       "      <td>0.0</td>\n",
       "      <td>7.0</td>\n",
       "      <td>f</td>\n",
       "    </tr>\n",
       "    <tr>\n",
       "      <td>2</td>\n",
       "      <td>16.99%</td>\n",
       "      <td>57167</td>\n",
       "      <td>137225</td>\n",
       "      <td>$25,000</td>\n",
       "      <td>$25,000</td>\n",
       "      <td>$24,725</td>\n",
       "      <td>36 months</td>\n",
       "      <td>D</td>\n",
       "      <td>D3</td>\n",
       "      <td>Web Programmer</td>\n",
       "      <td>...</td>\n",
       "      <td>mlue</td>\n",
       "      <td>NY</td>\n",
       "      <td>10.50</td>\n",
       "      <td>0.0</td>\n",
       "      <td>Jun-00</td>\n",
       "      <td>41.0</td>\n",
       "      <td>NaN</td>\n",
       "      <td>0.0</td>\n",
       "      <td>17.0</td>\n",
       "      <td>f</td>\n",
       "    </tr>\n",
       "    <tr>\n",
       "      <td>3</td>\n",
       "      <td>13.11%</td>\n",
       "      <td>57245</td>\n",
       "      <td>138150</td>\n",
       "      <td>$1,200</td>\n",
       "      <td>$1,200</td>\n",
       "      <td>$1,200</td>\n",
       "      <td>36 months</td>\n",
       "      <td>C</td>\n",
       "      <td>C2</td>\n",
       "      <td>city of beaumont texas</td>\n",
       "      <td>...</td>\n",
       "      <td>zxcvb</td>\n",
       "      <td>TX</td>\n",
       "      <td>5.47</td>\n",
       "      <td>0.0</td>\n",
       "      <td>Jan-85</td>\n",
       "      <td>64.0</td>\n",
       "      <td>NaN</td>\n",
       "      <td>0.0</td>\n",
       "      <td>31.0</td>\n",
       "      <td>f</td>\n",
       "    </tr>\n",
       "    <tr>\n",
       "      <td>4</td>\n",
       "      <td>13.57%</td>\n",
       "      <td>57416</td>\n",
       "      <td>139635</td>\n",
       "      <td>$10,800</td>\n",
       "      <td>$10,800</td>\n",
       "      <td>$10,692</td>\n",
       "      <td>36 months</td>\n",
       "      <td>C</td>\n",
       "      <td>C3</td>\n",
       "      <td>State Farm Insurance</td>\n",
       "      <td>...</td>\n",
       "      <td>Nicolechr1978</td>\n",
       "      <td>CT</td>\n",
       "      <td>11.63</td>\n",
       "      <td>0.0</td>\n",
       "      <td>Dec-96</td>\n",
       "      <td>58.0</td>\n",
       "      <td>NaN</td>\n",
       "      <td>0.0</td>\n",
       "      <td>40.0</td>\n",
       "      <td>f</td>\n",
       "    </tr>\n",
       "  </tbody>\n",
       "</table>\n",
       "<p>5 rows × 27 columns</p>\n",
       "</div>"
      ],
      "text/plain": [
       "  Interest Rate Loan Id Borrower Id Requested    Funded Investor Funded  \\\n",
       "0        11.89%   54734       80364  $25,000   $25,000         $19,080    \n",
       "1        10.71%   55742      114426   $7,000    $7,000            $673    \n",
       "2        16.99%   57167      137225  $25,000   $25,000         $24,725    \n",
       "3        13.11%   57245      138150   $1,200    $1,200          $1,200    \n",
       "4        13.57%   57416      139635  $10,800   $10,800         $10,692    \n",
       "\n",
       "  Number of Payments Loan Grade Loan Subgrade                     Job  ...  \\\n",
       "0          36 months          B            B4                     NaN  ...   \n",
       "1          36 months          B            B5                     CNN  ...   \n",
       "2          36 months          D            D3          Web Programmer  ...   \n",
       "3          36 months          C            C2  city of beaumont texas  ...   \n",
       "4          36 months          C            C3    State Farm Insurance  ...   \n",
       "\n",
       "                             Loan Title State  Ratio Late Payments  \\\n",
       "0  Debt consolidation for on-time payer    CA  19.48           0.0   \n",
       "1                    Credit Card payoff    NY  14.29           0.0   \n",
       "2                                  mlue    NY  10.50           0.0   \n",
       "3                                 zxcvb    TX   5.47           0.0   \n",
       "4                         Nicolechr1978    CT  11.63           0.0   \n",
       "\n",
       "  Credit Line Date Months Del Months PR Derog Recs Credit Lines  Status  \n",
       "0           Feb-94        NaN       NaN        0.0         42.0       f  \n",
       "1           Oct-00        NaN       NaN        0.0          7.0       f  \n",
       "2           Jun-00       41.0       NaN        0.0         17.0       f  \n",
       "3           Jan-85       64.0       NaN        0.0         31.0       f  \n",
       "4           Dec-96       58.0       NaN        0.0         40.0       f  \n",
       "\n",
       "[5 rows x 27 columns]"
      ]
     },
     "execution_count": 50,
     "metadata": {},
     "output_type": "execute_result"
    }
   ],
   "source": [
    "loans.head()"
   ]
  },
  {
   "cell_type": "code",
   "execution_count": 51,
   "metadata": {},
   "outputs": [
    {
     "data": {
      "text/plain": [
       "Interest Rate          object\n",
       "Loan Id                object\n",
       "Borrower Id            object\n",
       "Requested              object\n",
       "Funded                 object\n",
       "Investor Funded        object\n",
       "Number of Payments     object\n",
       "Loan Grade             object\n",
       "Loan Subgrade          object\n",
       "Job                    object\n",
       "Years Employed         object\n",
       "Home                   object\n",
       "Annual Income         float64\n",
       "Income Verified        object\n",
       "Loan Date              object\n",
       "Reason                 object\n",
       "Loan Cat               object\n",
       "Loan Title             object\n",
       "State                  object\n",
       "Ratio                 float64\n",
       "Late Payments         float64\n",
       "Credit Line Date       object\n",
       "Months Del            float64\n",
       "Months PR             float64\n",
       "Derog Recs            float64\n",
       "Credit Lines          float64\n",
       "Status                 object\n",
       "dtype: object"
      ]
     },
     "execution_count": 51,
     "metadata": {},
     "output_type": "execute_result"
    }
   ],
   "source": [
    "loans.dtypes"
   ]
  },
  {
   "cell_type": "markdown",
   "metadata": {},
   "source": [
    "#### Find the null values in columns and count."
   ]
  },
  {
   "cell_type": "code",
   "execution_count": 52,
   "metadata": {},
   "outputs": [
    {
     "data": {
      "text/plain": [
       "Interest Rate          61010\n",
       "Loan Id                    1\n",
       "Borrower Id                1\n",
       "Requested                  1\n",
       "Funded                     1\n",
       "Investor Funded            1\n",
       "Number of Payments         1\n",
       "Loan Grade             61270\n",
       "Loan Subgrade          61270\n",
       "Job                    23986\n",
       "Years Employed         17538\n",
       "Home                   61361\n",
       "Annual Income          61028\n",
       "Income Verified            1\n",
       "Loan Date                  1\n",
       "Reason                276440\n",
       "Loan Cat                   1\n",
       "Loan Title                19\n",
       "State                      1\n",
       "Ratio                      1\n",
       "Late Payments              1\n",
       "Credit Line Date           1\n",
       "Months Del            218802\n",
       "Months PR             348845\n",
       "Derog Recs                 1\n",
       "Credit Lines               1\n",
       "Status                     1\n",
       "dtype: int64"
      ]
     },
     "execution_count": 52,
     "metadata": {},
     "output_type": "execute_result"
    }
   ],
   "source": [
    "missing_data = loans.isnull()\n",
    "null_columns=loans.columns[missing_data.any()]\n",
    "loans[null_columns].isnull().sum()"
   ]
  },
  {
   "cell_type": "markdown",
   "metadata": {},
   "source": [
    "#### Drop rows with null values for Interest Rate (only drops about 15 percent)."
   ]
  },
  {
   "cell_type": "code",
   "execution_count": 53,
   "metadata": {},
   "outputs": [
    {
     "data": {
      "text/plain": [
       "(338990, 27)"
      ]
     },
     "execution_count": 53,
     "metadata": {},
     "output_type": "execute_result"
    }
   ],
   "source": [
    "loans.dropna(subset=['Interest Rate'], inplace=True)\n",
    "loans.shape"
   ]
  },
  {
   "cell_type": "markdown",
   "metadata": {},
   "source": [
    "#### Replace nulls in months since last deliquent and months since last public record with 0, assuming that null indicates 0 monhts."
   ]
  },
  {
   "cell_type": "code",
   "execution_count": 54,
   "metadata": {},
   "outputs": [],
   "source": [
    "loans.fillna(value={'Months PR': 0, 'Months Del': 0}, inplace=True)"
   ]
  },
  {
   "cell_type": "code",
   "execution_count": 55,
   "metadata": {},
   "outputs": [
    {
     "data": {
      "text/plain": [
       "0    0.0\n",
       "1    0.0\n",
       "2    0.0\n",
       "3    0.0\n",
       "4    0.0\n",
       "Name: Months PR, dtype: float64"
      ]
     },
     "execution_count": 55,
     "metadata": {},
     "output_type": "execute_result"
    }
   ],
   "source": [
    "loans['Months PR'].head()"
   ]
  },
  {
   "cell_type": "code",
   "execution_count": 56,
   "metadata": {},
   "outputs": [
    {
     "data": {
      "text/plain": [
       "0     0.0\n",
       "1     0.0\n",
       "2    41.0\n",
       "3    64.0\n",
       "4    58.0\n",
       "Name: Months Del, dtype: float64"
      ]
     },
     "execution_count": 56,
     "metadata": {},
     "output_type": "execute_result"
    }
   ],
   "source": [
    "loans['Months Del'].head()"
   ]
  },
  {
   "cell_type": "markdown",
   "metadata": {},
   "source": [
    "#### Count unique values is columns and drop columns if large number of unique values (difficult to categorize)"
   ]
  },
  {
   "cell_type": "markdown",
   "metadata": {},
   "source": [
    "Check Reason column"
   ]
  },
  {
   "cell_type": "code",
   "execution_count": 57,
   "metadata": {},
   "outputs": [
    {
     "data": {
      "text/plain": [
       "103870"
      ]
     },
     "execution_count": 57,
     "metadata": {},
     "output_type": "execute_result"
    }
   ],
   "source": [
    "len(loans['Reason'].unique())"
   ]
  },
  {
   "cell_type": "code",
   "execution_count": 58,
   "metadata": {},
   "outputs": [],
   "source": [
    "loans=loans.drop('Reason', axis=1)"
   ]
  },
  {
   "cell_type": "markdown",
   "metadata": {},
   "source": [
    "Check Job columns"
   ]
  },
  {
   "cell_type": "code",
   "execution_count": 59,
   "metadata": {},
   "outputs": [
    {
     "data": {
      "text/plain": [
       "163396"
      ]
     },
     "execution_count": 59,
     "metadata": {},
     "output_type": "execute_result"
    }
   ],
   "source": [
    "len(loans['Job'].unique())"
   ]
  },
  {
   "cell_type": "code",
   "execution_count": 60,
   "metadata": {},
   "outputs": [],
   "source": [
    "loans=loans.drop('Job', axis=1)"
   ]
  },
  {
   "cell_type": "code",
   "execution_count": 61,
   "metadata": {},
   "outputs": [
    {
     "data": {
      "text/plain": [
       "(338990, 25)"
      ]
     },
     "execution_count": 61,
     "metadata": {},
     "output_type": "execute_result"
    }
   ],
   "source": [
    "loans.shape"
   ]
  },
  {
   "cell_type": "markdown",
   "metadata": {},
   "source": [
    "Check Loan Title column"
   ]
  },
  {
   "cell_type": "code",
   "execution_count": 62,
   "metadata": {},
   "outputs": [
    {
     "data": {
      "text/plain": [
       "53615"
      ]
     },
     "execution_count": 62,
     "metadata": {},
     "output_type": "execute_result"
    }
   ],
   "source": [
    "len(loans['Loan Title'].unique())"
   ]
  },
  {
   "cell_type": "code",
   "execution_count": 63,
   "metadata": {},
   "outputs": [],
   "source": [
    "loans=loans.drop('Loan Title', axis=1)"
   ]
  },
  {
   "cell_type": "code",
   "execution_count": 64,
   "metadata": {},
   "outputs": [
    {
     "data": {
      "text/plain": [
       "(338990, 24)"
      ]
     },
     "execution_count": 64,
     "metadata": {},
     "output_type": "execute_result"
    }
   ],
   "source": [
    "loans.shape"
   ]
  },
  {
   "cell_type": "markdown",
   "metadata": {},
   "source": [
    "Check Id columns"
   ]
  },
  {
   "cell_type": "code",
   "execution_count": 65,
   "metadata": {},
   "outputs": [
    {
     "data": {
      "text/plain": [
       "338990"
      ]
     },
     "execution_count": 65,
     "metadata": {},
     "output_type": "execute_result"
    }
   ],
   "source": [
    "len(loans['Borrower Id'].unique())"
   ]
  },
  {
   "cell_type": "code",
   "execution_count": 66,
   "metadata": {},
   "outputs": [],
   "source": [
    "loans.drop(['Loan Id', 'Borrower Id'], axis=1, inplace=True)"
   ]
  },
  {
   "cell_type": "code",
   "execution_count": 67,
   "metadata": {},
   "outputs": [
    {
     "data": {
      "text/plain": [
       "(338990, 22)"
      ]
     },
     "execution_count": 67,
     "metadata": {},
     "output_type": "execute_result"
    }
   ],
   "source": [
    "loans.shape"
   ]
  },
  {
   "cell_type": "code",
   "execution_count": 68,
   "metadata": {},
   "outputs": [],
   "source": [
    "backup=loans.copy()"
   ]
  },
  {
   "cell_type": "markdown",
   "metadata": {},
   "source": [
    "#### Analyze columns with string type"
   ]
  },
  {
   "cell_type": "code",
   "execution_count": 69,
   "metadata": {},
   "outputs": [
    {
     "data": {
      "text/plain": [
       "Index(['Interest Rate', 'Requested', 'Funded', 'Investor Funded',\n",
       "       'Number of Payments', 'Loan Grade', 'Loan Subgrade', 'Years Employed',\n",
       "       'Home', 'Income Verified', 'Loan Date', 'Loan Cat', 'State',\n",
       "       'Credit Line Date', 'Status'],\n",
       "      dtype='object')"
      ]
     },
     "execution_count": 69,
     "metadata": {},
     "output_type": "execute_result"
    }
   ],
   "source": [
    "string_columns=loans.select_dtypes(include='object').columns\n",
    "string_columns"
   ]
  },
  {
   "cell_type": "code",
   "execution_count": 70,
   "metadata": {},
   "outputs": [
    {
     "name": "stdout",
     "output_type": "stream",
     "text": [
      "10.99%    11082\n",
      "12.99%     9951\n",
      "15.61%     9869\n",
      "8.90%      9656\n",
      "7.90%      8569\n",
      "          ...  \n",
      "16.96%        1\n",
      "24.40%        1\n",
      "20.52%        1\n",
      "14.67%        1\n",
      "16.15%        1\n",
      "Name: Interest Rate, Length: 482, dtype: int64\n",
      "$10,000     24167\n",
      "$12,000     18659\n",
      "$15,000     16848\n",
      "$20,000     16201\n",
      "$35,000     11732\n",
      "            ...  \n",
      "$30,425         1\n",
      "$33,850         1\n",
      "$32,475         1\n",
      "$33,050         1\n",
      "$28,725         1\n",
      "Name: Requested, Length: 1332, dtype: int64\n",
      "$10,000     24087\n",
      "$12,000     18582\n",
      "$15,000     16752\n",
      "$20,000     16047\n",
      "$35,000     11617\n",
      "            ...  \n",
      "$33,850         1\n",
      "$28,150         1\n",
      "$26,725         1\n",
      "$32,775         1\n",
      "$22,775         1\n",
      "Name: Funded, Length: 1333, dtype: int64\n",
      "$10,000     20667\n",
      "$12,000     15576\n",
      "$15,000     13656\n",
      "$20,000     12413\n",
      "$8,000       9477\n",
      "            ...  \n",
      "$18,230         1\n",
      "$34,995         1\n",
      "$15,777         1\n",
      "$404            1\n",
      "$15,654         1\n",
      "Name: Investor Funded, Length: 6403, dtype: int64\n",
      " 36 months    247791\n",
      " 60 months     91198\n",
      "Name: Number of Payments, dtype: int64\n",
      "B    86121\n",
      "C    76446\n",
      "D    46984\n",
      "A    45525\n",
      "E    21628\n",
      "F     8395\n",
      "G     2024\n",
      "Name: Loan Grade, dtype: int64\n",
      "B3    20352\n",
      "B4    19137\n",
      "B2    16767\n",
      "C1    16342\n",
      "C2    16310\n",
      "B5    15521\n",
      "C3    15425\n",
      "C4    14646\n",
      "B1    14344\n",
      "C5    13723\n",
      "A5    13086\n",
      "A4    11806\n",
      "D1    11720\n",
      "D2    10498\n",
      "D3     9091\n",
      "D4     8573\n",
      "A3     7653\n",
      "D5     7102\n",
      "A2     6496\n",
      "A1     6484\n",
      "E1     5447\n",
      "E2     5246\n",
      "E3     4230\n",
      "E4     3640\n",
      "E5     3065\n",
      "F1     2490\n",
      "F2     1873\n",
      "F3     1712\n",
      "F4     1331\n",
      "F5      989\n",
      "G1      677\n",
      "G2      511\n",
      "G3      378\n",
      "G4      252\n",
      "G5      206\n",
      "Name: Loan Subgrade, dtype: int64\n",
      "10+ years    108491\n",
      "2 years       30117\n",
      "3 years       26670\n",
      "< 1 year      26003\n",
      "5 years       23072\n",
      "1 year        21432\n",
      "4 years       20259\n",
      "6 years       19601\n",
      "7 years       19445\n",
      "8 years       16212\n",
      "9 years       12893\n",
      "Name: Years Employed, dtype: int64\n",
      "MORTGAGE    145958\n",
      "RENT        115958\n",
      "OWN          24976\n",
      "OTHER          107\n",
      "NONE            30\n",
      "ANY              1\n",
      "Name: Home, dtype: int64\n",
      "VERIFIED - income           127040\n",
      "not verified                107873\n",
      "VERIFIED - income source    104076\n",
      "Name: Income Verified, dtype: int64\n",
      "14-Jul    24797\n",
      "14-Apr    16175\n",
      "14-May    16169\n",
      "14-Aug    15896\n",
      "14-Jun    14557\n",
      "          ...  \n",
      "8-Sep        32\n",
      "7-Aug        31\n",
      "7-Jul        27\n",
      "7-Sep        17\n",
      "7-Jun         1\n",
      "Name: Loan Date, Length: 91, dtype: int64\n",
      "debt_consolidation    198226\n",
      "credit_card            75680\n",
      "home_improvement       19625\n",
      "other                  17154\n",
      "major_purchase          7312\n",
      "small_business          5359\n",
      "car                     4115\n",
      "medical                 3329\n",
      "moving                  2138\n",
      "wedding                 1934\n",
      "vacation                1848\n",
      "house                   1723\n",
      "educational              279\n",
      "renewable_energy         267\n",
      "Name: Loan Cat, dtype: int64\n",
      "CA    52835\n",
      "NY    29226\n",
      "TX    26493\n",
      "FL    22756\n",
      "IL    13483\n",
      "NJ    13188\n",
      "PA    11877\n",
      "OH    11040\n",
      "GA    10851\n",
      "VA    10338\n",
      "NC     9303\n",
      "MI     8350\n",
      "MA     8038\n",
      "MD     8016\n",
      "AZ     7747\n",
      "WA     7706\n",
      "CO     7119\n",
      "MN     5865\n",
      "MO     5398\n",
      "CT     5243\n",
      "NV     4753\n",
      "IN     4608\n",
      "OR     4411\n",
      "WI     4245\n",
      "TN     4215\n",
      "AL     4188\n",
      "LA     4017\n",
      "SC     3979\n",
      "KY     3173\n",
      "KS     3096\n",
      "OK     3014\n",
      "AR     2532\n",
      "UT     2531\n",
      "NM     1848\n",
      "HI     1798\n",
      "WV     1738\n",
      "NH     1648\n",
      "RI     1486\n",
      "DC     1080\n",
      "MT      995\n",
      "AK      947\n",
      "DE      896\n",
      "WY      853\n",
      "SD      730\n",
      "MS      707\n",
      "VT      604\n",
      "ID        8\n",
      "IA        7\n",
      "NE        6\n",
      "ME        4\n",
      "Name: State, dtype: int64\n",
      "Oct-00    2725\n",
      "Aug-00    2610\n",
      "Oct-99    2516\n",
      "Nov-99    2483\n",
      "1-Oct     2460\n",
      "          ... \n",
      "Nov-50       1\n",
      "May-59       1\n",
      "Oct-50       1\n",
      "Jul-55       1\n",
      "Dec-50       1\n",
      "Name: Credit Line Date, Length: 653, dtype: int64\n",
      "f    232600\n",
      "w    106389\n",
      "Name: Status, dtype: int64\n"
     ]
    },
    {
     "data": {
      "text/plain": [
       "Interest Rate         None\n",
       "Requested             None\n",
       "Funded                None\n",
       "Investor Funded       None\n",
       "Number of Payments    None\n",
       "Loan Grade            None\n",
       "Loan Subgrade         None\n",
       "Years Employed        None\n",
       "Home                  None\n",
       "Income Verified       None\n",
       "Loan Date             None\n",
       "Loan Cat              None\n",
       "State                 None\n",
       "Credit Line Date      None\n",
       "Status                None\n",
       "dtype: object"
      ]
     },
     "execution_count": 70,
     "metadata": {},
     "output_type": "execute_result"
    }
   ],
   "source": [
    "loans[string_columns].apply(lambda x: print(x.value_counts()))"
   ]
  },
  {
   "cell_type": "markdown",
   "metadata": {},
   "source": [
    "Change all strings to upper case"
   ]
  },
  {
   "cell_type": "code",
   "execution_count": 71,
   "metadata": {},
   "outputs": [],
   "source": [
    "loans[string_columns]=loans[string_columns].apply(lambda x: x.str.upper())"
   ]
  },
  {
   "cell_type": "markdown",
   "metadata": {},
   "source": [
    "Change currency columns from string to float after removing right white space, commas, and $ symbol"
   ]
  },
  {
   "cell_type": "code",
   "execution_count": 72,
   "metadata": {},
   "outputs": [],
   "source": [
    "dollar_columns=['Requested', 'Funded', 'Investor Funded']"
   ]
  },
  {
   "cell_type": "code",
   "execution_count": 73,
   "metadata": {},
   "outputs": [],
   "source": [
    "loans[dollar_columns]=loans[dollar_columns].apply(lambda x: x.str.rstrip())\n",
    "loans[dollar_columns]=loans[dollar_columns].apply(lambda x: x.str.replace(',', ''))\n",
    "loans[dollar_columns]=loans[dollar_columns].apply(lambda x: x.str.replace('$', '').astype(float))"
   ]
  },
  {
   "cell_type": "markdown",
   "metadata": {},
   "source": [
    "Change percent column to float"
   ]
  },
  {
   "cell_type": "code",
   "execution_count": 74,
   "metadata": {},
   "outputs": [],
   "source": [
    "loans['Interest Rate']=loans['Interest Rate'].str.replace('%', '').astype(float)\n",
    "loans['Interest Rate']=loans['Interest Rate']/100"
   ]
  },
  {
   "cell_type": "markdown",
   "metadata": {},
   "source": [
    "#### Create method to convert date strings to date objects."
   ]
  },
  {
   "cell_type": "code",
   "execution_count": 75,
   "metadata": {},
   "outputs": [],
   "source": [
    "def fix_dates(string):\n",
    "    fixed_date=string\n",
    "    if isinstance(fixed_date, str) and len(fixed_date)>1:\n",
    "        if fixed_date[0].isdigit():\n",
    "            split=fixed_date.split('-')\n",
    "            y=split[0]\n",
    "            if len(y)==1:\n",
    "                y='0'+y\n",
    "            fixed_date=split[1]+'-'+y\n",
    "        date_object=datetime.strptime(fixed_date, '%b-%y')\n",
    "        if date_object.year>2040:\n",
    "            date_object = date_object - relativedelta(years=100)\n",
    "        return date_object"
   ]
  },
  {
   "cell_type": "markdown",
   "metadata": {},
   "source": [
    "Change date strings to date objects"
   ]
  },
  {
   "cell_type": "code",
   "execution_count": 76,
   "metadata": {},
   "outputs": [],
   "source": [
    "loans['Loan Date']=loans['Loan Date'].apply(lambda x: fix_dates(x))\n",
    "loans['Credit Line Date']=loans['Credit Line Date'].apply(lambda x: fix_dates(x))"
   ]
  },
  {
   "cell_type": "code",
   "execution_count": 77,
   "metadata": {},
   "outputs": [
    {
     "data": {
      "text/plain": [
       "1944.0        1\n",
       "1946.0        1\n",
       "1949.0        1\n",
       "1951.0        1\n",
       "1953.0        3\n",
       "          ...  \n",
       "1998.0    20715\n",
       "2002.0    20960\n",
       "1999.0    23976\n",
       "2001.0    25013\n",
       "2000.0    26222\n",
       "Name: Credit Line Date, Length: 64, dtype: int64"
      ]
     },
     "execution_count": 77,
     "metadata": {},
     "output_type": "execute_result"
    }
   ],
   "source": [
    "loans['Credit Line Date'].dt.year.value_counts(ascending=True)"
   ]
  },
  {
   "cell_type": "code",
   "execution_count": 78,
   "metadata": {},
   "outputs": [
    {
     "data": {
      "text/plain": [
       "2014.0    145681\n",
       "2013.0    114219\n",
       "2012.0     45289\n",
       "2011.0     18246\n",
       "2010.0      9792\n",
       "2009.0      4008\n",
       "2008.0      1517\n",
       "2007.0       237\n",
       "Name: Loan Date, dtype: int64"
      ]
     },
     "execution_count": 78,
     "metadata": {},
     "output_type": "execute_result"
    }
   ],
   "source": [
    "loans['Loan Date'].dt.year.value_counts()"
   ]
  },
  {
   "cell_type": "code",
   "execution_count": 79,
   "metadata": {},
   "outputs": [
    {
     "data": {
      "text/html": [
       "<div>\n",
       "<style scoped>\n",
       "    .dataframe tbody tr th:only-of-type {\n",
       "        vertical-align: middle;\n",
       "    }\n",
       "\n",
       "    .dataframe tbody tr th {\n",
       "        vertical-align: top;\n",
       "    }\n",
       "\n",
       "    .dataframe thead th {\n",
       "        text-align: right;\n",
       "    }\n",
       "</style>\n",
       "<table border=\"1\" class=\"dataframe\">\n",
       "  <thead>\n",
       "    <tr style=\"text-align: right;\">\n",
       "      <th></th>\n",
       "      <th>Interest Rate</th>\n",
       "      <th>Requested</th>\n",
       "      <th>Funded</th>\n",
       "      <th>Investor Funded</th>\n",
       "      <th>Number of Payments</th>\n",
       "      <th>Loan Grade</th>\n",
       "      <th>Loan Subgrade</th>\n",
       "      <th>Years Employed</th>\n",
       "      <th>Home</th>\n",
       "      <th>Annual Income</th>\n",
       "      <th>...</th>\n",
       "      <th>Loan Cat</th>\n",
       "      <th>State</th>\n",
       "      <th>Ratio</th>\n",
       "      <th>Late Payments</th>\n",
       "      <th>Credit Line Date</th>\n",
       "      <th>Months Del</th>\n",
       "      <th>Months PR</th>\n",
       "      <th>Derog Recs</th>\n",
       "      <th>Credit Lines</th>\n",
       "      <th>Status</th>\n",
       "    </tr>\n",
       "  </thead>\n",
       "  <tbody>\n",
       "    <tr>\n",
       "      <td>0</td>\n",
       "      <td>0.1189</td>\n",
       "      <td>25000.0</td>\n",
       "      <td>25000.0</td>\n",
       "      <td>19080.0</td>\n",
       "      <td>36 MONTHS</td>\n",
       "      <td>B</td>\n",
       "      <td>B4</td>\n",
       "      <td>&lt; 1 YEAR</td>\n",
       "      <td>RENT</td>\n",
       "      <td>85000.0</td>\n",
       "      <td>...</td>\n",
       "      <td>DEBT_CONSOLIDATION</td>\n",
       "      <td>CA</td>\n",
       "      <td>19.48</td>\n",
       "      <td>0.0</td>\n",
       "      <td>1994-02-01</td>\n",
       "      <td>0.0</td>\n",
       "      <td>0.0</td>\n",
       "      <td>0.0</td>\n",
       "      <td>42.0</td>\n",
       "      <td>F</td>\n",
       "    </tr>\n",
       "    <tr>\n",
       "      <td>1</td>\n",
       "      <td>0.1071</td>\n",
       "      <td>7000.0</td>\n",
       "      <td>7000.0</td>\n",
       "      <td>673.0</td>\n",
       "      <td>36 MONTHS</td>\n",
       "      <td>B</td>\n",
       "      <td>B5</td>\n",
       "      <td>&lt; 1 YEAR</td>\n",
       "      <td>RENT</td>\n",
       "      <td>65000.0</td>\n",
       "      <td>...</td>\n",
       "      <td>CREDIT_CARD</td>\n",
       "      <td>NY</td>\n",
       "      <td>14.29</td>\n",
       "      <td>0.0</td>\n",
       "      <td>2000-10-01</td>\n",
       "      <td>0.0</td>\n",
       "      <td>0.0</td>\n",
       "      <td>0.0</td>\n",
       "      <td>7.0</td>\n",
       "      <td>F</td>\n",
       "    </tr>\n",
       "    <tr>\n",
       "      <td>2</td>\n",
       "      <td>0.1699</td>\n",
       "      <td>25000.0</td>\n",
       "      <td>25000.0</td>\n",
       "      <td>24725.0</td>\n",
       "      <td>36 MONTHS</td>\n",
       "      <td>D</td>\n",
       "      <td>D3</td>\n",
       "      <td>1 YEAR</td>\n",
       "      <td>RENT</td>\n",
       "      <td>70000.0</td>\n",
       "      <td>...</td>\n",
       "      <td>DEBT_CONSOLIDATION</td>\n",
       "      <td>NY</td>\n",
       "      <td>10.50</td>\n",
       "      <td>0.0</td>\n",
       "      <td>2000-06-01</td>\n",
       "      <td>41.0</td>\n",
       "      <td>0.0</td>\n",
       "      <td>0.0</td>\n",
       "      <td>17.0</td>\n",
       "      <td>F</td>\n",
       "    </tr>\n",
       "    <tr>\n",
       "      <td>3</td>\n",
       "      <td>0.1311</td>\n",
       "      <td>1200.0</td>\n",
       "      <td>1200.0</td>\n",
       "      <td>1200.0</td>\n",
       "      <td>36 MONTHS</td>\n",
       "      <td>C</td>\n",
       "      <td>C2</td>\n",
       "      <td>10+ YEARS</td>\n",
       "      <td>OWN</td>\n",
       "      <td>54000.0</td>\n",
       "      <td>...</td>\n",
       "      <td>DEBT_CONSOLIDATION</td>\n",
       "      <td>TX</td>\n",
       "      <td>5.47</td>\n",
       "      <td>0.0</td>\n",
       "      <td>1985-01-01</td>\n",
       "      <td>64.0</td>\n",
       "      <td>0.0</td>\n",
       "      <td>0.0</td>\n",
       "      <td>31.0</td>\n",
       "      <td>F</td>\n",
       "    </tr>\n",
       "    <tr>\n",
       "      <td>4</td>\n",
       "      <td>0.1357</td>\n",
       "      <td>10800.0</td>\n",
       "      <td>10800.0</td>\n",
       "      <td>10692.0</td>\n",
       "      <td>36 MONTHS</td>\n",
       "      <td>C</td>\n",
       "      <td>C3</td>\n",
       "      <td>6 YEARS</td>\n",
       "      <td>RENT</td>\n",
       "      <td>32000.0</td>\n",
       "      <td>...</td>\n",
       "      <td>DEBT_CONSOLIDATION</td>\n",
       "      <td>CT</td>\n",
       "      <td>11.63</td>\n",
       "      <td>0.0</td>\n",
       "      <td>1996-12-01</td>\n",
       "      <td>58.0</td>\n",
       "      <td>0.0</td>\n",
       "      <td>0.0</td>\n",
       "      <td>40.0</td>\n",
       "      <td>F</td>\n",
       "    </tr>\n",
       "  </tbody>\n",
       "</table>\n",
       "<p>5 rows × 22 columns</p>\n",
       "</div>"
      ],
      "text/plain": [
       "   Interest Rate  Requested   Funded  Investor Funded Number of Payments  \\\n",
       "0         0.1189    25000.0  25000.0          19080.0          36 MONTHS   \n",
       "1         0.1071     7000.0   7000.0            673.0          36 MONTHS   \n",
       "2         0.1699    25000.0  25000.0          24725.0          36 MONTHS   \n",
       "3         0.1311     1200.0   1200.0           1200.0          36 MONTHS   \n",
       "4         0.1357    10800.0  10800.0          10692.0          36 MONTHS   \n",
       "\n",
       "  Loan Grade Loan Subgrade Years Employed  Home  Annual Income  ...  \\\n",
       "0          B            B4       < 1 YEAR  RENT        85000.0  ...   \n",
       "1          B            B5       < 1 YEAR  RENT        65000.0  ...   \n",
       "2          D            D3         1 YEAR  RENT        70000.0  ...   \n",
       "3          C            C2      10+ YEARS   OWN        54000.0  ...   \n",
       "4          C            C3        6 YEARS  RENT        32000.0  ...   \n",
       "\n",
       "             Loan Cat State  Ratio Late Payments  Credit Line Date  \\\n",
       "0  DEBT_CONSOLIDATION    CA  19.48           0.0        1994-02-01   \n",
       "1         CREDIT_CARD    NY  14.29           0.0        2000-10-01   \n",
       "2  DEBT_CONSOLIDATION    NY  10.50           0.0        2000-06-01   \n",
       "3  DEBT_CONSOLIDATION    TX   5.47           0.0        1985-01-01   \n",
       "4  DEBT_CONSOLIDATION    CT  11.63           0.0        1996-12-01   \n",
       "\n",
       "   Months Del Months PR  Derog Recs  Credit Lines  Status  \n",
       "0         0.0       0.0         0.0          42.0       F  \n",
       "1         0.0       0.0         0.0           7.0       F  \n",
       "2        41.0       0.0         0.0          17.0       F  \n",
       "3        64.0       0.0         0.0          31.0       F  \n",
       "4        58.0       0.0         0.0          40.0       F  \n",
       "\n",
       "[5 rows x 22 columns]"
      ]
     },
     "execution_count": 79,
     "metadata": {},
     "output_type": "execute_result"
    }
   ],
   "source": [
    "loans.head()"
   ]
  },
  {
   "cell_type": "code",
   "execution_count": 80,
   "metadata": {},
   "outputs": [
    {
     "data": {
      "text/plain": [
       "Interest Rate                float64\n",
       "Requested                    float64\n",
       "Funded                       float64\n",
       "Investor Funded              float64\n",
       "Number of Payments            object\n",
       "Loan Grade                    object\n",
       "Loan Subgrade                 object\n",
       "Years Employed                object\n",
       "Home                          object\n",
       "Annual Income                float64\n",
       "Income Verified               object\n",
       "Loan Date             datetime64[ns]\n",
       "Loan Cat                      object\n",
       "State                         object\n",
       "Ratio                        float64\n",
       "Late Payments                float64\n",
       "Credit Line Date      datetime64[ns]\n",
       "Months Del                   float64\n",
       "Months PR                    float64\n",
       "Derog Recs                   float64\n",
       "Credit Lines                 float64\n",
       "Status                        object\n",
       "dtype: object"
      ]
     },
     "execution_count": 80,
     "metadata": {},
     "output_type": "execute_result"
    }
   ],
   "source": [
    "loans.dtypes"
   ]
  },
  {
   "cell_type": "markdown",
   "metadata": {},
   "source": [
    "#### Check categorical values of remainng categorical columns"
   ]
  },
  {
   "cell_type": "code",
   "execution_count": 81,
   "metadata": {},
   "outputs": [
    {
     "data": {
      "text/plain": [
       "DEBT_CONSOLIDATION    198226\n",
       "CREDIT_CARD            75680\n",
       "HOME_IMPROVEMENT       19625\n",
       "OTHER                  17154\n",
       "MAJOR_PURCHASE          7312\n",
       "SMALL_BUSINESS          5359\n",
       "CAR                     4115\n",
       "MEDICAL                 3329\n",
       "MOVING                  2138\n",
       "WEDDING                 1934\n",
       "VACATION                1848\n",
       "HOUSE                   1723\n",
       "EDUCATIONAL              279\n",
       "RENEWABLE_ENERGY         267\n",
       "Name: Loan Cat, dtype: int64"
      ]
     },
     "execution_count": 81,
     "metadata": {},
     "output_type": "execute_result"
    }
   ],
   "source": [
    "loans['Loan Cat'].value_counts()"
   ]
  },
  {
   "cell_type": "code",
   "execution_count": 82,
   "metadata": {},
   "outputs": [
    {
     "data": {
      "text/plain": [
       "(338990, 22)"
      ]
     },
     "execution_count": 82,
     "metadata": {},
     "output_type": "execute_result"
    }
   ],
   "source": [
    "loans.shape"
   ]
  },
  {
   "cell_type": "code",
   "execution_count": 83,
   "metadata": {},
   "outputs": [
    {
     "data": {
      "text/plain": [
       "0    RENT\n",
       "1    RENT\n",
       "2    RENT\n",
       "3     OWN\n",
       "4    RENT\n",
       "Name: Home, dtype: object"
      ]
     },
     "execution_count": 83,
     "metadata": {},
     "output_type": "execute_result"
    }
   ],
   "source": [
    "loans['Home'].head()"
   ]
  },
  {
   "cell_type": "code",
   "execution_count": 84,
   "metadata": {},
   "outputs": [
    {
     "data": {
      "text/plain": [
       "MORTGAGE    145958\n",
       "RENT        115958\n",
       "OWN          24976\n",
       "OTHER          107\n",
       "NONE            30\n",
       "ANY              1\n",
       "Name: Home, dtype: int64"
      ]
     },
     "execution_count": 84,
     "metadata": {},
     "output_type": "execute_result"
    }
   ],
   "source": [
    "loans['Home'].value_counts()"
   ]
  },
  {
   "cell_type": "markdown",
   "metadata": {},
   "source": [
    "#### Because the only valid values of Home, according to the metadata, are Mortgage, Rent, Own, and Other, the values of None and Any are changed to Other, which only affects 31 rows."
   ]
  },
  {
   "cell_type": "code",
   "execution_count": 85,
   "metadata": {},
   "outputs": [],
   "source": [
    "loans.loc[((loans['Home']=='ANY') | (loans['Home']=='NONE')),'Home']='OTHER'"
   ]
  },
  {
   "cell_type": "code",
   "execution_count": 86,
   "metadata": {},
   "outputs": [
    {
     "data": {
      "text/plain": [
       "MORTGAGE    145958\n",
       "RENT        115958\n",
       "OWN          24976\n",
       "OTHER          138\n",
       "Name: Home, dtype: int64"
      ]
     },
     "execution_count": 86,
     "metadata": {},
     "output_type": "execute_result"
    }
   ],
   "source": [
    "loans['Home'].value_counts()"
   ]
  },
  {
   "cell_type": "code",
   "execution_count": 87,
   "metadata": {},
   "outputs": [
    {
     "data": {
      "text/plain": [
       "(338990, 22)"
      ]
     },
     "execution_count": 87,
     "metadata": {},
     "output_type": "execute_result"
    }
   ],
   "source": [
    "loans.shape"
   ]
  },
  {
   "cell_type": "code",
   "execution_count": 88,
   "metadata": {},
   "outputs": [
    {
     "data": {
      "text/plain": [
       "F    232600\n",
       "W    106389\n",
       "Name: Status, dtype: int64"
      ]
     },
     "execution_count": 88,
     "metadata": {},
     "output_type": "execute_result"
    }
   ],
   "source": [
    "loans['Status'].value_counts()"
   ]
  },
  {
   "cell_type": "code",
   "execution_count": 89,
   "metadata": {},
   "outputs": [
    {
     "data": {
      "text/plain": [
       "10+ YEARS    108491\n",
       "2 YEARS       30117\n",
       "3 YEARS       26670\n",
       "< 1 YEAR      26003\n",
       "5 YEARS       23072\n",
       "1 YEAR        21432\n",
       "4 YEARS       20259\n",
       "6 YEARS       19601\n",
       "7 YEARS       19445\n",
       "8 YEARS       16212\n",
       "9 YEARS       12893\n",
       "Name: Years Employed, dtype: int64"
      ]
     },
     "execution_count": 89,
     "metadata": {},
     "output_type": "execute_result"
    }
   ],
   "source": [
    "loans['Years Employed'].value_counts()"
   ]
  },
  {
   "cell_type": "code",
   "execution_count": 90,
   "metadata": {},
   "outputs": [
    {
     "data": {
      "text/plain": [
       "VERIFIED - INCOME           127040\n",
       "NOT VERIFIED                107873\n",
       "VERIFIED - INCOME SOURCE    104076\n",
       "Name: Income Verified, dtype: int64"
      ]
     },
     "execution_count": 90,
     "metadata": {},
     "output_type": "execute_result"
    }
   ],
   "source": [
    "loans['Income Verified'].value_counts()"
   ]
  },
  {
   "cell_type": "code",
   "execution_count": 91,
   "metadata": {},
   "outputs": [
    {
     "data": {
      "text/plain": [
       "CA    52835\n",
       "NY    29226\n",
       "TX    26493\n",
       "FL    22756\n",
       "IL    13483\n",
       "NJ    13188\n",
       "PA    11877\n",
       "OH    11040\n",
       "GA    10851\n",
       "VA    10338\n",
       "NC     9303\n",
       "MI     8350\n",
       "MA     8038\n",
       "MD     8016\n",
       "AZ     7747\n",
       "WA     7706\n",
       "CO     7119\n",
       "MN     5865\n",
       "MO     5398\n",
       "CT     5243\n",
       "NV     4753\n",
       "IN     4608\n",
       "OR     4411\n",
       "WI     4245\n",
       "TN     4215\n",
       "AL     4188\n",
       "LA     4017\n",
       "SC     3979\n",
       "KY     3173\n",
       "KS     3096\n",
       "OK     3014\n",
       "AR     2532\n",
       "UT     2531\n",
       "NM     1848\n",
       "HI     1798\n",
       "WV     1738\n",
       "NH     1648\n",
       "RI     1486\n",
       "DC     1080\n",
       "MT      995\n",
       "AK      947\n",
       "DE      896\n",
       "WY      853\n",
       "SD      730\n",
       "MS      707\n",
       "VT      604\n",
       "ID        8\n",
       "IA        7\n",
       "NE        6\n",
       "ME        4\n",
       "Name: State, dtype: int64"
      ]
     },
     "execution_count": 91,
     "metadata": {},
     "output_type": "execute_result"
    }
   ],
   "source": [
    "loans['State'].value_counts()"
   ]
  },
  {
   "cell_type": "code",
   "execution_count": 92,
   "metadata": {},
   "outputs": [
    {
     "data": {
      "text/plain": [
       "Requested                 1\n",
       "Funded                    1\n",
       "Investor Funded           1\n",
       "Number of Payments        1\n",
       "Loan Grade            51867\n",
       "Loan Subgrade         51867\n",
       "Years Employed        14795\n",
       "Home                  51960\n",
       "Annual Income         51752\n",
       "Income Verified           1\n",
       "Loan Date                 1\n",
       "Loan Cat                  1\n",
       "State                     1\n",
       "Ratio                     1\n",
       "Late Payments             1\n",
       "Credit Line Date          1\n",
       "Derog Recs                1\n",
       "Credit Lines              1\n",
       "Status                    1\n",
       "dtype: int64"
      ]
     },
     "execution_count": 92,
     "metadata": {},
     "output_type": "execute_result"
    }
   ],
   "source": [
    "missing_data = loans.isnull()\n",
    "null_columns=loans.columns[missing_data.any()]\n",
    "loans[null_columns].isnull().sum()"
   ]
  },
  {
   "cell_type": "code",
   "execution_count": 93,
   "metadata": {},
   "outputs": [
    {
     "data": {
      "text/plain": [
       "(338990, 22)"
      ]
     },
     "execution_count": 93,
     "metadata": {},
     "output_type": "execute_result"
    }
   ],
   "source": [
    "loans.shape"
   ]
  },
  {
   "cell_type": "code",
   "execution_count": 94,
   "metadata": {},
   "outputs": [],
   "source": [
    "backup=loans.copy()"
   ]
  },
  {
   "cell_type": "markdown",
   "metadata": {},
   "source": [
    "#### Because Loan Grade and Loan Subgrade have the same number of null values, check to see if these are in the same rows"
   ]
  },
  {
   "cell_type": "code",
   "execution_count": 95,
   "metadata": {},
   "outputs": [
    {
     "data": {
      "text/plain": [
       "51867"
      ]
     },
     "execution_count": 95,
     "metadata": {},
     "output_type": "execute_result"
    }
   ],
   "source": [
    "len(loans[loans['Loan Grade'].isnull() & loans['Loan Subgrade'].isnull()])"
   ]
  },
  {
   "cell_type": "markdown",
   "metadata": {},
   "source": [
    "Since nulls are in both columns on the same rows, drop rows with nulls in both columns"
   ]
  },
  {
   "cell_type": "code",
   "execution_count": 96,
   "metadata": {},
   "outputs": [],
   "source": [
    "loans=loans.dropna(subset=['Loan Grade', 'Loan Subgrade'])"
   ]
  },
  {
   "cell_type": "code",
   "execution_count": 97,
   "metadata": {},
   "outputs": [
    {
     "data": {
      "text/plain": [
       "(287123, 22)"
      ]
     },
     "execution_count": 97,
     "metadata": {},
     "output_type": "execute_result"
    }
   ],
   "source": [
    "loans.shape"
   ]
  },
  {
   "cell_type": "markdown",
   "metadata": {},
   "source": [
    "Check for nulls after dropping rows"
   ]
  },
  {
   "cell_type": "code",
   "execution_count": 98,
   "metadata": {},
   "outputs": [
    {
     "data": {
      "text/plain": [
       "Years Employed    12451\n",
       "Home              44128\n",
       "Annual Income     43990\n",
       "dtype: int64"
      ]
     },
     "execution_count": 98,
     "metadata": {},
     "output_type": "execute_result"
    }
   ],
   "source": [
    "missing_data = loans.isnull()\n",
    "null_columns=loans.columns[missing_data.any()]\n",
    "loans[null_columns].isnull().sum()"
   ]
  },
  {
   "cell_type": "markdown",
   "metadata": {},
   "source": [
    "For Years Employed, fill nulls with the most common value"
   ]
  },
  {
   "cell_type": "code",
   "execution_count": 99,
   "metadata": {},
   "outputs": [
    {
     "data": {
      "text/plain": [
       "10+ YEARS    0.319967\n",
       "2 YEARS      0.088986\n",
       "3 YEARS      0.078757\n",
       "< 1 YEAR     0.076723\n",
       "5 YEARS      0.067964\n",
       "1 YEAR       0.063151\n",
       "4 YEARS      0.059974\n",
       "6 YEARS      0.057731\n",
       "7 YEARS      0.057282\n",
       "8 YEARS      0.047969\n",
       "9 YEARS      0.038130\n",
       "Name: Years Employed, dtype: float64"
      ]
     },
     "execution_count": 99,
     "metadata": {},
     "output_type": "execute_result"
    }
   ],
   "source": [
    "loans['Years Employed'].value_counts()/len(loans)"
   ]
  },
  {
   "cell_type": "code",
   "execution_count": 100,
   "metadata": {},
   "outputs": [],
   "source": [
    "loans.loc[:, 'Years Employed']=loans.loc[:, 'Years Employed'].fillna('10+ YEARS')"
   ]
  },
  {
   "cell_type": "markdown",
   "metadata": {},
   "source": [
    "Because Home value doesn't have a dominant value, use forward fill to replace null values"
   ]
  },
  {
   "cell_type": "code",
   "execution_count": 101,
   "metadata": {},
   "outputs": [
    {
     "data": {
      "text/plain": [
       "MORTGAGE    0.430112\n",
       "RENT        0.342285\n",
       "OWN         0.073488\n",
       "OTHER       0.000425\n",
       "Name: Home, dtype: float64"
      ]
     },
     "execution_count": 101,
     "metadata": {},
     "output_type": "execute_result"
    }
   ],
   "source": [
    "loans['Home'].value_counts()/len(loans)"
   ]
  },
  {
   "cell_type": "code",
   "execution_count": 102,
   "metadata": {},
   "outputs": [],
   "source": [
    "loans.loc[:, 'Home']=loans.loc[:, 'Home'].fillna(method='ffill')"
   ]
  },
  {
   "cell_type": "markdown",
   "metadata": {},
   "source": [
    "Fill nulls in Annual Income with the mean annual income value"
   ]
  },
  {
   "cell_type": "code",
   "execution_count": 103,
   "metadata": {},
   "outputs": [],
   "source": [
    "income_mean=loans['Annual Income'].mean()\n",
    "loans.loc[:, 'Annual Income']=loans.loc[:, 'Annual Income'].fillna(value=income_mean)"
   ]
  },
  {
   "cell_type": "code",
   "execution_count": 104,
   "metadata": {},
   "outputs": [
    {
     "data": {
      "text/plain": [
       "(287123, 22)"
      ]
     },
     "execution_count": 104,
     "metadata": {},
     "output_type": "execute_result"
    }
   ],
   "source": [
    "loans.shape"
   ]
  },
  {
   "cell_type": "code",
   "execution_count": 105,
   "metadata": {},
   "outputs": [
    {
     "data": {
      "text/html": [
       "<div>\n",
       "<style scoped>\n",
       "    .dataframe tbody tr th:only-of-type {\n",
       "        vertical-align: middle;\n",
       "    }\n",
       "\n",
       "    .dataframe tbody tr th {\n",
       "        vertical-align: top;\n",
       "    }\n",
       "\n",
       "    .dataframe thead th {\n",
       "        text-align: right;\n",
       "    }\n",
       "</style>\n",
       "<table border=\"1\" class=\"dataframe\">\n",
       "  <thead>\n",
       "    <tr style=\"text-align: right;\">\n",
       "      <th></th>\n",
       "      <th>Interest Rate</th>\n",
       "      <th>Requested</th>\n",
       "      <th>Funded</th>\n",
       "      <th>Investor Funded</th>\n",
       "      <th>Number of Payments</th>\n",
       "      <th>Loan Grade</th>\n",
       "      <th>Loan Subgrade</th>\n",
       "      <th>Years Employed</th>\n",
       "      <th>Home</th>\n",
       "      <th>Annual Income</th>\n",
       "      <th>...</th>\n",
       "      <th>Loan Cat</th>\n",
       "      <th>State</th>\n",
       "      <th>Ratio</th>\n",
       "      <th>Late Payments</th>\n",
       "      <th>Credit Line Date</th>\n",
       "      <th>Months Del</th>\n",
       "      <th>Months PR</th>\n",
       "      <th>Derog Recs</th>\n",
       "      <th>Credit Lines</th>\n",
       "      <th>Status</th>\n",
       "    </tr>\n",
       "  </thead>\n",
       "  <tbody>\n",
       "    <tr>\n",
       "      <td>0</td>\n",
       "      <td>0.1189</td>\n",
       "      <td>25000.0</td>\n",
       "      <td>25000.0</td>\n",
       "      <td>19080.0</td>\n",
       "      <td>36 MONTHS</td>\n",
       "      <td>B</td>\n",
       "      <td>B4</td>\n",
       "      <td>&lt; 1 YEAR</td>\n",
       "      <td>RENT</td>\n",
       "      <td>85000.0</td>\n",
       "      <td>...</td>\n",
       "      <td>DEBT_CONSOLIDATION</td>\n",
       "      <td>CA</td>\n",
       "      <td>19.48</td>\n",
       "      <td>0.0</td>\n",
       "      <td>1994-02-01</td>\n",
       "      <td>0.0</td>\n",
       "      <td>0.0</td>\n",
       "      <td>0.0</td>\n",
       "      <td>42.0</td>\n",
       "      <td>F</td>\n",
       "    </tr>\n",
       "    <tr>\n",
       "      <td>1</td>\n",
       "      <td>0.1071</td>\n",
       "      <td>7000.0</td>\n",
       "      <td>7000.0</td>\n",
       "      <td>673.0</td>\n",
       "      <td>36 MONTHS</td>\n",
       "      <td>B</td>\n",
       "      <td>B5</td>\n",
       "      <td>&lt; 1 YEAR</td>\n",
       "      <td>RENT</td>\n",
       "      <td>65000.0</td>\n",
       "      <td>...</td>\n",
       "      <td>CREDIT_CARD</td>\n",
       "      <td>NY</td>\n",
       "      <td>14.29</td>\n",
       "      <td>0.0</td>\n",
       "      <td>2000-10-01</td>\n",
       "      <td>0.0</td>\n",
       "      <td>0.0</td>\n",
       "      <td>0.0</td>\n",
       "      <td>7.0</td>\n",
       "      <td>F</td>\n",
       "    </tr>\n",
       "    <tr>\n",
       "      <td>2</td>\n",
       "      <td>0.1699</td>\n",
       "      <td>25000.0</td>\n",
       "      <td>25000.0</td>\n",
       "      <td>24725.0</td>\n",
       "      <td>36 MONTHS</td>\n",
       "      <td>D</td>\n",
       "      <td>D3</td>\n",
       "      <td>1 YEAR</td>\n",
       "      <td>RENT</td>\n",
       "      <td>70000.0</td>\n",
       "      <td>...</td>\n",
       "      <td>DEBT_CONSOLIDATION</td>\n",
       "      <td>NY</td>\n",
       "      <td>10.50</td>\n",
       "      <td>0.0</td>\n",
       "      <td>2000-06-01</td>\n",
       "      <td>41.0</td>\n",
       "      <td>0.0</td>\n",
       "      <td>0.0</td>\n",
       "      <td>17.0</td>\n",
       "      <td>F</td>\n",
       "    </tr>\n",
       "    <tr>\n",
       "      <td>3</td>\n",
       "      <td>0.1311</td>\n",
       "      <td>1200.0</td>\n",
       "      <td>1200.0</td>\n",
       "      <td>1200.0</td>\n",
       "      <td>36 MONTHS</td>\n",
       "      <td>C</td>\n",
       "      <td>C2</td>\n",
       "      <td>10+ YEARS</td>\n",
       "      <td>OWN</td>\n",
       "      <td>54000.0</td>\n",
       "      <td>...</td>\n",
       "      <td>DEBT_CONSOLIDATION</td>\n",
       "      <td>TX</td>\n",
       "      <td>5.47</td>\n",
       "      <td>0.0</td>\n",
       "      <td>1985-01-01</td>\n",
       "      <td>64.0</td>\n",
       "      <td>0.0</td>\n",
       "      <td>0.0</td>\n",
       "      <td>31.0</td>\n",
       "      <td>F</td>\n",
       "    </tr>\n",
       "    <tr>\n",
       "      <td>4</td>\n",
       "      <td>0.1357</td>\n",
       "      <td>10800.0</td>\n",
       "      <td>10800.0</td>\n",
       "      <td>10692.0</td>\n",
       "      <td>36 MONTHS</td>\n",
       "      <td>C</td>\n",
       "      <td>C3</td>\n",
       "      <td>6 YEARS</td>\n",
       "      <td>RENT</td>\n",
       "      <td>32000.0</td>\n",
       "      <td>...</td>\n",
       "      <td>DEBT_CONSOLIDATION</td>\n",
       "      <td>CT</td>\n",
       "      <td>11.63</td>\n",
       "      <td>0.0</td>\n",
       "      <td>1996-12-01</td>\n",
       "      <td>58.0</td>\n",
       "      <td>0.0</td>\n",
       "      <td>0.0</td>\n",
       "      <td>40.0</td>\n",
       "      <td>F</td>\n",
       "    </tr>\n",
       "  </tbody>\n",
       "</table>\n",
       "<p>5 rows × 22 columns</p>\n",
       "</div>"
      ],
      "text/plain": [
       "   Interest Rate  Requested   Funded  Investor Funded Number of Payments  \\\n",
       "0         0.1189    25000.0  25000.0          19080.0          36 MONTHS   \n",
       "1         0.1071     7000.0   7000.0            673.0          36 MONTHS   \n",
       "2         0.1699    25000.0  25000.0          24725.0          36 MONTHS   \n",
       "3         0.1311     1200.0   1200.0           1200.0          36 MONTHS   \n",
       "4         0.1357    10800.0  10800.0          10692.0          36 MONTHS   \n",
       "\n",
       "  Loan Grade Loan Subgrade Years Employed  Home  Annual Income  ...  \\\n",
       "0          B            B4       < 1 YEAR  RENT        85000.0  ...   \n",
       "1          B            B5       < 1 YEAR  RENT        65000.0  ...   \n",
       "2          D            D3         1 YEAR  RENT        70000.0  ...   \n",
       "3          C            C2      10+ YEARS   OWN        54000.0  ...   \n",
       "4          C            C3        6 YEARS  RENT        32000.0  ...   \n",
       "\n",
       "             Loan Cat State  Ratio Late Payments  Credit Line Date  \\\n",
       "0  DEBT_CONSOLIDATION    CA  19.48           0.0        1994-02-01   \n",
       "1         CREDIT_CARD    NY  14.29           0.0        2000-10-01   \n",
       "2  DEBT_CONSOLIDATION    NY  10.50           0.0        2000-06-01   \n",
       "3  DEBT_CONSOLIDATION    TX   5.47           0.0        1985-01-01   \n",
       "4  DEBT_CONSOLIDATION    CT  11.63           0.0        1996-12-01   \n",
       "\n",
       "   Months Del Months PR  Derog Recs  Credit Lines  Status  \n",
       "0         0.0       0.0         0.0          42.0       F  \n",
       "1         0.0       0.0         0.0           7.0       F  \n",
       "2        41.0       0.0         0.0          17.0       F  \n",
       "3        64.0       0.0         0.0          31.0       F  \n",
       "4        58.0       0.0         0.0          40.0       F  \n",
       "\n",
       "[5 rows x 22 columns]"
      ]
     },
     "execution_count": 105,
     "metadata": {},
     "output_type": "execute_result"
    }
   ],
   "source": [
    "loans.head()"
   ]
  },
  {
   "cell_type": "markdown",
   "metadata": {},
   "source": [
    "#### Save cleaned data to new csv file."
   ]
  },
  {
   "cell_type": "code",
   "execution_count": null,
   "metadata": {},
   "outputs": [],
   "source": [
    "loans.to_csv(r'data\\clean_loan_interest_rates.csv', index=False)"
   ]
  }
 ],
 "metadata": {
  "kernelspec": {
   "display_name": "Python 3",
   "language": "python",
   "name": "python3"
  },
  "language_info": {
   "codemirror_mode": {
    "name": "ipython",
    "version": 3
   },
   "file_extension": ".py",
   "mimetype": "text/x-python",
   "name": "python",
   "nbconvert_exporter": "python",
   "pygments_lexer": "ipython3",
   "version": "3.7.4"
  }
 },
 "nbformat": 4,
 "nbformat_minor": 2
}
