{
 "cells": [
  {
   "cell_type": "markdown",
   "metadata": {},
   "source": [
    "# Gia Gillis\n",
    "\n",
    "## Loan Interest Rate Analysis Part 2 of 3"
   ]
  },
  {
   "cell_type": "markdown",
   "metadata": {},
   "source": [
    "Import necessary libraries."
   ]
  },
  {
   "cell_type": "code",
   "execution_count": 1,
   "metadata": {},
   "outputs": [],
   "source": [
    "import pandas as pd\n",
    "import matplotlib as plt\n",
    "from matplotlib import pyplot\n",
    "import seaborn as sns\n",
    "from datetime import datetime\n",
    "%matplotlib inline"
   ]
  },
  {
   "cell_type": "markdown",
   "metadata": {},
   "source": [
    "Load clean data and force Loan Id and Borrower Id into strings."
   ]
  },
  {
   "cell_type": "code",
   "execution_count": 2,
   "metadata": {},
   "outputs": [],
   "source": [
    "clean_loans=pd.read_csv(r'C:\\Users\\Gia\\Downloads\\Analyst_Test\\Analyst_Test\\clean_loan_interest_rates.csv', parse_dates=True, \n",
    "                        dtype={'Loan Id': str, 'Borrower Id':str})"
   ]
  },
  {
   "cell_type": "code",
   "execution_count": 3,
   "metadata": {},
   "outputs": [
    {
     "data": {
      "text/html": [
       "<div>\n",
       "<style scoped>\n",
       "    .dataframe tbody tr th:only-of-type {\n",
       "        vertical-align: middle;\n",
       "    }\n",
       "\n",
       "    .dataframe tbody tr th {\n",
       "        vertical-align: top;\n",
       "    }\n",
       "\n",
       "    .dataframe thead th {\n",
       "        text-align: right;\n",
       "    }\n",
       "</style>\n",
       "<table border=\"1\" class=\"dataframe\">\n",
       "  <thead>\n",
       "    <tr style=\"text-align: right;\">\n",
       "      <th></th>\n",
       "      <th>Interest Rate</th>\n",
       "      <th>Requested</th>\n",
       "      <th>Funded</th>\n",
       "      <th>Investor Funded</th>\n",
       "      <th>Number of Payments</th>\n",
       "      <th>Loan Grade</th>\n",
       "      <th>Loan Subgrade</th>\n",
       "      <th>Job</th>\n",
       "      <th>Years Employed</th>\n",
       "      <th>Home</th>\n",
       "      <th>...</th>\n",
       "      <th>Loan Cat</th>\n",
       "      <th>State</th>\n",
       "      <th>Ratio</th>\n",
       "      <th>Late Payments</th>\n",
       "      <th>Credit Line Date</th>\n",
       "      <th>Months Del</th>\n",
       "      <th>Months PR</th>\n",
       "      <th>Derog Recs</th>\n",
       "      <th>Credit Lines</th>\n",
       "      <th>Status</th>\n",
       "    </tr>\n",
       "  </thead>\n",
       "  <tbody>\n",
       "    <tr>\n",
       "      <th>0</th>\n",
       "      <td>0.1189</td>\n",
       "      <td>25000.0</td>\n",
       "      <td>25000.0</td>\n",
       "      <td>19080.0</td>\n",
       "      <td>36 months</td>\n",
       "      <td>B</td>\n",
       "      <td>B4</td>\n",
       "      <td>NaN</td>\n",
       "      <td>&lt; 1 year</td>\n",
       "      <td>RENT</td>\n",
       "      <td>...</td>\n",
       "      <td>debt_consolidation</td>\n",
       "      <td>CA</td>\n",
       "      <td>19.48</td>\n",
       "      <td>0.0</td>\n",
       "      <td>1994-02-01</td>\n",
       "      <td>0.0</td>\n",
       "      <td>0.0</td>\n",
       "      <td>0.0</td>\n",
       "      <td>42.0</td>\n",
       "      <td>f</td>\n",
       "    </tr>\n",
       "    <tr>\n",
       "      <th>1</th>\n",
       "      <td>0.1071</td>\n",
       "      <td>7000.0</td>\n",
       "      <td>7000.0</td>\n",
       "      <td>673.0</td>\n",
       "      <td>36 months</td>\n",
       "      <td>B</td>\n",
       "      <td>B5</td>\n",
       "      <td>Cnn</td>\n",
       "      <td>&lt; 1 year</td>\n",
       "      <td>RENT</td>\n",
       "      <td>...</td>\n",
       "      <td>credit_card</td>\n",
       "      <td>NY</td>\n",
       "      <td>14.29</td>\n",
       "      <td>0.0</td>\n",
       "      <td>2000-10-01</td>\n",
       "      <td>0.0</td>\n",
       "      <td>0.0</td>\n",
       "      <td>0.0</td>\n",
       "      <td>7.0</td>\n",
       "      <td>f</td>\n",
       "    </tr>\n",
       "    <tr>\n",
       "      <th>2</th>\n",
       "      <td>0.1699</td>\n",
       "      <td>25000.0</td>\n",
       "      <td>25000.0</td>\n",
       "      <td>24725.0</td>\n",
       "      <td>36 months</td>\n",
       "      <td>D</td>\n",
       "      <td>D3</td>\n",
       "      <td>Web Programmer</td>\n",
       "      <td>1 year</td>\n",
       "      <td>RENT</td>\n",
       "      <td>...</td>\n",
       "      <td>debt_consolidation</td>\n",
       "      <td>NY</td>\n",
       "      <td>10.50</td>\n",
       "      <td>0.0</td>\n",
       "      <td>2000-06-01</td>\n",
       "      <td>41.0</td>\n",
       "      <td>0.0</td>\n",
       "      <td>0.0</td>\n",
       "      <td>17.0</td>\n",
       "      <td>f</td>\n",
       "    </tr>\n",
       "    <tr>\n",
       "      <th>3</th>\n",
       "      <td>0.1311</td>\n",
       "      <td>1200.0</td>\n",
       "      <td>1200.0</td>\n",
       "      <td>1200.0</td>\n",
       "      <td>36 months</td>\n",
       "      <td>C</td>\n",
       "      <td>C2</td>\n",
       "      <td>City Of Beaumont Texas</td>\n",
       "      <td>10+ years</td>\n",
       "      <td>OWN</td>\n",
       "      <td>...</td>\n",
       "      <td>debt_consolidation</td>\n",
       "      <td>TX</td>\n",
       "      <td>5.47</td>\n",
       "      <td>0.0</td>\n",
       "      <td>1985-01-01</td>\n",
       "      <td>64.0</td>\n",
       "      <td>0.0</td>\n",
       "      <td>0.0</td>\n",
       "      <td>31.0</td>\n",
       "      <td>f</td>\n",
       "    </tr>\n",
       "    <tr>\n",
       "      <th>4</th>\n",
       "      <td>0.1357</td>\n",
       "      <td>10800.0</td>\n",
       "      <td>10800.0</td>\n",
       "      <td>10692.0</td>\n",
       "      <td>36 months</td>\n",
       "      <td>C</td>\n",
       "      <td>C3</td>\n",
       "      <td>State Farm Insurance</td>\n",
       "      <td>6 years</td>\n",
       "      <td>RENT</td>\n",
       "      <td>...</td>\n",
       "      <td>debt_consolidation</td>\n",
       "      <td>CT</td>\n",
       "      <td>11.63</td>\n",
       "      <td>0.0</td>\n",
       "      <td>1996-12-01</td>\n",
       "      <td>58.0</td>\n",
       "      <td>0.0</td>\n",
       "      <td>0.0</td>\n",
       "      <td>40.0</td>\n",
       "      <td>f</td>\n",
       "    </tr>\n",
       "    <tr>\n",
       "      <th>5</th>\n",
       "      <td>0.1905</td>\n",
       "      <td>7200.0</td>\n",
       "      <td>7200.0</td>\n",
       "      <td>7200.0</td>\n",
       "      <td>36 months</td>\n",
       "      <td>D</td>\n",
       "      <td>D4</td>\n",
       "      <td>Arkwright</td>\n",
       "      <td>9 years</td>\n",
       "      <td>RENT</td>\n",
       "      <td>...</td>\n",
       "      <td>debt_consolidation</td>\n",
       "      <td>RI</td>\n",
       "      <td>2.05</td>\n",
       "      <td>0.0</td>\n",
       "      <td>1994-04-01</td>\n",
       "      <td>26.0</td>\n",
       "      <td>0.0</td>\n",
       "      <td>0.0</td>\n",
       "      <td>25.0</td>\n",
       "      <td>f</td>\n",
       "    </tr>\n",
       "    <tr>\n",
       "      <th>6</th>\n",
       "      <td>0.1008</td>\n",
       "      <td>7500.0</td>\n",
       "      <td>5025.0</td>\n",
       "      <td>557.0</td>\n",
       "      <td>36 months</td>\n",
       "      <td>B</td>\n",
       "      <td>B3</td>\n",
       "      <td>Qualcomm Inc</td>\n",
       "      <td>3 years</td>\n",
       "      <td>RENT</td>\n",
       "      <td>...</td>\n",
       "      <td>debt_consolidation</td>\n",
       "      <td>CA</td>\n",
       "      <td>8.10</td>\n",
       "      <td>0.0</td>\n",
       "      <td>2000-11-01</td>\n",
       "      <td>0.0</td>\n",
       "      <td>0.0</td>\n",
       "      <td>0.0</td>\n",
       "      <td>11.0</td>\n",
       "      <td>f</td>\n",
       "    </tr>\n",
       "    <tr>\n",
       "      <th>7</th>\n",
       "      <td>0.1426</td>\n",
       "      <td>3000.0</td>\n",
       "      <td>3000.0</td>\n",
       "      <td>2988.0</td>\n",
       "      <td>36 months</td>\n",
       "      <td>C</td>\n",
       "      <td>C5</td>\n",
       "      <td>NaN</td>\n",
       "      <td>3 years</td>\n",
       "      <td>MORTGAGE</td>\n",
       "      <td>...</td>\n",
       "      <td>credit_card</td>\n",
       "      <td>TX</td>\n",
       "      <td>14.97</td>\n",
       "      <td>1.0</td>\n",
       "      <td>1998-07-01</td>\n",
       "      <td>13.0</td>\n",
       "      <td>0.0</td>\n",
       "      <td>0.0</td>\n",
       "      <td>23.0</td>\n",
       "      <td>f</td>\n",
       "    </tr>\n",
       "    <tr>\n",
       "      <th>8</th>\n",
       "      <td>0.0788</td>\n",
       "      <td>4000.0</td>\n",
       "      <td>4000.0</td>\n",
       "      <td>3900.0</td>\n",
       "      <td>36 months</td>\n",
       "      <td>A</td>\n",
       "      <td>A5</td>\n",
       "      <td>NaN</td>\n",
       "      <td>&lt; 1 year</td>\n",
       "      <td>MORTGAGE</td>\n",
       "      <td>...</td>\n",
       "      <td>credit_card</td>\n",
       "      <td>TX</td>\n",
       "      <td>16.98</td>\n",
       "      <td>0.0</td>\n",
       "      <td>1993-05-01</td>\n",
       "      <td>0.0</td>\n",
       "      <td>0.0</td>\n",
       "      <td>0.0</td>\n",
       "      <td>19.0</td>\n",
       "      <td>f</td>\n",
       "    </tr>\n",
       "    <tr>\n",
       "      <th>9</th>\n",
       "      <td>0.1496</td>\n",
       "      <td>5600.0</td>\n",
       "      <td>5600.0</td>\n",
       "      <td>5525.0</td>\n",
       "      <td>36 months</td>\n",
       "      <td>D</td>\n",
       "      <td>D2</td>\n",
       "      <td>Pension Benefit Guaranty Corporation</td>\n",
       "      <td>1 year</td>\n",
       "      <td>RENT</td>\n",
       "      <td>...</td>\n",
       "      <td>debt_consolidation</td>\n",
       "      <td>MD</td>\n",
       "      <td>4.00</td>\n",
       "      <td>0.0</td>\n",
       "      <td>2001-06-01</td>\n",
       "      <td>38.0</td>\n",
       "      <td>63.0</td>\n",
       "      <td>1.0</td>\n",
       "      <td>9.0</td>\n",
       "      <td>f</td>\n",
       "    </tr>\n",
       "  </tbody>\n",
       "</table>\n",
       "<p>10 rows × 23 columns</p>\n",
       "</div>"
      ],
      "text/plain": [
       "   Interest Rate  Requested   Funded  Investor Funded Number of Payments  \\\n",
       "0         0.1189    25000.0  25000.0          19080.0          36 months   \n",
       "1         0.1071     7000.0   7000.0            673.0          36 months   \n",
       "2         0.1699    25000.0  25000.0          24725.0          36 months   \n",
       "3         0.1311     1200.0   1200.0           1200.0          36 months   \n",
       "4         0.1357    10800.0  10800.0          10692.0          36 months   \n",
       "5         0.1905     7200.0   7200.0           7200.0          36 months   \n",
       "6         0.1008     7500.0   5025.0            557.0          36 months   \n",
       "7         0.1426     3000.0   3000.0           2988.0          36 months   \n",
       "8         0.0788     4000.0   4000.0           3900.0          36 months   \n",
       "9         0.1496     5600.0   5600.0           5525.0          36 months   \n",
       "\n",
       "  Loan Grade Loan Subgrade                                   Job  \\\n",
       "0          B            B4                                   NaN   \n",
       "1          B            B5                                   Cnn   \n",
       "2          D            D3                        Web Programmer   \n",
       "3          C            C2                City Of Beaumont Texas   \n",
       "4          C            C3                  State Farm Insurance   \n",
       "5          D            D4                             Arkwright   \n",
       "6          B            B3                          Qualcomm Inc   \n",
       "7          C            C5                                   NaN   \n",
       "8          A            A5                                   NaN   \n",
       "9          D            D2  Pension Benefit Guaranty Corporation   \n",
       "\n",
       "  Years Employed      Home   ...              Loan Cat State  Ratio  \\\n",
       "0       < 1 year      RENT   ...    debt_consolidation    CA  19.48   \n",
       "1       < 1 year      RENT   ...           credit_card    NY  14.29   \n",
       "2         1 year      RENT   ...    debt_consolidation    NY  10.50   \n",
       "3      10+ years       OWN   ...    debt_consolidation    TX   5.47   \n",
       "4        6 years      RENT   ...    debt_consolidation    CT  11.63   \n",
       "5        9 years      RENT   ...    debt_consolidation    RI   2.05   \n",
       "6        3 years      RENT   ...    debt_consolidation    CA   8.10   \n",
       "7        3 years  MORTGAGE   ...           credit_card    TX  14.97   \n",
       "8       < 1 year  MORTGAGE   ...           credit_card    TX  16.98   \n",
       "9         1 year      RENT   ...    debt_consolidation    MD   4.00   \n",
       "\n",
       "  Late Payments Credit Line Date  Months Del  Months PR Derog Recs  \\\n",
       "0           0.0       1994-02-01         0.0        0.0        0.0   \n",
       "1           0.0       2000-10-01         0.0        0.0        0.0   \n",
       "2           0.0       2000-06-01        41.0        0.0        0.0   \n",
       "3           0.0       1985-01-01        64.0        0.0        0.0   \n",
       "4           0.0       1996-12-01        58.0        0.0        0.0   \n",
       "5           0.0       1994-04-01        26.0        0.0        0.0   \n",
       "6           0.0       2000-11-01         0.0        0.0        0.0   \n",
       "7           1.0       1998-07-01        13.0        0.0        0.0   \n",
       "8           0.0       1993-05-01         0.0        0.0        0.0   \n",
       "9           0.0       2001-06-01        38.0       63.0        1.0   \n",
       "\n",
       "   Credit Lines  Status  \n",
       "0          42.0       f  \n",
       "1           7.0       f  \n",
       "2          17.0       f  \n",
       "3          31.0       f  \n",
       "4          40.0       f  \n",
       "5          25.0       f  \n",
       "6          11.0       f  \n",
       "7          23.0       f  \n",
       "8          19.0       f  \n",
       "9           9.0       f  \n",
       "\n",
       "[10 rows x 23 columns]"
      ]
     },
     "execution_count": 3,
     "metadata": {},
     "output_type": "execute_result"
    }
   ],
   "source": [
    "clean_loans.head(10)"
   ]
  },
  {
   "cell_type": "code",
   "execution_count": 4,
   "metadata": {},
   "outputs": [
    {
     "data": {
      "text/plain": [
       "Interest Rate         float64\n",
       "Requested             float64\n",
       "Funded                float64\n",
       "Investor Funded       float64\n",
       "Number of Payments     object\n",
       "Loan Grade             object\n",
       "Loan Subgrade          object\n",
       "Job                    object\n",
       "Years Employed         object\n",
       "Home                   object\n",
       "Annual Income         float64\n",
       "Income Verified        object\n",
       "Loan Date              object\n",
       "Loan Cat               object\n",
       "State                  object\n",
       "Ratio                 float64\n",
       "Late Payments         float64\n",
       "Credit Line Date       object\n",
       "Months Del            float64\n",
       "Months PR             float64\n",
       "Derog Recs            float64\n",
       "Credit Lines          float64\n",
       "Status                 object\n",
       "dtype: object"
      ]
     },
     "execution_count": 4,
     "metadata": {},
     "output_type": "execute_result"
    }
   ],
   "source": [
    "clean_loans.dtypes"
   ]
  },
  {
   "cell_type": "code",
   "execution_count": 5,
   "metadata": {},
   "outputs": [
    {
     "data": {
      "text/plain": [
       "0    2009-08-01\n",
       "1    2008-05-01\n",
       "2    2014-08-01\n",
       "3    2010-03-01\n",
       "4    2009-11-01\n",
       "Name: Loan Date, dtype: object"
      ]
     },
     "execution_count": 5,
     "metadata": {},
     "output_type": "execute_result"
    }
   ],
   "source": [
    "clean_loans['Loan Date'].head()"
   ]
  },
  {
   "cell_type": "markdown",
   "metadata": {},
   "source": [
    "Convert date strings to date objects."
   ]
  },
  {
   "cell_type": "code",
   "execution_count": 6,
   "metadata": {},
   "outputs": [],
   "source": [
    "clean_loans['Loan Date']=pd.to_datetime(clean_loans['Loan Date'], format='%Y-%m-%d')\n",
    "clean_loans['Credit Line Date']=pd.to_datetime(clean_loans['Credit Line Date'], format='%Y-%m-%d')"
   ]
  },
  {
   "cell_type": "code",
   "execution_count": 7,
   "metadata": {},
   "outputs": [
    {
     "data": {
      "text/plain": [
       "0   2009-08-01\n",
       "1   2008-05-01\n",
       "2   2014-08-01\n",
       "3   2010-03-01\n",
       "4   2009-11-01\n",
       "Name: Loan Date, dtype: datetime64[ns]"
      ]
     },
     "execution_count": 7,
     "metadata": {},
     "output_type": "execute_result"
    }
   ],
   "source": [
    "clean_loans['Loan Date'].head()"
   ]
  },
  {
   "cell_type": "code",
   "execution_count": 8,
   "metadata": {},
   "outputs": [
    {
     "data": {
      "text/plain": [
       "0   1994-02-01\n",
       "1   2000-10-01\n",
       "2   2000-06-01\n",
       "3   1985-01-01\n",
       "4   1996-12-01\n",
       "Name: Credit Line Date, dtype: datetime64[ns]"
      ]
     },
     "execution_count": 8,
     "metadata": {},
     "output_type": "execute_result"
    }
   ],
   "source": [
    "clean_loans['Credit Line Date'].head()"
   ]
  },
  {
   "cell_type": "markdown",
   "metadata": {},
   "source": [
    "Find correlation of numeric data."
   ]
  },
  {
   "cell_type": "code",
   "execution_count": 9,
   "metadata": {},
   "outputs": [
    {
     "data": {
      "text/html": [
       "<div>\n",
       "<style scoped>\n",
       "    .dataframe tbody tr th:only-of-type {\n",
       "        vertical-align: middle;\n",
       "    }\n",
       "\n",
       "    .dataframe tbody tr th {\n",
       "        vertical-align: top;\n",
       "    }\n",
       "\n",
       "    .dataframe thead th {\n",
       "        text-align: right;\n",
       "    }\n",
       "</style>\n",
       "<table border=\"1\" class=\"dataframe\">\n",
       "  <thead>\n",
       "    <tr style=\"text-align: right;\">\n",
       "      <th></th>\n",
       "      <th>Interest Rate</th>\n",
       "      <th>Requested</th>\n",
       "      <th>Funded</th>\n",
       "      <th>Investor Funded</th>\n",
       "      <th>Annual Income</th>\n",
       "      <th>Ratio</th>\n",
       "      <th>Late Payments</th>\n",
       "      <th>Months Del</th>\n",
       "      <th>Months PR</th>\n",
       "      <th>Derog Recs</th>\n",
       "      <th>Credit Lines</th>\n",
       "    </tr>\n",
       "  </thead>\n",
       "  <tbody>\n",
       "    <tr>\n",
       "      <th>Interest Rate</th>\n",
       "      <td>1.000000</td>\n",
       "      <td>0.177601</td>\n",
       "      <td>0.178596</td>\n",
       "      <td>0.180885</td>\n",
       "      <td>-0.032222</td>\n",
       "      <td>0.158070</td>\n",
       "      <td>0.091639</td>\n",
       "      <td>0.078744</td>\n",
       "      <td>0.066411</td>\n",
       "      <td>0.073567</td>\n",
       "      <td>-0.027186</td>\n",
       "    </tr>\n",
       "    <tr>\n",
       "      <th>Requested</th>\n",
       "      <td>0.177601</td>\n",
       "      <td>1.000000</td>\n",
       "      <td>0.998340</td>\n",
       "      <td>0.994440</td>\n",
       "      <td>0.357750</td>\n",
       "      <td>0.061068</td>\n",
       "      <td>0.008767</td>\n",
       "      <td>-0.025896</td>\n",
       "      <td>-0.097935</td>\n",
       "      <td>-0.077652</td>\n",
       "      <td>0.237183</td>\n",
       "    </tr>\n",
       "    <tr>\n",
       "      <th>Funded</th>\n",
       "      <td>0.178596</td>\n",
       "      <td>0.998340</td>\n",
       "      <td>1.000000</td>\n",
       "      <td>0.996433</td>\n",
       "      <td>0.357098</td>\n",
       "      <td>0.062591</td>\n",
       "      <td>0.009389</td>\n",
       "      <td>-0.025241</td>\n",
       "      <td>-0.097459</td>\n",
       "      <td>-0.077071</td>\n",
       "      <td>0.237046</td>\n",
       "    </tr>\n",
       "    <tr>\n",
       "      <th>Investor Funded</th>\n",
       "      <td>0.180885</td>\n",
       "      <td>0.994440</td>\n",
       "      <td>0.996433</td>\n",
       "      <td>1.000000</td>\n",
       "      <td>0.355214</td>\n",
       "      <td>0.066440</td>\n",
       "      <td>0.010247</td>\n",
       "      <td>-0.024369</td>\n",
       "      <td>-0.095971</td>\n",
       "      <td>-0.075497</td>\n",
       "      <td>0.237443</td>\n",
       "    </tr>\n",
       "    <tr>\n",
       "      <th>Annual Income</th>\n",
       "      <td>-0.032222</td>\n",
       "      <td>0.357750</td>\n",
       "      <td>0.357098</td>\n",
       "      <td>0.355214</td>\n",
       "      <td>1.000000</td>\n",
       "      <td>-0.182042</td>\n",
       "      <td>0.060722</td>\n",
       "      <td>0.019552</td>\n",
       "      <td>-0.050258</td>\n",
       "      <td>-0.014919</td>\n",
       "      <td>0.222398</td>\n",
       "    </tr>\n",
       "    <tr>\n",
       "      <th>Ratio</th>\n",
       "      <td>0.158070</td>\n",
       "      <td>0.061068</td>\n",
       "      <td>0.062591</td>\n",
       "      <td>0.066440</td>\n",
       "      <td>-0.182042</td>\n",
       "      <td>1.000000</td>\n",
       "      <td>-0.002776</td>\n",
       "      <td>-0.010469</td>\n",
       "      <td>-0.037992</td>\n",
       "      <td>-0.045688</td>\n",
       "      <td>0.228682</td>\n",
       "    </tr>\n",
       "    <tr>\n",
       "      <th>Late Payments</th>\n",
       "      <td>0.091639</td>\n",
       "      <td>0.008767</td>\n",
       "      <td>0.009389</td>\n",
       "      <td>0.010247</td>\n",
       "      <td>0.060722</td>\n",
       "      <td>-0.002776</td>\n",
       "      <td>1.000000</td>\n",
       "      <td>-0.054831</td>\n",
       "      <td>-0.025360</td>\n",
       "      <td>-0.008409</td>\n",
       "      <td>0.133394</td>\n",
       "    </tr>\n",
       "    <tr>\n",
       "      <th>Months Del</th>\n",
       "      <td>0.078744</td>\n",
       "      <td>-0.025896</td>\n",
       "      <td>-0.025241</td>\n",
       "      <td>-0.024369</td>\n",
       "      <td>0.019552</td>\n",
       "      <td>-0.010469</td>\n",
       "      <td>-0.054831</td>\n",
       "      <td>1.000000</td>\n",
       "      <td>0.028485</td>\n",
       "      <td>0.060743</td>\n",
       "      <td>0.117379</td>\n",
       "    </tr>\n",
       "    <tr>\n",
       "      <th>Months PR</th>\n",
       "      <td>0.066411</td>\n",
       "      <td>-0.097935</td>\n",
       "      <td>-0.097459</td>\n",
       "      <td>-0.095971</td>\n",
       "      <td>-0.050258</td>\n",
       "      <td>-0.037992</td>\n",
       "      <td>-0.025360</td>\n",
       "      <td>0.028485</td>\n",
       "      <td>1.000000</td>\n",
       "      <td>0.681701</td>\n",
       "      <td>-0.028125</td>\n",
       "    </tr>\n",
       "    <tr>\n",
       "      <th>Derog Recs</th>\n",
       "      <td>0.073567</td>\n",
       "      <td>-0.077652</td>\n",
       "      <td>-0.077071</td>\n",
       "      <td>-0.075497</td>\n",
       "      <td>-0.014919</td>\n",
       "      <td>-0.045688</td>\n",
       "      <td>-0.008409</td>\n",
       "      <td>0.060743</td>\n",
       "      <td>0.681701</td>\n",
       "      <td>1.000000</td>\n",
       "      <td>0.004979</td>\n",
       "    </tr>\n",
       "    <tr>\n",
       "      <th>Credit Lines</th>\n",
       "      <td>-0.027186</td>\n",
       "      <td>0.237183</td>\n",
       "      <td>0.237046</td>\n",
       "      <td>0.237443</td>\n",
       "      <td>0.222398</td>\n",
       "      <td>0.228682</td>\n",
       "      <td>0.133394</td>\n",
       "      <td>0.117379</td>\n",
       "      <td>-0.028125</td>\n",
       "      <td>0.004979</td>\n",
       "      <td>1.000000</td>\n",
       "    </tr>\n",
       "  </tbody>\n",
       "</table>\n",
       "</div>"
      ],
      "text/plain": [
       "                 Interest Rate  Requested    Funded  Investor Funded  \\\n",
       "Interest Rate         1.000000   0.177601  0.178596         0.180885   \n",
       "Requested             0.177601   1.000000  0.998340         0.994440   \n",
       "Funded                0.178596   0.998340  1.000000         0.996433   \n",
       "Investor Funded       0.180885   0.994440  0.996433         1.000000   \n",
       "Annual Income        -0.032222   0.357750  0.357098         0.355214   \n",
       "Ratio                 0.158070   0.061068  0.062591         0.066440   \n",
       "Late Payments         0.091639   0.008767  0.009389         0.010247   \n",
       "Months Del            0.078744  -0.025896 -0.025241        -0.024369   \n",
       "Months PR             0.066411  -0.097935 -0.097459        -0.095971   \n",
       "Derog Recs            0.073567  -0.077652 -0.077071        -0.075497   \n",
       "Credit Lines         -0.027186   0.237183  0.237046         0.237443   \n",
       "\n",
       "                 Annual Income     Ratio  Late Payments  Months Del  \\\n",
       "Interest Rate        -0.032222  0.158070       0.091639    0.078744   \n",
       "Requested             0.357750  0.061068       0.008767   -0.025896   \n",
       "Funded                0.357098  0.062591       0.009389   -0.025241   \n",
       "Investor Funded       0.355214  0.066440       0.010247   -0.024369   \n",
       "Annual Income         1.000000 -0.182042       0.060722    0.019552   \n",
       "Ratio                -0.182042  1.000000      -0.002776   -0.010469   \n",
       "Late Payments         0.060722 -0.002776       1.000000   -0.054831   \n",
       "Months Del            0.019552 -0.010469      -0.054831    1.000000   \n",
       "Months PR            -0.050258 -0.037992      -0.025360    0.028485   \n",
       "Derog Recs           -0.014919 -0.045688      -0.008409    0.060743   \n",
       "Credit Lines          0.222398  0.228682       0.133394    0.117379   \n",
       "\n",
       "                 Months PR  Derog Recs  Credit Lines  \n",
       "Interest Rate     0.066411    0.073567     -0.027186  \n",
       "Requested        -0.097935   -0.077652      0.237183  \n",
       "Funded           -0.097459   -0.077071      0.237046  \n",
       "Investor Funded  -0.095971   -0.075497      0.237443  \n",
       "Annual Income    -0.050258   -0.014919      0.222398  \n",
       "Ratio            -0.037992   -0.045688      0.228682  \n",
       "Late Payments    -0.025360   -0.008409      0.133394  \n",
       "Months Del        0.028485    0.060743      0.117379  \n",
       "Months PR         1.000000    0.681701     -0.028125  \n",
       "Derog Recs        0.681701    1.000000      0.004979  \n",
       "Credit Lines     -0.028125    0.004979      1.000000  "
      ]
     },
     "execution_count": 9,
     "metadata": {},
     "output_type": "execute_result"
    }
   ],
   "source": [
    "clean_loans.corr()"
   ]
  },
  {
   "cell_type": "markdown",
   "metadata": {},
   "source": [
    "Correlation among the numerical data does not seem to show anything interesting.  Requested, Funded and Investor Funded are highly correlated, but that seems obvious.  Late Payments and Months Delinquent is correlated, but not significantly or surprising."
   ]
  },
  {
   "cell_type": "code",
   "execution_count": 10,
   "metadata": {},
   "outputs": [
    {
     "data": {
      "text/html": [
       "<div>\n",
       "<style scoped>\n",
       "    .dataframe tbody tr th:only-of-type {\n",
       "        vertical-align: middle;\n",
       "    }\n",
       "\n",
       "    .dataframe tbody tr th {\n",
       "        vertical-align: top;\n",
       "    }\n",
       "\n",
       "    .dataframe thead th {\n",
       "        text-align: right;\n",
       "    }\n",
       "</style>\n",
       "<table border=\"1\" class=\"dataframe\">\n",
       "  <thead>\n",
       "    <tr style=\"text-align: right;\">\n",
       "      <th></th>\n",
       "      <th>Interest Rate</th>\n",
       "      <th>Requested</th>\n",
       "      <th>Funded</th>\n",
       "      <th>Investor Funded</th>\n",
       "      <th>Annual Income</th>\n",
       "      <th>Ratio</th>\n",
       "      <th>Late Payments</th>\n",
       "      <th>Months Del</th>\n",
       "      <th>Months PR</th>\n",
       "      <th>Derog Recs</th>\n",
       "      <th>Credit Lines</th>\n",
       "    </tr>\n",
       "  </thead>\n",
       "  <tbody>\n",
       "    <tr>\n",
       "      <th>count</th>\n",
       "      <td>338852.000000</td>\n",
       "      <td>338851.000000</td>\n",
       "      <td>338851.000000</td>\n",
       "      <td>338851.000000</td>\n",
       "      <td>2.871180e+05</td>\n",
       "      <td>338851.000000</td>\n",
       "      <td>338851.000000</td>\n",
       "      <td>338852.000000</td>\n",
       "      <td>338852.000000</td>\n",
       "      <td>338851.000000</td>\n",
       "      <td>338851.000000</td>\n",
       "    </tr>\n",
       "    <tr>\n",
       "      <th>mean</th>\n",
       "      <td>0.139465</td>\n",
       "      <td>14277.955503</td>\n",
       "      <td>14249.406745</td>\n",
       "      <td>14183.735356</td>\n",
       "      <td>7.315437e+04</td>\n",
       "      <td>16.998183</td>\n",
       "      <td>0.274289</td>\n",
       "      <td>15.546103</td>\n",
       "      <td>9.754191</td>\n",
       "      <td>0.152743</td>\n",
       "      <td>24.979513</td>\n",
       "    </tr>\n",
       "    <tr>\n",
       "      <th>std</th>\n",
       "      <td>0.043782</td>\n",
       "      <td>8252.611517</td>\n",
       "      <td>8238.370007</td>\n",
       "      <td>8255.119910</td>\n",
       "      <td>5.619635e+04</td>\n",
       "      <td>7.696951</td>\n",
       "      <td>0.779329</td>\n",
       "      <td>22.515423</td>\n",
       "      <td>27.623107</td>\n",
       "      <td>0.505451</td>\n",
       "      <td>11.471803</td>\n",
       "    </tr>\n",
       "    <tr>\n",
       "      <th>min</th>\n",
       "      <td>0.054200</td>\n",
       "      <td>500.000000</td>\n",
       "      <td>500.000000</td>\n",
       "      <td>0.000000</td>\n",
       "      <td>3.000000e+03</td>\n",
       "      <td>0.000000</td>\n",
       "      <td>0.000000</td>\n",
       "      <td>0.000000</td>\n",
       "      <td>0.000000</td>\n",
       "      <td>0.000000</td>\n",
       "      <td>2.000000</td>\n",
       "    </tr>\n",
       "    <tr>\n",
       "      <th>25%</th>\n",
       "      <td>0.109900</td>\n",
       "      <td>8000.000000</td>\n",
       "      <td>8000.000000</td>\n",
       "      <td>8000.000000</td>\n",
       "      <td>4.500000e+04</td>\n",
       "      <td>11.250000</td>\n",
       "      <td>0.000000</td>\n",
       "      <td>0.000000</td>\n",
       "      <td>0.000000</td>\n",
       "      <td>0.000000</td>\n",
       "      <td>17.000000</td>\n",
       "    </tr>\n",
       "    <tr>\n",
       "      <th>50%</th>\n",
       "      <td>0.136800</td>\n",
       "      <td>12000.000000</td>\n",
       "      <td>12000.000000</td>\n",
       "      <td>12000.000000</td>\n",
       "      <td>6.300000e+04</td>\n",
       "      <td>16.700000</td>\n",
       "      <td>0.000000</td>\n",
       "      <td>0.000000</td>\n",
       "      <td>0.000000</td>\n",
       "      <td>0.000000</td>\n",
       "      <td>23.000000</td>\n",
       "    </tr>\n",
       "    <tr>\n",
       "      <th>75%</th>\n",
       "      <td>0.167800</td>\n",
       "      <td>20000.000000</td>\n",
       "      <td>20000.000000</td>\n",
       "      <td>19900.000000</td>\n",
       "      <td>8.810975e+04</td>\n",
       "      <td>22.500000</td>\n",
       "      <td>0.000000</td>\n",
       "      <td>28.000000</td>\n",
       "      <td>0.000000</td>\n",
       "      <td>0.000000</td>\n",
       "      <td>32.000000</td>\n",
       "    </tr>\n",
       "    <tr>\n",
       "      <th>max</th>\n",
       "      <td>0.260600</td>\n",
       "      <td>35000.000000</td>\n",
       "      <td>35000.000000</td>\n",
       "      <td>35000.000000</td>\n",
       "      <td>7.500000e+06</td>\n",
       "      <td>39.990000</td>\n",
       "      <td>29.000000</td>\n",
       "      <td>188.000000</td>\n",
       "      <td>129.000000</td>\n",
       "      <td>63.000000</td>\n",
       "      <td>118.000000</td>\n",
       "    </tr>\n",
       "  </tbody>\n",
       "</table>\n",
       "</div>"
      ],
      "text/plain": [
       "       Interest Rate      Requested         Funded  Investor Funded  \\\n",
       "count  338852.000000  338851.000000  338851.000000    338851.000000   \n",
       "mean        0.139465   14277.955503   14249.406745     14183.735356   \n",
       "std         0.043782    8252.611517    8238.370007      8255.119910   \n",
       "min         0.054200     500.000000     500.000000         0.000000   \n",
       "25%         0.109900    8000.000000    8000.000000      8000.000000   \n",
       "50%         0.136800   12000.000000   12000.000000     12000.000000   \n",
       "75%         0.167800   20000.000000   20000.000000     19900.000000   \n",
       "max         0.260600   35000.000000   35000.000000     35000.000000   \n",
       "\n",
       "       Annual Income          Ratio  Late Payments     Months Del  \\\n",
       "count   2.871180e+05  338851.000000  338851.000000  338852.000000   \n",
       "mean    7.315437e+04      16.998183       0.274289      15.546103   \n",
       "std     5.619635e+04       7.696951       0.779329      22.515423   \n",
       "min     3.000000e+03       0.000000       0.000000       0.000000   \n",
       "25%     4.500000e+04      11.250000       0.000000       0.000000   \n",
       "50%     6.300000e+04      16.700000       0.000000       0.000000   \n",
       "75%     8.810975e+04      22.500000       0.000000      28.000000   \n",
       "max     7.500000e+06      39.990000      29.000000     188.000000   \n",
       "\n",
       "           Months PR     Derog Recs   Credit Lines  \n",
       "count  338852.000000  338851.000000  338851.000000  \n",
       "mean        9.754191       0.152743      24.979513  \n",
       "std        27.623107       0.505451      11.471803  \n",
       "min         0.000000       0.000000       2.000000  \n",
       "25%         0.000000       0.000000      17.000000  \n",
       "50%         0.000000       0.000000      23.000000  \n",
       "75%         0.000000       0.000000      32.000000  \n",
       "max       129.000000      63.000000     118.000000  "
      ]
     },
     "execution_count": 10,
     "metadata": {},
     "output_type": "execute_result"
    }
   ],
   "source": [
    "clean_loans.describe()"
   ]
  },
  {
   "cell_type": "code",
   "execution_count": 11,
   "metadata": {},
   "outputs": [
    {
     "data": {
      "text/html": [
       "<div>\n",
       "<style scoped>\n",
       "    .dataframe tbody tr th:only-of-type {\n",
       "        vertical-align: middle;\n",
       "    }\n",
       "\n",
       "    .dataframe tbody tr th {\n",
       "        vertical-align: top;\n",
       "    }\n",
       "\n",
       "    .dataframe thead th {\n",
       "        text-align: right;\n",
       "    }\n",
       "</style>\n",
       "<table border=\"1\" class=\"dataframe\">\n",
       "  <thead>\n",
       "    <tr style=\"text-align: right;\">\n",
       "      <th></th>\n",
       "      <th>Number of Payments</th>\n",
       "      <th>Loan Grade</th>\n",
       "      <th>Loan Subgrade</th>\n",
       "      <th>Job</th>\n",
       "      <th>Years Employed</th>\n",
       "      <th>Home</th>\n",
       "      <th>Income Verified</th>\n",
       "      <th>Loan Cat</th>\n",
       "      <th>State</th>\n",
       "      <th>Status</th>\n",
       "    </tr>\n",
       "  </thead>\n",
       "  <tbody>\n",
       "    <tr>\n",
       "      <th>count</th>\n",
       "      <td>338851</td>\n",
       "      <td>287001</td>\n",
       "      <td>287001</td>\n",
       "      <td>318601</td>\n",
       "      <td>324059</td>\n",
       "      <td>286892</td>\n",
       "      <td>338851</td>\n",
       "      <td>338851</td>\n",
       "      <td>338851</td>\n",
       "      <td>338851</td>\n",
       "    </tr>\n",
       "    <tr>\n",
       "      <th>unique</th>\n",
       "      <td>2</td>\n",
       "      <td>7</td>\n",
       "      <td>35</td>\n",
       "      <td>146909</td>\n",
       "      <td>11</td>\n",
       "      <td>3</td>\n",
       "      <td>3</td>\n",
       "      <td>14</td>\n",
       "      <td>50</td>\n",
       "      <td>2</td>\n",
       "    </tr>\n",
       "    <tr>\n",
       "      <th>top</th>\n",
       "      <td>36 months</td>\n",
       "      <td>B</td>\n",
       "      <td>B3</td>\n",
       "      <td>Teacher</td>\n",
       "      <td>10+ years</td>\n",
       "      <td>MORTGAGE</td>\n",
       "      <td>verified - income</td>\n",
       "      <td>debt_consolidation</td>\n",
       "      <td>CA</td>\n",
       "      <td>f</td>\n",
       "    </tr>\n",
       "    <tr>\n",
       "      <th>freq</th>\n",
       "      <td>247661</td>\n",
       "      <td>86080</td>\n",
       "      <td>20342</td>\n",
       "      <td>4421</td>\n",
       "      <td>108455</td>\n",
       "      <td>145958</td>\n",
       "      <td>126990</td>\n",
       "      <td>198177</td>\n",
       "      <td>52812</td>\n",
       "      <td>232474</td>\n",
       "    </tr>\n",
       "  </tbody>\n",
       "</table>\n",
       "</div>"
      ],
      "text/plain": [
       "       Number of Payments Loan Grade Loan Subgrade      Job Years Employed  \\\n",
       "count              338851     287001        287001   318601         324059   \n",
       "unique                  2          7            35   146909             11   \n",
       "top             36 months          B            B3  Teacher      10+ years   \n",
       "freq               247661      86080         20342     4421         108455   \n",
       "\n",
       "            Home    Income Verified            Loan Cat   State  Status  \n",
       "count     286892             338851              338851  338851  338851  \n",
       "unique         3                  3                  14      50       2  \n",
       "top     MORTGAGE  verified - income  debt_consolidation      CA       f  \n",
       "freq      145958             126990              198177   52812  232474  "
      ]
     },
     "execution_count": 11,
     "metadata": {},
     "output_type": "execute_result"
    }
   ],
   "source": [
    "clean_loans.describe(include=['object'])"
   ]
  },
  {
   "cell_type": "code",
   "execution_count": 12,
   "metadata": {},
   "outputs": [
    {
     "data": {
      "text/plain": [
       "B    86080\n",
       "C    76420\n",
       "D    46965\n",
       "A    45501\n",
       "E    21621\n",
       "F     8391\n",
       "G     2023\n",
       "Name: Loan Grade, dtype: int64"
      ]
     },
     "execution_count": 12,
     "metadata": {},
     "output_type": "execute_result"
    }
   ],
   "source": [
    "clean_loans['Loan Grade'].value_counts()"
   ]
  },
  {
   "cell_type": "code",
   "execution_count": 13,
   "metadata": {},
   "outputs": [
    {
     "data": {
      "text/plain": [
       "<matplotlib.axes._subplots.AxesSubplot at 0x18601b7d2b0>"
      ]
     },
     "execution_count": 13,
     "metadata": {},
     "output_type": "execute_result"
    },
    {
     "data": {
      "image/png": "[encoded data removed]",
      "text/plain": [
       "<Figure size 432x288 with 1 Axes>"
      ]
     },
     "metadata": {
      "needs_background": "light"
     },
     "output_type": "display_data"
    }
   ],
   "source": [
    "sns.boxplot(x='Loan Grade', y='Interest Rate', data=clean_loans)"
   ]
  },
  {
   "cell_type": "code",
   "execution_count": 14,
   "metadata": {},
   "outputs": [
    {
     "data": {
      "text/plain": [
       "<matplotlib.axes._subplots.AxesSubplot at 0x18602b8b470>"
      ]
     },
     "execution_count": 14,
     "metadata": {},
     "output_type": "execute_result"
    },
    {
     "data": {
      "image/png": "[encoded data removed]",
      "text/plain": [
       "<Figure size 1080x360 with 1 Axes>"
      ]
     },
     "metadata": {
      "needs_background": "light"
     },
     "output_type": "display_data"
    }
   ],
   "source": [
    "fig, ax = pyplot.subplots()\n",
    "fig.set_size_inches(15, 5)\n",
    "sns.barplot(x='Loan Cat', y='Interest Rate', data=clean_loans)"
   ]
  },
  {
   "cell_type": "code",
   "execution_count": 15,
   "metadata": {},
   "outputs": [
    {
     "data": {
      "text/plain": [
       "MORTGAGE    145958\n",
       "RENT        115958\n",
       "OWN          24976\n",
       "Name: Home, dtype: int64"
      ]
     },
     "execution_count": 15,
     "metadata": {},
     "output_type": "execute_result"
    }
   ],
   "source": [
    "clean_loans['Home'].value_counts()"
   ]
  },
  {
   "cell_type": "code",
   "execution_count": 16,
   "metadata": {},
   "outputs": [
    {
     "data": {
      "text/plain": [
       "<matplotlib.axes._subplots.AxesSubplot at 0x18603765080>"
      ]
     },
     "execution_count": 16,
     "metadata": {},
     "output_type": "execute_result"
    },
    {
     "data": {
      "image/png": "[encoded data removed]",
      "text/plain": [
       "<Figure size 432x288 with 1 Axes>"
      ]
     },
     "metadata": {
      "needs_background": "light"
     },
     "output_type": "display_data"
    }
   ],
   "source": [
    "sns.boxplot(x='Home', y='Interest Rate', data=clean_loans)"
   ]
  },
  {
   "cell_type": "markdown",
   "metadata": {},
   "source": [
    "Income Verified vs Interest Rate"
   ]
  },
  {
   "cell_type": "code",
   "execution_count": 17,
   "metadata": {},
   "outputs": [
    {
     "data": {
      "text/plain": [
       "<matplotlib.axes._subplots.AxesSubplot at 0x18603603e48>"
      ]
     },
     "execution_count": 17,
     "metadata": {},
     "output_type": "execute_result"
    },
    {
     "data": {
      "image/png": "[encoded data removed]",
      "text/plain": [
       "<Figure size 432x288 with 1 Axes>"
      ]
     },
     "metadata": {
      "needs_background": "light"
     },
     "output_type": "display_data"
    }
   ],
   "source": [
    "sns.barplot(x='Income Verified', y='Interest Rate', data=clean_loans)"
   ]
  },
  {
   "cell_type": "code",
   "execution_count": 18,
   "metadata": {},
   "outputs": [],
   "source": [
    "top_jobs=clean_loans['Job'].value_counts().head(10)"
   ]
  },
  {
   "cell_type": "code",
   "execution_count": 19,
   "metadata": {},
   "outputs": [
    {
     "name": "stdout",
     "output_type": "stream",
     "text": [
      "Teacher             4421\n",
      "Manager             3908\n",
      "Registered Nurse    2170\n",
      "Supervisor          1897\n",
      "Rn                  1623\n",
      "Sales               1586\n",
      "Driver              1514\n",
      "Owner               1391\n",
      "Project Manager     1261\n",
      "Office Manager      1203\n",
      "Name: Job, dtype: int64\n"
     ]
    }
   ],
   "source": [
    "print(top_jobs)"
   ]
  },
  {
   "cell_type": "code",
   "execution_count": 20,
   "metadata": {},
   "outputs": [
    {
     "data": {
      "text/plain": [
       "<matplotlib.axes._subplots.AxesSubplot at 0x1860363d978>"
      ]
     },
     "execution_count": 20,
     "metadata": {},
     "output_type": "execute_result"
    },
    {
     "data": {
      "image/png": "[encoded data removed]",
      "text/plain": [
       "<Figure size 432x288 with 1 Axes>"
      ]
     },
     "metadata": {
      "needs_background": "light"
     },
     "output_type": "display_data"
    }
   ],
   "source": [
    "subset=clean_loans[['Number of Payments', 'Interest Rate']].dropna()\n",
    "sns.barplot(x='Number of Payments', y='Interest Rate', data=subset)"
   ]
  },
  {
   "cell_type": "code",
   "execution_count": 21,
   "metadata": {},
   "outputs": [
    {
     "name": "stderr",
     "output_type": "stream",
     "text": [
      "C:\\Users\\Gia\\Anaconda3\\lib\\site-packages\\matplotlib\\axes\\_axes.py:6462: UserWarning: The 'normed' kwarg is deprecated, and has been replaced by the 'density' kwarg.\n",
      "  warnings.warn(\"The 'normed' kwarg is deprecated, and has been \"\n"
     ]
    },
    {
     "data": {
      "text/plain": [
       "<matplotlib.axes._subplots.AxesSubplot at 0x186036b0438>"
      ]
     },
     "execution_count": 21,
     "metadata": {},
     "output_type": "execute_result"
    },
    {
     "data": {
      "image/png": "[encoded data removed]",
      "text/plain": [
       "<Figure size 432x288 with 1 Axes>"
      ]
     },
     "metadata": {
      "needs_background": "light"
     },
     "output_type": "display_data"
    }
   ],
   "source": [
    "sns.distplot(clean_loans['Interest Rate'], bins=20)"
   ]
  },
  {
   "cell_type": "code",
   "execution_count": 22,
   "metadata": {},
   "outputs": [
    {
     "name": "stderr",
     "output_type": "stream",
     "text": [
      "C:\\Users\\Gia\\Anaconda3\\lib\\site-packages\\matplotlib\\axes\\_axes.py:6462: UserWarning: The 'normed' kwarg is deprecated, and has been replaced by the 'density' kwarg.\n",
      "  warnings.warn(\"The 'normed' kwarg is deprecated, and has been \"\n"
     ]
    },
    {
     "data": {
      "text/plain": [
       "<matplotlib.axes._subplots.AxesSubplot at 0x18603957a58>"
      ]
     },
     "execution_count": 22,
     "metadata": {},
     "output_type": "execute_result"
    },
    {
     "data": {
      "image/png": "[encoded data removed]",
      "text/plain": [
       "<Figure size 432x288 with 1 Axes>"
      ]
     },
     "metadata": {
      "needs_background": "light"
     },
     "output_type": "display_data"
    }
   ],
   "source": [
    "sns.distplot(clean_loans['Credit Lines'].dropna(), bins=20)"
   ]
  },
  {
   "cell_type": "code",
   "execution_count": 23,
   "metadata": {},
   "outputs": [
    {
     "name": "stderr",
     "output_type": "stream",
     "text": [
      "C:\\Users\\Gia\\Anaconda3\\lib\\site-packages\\matplotlib\\axes\\_axes.py:6462: UserWarning: The 'normed' kwarg is deprecated, and has been replaced by the 'density' kwarg.\n",
      "  warnings.warn(\"The 'normed' kwarg is deprecated, and has been \"\n"
     ]
    },
    {
     "data": {
      "text/plain": [
       "<matplotlib.axes._subplots.AxesSubplot at 0x186039b2ac8>"
      ]
     },
     "execution_count": 23,
     "metadata": {},
     "output_type": "execute_result"
    },
    {
     "data": {
      "image/png": "[encoded data removed]",
      "text/plain": [
       "<Figure size 432x288 with 1 Axes>"
      ]
     },
     "metadata": {
      "needs_background": "light"
     },
     "output_type": "display_data"
    }
   ],
   "source": [
    "sns.distplot(clean_loans['Ratio'].dropna(), bins=20)"
   ]
  },
  {
   "cell_type": "code",
   "execution_count": 24,
   "metadata": {},
   "outputs": [
    {
     "data": {
      "text/plain": [
       "<matplotlib.axes._subplots.AxesSubplot at 0x18603a33550>"
      ]
     },
     "execution_count": 24,
     "metadata": {},
     "output_type": "execute_result"
    },
    {
     "data": {
      "image/png": "[encoded data removed]",
      "text/plain": [
       "<Figure size 432x288 with 1 Axes>"
      ]
     },
     "metadata": {
      "needs_background": "light"
     },
     "output_type": "display_data"
    }
   ],
   "source": [
    "sns.regplot(x='Annual Income', y='Interest Rate', data=clean_loans, scatter=False)"
   ]
  },
  {
   "cell_type": "code",
   "execution_count": 25,
   "metadata": {},
   "outputs": [
    {
     "data": {
      "text/plain": [
       "<matplotlib.axes._subplots.AxesSubplot at 0x18603a7ef60>"
      ]
     },
     "execution_count": 25,
     "metadata": {},
     "output_type": "execute_result"
    },
    {
     "data": {
      "image/png": "[encoded data removed]",
      "text/plain": [
       "<Figure size 432x288 with 1 Axes>"
      ]
     },
     "metadata": {
      "needs_background": "light"
     },
     "output_type": "display_data"
    }
   ],
   "source": [
    "sns.regplot(x='Late Payments', y='Interest Rate', data=clean_loans, scatter=False)"
   ]
  },
  {
   "cell_type": "code",
   "execution_count": 26,
   "metadata": {},
   "outputs": [
    {
     "data": {
      "text/plain": [
       "<matplotlib.axes._subplots.AxesSubplot at 0x18603aef7b8>"
      ]
     },
     "execution_count": 26,
     "metadata": {},
     "output_type": "execute_result"
    },
    {
     "data": {
      "image/png": "[encoded data removed]",
      "text/plain": [
       "<Figure size 432x288 with 1 Axes>"
      ]
     },
     "metadata": {
      "needs_background": "light"
     },
     "output_type": "display_data"
    }
   ],
   "source": [
    "sns.regplot(x='Ratio', y='Interest Rate', data=clean_loans, scatter=False)"
   ]
  },
  {
   "cell_type": "code",
   "execution_count": 27,
   "metadata": {},
   "outputs": [
    {
     "data": {
      "text/html": [
       "<div>\n",
       "<style scoped>\n",
       "    .dataframe tbody tr th:only-of-type {\n",
       "        vertical-align: middle;\n",
       "    }\n",
       "\n",
       "    .dataframe tbody tr th {\n",
       "        vertical-align: top;\n",
       "    }\n",
       "\n",
       "    .dataframe thead th {\n",
       "        text-align: right;\n",
       "    }\n",
       "</style>\n",
       "<table border=\"1\" class=\"dataframe\">\n",
       "  <thead>\n",
       "    <tr style=\"text-align: right;\">\n",
       "      <th></th>\n",
       "      <th>Number of Payments</th>\n",
       "      <th>Home</th>\n",
       "      <th>Loan Cat</th>\n",
       "      <th>Interest Rate</th>\n",
       "    </tr>\n",
       "  </thead>\n",
       "  <tbody>\n",
       "    <tr>\n",
       "      <th>0</th>\n",
       "      <td>36 months</td>\n",
       "      <td>MORTGAGE</td>\n",
       "      <td>car</td>\n",
       "      <td>0.103506</td>\n",
       "    </tr>\n",
       "    <tr>\n",
       "      <th>1</th>\n",
       "      <td>36 months</td>\n",
       "      <td>MORTGAGE</td>\n",
       "      <td>credit_card</td>\n",
       "      <td>0.111586</td>\n",
       "    </tr>\n",
       "    <tr>\n",
       "      <th>2</th>\n",
       "      <td>36 months</td>\n",
       "      <td>MORTGAGE</td>\n",
       "      <td>debt_consolidation</td>\n",
       "      <td>0.123199</td>\n",
       "    </tr>\n",
       "    <tr>\n",
       "      <th>3</th>\n",
       "      <td>36 months</td>\n",
       "      <td>MORTGAGE</td>\n",
       "      <td>educational</td>\n",
       "      <td>0.110494</td>\n",
       "    </tr>\n",
       "    <tr>\n",
       "      <th>4</th>\n",
       "      <td>36 months</td>\n",
       "      <td>MORTGAGE</td>\n",
       "      <td>home_improvement</td>\n",
       "      <td>0.120714</td>\n",
       "    </tr>\n",
       "    <tr>\n",
       "      <th>5</th>\n",
       "      <td>36 months</td>\n",
       "      <td>MORTGAGE</td>\n",
       "      <td>house</td>\n",
       "      <td>0.119475</td>\n",
       "    </tr>\n",
       "    <tr>\n",
       "      <th>6</th>\n",
       "      <td>36 months</td>\n",
       "      <td>MORTGAGE</td>\n",
       "      <td>major_purchase</td>\n",
       "      <td>0.109559</td>\n",
       "    </tr>\n",
       "    <tr>\n",
       "      <th>7</th>\n",
       "      <td>36 months</td>\n",
       "      <td>MORTGAGE</td>\n",
       "      <td>medical</td>\n",
       "      <td>0.142819</td>\n",
       "    </tr>\n",
       "    <tr>\n",
       "      <th>8</th>\n",
       "      <td>36 months</td>\n",
       "      <td>MORTGAGE</td>\n",
       "      <td>moving</td>\n",
       "      <td>0.148022</td>\n",
       "    </tr>\n",
       "    <tr>\n",
       "      <th>9</th>\n",
       "      <td>36 months</td>\n",
       "      <td>MORTGAGE</td>\n",
       "      <td>other</td>\n",
       "      <td>0.145592</td>\n",
       "    </tr>\n",
       "    <tr>\n",
       "      <th>10</th>\n",
       "      <td>36 months</td>\n",
       "      <td>MORTGAGE</td>\n",
       "      <td>renewable_energy</td>\n",
       "      <td>0.129327</td>\n",
       "    </tr>\n",
       "    <tr>\n",
       "      <th>11</th>\n",
       "      <td>36 months</td>\n",
       "      <td>MORTGAGE</td>\n",
       "      <td>small_business</td>\n",
       "      <td>0.142283</td>\n",
       "    </tr>\n",
       "    <tr>\n",
       "      <th>12</th>\n",
       "      <td>36 months</td>\n",
       "      <td>MORTGAGE</td>\n",
       "      <td>vacation</td>\n",
       "      <td>0.143286</td>\n",
       "    </tr>\n",
       "    <tr>\n",
       "      <th>13</th>\n",
       "      <td>36 months</td>\n",
       "      <td>MORTGAGE</td>\n",
       "      <td>wedding</td>\n",
       "      <td>0.133798</td>\n",
       "    </tr>\n",
       "    <tr>\n",
       "      <th>14</th>\n",
       "      <td>36 months</td>\n",
       "      <td>OWN</td>\n",
       "      <td>car</td>\n",
       "      <td>0.113125</td>\n",
       "    </tr>\n",
       "    <tr>\n",
       "      <th>15</th>\n",
       "      <td>36 months</td>\n",
       "      <td>OWN</td>\n",
       "      <td>credit_card</td>\n",
       "      <td>0.119391</td>\n",
       "    </tr>\n",
       "    <tr>\n",
       "      <th>16</th>\n",
       "      <td>36 months</td>\n",
       "      <td>OWN</td>\n",
       "      <td>debt_consolidation</td>\n",
       "      <td>0.131838</td>\n",
       "    </tr>\n",
       "    <tr>\n",
       "      <th>17</th>\n",
       "      <td>36 months</td>\n",
       "      <td>OWN</td>\n",
       "      <td>educational</td>\n",
       "      <td>0.118869</td>\n",
       "    </tr>\n",
       "    <tr>\n",
       "      <th>18</th>\n",
       "      <td>36 months</td>\n",
       "      <td>OWN</td>\n",
       "      <td>home_improvement</td>\n",
       "      <td>0.130424</td>\n",
       "    </tr>\n",
       "    <tr>\n",
       "      <th>19</th>\n",
       "      <td>36 months</td>\n",
       "      <td>OWN</td>\n",
       "      <td>house</td>\n",
       "      <td>0.138056</td>\n",
       "    </tr>\n",
       "    <tr>\n",
       "      <th>20</th>\n",
       "      <td>36 months</td>\n",
       "      <td>OWN</td>\n",
       "      <td>major_purchase</td>\n",
       "      <td>0.121255</td>\n",
       "    </tr>\n",
       "    <tr>\n",
       "      <th>21</th>\n",
       "      <td>36 months</td>\n",
       "      <td>OWN</td>\n",
       "      <td>medical</td>\n",
       "      <td>0.146961</td>\n",
       "    </tr>\n",
       "    <tr>\n",
       "      <th>22</th>\n",
       "      <td>36 months</td>\n",
       "      <td>OWN</td>\n",
       "      <td>moving</td>\n",
       "      <td>0.155281</td>\n",
       "    </tr>\n",
       "    <tr>\n",
       "      <th>23</th>\n",
       "      <td>36 months</td>\n",
       "      <td>OWN</td>\n",
       "      <td>other</td>\n",
       "      <td>0.148858</td>\n",
       "    </tr>\n",
       "    <tr>\n",
       "      <th>24</th>\n",
       "      <td>36 months</td>\n",
       "      <td>OWN</td>\n",
       "      <td>renewable_energy</td>\n",
       "      <td>0.147193</td>\n",
       "    </tr>\n",
       "    <tr>\n",
       "      <th>25</th>\n",
       "      <td>36 months</td>\n",
       "      <td>OWN</td>\n",
       "      <td>small_business</td>\n",
       "      <td>0.153893</td>\n",
       "    </tr>\n",
       "    <tr>\n",
       "      <th>26</th>\n",
       "      <td>36 months</td>\n",
       "      <td>OWN</td>\n",
       "      <td>vacation</td>\n",
       "      <td>0.154411</td>\n",
       "    </tr>\n",
       "    <tr>\n",
       "      <th>27</th>\n",
       "      <td>36 months</td>\n",
       "      <td>OWN</td>\n",
       "      <td>wedding</td>\n",
       "      <td>0.135960</td>\n",
       "    </tr>\n",
       "    <tr>\n",
       "      <th>28</th>\n",
       "      <td>36 months</td>\n",
       "      <td>RENT</td>\n",
       "      <td>car</td>\n",
       "      <td>0.123965</td>\n",
       "    </tr>\n",
       "    <tr>\n",
       "      <th>29</th>\n",
       "      <td>36 months</td>\n",
       "      <td>RENT</td>\n",
       "      <td>credit_card</td>\n",
       "      <td>0.122527</td>\n",
       "    </tr>\n",
       "    <tr>\n",
       "      <th>...</th>\n",
       "      <td>...</td>\n",
       "      <td>...</td>\n",
       "      <td>...</td>\n",
       "      <td>...</td>\n",
       "    </tr>\n",
       "    <tr>\n",
       "      <th>54</th>\n",
       "      <td>60 months</td>\n",
       "      <td>MORTGAGE</td>\n",
       "      <td>vacation</td>\n",
       "      <td>0.171640</td>\n",
       "    </tr>\n",
       "    <tr>\n",
       "      <th>55</th>\n",
       "      <td>60 months</td>\n",
       "      <td>MORTGAGE</td>\n",
       "      <td>wedding</td>\n",
       "      <td>0.173681</td>\n",
       "    </tr>\n",
       "    <tr>\n",
       "      <th>56</th>\n",
       "      <td>60 months</td>\n",
       "      <td>OWN</td>\n",
       "      <td>car</td>\n",
       "      <td>0.144670</td>\n",
       "    </tr>\n",
       "    <tr>\n",
       "      <th>57</th>\n",
       "      <td>60 months</td>\n",
       "      <td>OWN</td>\n",
       "      <td>credit_card</td>\n",
       "      <td>0.163024</td>\n",
       "    </tr>\n",
       "    <tr>\n",
       "      <th>58</th>\n",
       "      <td>60 months</td>\n",
       "      <td>OWN</td>\n",
       "      <td>debt_consolidation</td>\n",
       "      <td>0.176005</td>\n",
       "    </tr>\n",
       "    <tr>\n",
       "      <th>59</th>\n",
       "      <td>60 months</td>\n",
       "      <td>OWN</td>\n",
       "      <td>educational</td>\n",
       "      <td>0.103800</td>\n",
       "    </tr>\n",
       "    <tr>\n",
       "      <th>60</th>\n",
       "      <td>60 months</td>\n",
       "      <td>OWN</td>\n",
       "      <td>home_improvement</td>\n",
       "      <td>0.174060</td>\n",
       "    </tr>\n",
       "    <tr>\n",
       "      <th>61</th>\n",
       "      <td>60 months</td>\n",
       "      <td>OWN</td>\n",
       "      <td>house</td>\n",
       "      <td>0.187302</td>\n",
       "    </tr>\n",
       "    <tr>\n",
       "      <th>62</th>\n",
       "      <td>60 months</td>\n",
       "      <td>OWN</td>\n",
       "      <td>major_purchase</td>\n",
       "      <td>0.160120</td>\n",
       "    </tr>\n",
       "    <tr>\n",
       "      <th>63</th>\n",
       "      <td>60 months</td>\n",
       "      <td>OWN</td>\n",
       "      <td>medical</td>\n",
       "      <td>0.171141</td>\n",
       "    </tr>\n",
       "    <tr>\n",
       "      <th>64</th>\n",
       "      <td>60 months</td>\n",
       "      <td>OWN</td>\n",
       "      <td>moving</td>\n",
       "      <td>0.190340</td>\n",
       "    </tr>\n",
       "    <tr>\n",
       "      <th>65</th>\n",
       "      <td>60 months</td>\n",
       "      <td>OWN</td>\n",
       "      <td>other</td>\n",
       "      <td>0.198336</td>\n",
       "    </tr>\n",
       "    <tr>\n",
       "      <th>66</th>\n",
       "      <td>60 months</td>\n",
       "      <td>OWN</td>\n",
       "      <td>renewable_energy</td>\n",
       "      <td>0.168867</td>\n",
       "    </tr>\n",
       "    <tr>\n",
       "      <th>67</th>\n",
       "      <td>60 months</td>\n",
       "      <td>OWN</td>\n",
       "      <td>small_business</td>\n",
       "      <td>0.196898</td>\n",
       "    </tr>\n",
       "    <tr>\n",
       "      <th>68</th>\n",
       "      <td>60 months</td>\n",
       "      <td>OWN</td>\n",
       "      <td>vacation</td>\n",
       "      <td>0.162595</td>\n",
       "    </tr>\n",
       "    <tr>\n",
       "      <th>69</th>\n",
       "      <td>60 months</td>\n",
       "      <td>OWN</td>\n",
       "      <td>wedding</td>\n",
       "      <td>0.195207</td>\n",
       "    </tr>\n",
       "    <tr>\n",
       "      <th>70</th>\n",
       "      <td>60 months</td>\n",
       "      <td>RENT</td>\n",
       "      <td>car</td>\n",
       "      <td>0.158468</td>\n",
       "    </tr>\n",
       "    <tr>\n",
       "      <th>71</th>\n",
       "      <td>60 months</td>\n",
       "      <td>RENT</td>\n",
       "      <td>credit_card</td>\n",
       "      <td>0.168796</td>\n",
       "    </tr>\n",
       "    <tr>\n",
       "      <th>72</th>\n",
       "      <td>60 months</td>\n",
       "      <td>RENT</td>\n",
       "      <td>debt_consolidation</td>\n",
       "      <td>0.179927</td>\n",
       "    </tr>\n",
       "    <tr>\n",
       "      <th>73</th>\n",
       "      <td>60 months</td>\n",
       "      <td>RENT</td>\n",
       "      <td>educational</td>\n",
       "      <td>0.149000</td>\n",
       "    </tr>\n",
       "    <tr>\n",
       "      <th>74</th>\n",
       "      <td>60 months</td>\n",
       "      <td>RENT</td>\n",
       "      <td>home_improvement</td>\n",
       "      <td>0.172366</td>\n",
       "    </tr>\n",
       "    <tr>\n",
       "      <th>75</th>\n",
       "      <td>60 months</td>\n",
       "      <td>RENT</td>\n",
       "      <td>house</td>\n",
       "      <td>0.194997</td>\n",
       "    </tr>\n",
       "    <tr>\n",
       "      <th>76</th>\n",
       "      <td>60 months</td>\n",
       "      <td>RENT</td>\n",
       "      <td>major_purchase</td>\n",
       "      <td>0.169831</td>\n",
       "    </tr>\n",
       "    <tr>\n",
       "      <th>77</th>\n",
       "      <td>60 months</td>\n",
       "      <td>RENT</td>\n",
       "      <td>medical</td>\n",
       "      <td>0.187576</td>\n",
       "    </tr>\n",
       "    <tr>\n",
       "      <th>78</th>\n",
       "      <td>60 months</td>\n",
       "      <td>RENT</td>\n",
       "      <td>moving</td>\n",
       "      <td>0.193417</td>\n",
       "    </tr>\n",
       "    <tr>\n",
       "      <th>79</th>\n",
       "      <td>60 months</td>\n",
       "      <td>RENT</td>\n",
       "      <td>other</td>\n",
       "      <td>0.193481</td>\n",
       "    </tr>\n",
       "    <tr>\n",
       "      <th>80</th>\n",
       "      <td>60 months</td>\n",
       "      <td>RENT</td>\n",
       "      <td>renewable_energy</td>\n",
       "      <td>0.183931</td>\n",
       "    </tr>\n",
       "    <tr>\n",
       "      <th>81</th>\n",
       "      <td>60 months</td>\n",
       "      <td>RENT</td>\n",
       "      <td>small_business</td>\n",
       "      <td>0.194868</td>\n",
       "    </tr>\n",
       "    <tr>\n",
       "      <th>82</th>\n",
       "      <td>60 months</td>\n",
       "      <td>RENT</td>\n",
       "      <td>vacation</td>\n",
       "      <td>0.179705</td>\n",
       "    </tr>\n",
       "    <tr>\n",
       "      <th>83</th>\n",
       "      <td>60 months</td>\n",
       "      <td>RENT</td>\n",
       "      <td>wedding</td>\n",
       "      <td>0.177198</td>\n",
       "    </tr>\n",
       "  </tbody>\n",
       "</table>\n",
       "<p>84 rows × 4 columns</p>\n",
       "</div>"
      ],
      "text/plain": [
       "   Number of Payments      Home            Loan Cat  Interest Rate\n",
       "0           36 months  MORTGAGE                 car       0.103506\n",
       "1           36 months  MORTGAGE         credit_card       0.111586\n",
       "2           36 months  MORTGAGE  debt_consolidation       0.123199\n",
       "3           36 months  MORTGAGE         educational       0.110494\n",
       "4           36 months  MORTGAGE    home_improvement       0.120714\n",
       "5           36 months  MORTGAGE               house       0.119475\n",
       "6           36 months  MORTGAGE      major_purchase       0.109559\n",
       "7           36 months  MORTGAGE             medical       0.142819\n",
       "8           36 months  MORTGAGE              moving       0.148022\n",
       "9           36 months  MORTGAGE               other       0.145592\n",
       "10          36 months  MORTGAGE    renewable_energy       0.129327\n",
       "11          36 months  MORTGAGE      small_business       0.142283\n",
       "12          36 months  MORTGAGE            vacation       0.143286\n",
       "13          36 months  MORTGAGE             wedding       0.133798\n",
       "14          36 months       OWN                 car       0.113125\n",
       "15          36 months       OWN         credit_card       0.119391\n",
       "16          36 months       OWN  debt_consolidation       0.131838\n",
       "17          36 months       OWN         educational       0.118869\n",
       "18          36 months       OWN    home_improvement       0.130424\n",
       "19          36 months       OWN               house       0.138056\n",
       "20          36 months       OWN      major_purchase       0.121255\n",
       "21          36 months       OWN             medical       0.146961\n",
       "22          36 months       OWN              moving       0.155281\n",
       "23          36 months       OWN               other       0.148858\n",
       "24          36 months       OWN    renewable_energy       0.147193\n",
       "25          36 months       OWN      small_business       0.153893\n",
       "26          36 months       OWN            vacation       0.154411\n",
       "27          36 months       OWN             wedding       0.135960\n",
       "28          36 months      RENT                 car       0.123965\n",
       "29          36 months      RENT         credit_card       0.122527\n",
       "..                ...       ...                 ...            ...\n",
       "54          60 months  MORTGAGE            vacation       0.171640\n",
       "55          60 months  MORTGAGE             wedding       0.173681\n",
       "56          60 months       OWN                 car       0.144670\n",
       "57          60 months       OWN         credit_card       0.163024\n",
       "58          60 months       OWN  debt_consolidation       0.176005\n",
       "59          60 months       OWN         educational       0.103800\n",
       "60          60 months       OWN    home_improvement       0.174060\n",
       "61          60 months       OWN               house       0.187302\n",
       "62          60 months       OWN      major_purchase       0.160120\n",
       "63          60 months       OWN             medical       0.171141\n",
       "64          60 months       OWN              moving       0.190340\n",
       "65          60 months       OWN               other       0.198336\n",
       "66          60 months       OWN    renewable_energy       0.168867\n",
       "67          60 months       OWN      small_business       0.196898\n",
       "68          60 months       OWN            vacation       0.162595\n",
       "69          60 months       OWN             wedding       0.195207\n",
       "70          60 months      RENT                 car       0.158468\n",
       "71          60 months      RENT         credit_card       0.168796\n",
       "72          60 months      RENT  debt_consolidation       0.179927\n",
       "73          60 months      RENT         educational       0.149000\n",
       "74          60 months      RENT    home_improvement       0.172366\n",
       "75          60 months      RENT               house       0.194997\n",
       "76          60 months      RENT      major_purchase       0.169831\n",
       "77          60 months      RENT             medical       0.187576\n",
       "78          60 months      RENT              moving       0.193417\n",
       "79          60 months      RENT               other       0.193481\n",
       "80          60 months      RENT    renewable_energy       0.183931\n",
       "81          60 months      RENT      small_business       0.194868\n",
       "82          60 months      RENT            vacation       0.179705\n",
       "83          60 months      RENT             wedding       0.177198\n",
       "\n",
       "[84 rows x 4 columns]"
      ]
     },
     "execution_count": 27,
     "metadata": {},
     "output_type": "execute_result"
    }
   ],
   "source": [
    "ir_group = clean_loans[['Number of Payments', 'Home', 'Loan Cat', 'Interest Rate']]\n",
    "ir_group.groupby(['Number of Payments', 'Home', 'Loan Cat'], as_index=False).mean()"
   ]
  }
 ],
 "metadata": {
  "kernelspec": {
   "display_name": "Python 3",
   "language": "python",
   "name": "python3"
  },
  "language_info": {
   "codemirror_mode": {
    "name": "ipython",
    "version": 3
   },
   "file_extension": ".py",
   "mimetype": "text/x-python",
   "name": "python",
   "nbconvert_exporter": "python",
   "pygments_lexer": "ipython3",
   "version": "3.6.5"
  }
 },
 "nbformat": 4,
 "nbformat_minor": 2
}
